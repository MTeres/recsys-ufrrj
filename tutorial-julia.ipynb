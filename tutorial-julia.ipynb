{
 "cells": [
  {
   "cell_type": "markdown",
   "metadata": {
    "slideshow": {
     "slide_type": "slide"
    }
   },
   "source": [
    "# Linguagem Julia\n",
    "Filipe Braida"
   ]
  },
  {
   "cell_type": "markdown",
   "metadata": {
    "slideshow": {
     "slide_type": "slide"
    }
   },
   "source": [
    "## Sumário\n",
    "- Programação Científica\n",
    "- Julia\n",
    "- Básico sobre Julia\n",
    "- Tipos Compostos\n",
    "- Interfaces\n",
    "- Modules\n",
    "- Metaprogramming\n",
    "- Calling Python\n",
    "- Performance Types\n",
    "- Workflow"
   ]
  },
  {
   "cell_type": "markdown",
   "metadata": {
    "collapsed": true,
    "slideshow": {
     "slide_type": "slide"
    }
   },
   "source": [
    "## Computação Científica\n",
    "\n",
    "Computação científica (ou ciência computacional) é o campo de estudo interessado na construção de modelos matemáticos (Wikipedia, 2017)"
   ]
  },
  {
   "cell_type": "markdown",
   "metadata": {
    "slideshow": {
     "slide_type": "fragment"
    }
   },
   "source": [
    "- A linguagem de programação é a ferramenta para construção desses modelos\n",
    "- A LP precisa incorporar o domínio da aplicação!\n",
    "  - Imaginem fazer _n_ operações matriciais em __C__ só para efetuar um cálculo simples de análise\n",
    "- Linguagens comuns: __Matlab__, __Python (NumPy)__, __Octave__ e __R__"
   ]
  },
  {
   "cell_type": "markdown",
   "metadata": {
    "slideshow": {
     "slide_type": "slide"
    }
   },
   "source": [
    "## Computação Científica\n",
    "\n",
    "- Matlab\n",
    "  - Não é gratuído\n",
    "  - Lenta para problemas imperativos\n",
    "- Octave\n",
    "  - _Fork_ _free_ do Matlab\n",
    "  - Muito lenta\n",
    "  - Não possui todo o ferramental do Matlab (que é pago)"
   ]
  },
  {
   "cell_type": "markdown",
   "metadata": {
    "slideshow": {
     "slide_type": "slide"
    }
   },
   "source": [
    "## Computação Científica\n",
    "\n",
    "- Python\n",
    "  - Proposito geral\n",
    "  - Lento para problemas imperativos\n",
    "  - Problema das duas linguagens\n",
    "- R\n",
    "  - Feito por e para estatístico\n",
    "  - Problema das duas linguagens\n",
    "  \n",
    "Discussões sobre: [_why python is slow?_](https://jakevdp.github.io/blog/2014/05/09/why-python-is-slow/)"
   ]
  },
  {
   "cell_type": "markdown",
   "metadata": {
    "slideshow": {
     "slide_type": "slide"
    }
   },
   "source": [
    "## Two Language Problem\n",
    "\n",
    "O desenvolvimento é interativo hoje em dia\n",
    "\n",
    "Linguagens não típadas e interpretadas podem facilmente resolver esse tipo de problema\n",
    "\n",
    "Rápida prototipação e baixo custo de desenvolvimento são características necessárias!\n",
    "\n",
    "Caso precise escalar a solução?"
   ]
  },
  {
   "cell_type": "markdown",
   "metadata": {
    "slideshow": {
     "slide_type": "slide"
    }
   },
   "source": [
    "## Two Language Problem\n",
    "\n",
    "Solução normalmente envolve na utilização de duas linguagens\n",
    "\n",
    "Python, Matlab, Mathematica e outras para a investigação e o desenvolvimento do protótipo\n",
    "\n",
    "C, Fortran para implementações com performance"
   ]
  },
  {
   "cell_type": "markdown",
   "metadata": {
    "slideshow": {
     "slide_type": "slide"
    }
   },
   "source": [
    "# Julia\n",
    "\n",
    "Linguagem de programação científica\n",
    "- Devolvida por um grupo na universidade MIT\n",
    "  - Desenvolvimento se iniciou em 2009 e foi lançada em 2012\n",
    "  - Grupo possui grande experiência com paralelismo\n",
    "- Open Source, _i.e._, free (Licença MIT)\n",
    "- Versão: 0.60"
   ]
  },
  {
   "cell_type": "markdown",
   "metadata": {
    "slideshow": {
     "slide_type": "slide"
    }
   },
   "source": [
    "\"We are power Matlab users. Some of us are Lisp hackers. Some are Pythonistas, others Rubyists, still others Perl hackers. There are those of us who used Mathematica before we could grow facial hair. There are those who still can’t grow facial hair. We’ve generated more R plots than any sane person should. C is our desert island programming language.\"\n",
    "\n",
    "https://julialang.org/blog/2012/02/why-we-created-julia"
   ]
  },
  {
   "cell_type": "markdown",
   "metadata": {
    "slideshow": {
     "slide_type": "slide"
    }
   },
   "source": [
    "## Why Julia?\n",
    "\n",
    "\n",
    "- You want to write code which is \"slick\" and readable\n",
    "  - Code is read more than code is written!\n",
    "- You want that same code to be fast\n",
    "- You prefer to write everything in one language\n",
    "- You are a developer: you want to write packages really fast which are really fast!"
   ]
  },
  {
   "cell_type": "markdown",
   "metadata": {
    "slideshow": {
     "slide_type": "slide"
    }
   },
   "source": [
    "## Why Julia?\n",
    "- You are a package user: you heard about some really cool Julia packages/metapackages (JuMP, Plots, DifferentialEquations), and want to use Julia\n",
    "- Calling C, Fortran, Python, R, and MATLAB libraries, likely a combination of them, is necessary for your work\n",
    "- You want built-in and easy native parallelism\n",
    "- You want to build your own Domain-Specific Language (DSL), compiler, etc."
   ]
  },
  {
   "cell_type": "markdown",
   "metadata": {
    "slideshow": {
     "slide_type": "slide"
    }
   },
   "source": [
    "## Usando Julia\n",
    "\n",
    "- REPL (Read--Eval--Print Loop)\n",
    "- Em um Jupyter notebook (IJulia é o Kernel)\n",
    "- Usando a IDE Juno (Atom + plugin)\n",
    "- Na nuvem: JuliaBox"
   ]
  },
  {
   "cell_type": "markdown",
   "metadata": {
    "slideshow": {
     "slide_type": "slide"
    }
   },
   "source": [
    "##  Básico\n",
    "\n",
    "No caso do REPL, existe alguns comando úteis:\n",
    "\n",
    "    ^D (sai do REPL, pode ser chamado também invocando exit(c) onde sai com o valor para o sistema contida em c);\n",
    "    ^C (interrompe o cálculo vigente);\n",
    "    ? (entra no modo help)\n",
    "    ; (entra no modo system shell)\n",
    "    colocando ; após a expressão, não será mostrado o valor de retorno no REPL."
   ]
  },
  {
   "cell_type": "code",
   "execution_count": 1,
   "metadata": {
    "slideshow": {
     "slide_type": "subslide"
    }
   },
   "outputs": [
    {
     "name": "stdout",
     "output_type": "stream",
     "text": [
      "sprandn\n",
      "randn!\n",
      "randn\n"
     ]
    }
   ],
   "source": [
    "apropos(\"randn\") # procura na documentação a palavra \"randn\""
   ]
  },
  {
   "cell_type": "code",
   "execution_count": 2,
   "metadata": {
    "slideshow": {
     "slide_type": "subslide"
    }
   },
   "outputs": [
    {
     "ename": "LoadError",
     "evalue": "could not spawn `vim +239 /usr/bin/../share/julia/base/promotion.jl`: no such file or directory (ENOENT)",
     "output_type": "error",
     "traceback": [
      "could not spawn `vim +239 /usr/bin/../share/julia/base/promotion.jl`: no such file or directory (ENOENT)",
      "",
      " in _jl_spawn at ./process.jl:262"
     ]
    }
   ],
   "source": [
    "@edit max(1,2); # mostra a definição da função para os parâmetros correspondentes e por vim invoca o editor de texto padrão"
   ]
  },
  {
   "cell_type": "code",
   "execution_count": 3,
   "metadata": {
    "slideshow": {
     "slide_type": "subslide"
    }
   },
   "outputs": [
    {
     "name": "stdout",
     "output_type": "stream",
     "text": [
      "                          Base  25072 KB     Module\n",
      "                        Compat    400 KB     Module\n",
      "                          Core   3166 KB     Module\n",
      "                        IJulia    406 KB     Module\n",
      "                          JSON    287 KB     Module\n",
      "                          Main  28966 KB     Module\n",
      "                        Nettle     61 KB     Module\n",
      "                           ZMQ     85 KB     Module\n"
     ]
    }
   ],
   "source": [
    "whos() # lista todas as variáveis globais e os seus tipos"
   ]
  },
  {
   "cell_type": "code",
   "execution_count": 4,
   "metadata": {
    "slideshow": {
     "slide_type": "subslide"
    }
   },
   "outputs": [
    {
     "ename": "LoadError",
     "evalue": "chdir /home/juser: no such file or directory (ENOENT)",
     "output_type": "error",
     "traceback": [
      "chdir /home/juser: no such file or directory (ENOENT)",
      ""
     ]
    }
   ],
   "source": [
    "cd(\"/home/juser\") # muda o diretório local\n",
    "pwd() # retorna o diretório local"
   ]
  },
  {
   "cell_type": "code",
   "execution_count": 5,
   "metadata": {
    "slideshow": {
     "slide_type": "subslide"
    }
   },
   "outputs": [
    {
     "ename": "LoadError",
     "evalue": "could not open file /home/mcmartin/e-dev/UFRRJ/recomendation/file.jl",
     "output_type": "error",
     "traceback": [
      "could not open file /home/mcmartin/e-dev/UFRRJ/recomendation/file.jl",
      ""
     ]
    }
   ],
   "source": [
    "include(\"file.jl\") # executa o arquivo fonte. Gerará LoadError se a execução falhar"
   ]
  },
  {
   "cell_type": "code",
   "execution_count": 6,
   "metadata": {
    "slideshow": {
     "slide_type": "subslide"
    }
   },
   "outputs": [
    {
     "name": "stderr",
     "output_type": "stream",
     "text": [
      "Waiting for selection requests, Control-C to quit\n",
      "  Waiting for selection request number 1\n"
     ]
    },
    {
     "data": {
      "text/plain": [
       "\"exercise list\""
      ]
     },
     "execution_count": 6,
     "metadata": {},
     "output_type": "execute_result"
    }
   ],
   "source": [
    "clipboard([1,2]) # copia o dado para o clipboard\n",
    "clipboard() # carrega o dado do clipboard como string"
   ]
  },
  {
   "cell_type": "code",
   "execution_count": 7,
   "metadata": {
    "collapsed": true,
    "slideshow": {
     "slide_type": "subslide"
    }
   },
   "outputs": [],
   "source": [
    "workspace() # limpa o workspace - cria um novo módulo Main"
   ]
  },
  {
   "cell_type": "markdown",
   "metadata": {
    "slideshow": {
     "slide_type": "slide"
    }
   },
   "source": [
    "## Tipos Básicos e Literais"
   ]
  },
  {
   "cell_type": "code",
   "execution_count": 8,
   "metadata": {},
   "outputs": [
    {
     "data": {
      "text/plain": [
       "1"
      ]
     },
     "execution_count": 8,
     "metadata": {},
     "output_type": "execute_result"
    }
   ],
   "source": [
    "1::Int64 # inteiro de 64-bit, diferente do inteiro de 32-bit em Julia"
   ]
  },
  {
   "cell_type": "code",
   "execution_count": 9,
   "metadata": {},
   "outputs": [
    {
     "data": {
      "text/plain": [
       "1.0"
      ]
     },
     "execution_count": 9,
     "metadata": {},
     "output_type": "execute_result"
    }
   ],
   "source": [
    "1.0::Float64 # float de 64-bit, pode existir: NaN, -Inf, Inf"
   ]
  },
  {
   "cell_type": "code",
   "execution_count": 27,
   "metadata": {},
   "outputs": [
    {
     "data": {
      "text/plain": [
       "true"
      ]
     },
     "execution_count": 27,
     "metadata": {},
     "output_type": "execute_result"
    }
   ],
   "source": [
    "true::Bool # boolean, tipo só com duas possibilidades: \"true\" e \"false\""
   ]
  },
  {
   "cell_type": "code",
   "execution_count": 28,
   "metadata": {},
   "outputs": [
    {
     "data": {
      "text/plain": [
       "'c': ASCII/Unicode U+0063 (category Ll: Letter, lowercase)"
      ]
     },
     "execution_count": 28,
     "metadata": {},
     "output_type": "execute_result"
    }
   ],
   "source": [
    "'c'::Char # character (Unicode)"
   ]
  },
  {
   "cell_type": "code",
   "execution_count": 29,
   "metadata": {},
   "outputs": [
    {
     "data": {
      "text/plain": [
       "\"s\""
      ]
     },
     "execution_count": 29,
     "metadata": {},
     "output_type": "execute_result"
    }
   ],
   "source": [
    "\"s\"::AbstractString # strings (Unicode)"
   ]
  },
  {
   "cell_type": "markdown",
   "metadata": {
    "slideshow": {
     "slide_type": "slide"
    }
   },
   "source": [
    "## Tipos Básicos e Literais\n",
    "- Todos os tipos básicos são imutáveis\n",
    "- Especificar o tipo é opcional\n",
    "  - Caso você não defina, Julia irá assumir o tipo\n",
    "  - Existe diferença entre os tipos com 32-bit e 64-bit\n",
    "  - Pode existe variação do tipo, como por \n",
    "      - Exemplo o Int, irá assumir dependendo da versão o Int64 ou Int32"
   ]
  },
  {
   "cell_type": "markdown",
   "metadata": {
    "slideshow": {
     "slide_type": "slide"
    }
   },
   "source": [
    "## Hierarquia dos Tipos"
   ]
  },
  {
   "cell_type": "markdown",
   "metadata": {
    "slideshow": {
     "slide_type": "-"
    }
   },
   "source": [
    "![alt text](Images/Julia-Types.png \"Frameworks\")"
   ]
  },
  {
   "cell_type": "code",
   "execution_count": 24,
   "metadata": {
    "slideshow": {
     "slide_type": "subslide"
    }
   },
   "outputs": [
    {
     "name": "stdout",
     "output_type": "stream",
     "text": [
      "Number\n",
      "  Complex\n",
      "  Real\n",
      "    AbstractFloat\n",
      "      BigFloat\n",
      "      Float16\n",
      "      Float32\n",
      "      Float64\n",
      "    Integer\n",
      "      BigInt\n",
      "      Bool\n",
      "      Signed\n",
      "        Int128\n",
      "        Int16\n",
      "        Int32\n",
      "        Int64\n",
      "        Int8\n",
      "      Unsigned\n",
      "        UInt128\n",
      "        UInt16\n",
      "        UInt32\n",
      "        UInt64\n",
      "        UInt8\n",
      "    Irrational\n",
      "    Rational\n"
     ]
    }
   ],
   "source": [
    "function type_hierarchy(t::Type, level = 0)\n",
    "    println(\" \"^level, t)\n",
    "    for x in subtypes(t)\n",
    "        type_hierarchy(x, level+2)\n",
    "    end\n",
    "end\n",
    "type_hierarchy(Number)"
   ]
  },
  {
   "cell_type": "markdown",
   "metadata": {
    "slideshow": {
     "slide_type": "slide"
    }
   },
   "source": [
    "## Conversões e Promoções"
   ]
  },
  {
   "cell_type": "code",
   "execution_count": 8,
   "metadata": {
    "slideshow": {
     "slide_type": "-"
    }
   },
   "outputs": [
    {
     "data": {
      "text/plain": [
       "97"
      ]
     },
     "execution_count": 8,
     "metadata": {},
     "output_type": "execute_result"
    }
   ],
   "source": [
    "Int64('a') # character to integer"
   ]
  },
  {
   "cell_type": "code",
   "execution_count": 9,
   "metadata": {},
   "outputs": [
    {
     "data": {
      "text/plain": [
       "2"
      ]
     },
     "execution_count": 9,
     "metadata": {},
     "output_type": "execute_result"
    }
   ],
   "source": [
    "Int64(2.0) # float to integer"
   ]
  },
  {
   "cell_type": "code",
   "execution_count": 10,
   "metadata": {},
   "outputs": [
    {
     "ename": "LoadError",
     "evalue": "\u001b[91mInexactError()\u001b[39m",
     "output_type": "error",
     "traceback": [
      "\u001b[91mInexactError()\u001b[39m",
      "",
      "Stacktrace:",
      " [1] \u001b[1mconvert\u001b[22m\u001b[22m\u001b[1m(\u001b[22m\u001b[22m::Type{Int64}, ::Float64\u001b[1m)\u001b[22m\u001b[22m at \u001b[1m./float.jl:679\u001b[22m\u001b[22m",
      " [2] \u001b[1mInt64\u001b[22m\u001b[22m\u001b[1m(\u001b[22m\u001b[22m::Float64\u001b[1m)\u001b[22m\u001b[22m at \u001b[1m./sysimg.jl:24\u001b[22m\u001b[22m"
     ]
    }
   ],
   "source": [
    "Int64(1.3) # inexact error"
   ]
  },
  {
   "cell_type": "code",
   "execution_count": 11,
   "metadata": {
    "slideshow": {
     "slide_type": "subslide"
    }
   },
   "outputs": [
    {
     "ename": "LoadError",
     "evalue": "\u001b[91mMethodError: Cannot `convert` an object of type String to an object of type Int64\nThis may have arisen from a call to the constructor Int64(...),\nsince type constructors fall back to convert methods.\u001b[39m",
     "output_type": "error",
     "traceback": [
      "\u001b[91mMethodError: Cannot `convert` an object of type String to an object of type Int64\nThis may have arisen from a call to the constructor Int64(...),\nsince type constructors fall back to convert methods.\u001b[39m",
      "",
      "Stacktrace:",
      " [1] \u001b[1mInt64\u001b[22m\u001b[22m\u001b[1m(\u001b[22m\u001b[22m::String\u001b[1m)\u001b[22m\u001b[22m at \u001b[1m./sysimg.jl:24\u001b[22m\u001b[22m"
     ]
    }
   ],
   "source": [
    "Int64(\"a\") # error no conversion possible"
   ]
  },
  {
   "cell_type": "code",
   "execution_count": 12,
   "metadata": {},
   "outputs": [
    {
     "data": {
      "text/plain": [
       "1.0"
      ]
     },
     "execution_count": 12,
     "metadata": {},
     "output_type": "execute_result"
    }
   ],
   "source": [
    "Float64(1) # integer to float"
   ]
  },
  {
   "cell_type": "code",
   "execution_count": 13,
   "metadata": {},
   "outputs": [
    {
     "data": {
      "text/plain": [
       "true"
      ]
     },
     "execution_count": 13,
     "metadata": {},
     "output_type": "execute_result"
    }
   ],
   "source": [
    "Bool(1) # converts to boolean true"
   ]
  },
  {
   "cell_type": "code",
   "execution_count": 14,
   "metadata": {},
   "outputs": [
    {
     "data": {
      "text/plain": [
       "false"
      ]
     },
     "execution_count": 14,
     "metadata": {},
     "output_type": "execute_result"
    }
   ],
   "source": [
    "Bool(0) # converts to boolean false"
   ]
  },
  {
   "cell_type": "code",
   "execution_count": 15,
   "metadata": {
    "slideshow": {
     "slide_type": "subslide"
    }
   },
   "outputs": [
    {
     "ename": "LoadError",
     "evalue": "\u001b[91mInexactError()\u001b[39m",
     "output_type": "error",
     "traceback": [
      "\u001b[91mInexactError()\u001b[39m",
      "",
      "Stacktrace:",
      " [1] \u001b[1mconvert\u001b[22m\u001b[22m\u001b[1m(\u001b[22m\u001b[22m::Type{Bool}, ::Int64\u001b[1m)\u001b[22m\u001b[22m at \u001b[1m./bool.jl:7\u001b[22m\u001b[22m",
      " [2] \u001b[1mBool\u001b[22m\u001b[22m\u001b[1m(\u001b[22m\u001b[22m::Int64\u001b[1m)\u001b[22m\u001b[22m at \u001b[1m./sysimg.jl:24\u001b[22m\u001b[22m"
     ]
    }
   ],
   "source": [
    "Bool(2) # conversion error"
   ]
  },
  {
   "cell_type": "code",
   "execution_count": 16,
   "metadata": {},
   "outputs": [
    {
     "data": {
      "text/plain": [
       "'Y': ASCII/Unicode U+0059 (category Lu: Letter, uppercase)"
      ]
     },
     "execution_count": 16,
     "metadata": {},
     "output_type": "execute_result"
    }
   ],
   "source": [
    "Char(89) # integer to char"
   ]
  },
  {
   "cell_type": "code",
   "execution_count": 17,
   "metadata": {},
   "outputs": [
    {
     "data": {
      "text/plain": [
       "\"true\""
      ]
     },
     "execution_count": 17,
     "metadata": {},
     "output_type": "execute_result"
    }
   ],
   "source": [
    "string(true) # cast bool to string (works with other types, note small caps)"
   ]
  },
  {
   "cell_type": "code",
   "execution_count": 18,
   "metadata": {},
   "outputs": [
    {
     "data": {
      "text/plain": [
       "\"1true\""
      ]
     },
     "execution_count": 18,
     "metadata": {},
     "output_type": "execute_result"
    }
   ],
   "source": [
    "string(1,true) # string can take more than one argument and concatenate them"
   ]
  },
  {
   "cell_type": "markdown",
   "metadata": {
    "slideshow": {
     "slide_type": "slide"
    }
   },
   "source": [
    "## Tipos Complexos"
   ]
  },
  {
   "cell_type": "code",
   "execution_count": 31,
   "metadata": {},
   "outputs": [
    {
     "data": {
      "text/plain": [
       "Any"
      ]
     },
     "execution_count": 31,
     "metadata": {},
     "output_type": "execute_result"
    }
   ],
   "source": [
    "Any # all objects are of this type"
   ]
  },
  {
   "cell_type": "code",
   "execution_count": 32,
   "metadata": {},
   "outputs": [
    {
     "data": {
      "text/plain": [
       "Union{}"
      ]
     },
     "execution_count": 32,
     "metadata": {},
     "output_type": "execute_result"
    }
   ],
   "source": [
    "Union{} # subtype of all types, no object can have this type"
   ]
  },
  {
   "cell_type": "code",
   "execution_count": 33,
   "metadata": {},
   "outputs": [
    {
     "data": {
      "text/plain": [
       "Void"
      ]
     },
     "execution_count": 33,
     "metadata": {},
     "output_type": "execute_result"
    }
   ],
   "source": [
    "Void # type indicating nothing, subtype of Any"
   ]
  },
  {
   "cell_type": "code",
   "execution_count": 34,
   "metadata": {
    "collapsed": true
   },
   "outputs": [],
   "source": [
    "nothing # only instance of Void"
   ]
  },
  {
   "cell_type": "markdown",
   "metadata": {},
   "source": [
    "    Additionally #undef indicates an incompletely initialized instance."
   ]
  },
  {
   "cell_type": "markdown",
   "metadata": {
    "slideshow": {
     "slide_type": "slide"
    }
   },
   "source": [
    "### Tuplas\n",
    "\n",
    "Tuples are immutable sequences indexed from 1:"
   ]
  },
  {
   "cell_type": "code",
   "execution_count": 35,
   "metadata": {},
   "outputs": [
    {
     "data": {
      "text/plain": [
       "()"
      ]
     },
     "execution_count": 35,
     "metadata": {},
     "output_type": "execute_result"
    }
   ],
   "source": [
    "() # empty tuple"
   ]
  },
  {
   "cell_type": "code",
   "execution_count": 36,
   "metadata": {},
   "outputs": [
    {
     "data": {
      "text/plain": [
       "(1,)"
      ]
     },
     "execution_count": 36,
     "metadata": {},
     "output_type": "execute_result"
    }
   ],
   "source": [
    "(1,) # one element tuple"
   ]
  },
  {
   "cell_type": "code",
   "execution_count": 37,
   "metadata": {},
   "outputs": [
    {
     "data": {
      "text/plain": [
       "(\"a\", 1)"
      ]
     },
     "execution_count": 37,
     "metadata": {},
     "output_type": "execute_result"
    }
   ],
   "source": [
    "(\"a\", 1) # two element tuple"
   ]
  },
  {
   "cell_type": "code",
   "execution_count": 38,
   "metadata": {},
   "outputs": [
    {
     "data": {
      "text/plain": [
       "('a', false)"
      ]
     },
     "execution_count": 38,
     "metadata": {},
     "output_type": "execute_result"
    }
   ],
   "source": [
    "('a', false)::Tuple{Char, Bool} # tuple type assertion"
   ]
  },
  {
   "cell_type": "code",
   "execution_count": 39,
   "metadata": {
    "slideshow": {
     "slide_type": "subslide"
    }
   },
   "outputs": [
    {
     "data": {
      "text/plain": [
       "(1, 2, 3)"
      ]
     },
     "execution_count": 39,
     "metadata": {},
     "output_type": "execute_result"
    }
   ],
   "source": [
    "x = (1, 2, 3)"
   ]
  },
  {
   "cell_type": "code",
   "execution_count": 40,
   "metadata": {},
   "outputs": [
    {
     "data": {
      "text/plain": [
       "1"
      ]
     },
     "execution_count": 40,
     "metadata": {},
     "output_type": "execute_result"
    }
   ],
   "source": [
    "x[1] # 1 (element)"
   ]
  },
  {
   "cell_type": "code",
   "execution_count": 41,
   "metadata": {},
   "outputs": [
    {
     "data": {
      "text/plain": [
       "(1, 2)"
      ]
     },
     "execution_count": 41,
     "metadata": {},
     "output_type": "execute_result"
    }
   ],
   "source": [
    "x[1:2] # (1, 2) (tuple)"
   ]
  },
  {
   "cell_type": "code",
   "execution_count": 42,
   "metadata": {
    "slideshow": {
     "slide_type": "-"
    }
   },
   "outputs": [
    {
     "ename": "LoadError",
     "evalue": "\u001b[91mBoundsError: attempt to access (1, 2, 3)\n  at index [4]\u001b[39m",
     "output_type": "error",
     "traceback": [
      "\u001b[91mBoundsError: attempt to access (1, 2, 3)\n  at index [4]\u001b[39m",
      "",
      "Stacktrace:",
      " [1] \u001b[1mgetindex\u001b[22m\u001b[22m\u001b[1m(\u001b[22m\u001b[22m::Tuple{Int64,Int64,Int64}, ::Int64\u001b[1m)\u001b[22m\u001b[22m at \u001b[1m./tuple.jl:21\u001b[22m\u001b[22m"
     ]
    }
   ],
   "source": [
    "x[4] # bounds error"
   ]
  },
  {
   "cell_type": "code",
   "execution_count": 43,
   "metadata": {
    "slideshow": {
     "slide_type": "subslide"
    }
   },
   "outputs": [
    {
     "ename": "LoadError",
     "evalue": "\u001b[91mMethodError: no method matching setindex!(::Tuple{Int64,Int64,Int64}, ::Int64, ::Int64)\u001b[39m",
     "output_type": "error",
     "traceback": [
      "\u001b[91mMethodError: no method matching setindex!(::Tuple{Int64,Int64,Int64}, ::Int64, ::Int64)\u001b[39m",
      ""
     ]
    }
   ],
   "source": [
    "x[1] = 1 # error - tuple is not mutable"
   ]
  },
  {
   "cell_type": "code",
   "execution_count": 45,
   "metadata": {},
   "outputs": [
    {
     "name": "stdout",
     "output_type": "stream",
     "text": [
      "1 2\n"
     ]
    }
   ],
   "source": [
    "a, b = x # tuple unpacking a=1, b=2\n",
    "println(\"$a $b\")"
   ]
  },
  {
   "cell_type": "markdown",
   "metadata": {
    "slideshow": {
     "slide_type": "slide"
    }
   },
   "source": [
    "### Arrays\n",
    "\n",
    "Arrays are mutable and passed by reference. Array creation:"
   ]
  },
  {
   "cell_type": "code",
   "execution_count": 76,
   "metadata": {},
   "outputs": [
    {
     "data": {
      "text/plain": [
       "0×0 Array{Int64,2}"
      ]
     },
     "execution_count": 76,
     "metadata": {},
     "output_type": "execute_result"
    }
   ],
   "source": [
    "Array{Int64}(0, 0) # degenerate 0x0 array of Int64"
   ]
  },
  {
   "cell_type": "code",
   "execution_count": 48,
   "metadata": {},
   "outputs": [
    {
     "data": {
      "text/plain": [
       "2×3 Array{Any,2}:\n",
       " #undef  #undef  #undef\n",
       " #undef  #undef  #undef"
      ]
     },
     "execution_count": 48,
     "metadata": {},
     "output_type": "execute_result"
    }
   ],
   "source": [
    "Array{Any}(2, 3) # 2x3 array of Any"
   ]
  },
  {
   "cell_type": "code",
   "execution_count": 49,
   "metadata": {
    "slideshow": {
     "slide_type": "subslide"
    }
   },
   "outputs": [
    {
     "data": {
      "text/plain": [
       "5-element Array{Float64,1}:\n",
       " 0.0\n",
       " 0.0\n",
       " 0.0\n",
       " 0.0\n",
       " 0.0"
      ]
     },
     "execution_count": 49,
     "metadata": {},
     "output_type": "execute_result"
    }
   ],
   "source": [
    "zeros(5) # vector of Float64 zeros"
   ]
  },
  {
   "cell_type": "code",
   "execution_count": 50,
   "metadata": {
    "slideshow": {
     "slide_type": "-"
    }
   },
   "outputs": [
    {
     "data": {
      "text/plain": [
       "5-element Array{Float64,1}:\n",
       " 1.0\n",
       " 1.0\n",
       " 1.0\n",
       " 1.0\n",
       " 1.0"
      ]
     },
     "execution_count": 50,
     "metadata": {},
     "output_type": "execute_result"
    }
   ],
   "source": [
    "ones(5) # vector of Float64 ones"
   ]
  },
  {
   "cell_type": "code",
   "execution_count": null,
   "metadata": {
    "collapsed": true
   },
   "outputs": [],
   "source": []
  },
  {
   "cell_type": "markdown",
   "metadata": {},
   "source": [
    "ones(Int64, 2, 1) # 2x1 array of Int64 ones"
   ]
  },
  {
   "cell_type": "code",
   "execution_count": 52,
   "metadata": {
    "slideshow": {
     "slide_type": "subslide"
    }
   },
   "outputs": [
    {
     "data": {
      "text/plain": [
       "(Bool[true, true, true], Bool[false, false, false])"
      ]
     },
     "execution_count": 52,
     "metadata": {},
     "output_type": "execute_result"
    }
   ],
   "source": [
    "trues(3), falses(3) # tuple of vector of trues and of falses"
   ]
  },
  {
   "cell_type": "code",
   "execution_count": 53,
   "metadata": {},
   "outputs": [
    {
     "data": {
      "text/plain": [
       "3×3 Array{Float64,2}:\n",
       " 1.0  0.0  0.0\n",
       " 0.0  1.0  0.0\n",
       " 0.0  0.0  1.0"
      ]
     },
     "execution_count": 53,
     "metadata": {},
     "output_type": "execute_result"
    }
   ],
   "source": [
    "eye(3) # 3x3 Float64 identity matrix"
   ]
  },
  {
   "cell_type": "code",
   "execution_count": 54,
   "metadata": {
    "slideshow": {
     "slide_type": "subslide"
    }
   },
   "outputs": [
    {
     "data": {
      "text/plain": [
       "1.0:0.25:2.0"
      ]
     },
     "execution_count": 54,
     "metadata": {},
     "output_type": "execute_result"
    }
   ],
   "source": [
    "x = linspace(1, 2, 5) # iterator having 5 equally spaced elements"
   ]
  },
  {
   "cell_type": "code",
   "execution_count": 55,
   "metadata": {},
   "outputs": [
    {
     "data": {
      "text/plain": [
       "5-element Array{Float64,1}:\n",
       " 1.0 \n",
       " 1.25\n",
       " 1.5 \n",
       " 1.75\n",
       " 2.0 "
      ]
     },
     "execution_count": 55,
     "metadata": {},
     "output_type": "execute_result"
    }
   ],
   "source": [
    "collect(x) # converts iterator to vector"
   ]
  },
  {
   "cell_type": "code",
   "execution_count": 56,
   "metadata": {
    "slideshow": {
     "slide_type": "subslide"
    }
   },
   "outputs": [
    {
     "data": {
      "text/plain": [
       "1:10"
      ]
     },
     "execution_count": 56,
     "metadata": {},
     "output_type": "execute_result"
    }
   ],
   "source": [
    "1:10 # iterable from 1 to 10"
   ]
  },
  {
   "cell_type": "code",
   "execution_count": 57,
   "metadata": {
    "slideshow": {
     "slide_type": "-"
    }
   },
   "outputs": [
    {
     "data": {
      "text/plain": [
       "3×4 Base.ReshapedArray{Int64,2,UnitRange{Int64},Tuple{}}:\n",
       " 1  4  7  10\n",
       " 2  5  8  11\n",
       " 3  6  9  12"
      ]
     },
     "execution_count": 57,
     "metadata": {},
     "output_type": "execute_result"
    }
   ],
   "source": [
    "reshape(1:12, 3, 4) # 3x4 array filled with 1:12 values"
   ]
  },
  {
   "cell_type": "code",
   "execution_count": 59,
   "metadata": {},
   "outputs": [
    {
     "data": {
      "text/plain": [
       "2×2 Array{String,2}:\n",
       " \"a\"  \"a\"\n",
       " \"a\"  \"a\""
      ]
     },
     "execution_count": 59,
     "metadata": {},
     "output_type": "execute_result"
    }
   ],
   "source": [
    "fill(\"a\", 2, 2) # 2x2 array filled with \"a\""
   ]
  },
  {
   "cell_type": "code",
   "execution_count": 60,
   "metadata": {
    "slideshow": {
     "slide_type": "subslide"
    }
   },
   "outputs": [
    {
     "data": {
      "text/plain": [
       "2-element Array{Int64,1}:\n",
       " 1\n",
       " 2"
      ]
     },
     "execution_count": 60,
     "metadata": {},
     "output_type": "execute_result"
    }
   ],
   "source": [
    "x = [1, 2] # two element vector"
   ]
  },
  {
   "cell_type": "code",
   "execution_count": 61,
   "metadata": {},
   "outputs": [
    {
     "data": {
      "text/plain": [
       "5-element Array{Int64,1}:\n",
       "      1\n",
       "      2\n",
       " 569348\n",
       "      0\n",
       "      0"
      ]
     },
     "execution_count": 61,
     "metadata": {},
     "output_type": "execute_result"
    }
   ],
   "source": [
    "resize!(x, 5) # resize x in place to hold 5 values (filled with garbage)"
   ]
  },
  {
   "cell_type": "code",
   "execution_count": 62,
   "metadata": {
    "slideshow": {
     "slide_type": "subslide"
    }
   },
   "outputs": [
    {
     "data": {
      "text/plain": [
       "1-element Array{Int64,1}:\n",
       " 1"
      ]
     },
     "execution_count": 62,
     "metadata": {},
     "output_type": "execute_result"
    }
   ],
   "source": [
    "[1] # vector with one element (not a scalar)"
   ]
  },
  {
   "cell_type": "code",
   "execution_count": 63,
   "metadata": {},
   "outputs": [
    {
     "data": {
      "text/plain": [
       "2×3 Array{Int64,2}:\n",
       " 1  2  3\n",
       " 2  4  6"
      ]
     },
     "execution_count": 63,
     "metadata": {},
     "output_type": "execute_result"
    }
   ],
   "source": [
    "[x * y for x in 1:2, y in 1:3] # comprehension generating 2x3 array"
   ]
  },
  {
   "cell_type": "code",
   "execution_count": 64,
   "metadata": {},
   "outputs": [
    {
     "data": {
      "text/plain": [
       "4-element Array{Float64,1}:\n",
       "  1.0\n",
       "  4.0\n",
       "  9.0\n",
       " 16.0"
      ]
     },
     "execution_count": 64,
     "metadata": {},
     "output_type": "execute_result"
    }
   ],
   "source": [
    "Float64[x^2 for x in 1:4] # casting comprehension result to Float64"
   ]
  },
  {
   "cell_type": "code",
   "execution_count": 65,
   "metadata": {
    "slideshow": {
     "slide_type": "subslide"
    }
   },
   "outputs": [
    {
     "data": {
      "text/plain": [
       "1×2 Array{Int64,2}:\n",
       " 1  2"
      ]
     },
     "execution_count": 65,
     "metadata": {},
     "output_type": "execute_result"
    }
   ],
   "source": [
    "[1 2] # 1x2 matrix (hcat function)"
   ]
  },
  {
   "cell_type": "code",
   "execution_count": 66,
   "metadata": {},
   "outputs": [
    {
     "data": {
      "text/plain": [
       "2×1 Array{Int64,2}:\n",
       " 1\n",
       " 2"
      ]
     },
     "execution_count": 66,
     "metadata": {},
     "output_type": "execute_result"
    }
   ],
   "source": [
    "[1 2]' # 2x1 matrix (after transposing)"
   ]
  },
  {
   "cell_type": "code",
   "execution_count": 67,
   "metadata": {},
   "outputs": [
    {
     "data": {
      "text/plain": [
       "2-element Array{Int64,1}:\n",
       " 1\n",
       " 2"
      ]
     },
     "execution_count": 67,
     "metadata": {},
     "output_type": "execute_result"
    }
   ],
   "source": [
    "[1, 2] # vector (concatenation)"
   ]
  },
  {
   "cell_type": "code",
   "execution_count": 68,
   "metadata": {
    "slideshow": {
     "slide_type": "subslide"
    }
   },
   "outputs": [
    {
     "data": {
      "text/plain": [
       "2-element Array{Int64,1}:\n",
       " 1\n",
       " 2"
      ]
     },
     "execution_count": 68,
     "metadata": {},
     "output_type": "execute_result"
    }
   ],
   "source": [
    "[1; 2] # vector (vcat function)"
   ]
  },
  {
   "cell_type": "code",
   "execution_count": 69,
   "metadata": {},
   "outputs": [
    {
     "data": {
      "text/plain": [
       "false"
      ]
     },
     "execution_count": 69,
     "metadata": {},
     "output_type": "execute_result"
    }
   ],
   "source": [
    "[1; 2] == [1 2]' # false, different array dimensions"
   ]
  },
  {
   "cell_type": "code",
   "execution_count": 70,
   "metadata": {},
   "outputs": [
    {
     "data": {
      "text/plain": [
       "1-element Array{Tuple{Int64,Int64},1}:\n",
       " (1, 2)"
      ]
     },
     "execution_count": 70,
     "metadata": {},
     "output_type": "execute_result"
    }
   ],
   "source": [
    "[(1, 2)] # 1-element vector"
   ]
  },
  {
   "cell_type": "code",
   "execution_count": 71,
   "metadata": {
    "slideshow": {
     "slide_type": "subslide"
    }
   },
   "outputs": [
    {
     "data": {
      "text/plain": [
       "2-element Array{Int64,1}:\n",
       " 1\n",
       " 2"
      ]
     },
     "execution_count": 71,
     "metadata": {},
     "output_type": "execute_result"
    }
   ],
   "source": [
    "collect((1, 2)) # 2-element vector by tuple unpacking"
   ]
  },
  {
   "cell_type": "code",
   "execution_count": 72,
   "metadata": {},
   "outputs": [
    {
     "data": {
      "text/plain": [
       "1×3 Array{Int64,2}:\n",
       " 1  2  3"
      ]
     },
     "execution_count": 72,
     "metadata": {},
     "output_type": "execute_result"
    }
   ],
   "source": [
    "[[1 2] 3] # append to a row vector (hcat)"
   ]
  },
  {
   "cell_type": "code",
   "execution_count": 73,
   "metadata": {},
   "outputs": [
    {
     "data": {
      "text/plain": [
       "3-element Array{Int64,1}:\n",
       " 1\n",
       " 2\n",
       " 3"
      ]
     },
     "execution_count": 73,
     "metadata": {},
     "output_type": "execute_result"
    }
   ],
   "source": [
    "[[1; 2]; 3] # append to a column vector (vcat)"
   ]
  },
  {
   "cell_type": "markdown",
   "metadata": {
    "collapsed": true,
    "slideshow": {
     "slide_type": "subslide"
    }
   },
   "source": [
    "\n",
    "Vectors (1D arrays) are treated as column vectors.\n",
    "\n",
    "Julia offers sparse and distributed matrices (see documentation for details).\n",
    "\n",
    "Commonly needed array utility functions:"
   ]
  },
  {
   "cell_type": "code",
   "execution_count": 77,
   "metadata": {},
   "outputs": [
    {
     "data": {
      "text/plain": [
       "2×3 Array{Int64,2}:\n",
       " 1  1  1\n",
       " 2  2  2"
      ]
     },
     "execution_count": 77,
     "metadata": {},
     "output_type": "execute_result"
    }
   ],
   "source": [
    "a = [x * y for x in 1:2, y in 1, z in 1:3] # 2x3 array of Int64; singelton dimension is dropped"
   ]
  },
  {
   "cell_type": "code",
   "execution_count": 78,
   "metadata": {},
   "outputs": [
    {
     "data": {
      "text/plain": [
       "2×1×3 Array{Int64,3}:\n",
       "[:, :, 1] =\n",
       " 1\n",
       " 2\n",
       "\n",
       "[:, :, 2] =\n",
       " 1\n",
       " 2\n",
       "\n",
       "[:, :, 3] =\n",
       " 1\n",
       " 2"
      ]
     },
     "execution_count": 78,
     "metadata": {},
     "output_type": "execute_result"
    }
   ],
   "source": [
    "a = [x * y for x in 1:2, y in 1:1, z in 1:3] # 2x1x3 array of Int64; singelton dimension is not dropped"
   ]
  },
  {
   "cell_type": "code",
   "execution_count": 80,
   "metadata": {
    "slideshow": {
     "slide_type": "subslide"
    }
   },
   "outputs": [
    {
     "data": {
      "text/plain": [
       "3"
      ]
     },
     "execution_count": 80,
     "metadata": {},
     "output_type": "execute_result"
    }
   ],
   "source": [
    "ndims(a) # number of dimensions in a"
   ]
  },
  {
   "cell_type": "code",
   "execution_count": 81,
   "metadata": {},
   "outputs": [
    {
     "data": {
      "text/plain": [
       "Int64"
      ]
     },
     "execution_count": 81,
     "metadata": {},
     "output_type": "execute_result"
    }
   ],
   "source": [
    "eltype(a) # type of elements in a"
   ]
  },
  {
   "cell_type": "code",
   "execution_count": 86,
   "metadata": {},
   "outputs": [
    {
     "data": {
      "text/plain": [
       "6"
      ]
     },
     "execution_count": 86,
     "metadata": {},
     "output_type": "execute_result"
    }
   ],
   "source": [
    "length(a) # number of elements in a"
   ]
  },
  {
   "cell_type": "code",
   "execution_count": 85,
   "metadata": {},
   "outputs": [
    {
     "data": {
      "text/plain": [
       "(2, 1, 3)"
      ]
     },
     "execution_count": 85,
     "metadata": {},
     "output_type": "execute_result"
    }
   ],
   "source": [
    "size(a) # tuple containing dimension sizes of a"
   ]
  },
  {
   "cell_type": "code",
   "execution_count": 84,
   "metadata": {},
   "outputs": [
    {
     "data": {
      "text/plain": [
       "6-element Array{Int64,1}:\n",
       " 1\n",
       " 2\n",
       " 1\n",
       " 2\n",
       " 1\n",
       " 2"
      ]
     },
     "execution_count": 84,
     "metadata": {},
     "output_type": "execute_result"
    }
   ],
   "source": [
    "vec(a) # cast array to vetor (single dimension)"
   ]
  },
  {
   "cell_type": "code",
   "execution_count": 83,
   "metadata": {},
   "outputs": [
    {
     "data": {
      "text/plain": [
       "2×3 Array{Int64,2}:\n",
       " 1  1  1\n",
       " 2  2  2"
      ]
     },
     "execution_count": 83,
     "metadata": {},
     "output_type": "execute_result"
    }
   ],
   "source": [
    "squeeze(a, 2) # remove 2nd dimension as it has size 1"
   ]
  },
  {
   "cell_type": "code",
   "execution_count": 82,
   "metadata": {},
   "outputs": [
    {
     "data": {
      "text/plain": [
       "2×1×1 Array{Int64,3}:\n",
       "[:, :, 1] =\n",
       " 3\n",
       " 6"
      ]
     },
     "execution_count": 82,
     "metadata": {},
     "output_type": "execute_result"
    }
   ],
   "source": [
    "sum(a, 3) # calculate sums for 3rd dimensions, similarly: mean, std, prod, minimum, maximum, any, all"
   ]
  },
  {
   "cell_type": "code",
   "execution_count": 87,
   "metadata": {},
   "outputs": [
    {
     "data": {
      "text/plain": [
       "6"
      ]
     },
     "execution_count": 87,
     "metadata": {},
     "output_type": "execute_result"
    }
   ],
   "source": [
    "count(x -> x > 0, a) # count number of times a predicate is true, similar: all, any"
   ]
  },
  {
   "cell_type": "code",
   "execution_count": 88,
   "metadata": {},
   "outputs": [
    {
     "data": {
      "text/plain": [
       "0.0:0.02040816326530612:1.0"
      ]
     },
     "execution_count": 88,
     "metadata": {},
     "output_type": "execute_result"
    }
   ],
   "source": [
    "a = linspace(0, 1) # LinSpace{Float64} of length 50"
   ]
  },
  {
   "cell_type": "code",
   "execution_count": 89,
   "metadata": {},
   "outputs": [
    {
     "data": {
      "text/plain": [
       "0.0"
      ]
     },
     "execution_count": 89,
     "metadata": {},
     "output_type": "execute_result"
    }
   ],
   "source": [
    "a[1] # get scalar 0.0"
   ]
  },
  {
   "cell_type": "code",
   "execution_count": 90,
   "metadata": {},
   "outputs": [
    {
     "data": {
      "text/plain": [
       "1.0"
      ]
     },
     "execution_count": 90,
     "metadata": {},
     "output_type": "execute_result"
    }
   ],
   "source": [
    "a[end] # get scalar 1.0 (last position)"
   ]
  },
  {
   "cell_type": "code",
   "execution_count": 91,
   "metadata": {},
   "outputs": [
    {
     "data": {
      "text/plain": [
       "0.0:0.04081632653061224:0.9795918367346939"
      ]
     },
     "execution_count": 91,
     "metadata": {},
     "output_type": "execute_result"
    }
   ],
   "source": [
    "a[1:2:end] # every second element from range, LinSpace{Float64}"
   ]
  },
  {
   "cell_type": "code",
   "execution_count": 92,
   "metadata": {},
   "outputs": [
    {
     "data": {
      "text/plain": [
       "25-element Array{Float64,1}:\n",
       " 0.0      \n",
       " 0.0408163\n",
       " 0.0816327\n",
       " 0.122449 \n",
       " 0.163265 \n",
       " 0.204082 \n",
       " 0.244898 \n",
       " 0.285714 \n",
       " 0.326531 \n",
       " 0.367347 \n",
       " 0.408163 \n",
       " 0.44898  \n",
       " 0.489796 \n",
       " 0.530612 \n",
       " 0.571429 \n",
       " 0.612245 \n",
       " 0.653061 \n",
       " 0.693878 \n",
       " 0.734694 \n",
       " 0.77551  \n",
       " 0.816327 \n",
       " 0.857143 \n",
       " 0.897959 \n",
       " 0.938776 \n",
       " 0.979592 "
      ]
     },
     "execution_count": 92,
     "metadata": {},
     "output_type": "execute_result"
    }
   ],
   "source": [
    "a[repmat([true, false], 25)] # select every second element, Array{Float64,1}"
   ]
  },
  {
   "cell_type": "code",
   "execution_count": 93,
   "metadata": {},
   "outputs": [
    {
     "data": {
      "text/plain": [
       "3-element Array{Float64,1}:\n",
       " 0.0      \n",
       " 0.0408163\n",
       " 0.102041 "
      ]
     },
     "execution_count": 93,
     "metadata": {},
     "output_type": "execute_result"
    }
   ],
   "source": [
    "a[[1, 3, 6]] # 1st, 3rd and 6th element of a, Array{Float64,1}"
   ]
  },
  {
   "cell_type": "code",
   "execution_count": 94,
   "metadata": {},
   "outputs": [
    {
     "data": {
      "text/plain": [
       "25-element SubArray{Float64,1,StepRangeLen{Float64,Base.TwicePrecision{Float64},Base.TwicePrecision{Float64}},Tuple{StepRange{Int64,Int64}},true}:\n",
       " 0.0      \n",
       " 0.0408163\n",
       " 0.0816327\n",
       " 0.122449 \n",
       " 0.163265 \n",
       " 0.204082 \n",
       " 0.244898 \n",
       " 0.285714 \n",
       " 0.326531 \n",
       " 0.367347 \n",
       " 0.408163 \n",
       " 0.44898  \n",
       " 0.489796 \n",
       " 0.530612 \n",
       " 0.571429 \n",
       " 0.612245 \n",
       " 0.653061 \n",
       " 0.693878 \n",
       " 0.734694 \n",
       " 0.77551  \n",
       " 0.816327 \n",
       " 0.857143 \n",
       " 0.897959 \n",
       " 0.938776 \n",
       " 0.979592 "
      ]
     },
     "execution_count": 94,
     "metadata": {},
     "output_type": "execute_result"
    }
   ],
   "source": [
    "view(a, 1:2:50) # view into subsarray of a"
   ]
  },
  {
   "cell_type": "code",
   "execution_count": 95,
   "metadata": {},
   "outputs": [
    {
     "data": {
      "text/plain": [
       "50"
      ]
     },
     "execution_count": 95,
     "metadata": {},
     "output_type": "execute_result"
    }
   ],
   "source": [
    "endof(a) # last index of the collection a"
   ]
  },
  {
   "cell_type": "code",
   "execution_count": 96,
   "metadata": {},
   "outputs": [
    {
     "data": {
      "text/plain": [
       "3×4 Base.ReshapedArray{Int64,2,UnitRange{Int64},Tuple{}}:\n",
       " 1  4  7  10\n",
       " 2  5  8  11\n",
       " 3  6  9  12"
      ]
     },
     "execution_count": 96,
     "metadata": {},
     "output_type": "execute_result"
    }
   ],
   "source": [
    "a = reshape(1:12, 3, 4)"
   ]
  },
  {
   "cell_type": "code",
   "execution_count": 97,
   "metadata": {},
   "outputs": [
    {
     "data": {
      "text/plain": [
       "3×2 Array{Int64,2}:\n",
       " 1  4\n",
       " 2  5\n",
       " 3  6"
      ]
     },
     "execution_count": 97,
     "metadata": {},
     "output_type": "execute_result"
    }
   ],
   "source": [
    "a[:, 1:2] # 3x2 matrix"
   ]
  },
  {
   "cell_type": "code",
   "execution_count": 98,
   "metadata": {},
   "outputs": [
    {
     "data": {
      "text/plain": [
       "3-element Array{Int64,1}:\n",
       " 1\n",
       " 2\n",
       " 3"
      ]
     },
     "execution_count": 98,
     "metadata": {},
     "output_type": "execute_result"
    }
   ],
   "source": [
    "a[:, 1] # 3 element vector"
   ]
  },
  {
   "cell_type": "code",
   "execution_count": 99,
   "metadata": {},
   "outputs": [
    {
     "data": {
      "text/plain": [
       "4-element Array{Int64,1}:\n",
       "  1\n",
       "  4\n",
       "  7\n",
       " 10"
      ]
     },
     "execution_count": 99,
     "metadata": {},
     "output_type": "execute_result"
    }
   ],
   "source": [
    "a[1, :] # 4 element vector"
   ]
  },
  {
   "cell_type": "code",
   "execution_count": 100,
   "metadata": {},
   "outputs": [
    {
     "data": {
      "text/plain": [
       "1×4 Array{Int64,2}:\n",
       " 1  4  7  10"
      ]
     },
     "execution_count": 100,
     "metadata": {},
     "output_type": "execute_result"
    }
   ],
   "source": [
    "a[1:1, :] # 1x4 matrix"
   ]
  },
  {
   "cell_type": "code",
   "execution_count": 101,
   "metadata": {},
   "outputs": [
    {
     "data": {
      "text/plain": [
       "3×4 Array{Int64,2}:\n",
       " 1  4  7  10\n",
       " 2  5  8  11\n",
       " 3  6  9  12"
      ]
     },
     "execution_count": 101,
     "metadata": {},
     "output_type": "execute_result"
    }
   ],
   "source": [
    "a[:, :, 1, 1] # works 3x4 matrix"
   ]
  },
  {
   "cell_type": "code",
   "execution_count": 102,
   "metadata": {},
   "outputs": [
    {
     "data": {
      "text/plain": [
       "3×4×1×1 Array{Int64,4}:\n",
       "[:, :, 1, 1] =\n",
       " 1  4  7  10\n",
       " 2  5  8  11\n",
       " 3  6  9  12"
      ]
     },
     "execution_count": 102,
     "metadata": {},
     "output_type": "execute_result"
    }
   ],
   "source": [
    "a[:, :, :, [true]] # wroks 3x4x1 matrix"
   ]
  },
  {
   "cell_type": "code",
   "execution_count": 103,
   "metadata": {},
   "outputs": [
    {
     "data": {
      "text/plain": [
       "0-element Array{Int64,1}"
      ]
     },
     "execution_count": 103,
     "metadata": {},
     "output_type": "execute_result"
    }
   ],
   "source": [
    "a[1, 1, [false]] # works 0-element Array{Int64,1}"
   ]
  },
  {
   "cell_type": "code",
   "execution_count": 104,
   "metadata": {},
   "outputs": [
    {
     "data": {
      "text/plain": [
       "2×4 Array{Int64,2}:\n",
       " 1  3  5  7\n",
       " 2  4  6  8"
      ]
     },
     "execution_count": 104,
     "metadata": {},
     "output_type": "execute_result"
    }
   ],
   "source": [
    "x = collect(reshape(1:8, 2, 4))"
   ]
  },
  {
   "cell_type": "code",
   "execution_count": 105,
   "metadata": {},
   "outputs": [
    {
     "ename": "LoadError",
     "evalue": "\u001b[91mDimensionMismatch(\"tried to assign 1×2 array to 2×2 destination\")\u001b[39m",
     "output_type": "error",
     "traceback": [
      "\u001b[91mDimensionMismatch(\"tried to assign 1×2 array to 2×2 destination\")\u001b[39m",
      "",
      "Stacktrace:",
      " [1] \u001b[1mthrow_setindex_mismatch\u001b[22m\u001b[22m\u001b[1m(\u001b[22m\u001b[22m::Array{Int64,2}, ::Tuple{Int64,Int64}\u001b[1m)\u001b[22m\u001b[22m at \u001b[1m./indices.jl:94\u001b[22m\u001b[22m",
      " [2] \u001b[1msetindex_shape_check\u001b[22m\u001b[22m\u001b[1m(\u001b[22m\u001b[22m::Array{Int64,2}, ::Int64, ::Int64\u001b[1m)\u001b[22m\u001b[22m at \u001b[1m./indices.jl:151\u001b[22m\u001b[22m",
      " [3] \u001b[1mmacro expansion\u001b[22m\u001b[22m at \u001b[1m./multidimensional.jl:501\u001b[22m\u001b[22m [inlined]",
      " [4] \u001b[1m_unsafe_setindex!\u001b[22m\u001b[22m\u001b[1m(\u001b[22m\u001b[22m::IndexLinear, ::Array{Int64,2}, ::Array{Int64,2}, ::Base.Slice{Base.OneTo{Int64}}, ::UnitRange{Int64}\u001b[1m)\u001b[22m\u001b[22m at \u001b[1m./multidimensional.jl:496\u001b[22m\u001b[22m",
      " [5] \u001b[1mmacro expansion\u001b[22m\u001b[22m at \u001b[1m./multidimensional.jl:488\u001b[22m\u001b[22m [inlined]",
      " [6] \u001b[1m_setindex!\u001b[22m\u001b[22m at \u001b[1m./multidimensional.jl:484\u001b[22m\u001b[22m [inlined]",
      " [7] \u001b[1msetindex!\u001b[22m\u001b[22m\u001b[1m(\u001b[22m\u001b[22m::Array{Int64,2}, ::Array{Int64,2}, ::Colon, ::UnitRange{Int64}\u001b[1m)\u001b[22m\u001b[22m at \u001b[1m./abstractarray.jl:967\u001b[22m\u001b[22m"
     ]
    }
   ],
   "source": [
    "x[:, 2:3] = [1 2] # error; size mismatch"
   ]
  },
  {
   "cell_type": "code",
   "execution_count": 106,
   "metadata": {},
   "outputs": [
    {
     "data": {
      "text/plain": [
       "2×2 Array{Int64,2}:\n",
       " 1  2\n",
       " 1  2"
      ]
     },
     "execution_count": 106,
     "metadata": {},
     "output_type": "execute_result"
    }
   ],
   "source": [
    "x[:, 2:3] = repmat([1 2], 2) # OK"
   ]
  },
  {
   "cell_type": "code",
   "execution_count": 108,
   "metadata": {},
   "outputs": [
    {
     "data": {
      "text/plain": [
       "3"
      ]
     },
     "execution_count": 108,
     "metadata": {},
     "output_type": "execute_result"
    }
   ],
   "source": [
    "x[:, 2:3] = 3 # OK"
   ]
  },
  {
   "cell_type": "markdown",
   "metadata": {},
   "source": [
    "Arrays are assigned and passed by reference. Therefore copying is provided:"
   ]
  },
  {
   "cell_type": "code",
   "execution_count": 110,
   "metadata": {},
   "outputs": [
    {
     "data": {
      "text/plain": [
       "2-element Array{Any,1}:\n",
       " \"Bang\"                 \n",
       " Bool[false, true, true]"
      ]
     },
     "execution_count": 110,
     "metadata": {},
     "output_type": "execute_result"
    }
   ],
   "source": [
    "x = Array{Any}(2)\n",
    "x[1] = ones(2)\n",
    "x[2] = trues(3)\n",
    "a = x\n",
    "b = copy(x) # shallow copy\n",
    "c = deepcopy(x) # deep copy\n",
    "x[1] = \"Bang\"\n",
    "x[2][1] = false\n",
    "x"
   ]
  },
  {
   "cell_type": "code",
   "execution_count": 112,
   "metadata": {},
   "outputs": [
    {
     "data": {
      "text/plain": [
       "2-element Array{Any,1}:\n",
       " \"Bang\"                 \n",
       " Bool[false, true, true]"
      ]
     },
     "execution_count": 112,
     "metadata": {},
     "output_type": "execute_result"
    }
   ],
   "source": [
    "a # identical as x"
   ]
  },
  {
   "cell_type": "code",
   "execution_count": 113,
   "metadata": {},
   "outputs": [
    {
     "data": {
      "text/plain": [
       "2-element Array{Any,1}:\n",
       " [1.0, 1.0]             \n",
       " Bool[false, true, true]"
      ]
     },
     "execution_count": 113,
     "metadata": {},
     "output_type": "execute_result"
    }
   ],
   "source": [
    "b # only x[2][1] changed from original x"
   ]
  },
  {
   "cell_type": "code",
   "execution_count": 114,
   "metadata": {},
   "outputs": [
    {
     "data": {
      "text/plain": [
       "2-element Array{Any,1}:\n",
       " [1.0, 1.0]            \n",
       " Bool[true, true, true]"
      ]
     },
     "execution_count": 114,
     "metadata": {},
     "output_type": "execute_result"
    }
   ],
   "source": [
    "c # contents to original x"
   ]
  },
  {
   "cell_type": "code",
   "execution_count": 115,
   "metadata": {},
   "outputs": [
    {
     "data": {
      "text/plain": [
       "1×2 Array{Int64,2}:\n",
       " 1  2"
      ]
     },
     "execution_count": 115,
     "metadata": {},
     "output_type": "execute_result"
    }
   ],
   "source": [
    "[1 2]::Array{Int64, 2} # 2 dimensional array of Int64"
   ]
  },
  {
   "cell_type": "code",
   "execution_count": 116,
   "metadata": {},
   "outputs": [
    {
     "data": {
      "text/plain": [
       "2-element Array{Bool,1}:\n",
       "  true\n",
       " false"
      ]
     },
     "execution_count": 116,
     "metadata": {},
     "output_type": "execute_result"
    }
   ],
   "source": [
    "[true; false]::Vector{Bool} # vector of Bool"
   ]
  },
  {
   "cell_type": "code",
   "execution_count": 56,
   "metadata": {},
   "outputs": [
    {
     "data": {
      "text/plain": [
       "2×2 Array{Int64,2}:\n",
       " 1  2\n",
       " 3  4"
      ]
     },
     "execution_count": 56,
     "metadata": {},
     "output_type": "execute_result"
    }
   ],
   "source": [
    "[1 2; 3 4]::Matrix{Int64} # matrix of Int64"
   ]
  },
  {
   "cell_type": "markdown",
   "metadata": {},
   "source": [
    "## Dictionaries\n",
    "Associative collections (key-value dictionaries):"
   ]
  },
  {
   "cell_type": "code",
   "execution_count": 54,
   "metadata": {},
   "outputs": [
    {
     "data": {
      "text/plain": [
       "Dict{Float64,Int64} with 0 entries"
      ]
     },
     "execution_count": 54,
     "metadata": {},
     "output_type": "execute_result"
    }
   ],
   "source": [
    "x = Dict{Float64, Int64}() # empty dictionary mapping floats to integers"
   ]
  },
  {
   "cell_type": "code",
   "execution_count": 55,
   "metadata": {},
   "outputs": [
    {
     "data": {
      "text/plain": [
       "Dict{String,Int64} with 2 entries:\n",
       "  \"b\" => 2\n",
       "  \"a\" => 1"
      ]
     },
     "execution_count": 55,
     "metadata": {},
     "output_type": "execute_result"
    }
   ],
   "source": [
    "y = Dict(\"a\"=>1, \"b\"=>2) # filled dictionary"
   ]
  },
  {
   "cell_type": "code",
   "execution_count": 56,
   "metadata": {},
   "outputs": [
    {
     "data": {
      "text/plain": [
       "1"
      ]
     },
     "execution_count": 56,
     "metadata": {},
     "output_type": "execute_result"
    }
   ],
   "source": [
    "y[\"a\"] # element retrieval"
   ]
  },
  {
   "cell_type": "code",
   "execution_count": 57,
   "metadata": {
    "slideshow": {
     "slide_type": "subslide"
    }
   },
   "outputs": [
    {
     "ename": "LoadError",
     "evalue": "\u001b[91mKeyError: key \"c\" not found\u001b[39m",
     "output_type": "error",
     "traceback": [
      "\u001b[91mKeyError: key \"c\" not found\u001b[39m",
      "",
      "Stacktrace:",
      " [1] \u001b[1mgetindex\u001b[22m\u001b[22m\u001b[1m(\u001b[22m\u001b[22m::Dict{String,Int64}, ::String\u001b[1m)\u001b[22m\u001b[22m at \u001b[1m./dict.jl:474\u001b[22m\u001b[22m"
     ]
    }
   ],
   "source": [
    "y[\"c\"] # error"
   ]
  },
  {
   "cell_type": "code",
   "execution_count": 58,
   "metadata": {
    "slideshow": {
     "slide_type": "-"
    }
   },
   "outputs": [
    {
     "data": {
      "text/plain": [
       "3"
      ]
     },
     "execution_count": 58,
     "metadata": {},
     "output_type": "execute_result"
    }
   ],
   "source": [
    "y[\"c\"] = 3 # added element"
   ]
  },
  {
   "cell_type": "code",
   "execution_count": 59,
   "metadata": {
    "slideshow": {
     "slide_type": "subslide"
    }
   },
   "outputs": [
    {
     "data": {
      "text/plain": [
       "true"
      ]
     },
     "execution_count": 59,
     "metadata": {},
     "output_type": "execute_result"
    }
   ],
   "source": [
    "haskey(y, \"b\") # check if y contains key \"b\""
   ]
  },
  {
   "cell_type": "code",
   "execution_count": 60,
   "metadata": {},
   "outputs": [
    {
     "data": {
      "text/plain": [
       "(String[\"c\", \"b\", \"a\"], [3, 2, 1])"
      ]
     },
     "execution_count": 60,
     "metadata": {},
     "output_type": "execute_result"
    }
   ],
   "source": [
    "keys(y), values(y) # tuple of iterators returning keys and values in y"
   ]
  },
  {
   "cell_type": "code",
   "execution_count": 61,
   "metadata": {},
   "outputs": [
    {
     "data": {
      "text/plain": [
       "Dict{String,Int64} with 2 entries:\n",
       "  \"c\" => 3\n",
       "  \"a\" => 1"
      ]
     },
     "execution_count": 61,
     "metadata": {},
     "output_type": "execute_result"
    }
   ],
   "source": [
    "delete!(y, \"b\") # delete key from a collection, see also: pop!"
   ]
  },
  {
   "cell_type": "code",
   "execution_count": 62,
   "metadata": {},
   "outputs": [
    {
     "data": {
      "text/plain": [
       "3"
      ]
     },
     "execution_count": 62,
     "metadata": {},
     "output_type": "execute_result"
    }
   ],
   "source": [
    "get(y,\"c\",\"default\") # return y[\"c\"] or \"default\" if not haskey(y,\"c\")"
   ]
  },
  {
   "cell_type": "markdown",
   "metadata": {
    "slideshow": {
     "slide_type": "slide"
    }
   },
   "source": [
    "## Funções\n",
    "\n",
    "In Julia, a function is an object that maps a tuple of argument values to a return value."
   ]
  },
  {
   "cell_type": "code",
   "execution_count": 27,
   "metadata": {},
   "outputs": [
    {
     "data": {
      "text/plain": [
       "f (generic function with 1 method)"
      ]
     },
     "execution_count": 27,
     "metadata": {},
     "output_type": "execute_result"
    }
   ],
   "source": [
    "function f(x,y)\n",
    "    x + y\n",
    "end"
   ]
  },
  {
   "cell_type": "code",
   "execution_count": 28,
   "metadata": {},
   "outputs": [
    {
     "data": {
      "text/plain": [
       "f (generic function with 1 method)"
      ]
     },
     "execution_count": 28,
     "metadata": {},
     "output_type": "execute_result"
    }
   ],
   "source": [
    "f(x,y) = x + y"
   ]
  },
  {
   "cell_type": "code",
   "execution_count": 29,
   "metadata": {},
   "outputs": [
    {
     "data": {
      "text/plain": [
       "5"
      ]
     },
     "execution_count": 29,
     "metadata": {},
     "output_type": "execute_result"
    }
   ],
   "source": [
    "f(2,3)"
   ]
  },
  {
   "cell_type": "markdown",
   "metadata": {
    "slideshow": {
     "slide_type": "subslide"
    }
   },
   "source": [
    "Without parentheses, the expression f refers to the function object, and can be passed around like any value:"
   ]
  },
  {
   "cell_type": "code",
   "execution_count": 33,
   "metadata": {},
   "outputs": [
    {
     "data": {
      "text/plain": [
       "5"
      ]
     },
     "execution_count": 33,
     "metadata": {},
     "output_type": "execute_result"
    }
   ],
   "source": [
    "g = f;\n",
    "g(2,3)"
   ]
  },
  {
   "cell_type": "markdown",
   "metadata": {
    "slideshow": {
     "slide_type": "subslide"
    }
   },
   "source": [
    "As with variables, Unicode can also be used for function names:"
   ]
  },
  {
   "cell_type": "code",
   "execution_count": 34,
   "metadata": {},
   "outputs": [
    {
     "data": {
      "text/plain": [
       "∑ (generic function with 1 method)"
      ]
     },
     "execution_count": 34,
     "metadata": {},
     "output_type": "execute_result"
    }
   ],
   "source": [
    "∑(x,y) = x + y"
   ]
  },
  {
   "cell_type": "code",
   "execution_count": 35,
   "metadata": {},
   "outputs": [
    {
     "data": {
      "text/plain": [
       "5"
      ]
     },
     "execution_count": 35,
     "metadata": {},
     "output_type": "execute_result"
    }
   ],
   "source": [
    "∑(2, 3)"
   ]
  },
  {
   "cell_type": "markdown",
   "metadata": {
    "slideshow": {
     "slide_type": "subslide"
    }
   },
   "source": [
    "## Argument Passing Behavior\n",
    "\n",
    "- Julia function arguments follow a convention sometimes called \"pass-by-sharing\"\n",
    "  - values are not copied when they are passed to functions\n",
    "- Function arguments themselves act as new variable bindings (new locations that can refer to values), but the values they refer to are identical to the passed values. \n",
    "- Modifications to mutable values (such as Arrays) made within a function will be visible to the caller. \n",
    "- This is the same behavior found in Scheme, most Lisps, Python, Ruby and Perl, among other dynamic languages."
   ]
  },
  {
   "cell_type": "markdown",
   "metadata": {
    "slideshow": {
     "slide_type": "subslide"
    }
   },
   "source": [
    "## The return Keyword\n",
    "\n",
    "The value returned by a function is the value of the last expression evaluated, which, by default, is the last expression in the body of the function definition"
   ]
  },
  {
   "cell_type": "code",
   "execution_count": 37,
   "metadata": {},
   "outputs": [
    {
     "data": {
      "text/plain": [
       "h (generic function with 1 method)"
      ]
     },
     "execution_count": 37,
     "metadata": {},
     "output_type": "execute_result"
    }
   ],
   "source": [
    "function h(x,y)\n",
    "    return x * y\n",
    "    x + y\n",
    "end"
   ]
  },
  {
   "cell_type": "code",
   "execution_count": 39,
   "metadata": {},
   "outputs": [
    {
     "data": {
      "text/plain": [
       "6"
      ]
     },
     "execution_count": 39,
     "metadata": {},
     "output_type": "execute_result"
    }
   ],
   "source": [
    "h(2,3)"
   ]
  },
  {
   "cell_type": "markdown",
   "metadata": {
    "slideshow": {
     "slide_type": "subslide"
    }
   },
   "source": [
    "## Operators Are Functions\n",
    "Most operators are just functions with support for special syntax"
   ]
  },
  {
   "cell_type": "code",
   "execution_count": 41,
   "metadata": {},
   "outputs": [
    {
     "data": {
      "text/plain": [
       "6"
      ]
     },
     "execution_count": 41,
     "metadata": {},
     "output_type": "execute_result"
    }
   ],
   "source": [
    "1 + 2 + 3\n"
   ]
  },
  {
   "cell_type": "code",
   "execution_count": 43,
   "metadata": {},
   "outputs": [
    {
     "data": {
      "text/plain": [
       "6"
      ]
     },
     "execution_count": 43,
     "metadata": {},
     "output_type": "execute_result"
    }
   ],
   "source": [
    "+(1,2,3)"
   ]
  },
  {
   "cell_type": "code",
   "execution_count": 46,
   "metadata": {},
   "outputs": [
    {
     "data": {
      "text/plain": [
       "6"
      ]
     },
     "execution_count": 46,
     "metadata": {},
     "output_type": "execute_result"
    }
   ],
   "source": [
    "w = +;\n",
    "w(1,2,3)"
   ]
  },
  {
   "cell_type": "markdown",
   "metadata": {
    "slideshow": {
     "slide_type": "subslide"
    }
   },
   "source": [
    "The exceptions are operators with special evaluation semantics like && and ||\n",
    "- These operators cannot be functions since Short-Circuit Evaluation requires that their operands are not evaluated before evaluation of the operator."
   ]
  },
  {
   "cell_type": "markdown",
   "metadata": {
    "slideshow": {
     "slide_type": "subslide"
    }
   },
   "source": [
    "## Operators With Special Names\n",
    "\n",
    "A few special expressions correspond to calls to functions with non-obvious names. These are:\n",
    "\n",
    "| Expression        | Calls                  |\n",
    "|:----------------- |:---------------------- |\n",
    "| `[A B C ...]`     | [`hcat()`](@ref)       |\n",
    "| `[A; B; C; ...]`  | [`vcat()`](@ref)       |\n",
    "| `[A B; C D; ...]` | [`hvcat()`](@ref)      |\n",
    "| `A'`              | [`ctranspose()`](@ref) |\n",
    "| `A.'`             | [`transpose()`](@ref)  |\n",
    "| `1:n`             | [`colon()`](@ref)      |\n",
    "| `A[i]`            | [`getindex()`](@ref)   |\n",
    "| `A[i]=x`          | [`setindex!()`](@ref)  |"
   ]
  },
  {
   "cell_type": "markdown",
   "metadata": {
    "slideshow": {
     "slide_type": "subslide"
    }
   },
   "source": [
    "## Anonymous Functions\n",
    "\n",
    "- Functions in Julia are first-class objects\n",
    "  - They can be assigned to variables, and called using the standard function call syntax from the variable they have been assigned to."
   ]
  },
  {
   "cell_type": "code",
   "execution_count": 47,
   "metadata": {},
   "outputs": [
    {
     "data": {
      "text/plain": [
       "(::#1) (generic function with 1 method)"
      ]
     },
     "execution_count": 47,
     "metadata": {},
     "output_type": "execute_result"
    }
   ],
   "source": [
    "x -> x^2 + 2x - 1"
   ]
  },
  {
   "cell_type": "code",
   "execution_count": 49,
   "metadata": {},
   "outputs": [
    {
     "data": {
      "text/plain": [
       "(::#5) (generic function with 1 method)"
      ]
     },
     "execution_count": 49,
     "metadata": {},
     "output_type": "execute_result"
    }
   ],
   "source": [
    "function (x)\n",
    " x^2 + 2x - 1\n",
    "end"
   ]
  },
  {
   "cell_type": "markdown",
   "metadata": {
    "slideshow": {
     "slide_type": "subslide"
    }
   },
   "source": [
    "A classic example is map(), which applies a function to each value of an array and returns a new array containing the resulting values:"
   ]
  },
  {
   "cell_type": "code",
   "execution_count": 50,
   "metadata": {},
   "outputs": [
    {
     "data": {
      "text/plain": [
       "3-element Array{Float64,1}:\n",
       " 1.0\n",
       " 4.0\n",
       " 2.0"
      ]
     },
     "execution_count": 50,
     "metadata": {},
     "output_type": "execute_result"
    }
   ],
   "source": [
    "map(round, [1.2,3.5,1.7])"
   ]
  },
  {
   "cell_type": "code",
   "execution_count": 51,
   "metadata": {},
   "outputs": [
    {
     "data": {
      "text/plain": [
       "3-element Array{Int64,1}:\n",
       "  2\n",
       " 14\n",
       " -2"
      ]
     },
     "execution_count": 51,
     "metadata": {},
     "output_type": "execute_result"
    }
   ],
   "source": [
    "map(x -> x^2 + 2x - 1, [1,3,-1])"
   ]
  },
  {
   "cell_type": "markdown",
   "metadata": {
    "slideshow": {
     "slide_type": "subslide"
    }
   },
   "source": [
    "## Multiple Return Values"
   ]
  },
  {
   "cell_type": "code",
   "execution_count": 53,
   "metadata": {},
   "outputs": [
    {
     "data": {
      "text/plain": [
       "foo (generic function with 1 method)"
      ]
     },
     "execution_count": 53,
     "metadata": {},
     "output_type": "execute_result"
    }
   ],
   "source": [
    "function foo(a,b)\n",
    "    a+b, a*b\n",
    "end"
   ]
  },
  {
   "cell_type": "code",
   "execution_count": 56,
   "metadata": {},
   "outputs": [
    {
     "data": {
      "text/plain": [
       "(5, 6)"
      ]
     },
     "execution_count": 56,
     "metadata": {},
     "output_type": "execute_result"
    }
   ],
   "source": [
    "foo(2,3)"
   ]
  },
  {
   "cell_type": "markdown",
   "metadata": {
    "slideshow": {
     "slide_type": "subslide"
    }
   },
   "source": [
    "A typical usage of such a pair of return values, however, extracts each value into a variable. Julia supports simple tuple \"destructuring\" that facilitates this:"
   ]
  },
  {
   "cell_type": "code",
   "execution_count": 57,
   "metadata": {},
   "outputs": [
    {
     "data": {
      "text/plain": [
       "(5, 6)"
      ]
     },
     "execution_count": 57,
     "metadata": {},
     "output_type": "execute_result"
    }
   ],
   "source": [
    "x, y = foo(2,3)"
   ]
  },
  {
   "cell_type": "markdown",
   "metadata": {
    "slideshow": {
     "slide_type": "subslide"
    }
   },
   "source": [
    "## Varargs Functions\n",
    "\n",
    "It is often convenient to be able to write functions taking an arbitrary number of arguments"
   ]
  },
  {
   "cell_type": "code",
   "execution_count": 58,
   "metadata": {},
   "outputs": [
    {
     "data": {
      "text/plain": [
       "bar (generic function with 1 method)"
      ]
     },
     "execution_count": 58,
     "metadata": {},
     "output_type": "execute_result"
    }
   ],
   "source": [
    "bar(a,b,x...) = (a,b,x)"
   ]
  },
  {
   "cell_type": "code",
   "execution_count": 59,
   "metadata": {},
   "outputs": [
    {
     "data": {
      "text/plain": [
       "(1, 2, ())"
      ]
     },
     "execution_count": 59,
     "metadata": {},
     "output_type": "execute_result"
    }
   ],
   "source": [
    "bar(1,2)"
   ]
  },
  {
   "cell_type": "code",
   "execution_count": 60,
   "metadata": {},
   "outputs": [
    {
     "data": {
      "text/plain": [
       "(1, 2, (3,))"
      ]
     },
     "execution_count": 60,
     "metadata": {},
     "output_type": "execute_result"
    }
   ],
   "source": [
    "bar(1,2,3)"
   ]
  },
  {
   "cell_type": "code",
   "execution_count": 61,
   "metadata": {},
   "outputs": [
    {
     "data": {
      "text/plain": [
       "(1, 2, (3, 4))"
      ]
     },
     "execution_count": 61,
     "metadata": {},
     "output_type": "execute_result"
    }
   ],
   "source": [
    "bar(1, 2, 3, 4)"
   ]
  },
  {
   "cell_type": "code",
   "execution_count": 62,
   "metadata": {},
   "outputs": [
    {
     "data": {
      "text/plain": [
       "(1, 2, (3, 4, 5, 6))"
      ]
     },
     "execution_count": 62,
     "metadata": {},
     "output_type": "execute_result"
    }
   ],
   "source": [
    "bar(1,2,3,4,5,6)"
   ]
  },
  {
   "cell_type": "markdown",
   "metadata": {
    "slideshow": {
     "slide_type": "subslide"
    }
   },
   "source": [
    "Also, the function that arguments are spliced into need not be a varargs function (although it often is):"
   ]
  },
  {
   "cell_type": "code",
   "execution_count": 63,
   "metadata": {},
   "outputs": [
    {
     "data": {
      "text/plain": [
       "2-element Array{Int64,1}:\n",
       " 3\n",
       " 4"
      ]
     },
     "execution_count": 63,
     "metadata": {},
     "output_type": "execute_result"
    }
   ],
   "source": [
    "x = [3,4]"
   ]
  },
  {
   "cell_type": "code",
   "execution_count": 64,
   "metadata": {},
   "outputs": [
    {
     "data": {
      "text/plain": [
       "(1, 2, (3, 4))"
      ]
     },
     "execution_count": 64,
     "metadata": {},
     "output_type": "execute_result"
    }
   ],
   "source": [
    "bar(1,2,x...)"
   ]
  },
  {
   "cell_type": "code",
   "execution_count": 66,
   "metadata": {
    "collapsed": true
   },
   "outputs": [],
   "source": [
    "x = [1,2,3,4];"
   ]
  },
  {
   "cell_type": "code",
   "execution_count": 68,
   "metadata": {},
   "outputs": [
    {
     "data": {
      "text/plain": [
       "(1, 2, (3, 4))"
      ]
     },
     "execution_count": 68,
     "metadata": {},
     "output_type": "execute_result"
    }
   ],
   "source": [
    "bar(x...)"
   ]
  },
  {
   "cell_type": "markdown",
   "metadata": {
    "slideshow": {
     "slide_type": "subslide"
    }
   },
   "source": [
    "## Optional Arguments\n",
    "\n",
    "In many cases, function arguments have sensible default values and therefore might not need to be passed explicitly in every call"
   ]
  },
  {
   "cell_type": "code",
   "execution_count": null,
   "metadata": {
    "collapsed": true
   },
   "outputs": [],
   "source": [
    "function parse(type, num, base=10)\n",
    "    ###\n",
    "end"
   ]
  },
  {
   "cell_type": "code",
   "execution_count": 72,
   "metadata": {},
   "outputs": [
    {
     "data": {
      "text/plain": [
       "12"
      ]
     },
     "execution_count": 72,
     "metadata": {},
     "output_type": "execute_result"
    }
   ],
   "source": [
    "parse(Int,\"12\",10)"
   ]
  },
  {
   "cell_type": "code",
   "execution_count": 73,
   "metadata": {},
   "outputs": [
    {
     "data": {
      "text/plain": [
       "5"
      ]
     },
     "execution_count": 73,
     "metadata": {},
     "output_type": "execute_result"
    }
   ],
   "source": [
    "parse(Int,\"12\",3)"
   ]
  },
  {
   "cell_type": "code",
   "execution_count": 74,
   "metadata": {},
   "outputs": [
    {
     "data": {
      "text/plain": [
       "12"
      ]
     },
     "execution_count": 74,
     "metadata": {},
     "output_type": "execute_result"
    }
   ],
   "source": [
    "parse(Int,\"12\")"
   ]
  },
  {
   "cell_type": "markdown",
   "metadata": {
    "slideshow": {
     "slide_type": "subslide"
    }
   },
   "source": [
    "## Keyword Arguments\n",
    "Some functions need a large number of arguments, or have a large number of behaviors\n",
    "\n",
    "```julia\n",
    "function plot(x, y; style=\"solid\", width=1, color=\"black\")\n",
    "    ###\n",
    "end\n",
    "```"
   ]
  },
  {
   "cell_type": "markdown",
   "metadata": {},
   "source": [
    "When the function is called, the semicolon is optional: one can either call `plot(x, y, width=2)`\n",
    "or `plot(x, y; width=2)`"
   ]
  },
  {
   "cell_type": "markdown",
   "metadata": {
    "slideshow": {
     "slide_type": "subslide"
    }
   },
   "source": [
    "Extra keyword arguments can be collected using ..., as in varargs functions:\n",
    "```julia\n",
    "function f(x; y=0, kwargs...)\n",
    "    ###\n",
    "end\n",
    "```"
   ]
  },
  {
   "cell_type": "markdown",
   "metadata": {},
   "source": [
    "Inside f, kwargs will be a collection of (key,value) tuples, where each key is a symbol."
   ]
  },
  {
   "cell_type": "markdown",
   "metadata": {
    "slideshow": {
     "slide_type": "slide"
    }
   },
   "source": [
    "## Controle de Fluxo\n",
    "\n",
    "There are two Julia constructs that accomplish this: begin blocks and (;) chains."
   ]
  },
  {
   "cell_type": "code",
   "execution_count": 3,
   "metadata": {},
   "outputs": [
    {
     "data": {
      "text/plain": [
       "3"
      ]
     },
     "execution_count": 3,
     "metadata": {},
     "output_type": "execute_result"
    }
   ],
   "source": [
    "z = begin\n",
    "   x = 1\n",
    "   y = 2\n",
    "   x + y\n",
    "end"
   ]
  },
  {
   "cell_type": "code",
   "execution_count": 4,
   "metadata": {},
   "outputs": [
    {
     "data": {
      "text/plain": [
       "3"
      ]
     },
     "execution_count": 4,
     "metadata": {},
     "output_type": "execute_result"
    }
   ],
   "source": [
    "z = (x = 1; y = 2; x + y)"
   ]
  },
  {
   "cell_type": "code",
   "execution_count": 5,
   "metadata": {},
   "outputs": [
    {
     "data": {
      "text/plain": [
       "3"
      ]
     },
     "execution_count": 5,
     "metadata": {},
     "output_type": "execute_result"
    }
   ],
   "source": [
    "begin x = 1; y = 2; x + y end"
   ]
  },
  {
   "cell_type": "code",
   "execution_count": 6,
   "metadata": {},
   "outputs": [
    {
     "data": {
      "text/plain": [
       "3"
      ]
     },
     "execution_count": 6,
     "metadata": {},
     "output_type": "execute_result"
    }
   ],
   "source": [
    "(x = 1;\n",
    "y = 2;\n",
    "x + y)"
   ]
  },
  {
   "cell_type": "markdown",
   "metadata": {
    "slideshow": {
     "slide_type": "subslide"
    }
   },
   "source": [
    "## Conditional Evaluation\n",
    "Conditional evaluation allows portions of code to be evaluated or not evaluated depending on the value of a boolean expression"
   ]
  },
  {
   "cell_type": "code",
   "execution_count": 7,
   "metadata": {},
   "outputs": [
    {
     "name": "stdout",
     "output_type": "stream",
     "text": [
      "x is less than y\n"
     ]
    }
   ],
   "source": [
    "if x < y\n",
    "    println(\"x is less than y\")\n",
    "elseif x > y\n",
    "    println(\"x is greater than y\")\n",
    "else\n",
    "    println(\"x is equal to y\")\n",
    "end"
   ]
  },
  {
   "cell_type": "code",
   "execution_count": 9,
   "metadata": {},
   "outputs": [
    {
     "name": "stdout",
     "output_type": "stream",
     "text": [
      "less than\n"
     ]
    }
   ],
   "source": [
    "x = 1; y = 2;\n",
    "println(x < y ? \"less than\" : \"not less than\")"
   ]
  },
  {
   "cell_type": "markdown",
   "metadata": {
    "slideshow": {
     "slide_type": "subslide"
    }
   },
   "source": [
    "## Repeated Evaluation: Loops\n",
    "\n",
    "There are two constructs for repeated evaluation of expressions: the while loop and the for loop. Here is an example of a while loop:"
   ]
  },
  {
   "cell_type": "code",
   "execution_count": 11,
   "metadata": {},
   "outputs": [
    {
     "name": "stdout",
     "output_type": "stream",
     "text": [
      "1\n",
      "2\n",
      "3\n",
      "4\n",
      "5\n"
     ]
    }
   ],
   "source": [
    "i = 1;\n",
    "while i <= 5\n",
    "   println(i)\n",
    "   i += 1\n",
    "end"
   ]
  },
  {
   "cell_type": "code",
   "execution_count": 13,
   "metadata": {},
   "outputs": [
    {
     "name": "stdout",
     "output_type": "stream",
     "text": [
      "1\n",
      "2\n",
      "3\n",
      "4\n",
      "5\n"
     ]
    }
   ],
   "source": [
    "for i = 1:5\n",
    "   println(i)\n",
    "end\n"
   ]
  },
  {
   "cell_type": "markdown",
   "metadata": {
    "slideshow": {
     "slide_type": "subslide"
    }
   },
   "source": [
    "In general, the for loop construct can iterate over any container. In these cases, the alternative (but fully equivalent) keyword in or ∈ is typically used instead of =, since it makes the code read more clearly:"
   ]
  },
  {
   "cell_type": "code",
   "execution_count": 16,
   "metadata": {},
   "outputs": [
    {
     "name": "stdout",
     "output_type": "stream",
     "text": [
      "1\n",
      "4\n",
      "0\n"
     ]
    }
   ],
   "source": [
    "for i in [1,4,0]\n",
    "   println(i)\n",
    "end"
   ]
  },
  {
   "cell_type": "code",
   "execution_count": 18,
   "metadata": {},
   "outputs": [
    {
     "name": "stdout",
     "output_type": "stream",
     "text": [
      "foo\n",
      "bar\n",
      "baz\n"
     ]
    }
   ],
   "source": [
    "for s ∈ [\"foo\",\"bar\",\"baz\"]\n",
    "   println(s)\n",
    "end"
   ]
  },
  {
   "cell_type": "markdown",
   "metadata": {
    "slideshow": {
     "slide_type": "subslide"
    }
   },
   "source": [
    "## Break and Continue"
   ]
  },
  {
   "cell_type": "code",
   "execution_count": 20,
   "metadata": {},
   "outputs": [
    {
     "name": "stdout",
     "output_type": "stream",
     "text": [
      "1\n",
      "2\n",
      "3\n",
      "4\n",
      "5\n"
     ]
    }
   ],
   "source": [
    "i = 1;\n",
    "while true\n",
    "   println(i)\n",
    "   if i >= 5\n",
    "       break\n",
    "   end\n",
    "   i += 1\n",
    "end"
   ]
  },
  {
   "cell_type": "code",
   "execution_count": 22,
   "metadata": {},
   "outputs": [
    {
     "name": "stdout",
     "output_type": "stream",
     "text": [
      "3\n",
      "6\n",
      "9\n"
     ]
    }
   ],
   "source": [
    "for i = 1:10\n",
    "   if i % 3 != 0\n",
    "       continue\n",
    "   end\n",
    "   println(i)\n",
    "end"
   ]
  },
  {
   "cell_type": "markdown",
   "metadata": {
    "slideshow": {
     "slide_type": "subslide"
    }
   },
   "source": [
    "Multiple nested for loops can be combined into a single outer loop, forming the cartesian product of its iterables:"
   ]
  },
  {
   "cell_type": "code",
   "execution_count": 1,
   "metadata": {},
   "outputs": [
    {
     "name": "stdout",
     "output_type": "stream",
     "text": [
      "(1, 3)\n"
     ]
    }
   ],
   "source": [
    "for i = 1:2, j = 3:4\n",
    "   println((i, j))\n",
    "end"
   ]
  },
  {
   "cell_type": "markdown",
   "metadata": {
    "slideshow": {
     "slide_type": "slide"
    }
   },
   "source": [
    "## Escopo das Variáveis\n",
    "\n",
    "The following constructs introduce new variable scope: function, while, for, try/catch, let, type.\n",
    "You can define variables as:\n",
    "- global: use variable from global scope;\n",
    "- local: define new variable in current scope;\n",
    "- const: ensure variable type is constant (global only).\n"
   ]
  },
  {
   "cell_type": "markdown",
   "metadata": {
    "collapsed": true,
    "slideshow": {
     "slide_type": "slide"
    }
   },
   "source": [
    "## Tipos Compostos\n",
    "\n",
    "Composite types are called records, structs, or objects in various languages. You can define and access composite types:"
   ]
  },
  {
   "cell_type": "code",
   "execution_count": 24,
   "metadata": {},
   "outputs": [
    {
     "data": {
      "text/plain": [
       "Foo(\"Hello, world.\", 23, 1.5)"
      ]
     },
     "execution_count": 24,
     "metadata": {},
     "output_type": "execute_result"
    }
   ],
   "source": [
    "struct Foo\n",
    "   bar\n",
    "   baz::Int\n",
    "   qux::Float64\n",
    "end\n",
    "foo = Foo(\"Hello, world.\", 23, 1.5)"
   ]
  },
  {
   "cell_type": "code",
   "execution_count": 6,
   "metadata": {},
   "outputs": [
    {
     "data": {
      "text/plain": [
       "Foo"
      ]
     },
     "execution_count": 6,
     "metadata": {},
     "output_type": "execute_result"
    }
   ],
   "source": [
    "typeof(foo)"
   ]
  },
  {
   "cell_type": "code",
   "execution_count": 8,
   "metadata": {
    "slideshow": {
     "slide_type": "-"
    }
   },
   "outputs": [
    {
     "ename": "LoadError",
     "evalue": "\u001b[91mInexactError()\u001b[39m",
     "output_type": "error",
     "traceback": [
      "\u001b[91mInexactError()\u001b[39m",
      "",
      "Stacktrace:",
      " [1] \u001b[1mconvert\u001b[22m\u001b[22m\u001b[1m(\u001b[22m\u001b[22m::Type{Int64}, ::Float64\u001b[1m)\u001b[22m\u001b[22m at \u001b[1m./float.jl:679\u001b[22m\u001b[22m",
      " [2] \u001b[1mFoo\u001b[22m\u001b[22m\u001b[1m(\u001b[22m\u001b[22m::Tuple{}, ::Float64, ::Int64\u001b[1m)\u001b[22m\u001b[22m at \u001b[1m./In[5]:2\u001b[22m\u001b[22m"
     ]
    }
   ],
   "source": [
    "Foo((), 23.5, 1)"
   ]
  },
  {
   "cell_type": "markdown",
   "metadata": {
    "slideshow": {
     "slide_type": "subslide"
    }
   },
   "source": [
    "You may find a list of field names using the fieldnames function."
   ]
  },
  {
   "cell_type": "code",
   "execution_count": 14,
   "metadata": {},
   "outputs": [
    {
     "data": {
      "text/plain": [
       "3-element Array{Symbol,1}:\n",
       " :bar\n",
       " :baz\n",
       " :qux"
      ]
     },
     "execution_count": 14,
     "metadata": {},
     "output_type": "execute_result"
    }
   ],
   "source": [
    "fieldnames(foo)"
   ]
  },
  {
   "cell_type": "markdown",
   "metadata": {},
   "source": [
    "You can access the field values of a composite object using the traditional foo.bar notation:"
   ]
  },
  {
   "cell_type": "code",
   "execution_count": 17,
   "metadata": {},
   "outputs": [
    {
     "data": {
      "text/plain": [
       "\"Hello, world.\""
      ]
     },
     "execution_count": 17,
     "metadata": {},
     "output_type": "execute_result"
    }
   ],
   "source": [
    "foo.bar"
   ]
  },
  {
   "cell_type": "markdown",
   "metadata": {
    "slideshow": {
     "slide_type": "subslide"
    }
   },
   "source": [
    "Composite objects declared with struct are immutable; they cannot be modified after construction. This may seem odd at first, but it has several advantages:\n",
    "\n",
    "- It can be more efficient. Some structs can be packed efficiently into arrays, and in some cases the compiler is able to avoid allocating immutable objects entirely.\n",
    "\n",
    "- It is not possible to violate the invariants provided by the type's constructors.\n",
    "\n",
    "- Code using immutable objects can be easier to reason about."
   ]
  },
  {
   "cell_type": "code",
   "execution_count": 25,
   "metadata": {},
   "outputs": [
    {
     "ename": "LoadError",
     "evalue": "\u001b[91mtype Foo is immutable\u001b[39m",
     "output_type": "error",
     "traceback": [
      "\u001b[91mtype Foo is immutable\u001b[39m",
      ""
     ]
    }
   ],
   "source": [
    "foo.bar = \"oi\""
   ]
  },
  {
   "cell_type": "markdown",
   "metadata": {
    "slideshow": {
     "slide_type": "slide"
    }
   },
   "source": [
    "## Mutable Composite Types\n"
   ]
  },
  {
   "cell_type": "code",
   "execution_count": 22,
   "metadata": {},
   "outputs": [
    {
     "data": {
      "text/plain": [
       "Bar(\"Hello\", 1.5)"
      ]
     },
     "execution_count": 22,
     "metadata": {},
     "output_type": "execute_result"
    }
   ],
   "source": [
    "mutable struct Bar\n",
    "   baz\n",
    "   qux::Float64\n",
    "end\n",
    "bar = Bar(\"Hello\", 1.5)"
   ]
  },
  {
   "cell_type": "code",
   "execution_count": 23,
   "metadata": {},
   "outputs": [
    {
     "data": {
      "text/plain": [
       "2.0"
      ]
     },
     "execution_count": 23,
     "metadata": {},
     "output_type": "execute_result"
    }
   ],
   "source": [
    "bar.qux = 2.0"
   ]
  },
  {
   "cell_type": "markdown",
   "metadata": {
    "slideshow": {
     "slide_type": "subslide"
    }
   },
   "source": [
    "In order to support mutation, such objects are generally allocated on the heap, and have stable memory addresses"
   ]
  },
  {
   "cell_type": "markdown",
   "metadata": {},
   "source": [
    "To recap, two essential properties define immutability in Julia:\n",
    "\n",
    "- An object with an immutable type is passed around (both in assignment statements and in function calls) by copying, whereas a mutable type is passed around by reference.\n",
    "\n",
    "- It is not permitted to modify the fields of a composite immutable type."
   ]
  },
  {
   "cell_type": "markdown",
   "metadata": {
    "slideshow": {
     "slide_type": "slide"
    }
   },
   "source": [
    "## Abstract Types\n",
    "Abstract types cannot be instantiated, and serve only as nodes in the type graph, thereby describing sets of related concrete types: those concrete types which are their descendants"
   ]
  },
  {
   "cell_type": "code",
   "execution_count": 27,
   "metadata": {
    "collapsed": true
   },
   "outputs": [],
   "source": [
    "abstract type SuperTipo end\n",
    "abstract type SubTipo <: SuperTipo end"
   ]
  },
  {
   "cell_type": "markdown",
   "metadata": {},
   "source": [
    "When no supertype is given, the default supertype is Any"
   ]
  },
  {
   "cell_type": "markdown",
   "metadata": {
    "slideshow": {
     "slide_type": "subslide"
    }
   },
   "source": [
    "Let's consider some of the abstract types that make up Julia's numerical hierarchy:"
   ]
  },
  {
   "cell_type": "code",
   "execution_count": 28,
   "metadata": {
    "collapsed": true,
    "slideshow": {
     "slide_type": "-"
    }
   },
   "outputs": [],
   "source": [
    "abstract type Number end\n",
    "abstract type Real     <: Number end\n",
    "abstract type AbstractFloat <: Real end\n",
    "abstract type Integer  <: Real end\n",
    "abstract type Signed   <: Integer end\n",
    "abstract type Unsigned <: Integer end"
   ]
  },
  {
   "cell_type": "markdown",
   "metadata": {},
   "source": [
    "It can also be used in expressions as a subtype operator which returns true when its left operand is a subtype of its right operand:"
   ]
  },
  {
   "cell_type": "code",
   "execution_count": 31,
   "metadata": {},
   "outputs": [
    {
     "data": {
      "text/plain": [
       "true"
      ]
     },
     "execution_count": 31,
     "metadata": {},
     "output_type": "execute_result"
    }
   ],
   "source": [
    "Integer <: Number"
   ]
  },
  {
   "cell_type": "code",
   "execution_count": 32,
   "metadata": {},
   "outputs": [
    {
     "data": {
      "text/plain": [
       "false"
      ]
     },
     "execution_count": 32,
     "metadata": {},
     "output_type": "execute_result"
    }
   ],
   "source": [
    "Integer <: AbstractFloat"
   ]
  },
  {
   "cell_type": "markdown",
   "metadata": {
    "slideshow": {
     "slide_type": "slide"
    }
   },
   "source": [
    "## Type Unions\n",
    "\n",
    "A type union is a special abstract type which includes as objects all instances of any of its argument types, constructed using the special Union function:"
   ]
  },
  {
   "cell_type": "code",
   "execution_count": 33,
   "metadata": {},
   "outputs": [
    {
     "data": {
      "text/plain": [
       "Union{AbstractString, Int64}"
      ]
     },
     "execution_count": 33,
     "metadata": {},
     "output_type": "execute_result"
    }
   ],
   "source": [
    "IntOrString = Union{Int,AbstractString}"
   ]
  },
  {
   "cell_type": "code",
   "execution_count": 34,
   "metadata": {},
   "outputs": [
    {
     "data": {
      "text/plain": [
       "1"
      ]
     },
     "execution_count": 34,
     "metadata": {},
     "output_type": "execute_result"
    }
   ],
   "source": [
    "1 :: IntOrString"
   ]
  },
  {
   "cell_type": "code",
   "execution_count": 36,
   "metadata": {},
   "outputs": [
    {
     "data": {
      "text/plain": [
       "\"Hello!\""
      ]
     },
     "execution_count": 36,
     "metadata": {},
     "output_type": "execute_result"
    }
   ],
   "source": [
    "\"Hello!\" :: IntOrString"
   ]
  },
  {
   "cell_type": "code",
   "execution_count": 35,
   "metadata": {},
   "outputs": [
    {
     "ename": "LoadError",
     "evalue": "\u001b[91mTypeError: typeassert: expected Union{AbstractString, Int64}, got Float64\u001b[39m",
     "output_type": "error",
     "traceback": [
      "\u001b[91mTypeError: typeassert: expected Union{AbstractString, Int64}, got Float64\u001b[39m",
      ""
     ]
    }
   ],
   "source": [
    "1.0 :: IntOrString"
   ]
  },
  {
   "cell_type": "markdown",
   "metadata": {
    "slideshow": {
     "slide_type": "slide"
    }
   },
   "source": [
    "## Parametric Types\n",
    "\n",
    "An important and powerful feature of Julia's type system is that it is parametric: types can take parameters, so that type declarations actually introduce a whole family of new types – one for each possible combination of parameter values\n",
    "\n"
   ]
  },
  {
   "cell_type": "markdown",
   "metadata": {
    "slideshow": {
     "slide_type": "subslide"
    }
   },
   "source": [
    "Type parameters are introduced immediately after the type name, surrounded by curly braces:"
   ]
  },
  {
   "cell_type": "code",
   "execution_count": 44,
   "metadata": {
    "collapsed": true
   },
   "outputs": [],
   "source": [
    "struct Ponto{T}\n",
    "   x::T\n",
    "   y::T\n",
    "end"
   ]
  },
  {
   "cell_type": "code",
   "execution_count": 46,
   "metadata": {},
   "outputs": [
    {
     "data": {
      "text/plain": [
       "Ponto{Float64}"
      ]
     },
     "execution_count": 46,
     "metadata": {},
     "output_type": "execute_result"
    }
   ],
   "source": [
    "Ponto{Float64}"
   ]
  },
  {
   "cell_type": "code",
   "execution_count": 47,
   "metadata": {},
   "outputs": [
    {
     "data": {
      "text/plain": [
       "Ponto{AbstractString}"
      ]
     },
     "execution_count": 47,
     "metadata": {},
     "output_type": "execute_result"
    }
   ],
   "source": [
    "Ponto{AbstractString}"
   ]
  },
  {
   "cell_type": "markdown",
   "metadata": {
    "slideshow": {
     "slide_type": "subslide"
    }
   },
   "source": [
    "Point itself is also a valid type object, containing all instances Point{Float64}, Point{AbstractString}, etc. as subtypes:"
   ]
  },
  {
   "cell_type": "code",
   "execution_count": 49,
   "metadata": {
    "slideshow": {
     "slide_type": "-"
    }
   },
   "outputs": [
    {
     "data": {
      "text/plain": [
       "true"
      ]
     },
     "execution_count": 49,
     "metadata": {},
     "output_type": "execute_result"
    }
   ],
   "source": [
    "Ponto{Float64} <: Ponto"
   ]
  },
  {
   "cell_type": "code",
   "execution_count": 51,
   "metadata": {},
   "outputs": [
    {
     "data": {
      "text/plain": [
       "true"
      ]
     },
     "execution_count": 51,
     "metadata": {},
     "output_type": "execute_result"
    }
   ],
   "source": [
    "Ponto{AbstractString} <: Ponto"
   ]
  },
  {
   "cell_type": "markdown",
   "metadata": {},
   "source": [
    "Other types, of course, are not subtypes of it:"
   ]
  },
  {
   "cell_type": "code",
   "execution_count": 52,
   "metadata": {},
   "outputs": [
    {
     "data": {
      "text/plain": [
       "false"
      ]
     },
     "execution_count": 52,
     "metadata": {},
     "output_type": "execute_result"
    }
   ],
   "source": [
    "Float64 <: Ponto"
   ]
  },
  {
   "cell_type": "code",
   "execution_count": 53,
   "metadata": {},
   "outputs": [
    {
     "data": {
      "text/plain": [
       "false"
      ]
     },
     "execution_count": 53,
     "metadata": {},
     "output_type": "execute_result"
    }
   ],
   "source": [
    "AbstractString <: Ponto"
   ]
  },
  {
   "cell_type": "markdown",
   "metadata": {
    "slideshow": {
     "slide_type": "subslide"
    }
   },
   "source": [
    "Concrete Point types with different values of T are never subtypes of each other:"
   ]
  },
  {
   "cell_type": "code",
   "execution_count": 54,
   "metadata": {},
   "outputs": [
    {
     "data": {
      "text/plain": [
       "false"
      ]
     },
     "execution_count": 54,
     "metadata": {},
     "output_type": "execute_result"
    }
   ],
   "source": [
    "Ponto{Float64} <: Ponto{Int64}"
   ]
  },
  {
   "cell_type": "code",
   "execution_count": 55,
   "metadata": {},
   "outputs": [
    {
     "data": {
      "text/plain": [
       "false"
      ]
     },
     "execution_count": 55,
     "metadata": {},
     "output_type": "execute_result"
    }
   ],
   "source": [
    "Ponto{Float64} <: Ponto{Real}"
   ]
  },
  {
   "cell_type": "markdown",
   "metadata": {
    "slideshow": {
     "slide_type": "slide"
    }
   },
   "source": [
    "## Interfaces\n",
    "\n",
    "A lot of the power and extensibility in Julia comes from a collection of informal interfaces. By extending a few specific methods to work for a custom type, objects of that type not only receive those functionalities, but they are also able to be used in other methods that are written to generically build upon those behaviors."
   ]
  },
  {
   "cell_type": "markdown",
   "metadata": {
    "slideshow": {
     "slide_type": "subslide"
    }
   },
   "source": [
    "## Iteration"
   ]
  },
  {
   "cell_type": "markdown",
   "metadata": {},
   "source": [
    "```julia\n",
    "for i in iter   # or  \"for i = iter\"\n",
    "    # body\n",
    "end\n",
    "```\n",
    "\n",
    "is translated into:\n",
    "\n",
    "```julia\n",
    "state = start(iter)\n",
    "while !done(iter, state)\n",
    "    (i, state) = next(iter, state)\n",
    "    # body\n",
    "end\n",
    "```"
   ]
  },
  {
   "cell_type": "markdown",
   "metadata": {
    "slideshow": {
     "slide_type": "subslide"
    }
   },
   "source": [
    "## Indexing\n",
    "\n",
    "\n",
    "| Methods to implement | Brief description                |\n",
    "|:-------------------- |:-------------------------------- |\n",
    "| `getindex(X, i)`     | `X[i]`, indexed element access   |\n",
    "| `setindex!(X, v, i)` | `X[i] = v`, indexed assignment   |\n",
    "| `endof(X)`           | The last index, used in `X[end]` |"
   ]
  },
  {
   "cell_type": "markdown",
   "metadata": {
    "slideshow": {
     "slide_type": "slide"
    }
   },
   "source": [
    "## Modules\n",
    "\n",
    "Modules in Julia are separate variable workspaces, i.e. they introduce a new global scope. They\n",
    "are delimited syntactically, inside `module Name ... end`\n",
    "\n",
    "Modules allow you to create top-level\n",
    "definitions (aka global variables) without worrying about name conflicts when your code is used\n",
    "together with somebody else's"
   ]
  },
  {
   "cell_type": "code",
   "execution_count": null,
   "metadata": {
    "collapsed": true,
    "slideshow": {
     "slide_type": "subslide"
    }
   },
   "outputs": [],
   "source": [
    "module MyModule\n",
    "\n",
    "export aaa, bbb\n",
    "\n",
    "aaa() = \"x\"\n",
    "bbb() = \"y\"\n",
    "p() = \"p\"\n",
    "\n",
    "end"
   ]
  },
  {
   "cell_type": "code",
   "execution_count": 42,
   "metadata": {
    "collapsed": true
   },
   "outputs": [],
   "source": [
    "using MyModule"
   ]
  },
  {
   "cell_type": "code",
   "execution_count": 44,
   "metadata": {},
   "outputs": [
    {
     "data": {
      "text/plain": [
       "\"x\""
      ]
     },
     "execution_count": 44,
     "metadata": {},
     "output_type": "execute_result"
    }
   ],
   "source": [
    "aaa()"
   ]
  },
  {
   "cell_type": "code",
   "execution_count": 46,
   "metadata": {},
   "outputs": [
    {
     "data": {
      "text/plain": [
       "\"p\""
      ]
     },
     "execution_count": 46,
     "metadata": {},
     "output_type": "execute_result"
    }
   ],
   "source": [
    "MyModule.p()"
   ]
  },
  {
   "cell_type": "code",
   "execution_count": 47,
   "metadata": {},
   "outputs": [
    {
     "ename": "LoadError",
     "evalue": "\u001b[91mUndefVarError: p not defined\u001b[39m",
     "output_type": "error",
     "traceback": [
      "\u001b[91mUndefVarError: p not defined\u001b[39m",
      ""
     ]
    }
   ],
   "source": [
    "p()"
   ]
  },
  {
   "cell_type": "markdown",
   "metadata": {
    "slideshow": {
     "slide_type": "slide"
    }
   },
   "source": [
    "## Packages\n",
    "\n",
    "Julia has a built-in package manager for installing add-on functionality written in Julia.\n",
    "\n",
    "It can also install external libraries using your operating system's standard system for doing so, or by compiling from source. \n",
    "\n",
    "The list of registered Julia packages can be found at http://pkg.julialang.org."
   ]
  },
  {
   "cell_type": "code",
   "execution_count": 27,
   "metadata": {
    "slideshow": {
     "slide_type": "subslide"
    }
   },
   "outputs": [
    {
     "name": "stdout",
     "output_type": "stream",
     "text": [
      "1 required packages:\n",
      " - RDatasets                     0.2.0\n",
      "16 additional packages:\n",
      " - Compat                        0.26.0\n",
      " - DataArrays                    0.5.3\n",
      " - DataFrames                    0.10.0\n",
      " - DataStructures                0.5.3\n",
      " - DatasetsCF                    0.0.0-             master (unregistered)\n",
      " - Distances                     0.4.1\n",
      " - FileIO                        0.4.1\n",
      " - GZip                          0.3.0\n",
      " - Iterators                     0.3.1\n",
      " - MLBase                        0.6.1\n",
      " - Persa                         0.0.0-             master (unregistered)\n",
      " - RData                         0.1.0\n",
      " - Reexport                      0.0.3\n",
      " - SortingAlgorithms             0.1.1\n",
      " - SpecialFunctions              0.1.1\n",
      " - StatsBase                     0.17.0\n"
     ]
    }
   ],
   "source": [
    "Pkg.status()"
   ]
  },
  {
   "cell_type": "code",
   "execution_count": null,
   "metadata": {
    "collapsed": true
   },
   "outputs": [],
   "source": [
    "Pkg.add(\"Distributions\")"
   ]
  },
  {
   "cell_type": "markdown",
   "metadata": {
    "slideshow": {
     "slide_type": "slide"
    }
   },
   "source": [
    "## Metaprogramming"
   ]
  },
  {
   "cell_type": "markdown",
   "metadata": {},
   "source": [
    "## Plotting\n",
    "There are several plotting packages for Julia: Winston, Gadfly and PyPlot."
   ]
  },
  {
   "cell_type": "code",
   "execution_count": 1,
   "metadata": {
    "collapsed": true
   },
   "outputs": [],
   "source": [
    "using Gadfly\n",
    "srand(1) # second plot\n",
    "x, y = randn(100), randn(100);"
   ]
  },
  {
   "cell_type": "code",
   "execution_count": 2,
   "metadata": {
    "slideshow": {
     "slide_type": "subslide"
    }
   },
   "outputs": [
    {
     "data": {
      "image/svg+xml": [
       "<?xml version=\"1.0\" encoding=\"UTF-8\"?>\n",
       "<svg xmlns=\"http://www.w3.org/2000/svg\"\n",
       "     xmlns:xlink=\"http://www.w3.org/1999/xlink\"\n",
       "     xmlns:gadfly=\"http://www.gadflyjl.org/ns\"\n",
       "     version=\"1.2\"\n",
       "     width=\"141.42mm\" height=\"100mm\" viewBox=\"0 0 141.42 100\"\n",
       "     stroke=\"none\"\n",
       "     fill=\"#000000\"\n",
       "     stroke-width=\"0.3\"\n",
       "     font-size=\"3.88\"\n",
       ">\n",
       "<g class=\"plotroot xscalable yscalable\" id=\"img-cc9f7683-1\">\n",
       "  <g font-size=\"3.88\" font-family=\"'PT Sans','Helvetica Neue','Helvetica',sans-serif\" fill=\"#564A55\" stroke=\"#000000\" stroke-opacity=\"0.000\" id=\"img-cc9f7683-2\">\n",
       "    <text x=\"76.01\" y=\"88.39\" text-anchor=\"middle\" dy=\"0.6em\">x</text>\n",
       "  </g>\n",
       "  <g class=\"guide xlabels\" font-size=\"2.82\" font-family=\"'PT Sans Caption','Helvetica Neue','Helvetica',sans-serif\" fill=\"#6C606B\" id=\"img-cc9f7683-3\">\n",
       "    <text x=\"17.59\" y=\"81.72\" text-anchor=\"middle\" dy=\"0.6em\">-3</text>\n",
       "    <text x=\"37.06\" y=\"81.72\" text-anchor=\"middle\" dy=\"0.6em\">-2</text>\n",
       "    <text x=\"56.54\" y=\"81.72\" text-anchor=\"middle\" dy=\"0.6em\">-1</text>\n",
       "    <text x=\"76.01\" y=\"81.72\" text-anchor=\"middle\" dy=\"0.6em\">0</text>\n",
       "    <text x=\"95.48\" y=\"81.72\" text-anchor=\"middle\" dy=\"0.6em\">1</text>\n",
       "    <text x=\"114.95\" y=\"81.72\" text-anchor=\"middle\" dy=\"0.6em\">2</text>\n",
       "    <text x=\"134.42\" y=\"81.72\" text-anchor=\"middle\" dy=\"0.6em\">3</text>\n",
       "  </g>\n",
       "<g clip-path=\"url(#img-cc9f7683-4)\">\n",
       "  <g id=\"img-cc9f7683-5\">\n",
       "    <g pointer-events=\"visible\" opacity=\"1\" fill=\"#000000\" fill-opacity=\"0.000\" stroke=\"#000000\" stroke-opacity=\"0.000\" class=\"guide background\" id=\"img-cc9f7683-6\">\n",
       "      <rect x=\"15.59\" y=\"5\" width=\"120.83\" height=\"75.72\"/>\n",
       "    </g>\n",
       "    <g class=\"guide ygridlines xfixed\" stroke-dasharray=\"0.5,0.5\" stroke-width=\"0.2\" stroke=\"#D0D0E0\" id=\"img-cc9f7683-7\">\n",
       "      <path fill=\"none\" d=\"M15.59,78.71 L 136.42 78.71\"/>\n",
       "      <path fill=\"none\" d=\"M15.59,66.76 L 136.42 66.76\"/>\n",
       "      <path fill=\"none\" d=\"M15.59,54.81 L 136.42 54.81\"/>\n",
       "      <path fill=\"none\" d=\"M15.59,42.86 L 136.42 42.86\"/>\n",
       "      <path fill=\"none\" d=\"M15.59,30.9 L 136.42 30.9\"/>\n",
       "      <path fill=\"none\" d=\"M15.59,18.95 L 136.42 18.95\"/>\n",
       "      <path fill=\"none\" d=\"M15.59,7 L 136.42 7\"/>\n",
       "    </g>\n",
       "    <g class=\"guide xgridlines yfixed\" stroke-dasharray=\"0.5,0.5\" stroke-width=\"0.2\" stroke=\"#D0D0E0\" id=\"img-cc9f7683-8\">\n",
       "      <path fill=\"none\" d=\"M17.59,5 L 17.59 80.72\"/>\n",
       "      <path fill=\"none\" d=\"M37.06,5 L 37.06 80.72\"/>\n",
       "      <path fill=\"none\" d=\"M56.54,5 L 56.54 80.72\"/>\n",
       "      <path fill=\"none\" d=\"M76.01,5 L 76.01 80.72\"/>\n",
       "      <path fill=\"none\" d=\"M95.48,5 L 95.48 80.72\"/>\n",
       "      <path fill=\"none\" d=\"M114.95,5 L 114.95 80.72\"/>\n",
       "      <path fill=\"none\" d=\"M134.42,5 L 134.42 80.72\"/>\n",
       "    </g>\n",
       "    <g class=\"plotpanel\" id=\"img-cc9f7683-9\">\n",
       "      <g class=\"geometry\" id=\"img-cc9f7683-10\">\n",
       "        <g class=\"color_RGBA{Float32}(0.0f0,0.74736935f0,1.0f0,1.0f0)\" stroke-width=\"0.3\" id=\"img-cc9f7683-11\">\n",
       "          <g stroke=\"#FFFFFF\" fill=\"#00BFFF\" id=\"img-cc9f7683-12\">\n",
       "            <use xlink:href=\"#img-cc9f7683-13\" x=\"105.21\" y=\"20.08\"/>\n",
       "          </g>\n",
       "          <g stroke=\"#FFFFFF\" fill=\"#00BFFF\" id=\"img-cc9f7683-14\">\n",
       "            <use xlink:href=\"#img-cc9f7683-15\" x=\"42.71\" y=\"35.15\"/>\n",
       "          </g>\n",
       "          <g stroke=\"#FFFFFF\" fill=\"#00BFFF\" id=\"img-cc9f7683-16\">\n",
       "            <use xlink:href=\"#img-cc9f7683-17\" x=\"60.15\" y=\"58.12\"/>\n",
       "          </g>\n",
       "          <g stroke=\"#FFFFFF\" fill=\"#00BFFF\" id=\"img-cc9f7683-18\">\n",
       "            <use xlink:href=\"#img-cc9f7683-19\" x=\"79.05\" y=\"47.31\"/>\n",
       "          </g>\n",
       "          <g stroke=\"#FFFFFF\" fill=\"#00BFFF\" id=\"img-cc9f7683-20\">\n",
       "            <use xlink:href=\"#img-cc9f7683-21\" x=\"72.79\" y=\"60.81\"/>\n",
       "          </g>\n",
       "          <g stroke=\"#FFFFFF\" fill=\"#00BFFF\" id=\"img-cc9f7683-22\">\n",
       "            <use xlink:href=\"#img-cc9f7683-23\" x=\"100.54\" y=\"35.68\"/>\n",
       "          </g>\n",
       "          <g stroke=\"#FFFFFF\" fill=\"#00BFFF\" id=\"img-cc9f7683-24\">\n",
       "            <use xlink:href=\"#img-cc9f7683-25\" x=\"105.67\" y=\"34.79\"/>\n",
       "          </g>\n",
       "          <g stroke=\"#FFFFFF\" fill=\"#00BFFF\" id=\"img-cc9f7683-26\">\n",
       "            <use xlink:href=\"#img-cc9f7683-27\" x=\"80.1\" y=\"38.51\"/>\n",
       "          </g>\n",
       "          <g stroke=\"#FFFFFF\" fill=\"#00BFFF\" id=\"img-cc9f7683-28\">\n",
       "            <use xlink:href=\"#img-cc9f7683-29\" x=\"84.96\" y=\"48.78\"/>\n",
       "          </g>\n",
       "          <g stroke=\"#FFFFFF\" fill=\"#00BFFF\" id=\"img-cc9f7683-30\">\n",
       "            <use xlink:href=\"#img-cc9f7683-31\" x=\"81.05\" y=\"30.92\"/>\n",
       "          </g>\n",
       "          <g stroke=\"#FFFFFF\" fill=\"#00BFFF\" id=\"img-cc9f7683-32\">\n",
       "            <use xlink:href=\"#img-cc9f7683-33\" x=\"82.24\" y=\"52.27\"/>\n",
       "          </g>\n",
       "          <g stroke=\"#FFFFFF\" fill=\"#00BFFF\" id=\"img-cc9f7683-34\">\n",
       "            <use xlink:href=\"#img-cc9f7683-35\" x=\"83\" y=\"41.03\"/>\n",
       "          </g>\n",
       "          <g stroke=\"#FFFFFF\" fill=\"#00BFFF\" id=\"img-cc9f7683-36\">\n",
       "            <use xlink:href=\"#img-cc9f7683-37\" x=\"80.24\" y=\"18.84\"/>\n",
       "          </g>\n",
       "          <g stroke=\"#FFFFFF\" fill=\"#00BFFF\" id=\"img-cc9f7683-38\">\n",
       "            <use xlink:href=\"#img-cc9f7683-39\" x=\"66.87\" y=\"34.5\"/>\n",
       "          </g>\n",
       "          <g stroke=\"#FFFFFF\" fill=\"#00BFFF\" id=\"img-cc9f7683-40\">\n",
       "            <use xlink:href=\"#img-cc9f7683-41\" x=\"72.66\" y=\"32.44\"/>\n",
       "          </g>\n",
       "          <g stroke=\"#FFFFFF\" fill=\"#00BFFF\" id=\"img-cc9f7683-42\">\n",
       "            <use xlink:href=\"#img-cc9f7683-43\" x=\"91.53\" y=\"36.8\"/>\n",
       "          </g>\n",
       "          <g stroke=\"#FFFFFF\" fill=\"#00BFFF\" id=\"img-cc9f7683-44\">\n",
       "            <use xlink:href=\"#img-cc9f7683-45\" x=\"105.2\" y=\"31.07\"/>\n",
       "          </g>\n",
       "          <g stroke=\"#FFFFFF\" fill=\"#00BFFF\" id=\"img-cc9f7683-46\">\n",
       "            <use xlink:href=\"#img-cc9f7683-47\" x=\"70.81\" y=\"39.11\"/>\n",
       "          </g>\n",
       "          <g stroke=\"#FFFFFF\" fill=\"#00BFFF\" id=\"img-cc9f7683-48\">\n",
       "            <use xlink:href=\"#img-cc9f7683-49\" x=\"66.17\" y=\"35.37\"/>\n",
       "          </g>\n",
       "          <g stroke=\"#FFFFFF\" fill=\"#00BFFF\" id=\"img-cc9f7683-50\">\n",
       "            <use xlink:href=\"#img-cc9f7683-51\" x=\"98.36\" y=\"41.46\"/>\n",
       "          </g>\n",
       "          <g stroke=\"#FFFFFF\" fill=\"#00BFFF\" id=\"img-cc9f7683-52\">\n",
       "            <use xlink:href=\"#img-cc9f7683-53\" x=\"58.3\" y=\"59.55\"/>\n",
       "          </g>\n",
       "          <g stroke=\"#FFFFFF\" fill=\"#00BFFF\" id=\"img-cc9f7683-54\">\n",
       "            <use xlink:href=\"#img-cc9f7683-55\" x=\"118.05\" y=\"27.59\"/>\n",
       "          </g>\n",
       "          <g stroke=\"#FFFFFF\" fill=\"#00BFFF\" id=\"img-cc9f7683-56\">\n",
       "            <use xlink:href=\"#img-cc9f7683-57\" x=\"105\" y=\"35.62\"/>\n",
       "          </g>\n",
       "          <g stroke=\"#FFFFFF\" fill=\"#00BFFF\" id=\"img-cc9f7683-58\">\n",
       "            <use xlink:href=\"#img-cc9f7683-59\" x=\"99.88\" y=\"37.14\"/>\n",
       "          </g>\n",
       "          <g stroke=\"#FFFFFF\" fill=\"#00BFFF\" id=\"img-cc9f7683-60\">\n",
       "            <use xlink:href=\"#img-cc9f7683-61\" x=\"67.46\" y=\"34.12\"/>\n",
       "          </g>\n",
       "          <g stroke=\"#FFFFFF\" fill=\"#00BFFF\" id=\"img-cc9f7683-62\">\n",
       "            <use xlink:href=\"#img-cc9f7683-63\" x=\"44.98\" y=\"26.59\"/>\n",
       "          </g>\n",
       "          <g stroke=\"#FFFFFF\" fill=\"#00BFFF\" id=\"img-cc9f7683-64\">\n",
       "            <use xlink:href=\"#img-cc9f7683-65\" x=\"50.17\" y=\"45.64\"/>\n",
       "          </g>\n",
       "          <g stroke=\"#FFFFFF\" fill=\"#00BFFF\" id=\"img-cc9f7683-66\">\n",
       "            <use xlink:href=\"#img-cc9f7683-67\" x=\"98.88\" y=\"53.92\"/>\n",
       "          </g>\n",
       "          <g stroke=\"#FFFFFF\" fill=\"#00BFFF\" id=\"img-cc9f7683-68\">\n",
       "            <use xlink:href=\"#img-cc9f7683-69\" x=\"95.52\" y=\"38.61\"/>\n",
       "          </g>\n",
       "          <g stroke=\"#FFFFFF\" fill=\"#00BFFF\" id=\"img-cc9f7683-70\">\n",
       "            <use xlink:href=\"#img-cc9f7683-71\" x=\"67.96\" y=\"41.05\"/>\n",
       "          </g>\n",
       "          <g stroke=\"#FFFFFF\" fill=\"#00BFFF\" id=\"img-cc9f7683-72\">\n",
       "            <use xlink:href=\"#img-cc9f7683-73\" x=\"66.42\" y=\"27.92\"/>\n",
       "          </g>\n",
       "          <g stroke=\"#FFFFFF\" fill=\"#00BFFF\" id=\"img-cc9f7683-74\">\n",
       "            <use xlink:href=\"#img-cc9f7683-75\" x=\"47.82\" y=\"43.7\"/>\n",
       "          </g>\n",
       "          <g stroke=\"#FFFFFF\" fill=\"#00BFFF\" id=\"img-cc9f7683-76\">\n",
       "            <use xlink:href=\"#img-cc9f7683-77\" x=\"82.25\" y=\"41.82\"/>\n",
       "          </g>\n",
       "          <g stroke=\"#FFFFFF\" fill=\"#00BFFF\" id=\"img-cc9f7683-78\">\n",
       "            <use xlink:href=\"#img-cc9f7683-79\" x=\"42.52\" y=\"55.93\"/>\n",
       "          </g>\n",
       "          <g stroke=\"#FFFFFF\" fill=\"#00BFFF\" id=\"img-cc9f7683-80\">\n",
       "            <use xlink:href=\"#img-cc9f7683-81\" x=\"64.01\" y=\"35.17\"/>\n",
       "          </g>\n",
       "          <g stroke=\"#FFFFFF\" fill=\"#00BFFF\" id=\"img-cc9f7683-82\">\n",
       "            <use xlink:href=\"#img-cc9f7683-83\" x=\"78.62\" y=\"41.53\"/>\n",
       "          </g>\n",
       "          <g stroke=\"#FFFFFF\" fill=\"#00BFFF\" id=\"img-cc9f7683-84\">\n",
       "            <use xlink:href=\"#img-cc9f7683-85\" x=\"49.04\" y=\"46.09\"/>\n",
       "          </g>\n",
       "          <g stroke=\"#FFFFFF\" fill=\"#00BFFF\" id=\"img-cc9f7683-86\">\n",
       "            <use xlink:href=\"#img-cc9f7683-87\" x=\"57.25\" y=\"42.13\"/>\n",
       "          </g>\n",
       "          <g stroke=\"#FFFFFF\" fill=\"#00BFFF\" id=\"img-cc9f7683-88\">\n",
       "            <use xlink:href=\"#img-cc9f7683-89\" x=\"65.59\" y=\"44.71\"/>\n",
       "          </g>\n",
       "          <g stroke=\"#FFFFFF\" fill=\"#00BFFF\" id=\"img-cc9f7683-90\">\n",
       "            <use xlink:href=\"#img-cc9f7683-91\" x=\"47.37\" y=\"53.79\"/>\n",
       "          </g>\n",
       "          <g stroke=\"#FFFFFF\" fill=\"#00BFFF\" id=\"img-cc9f7683-92\">\n",
       "            <use xlink:href=\"#img-cc9f7683-93\" x=\"112.63\" y=\"35.94\"/>\n",
       "          </g>\n",
       "          <g stroke=\"#FFFFFF\" fill=\"#00BFFF\" id=\"img-cc9f7683-94\">\n",
       "            <use xlink:href=\"#img-cc9f7683-95\" x=\"53.62\" y=\"16.71\"/>\n",
       "          </g>\n",
       "          <g stroke=\"#FFFFFF\" fill=\"#00BFFF\" id=\"img-cc9f7683-96\">\n",
       "            <use xlink:href=\"#img-cc9f7683-97\" x=\"64.93\" y=\"48.4\"/>\n",
       "          </g>\n",
       "          <g stroke=\"#FFFFFF\" fill=\"#00BFFF\" id=\"img-cc9f7683-98\">\n",
       "            <use xlink:href=\"#img-cc9f7683-99\" x=\"36.92\" y=\"43.96\"/>\n",
       "          </g>\n",
       "          <g stroke=\"#FFFFFF\" fill=\"#00BFFF\" id=\"img-cc9f7683-100\">\n",
       "            <use xlink:href=\"#img-cc9f7683-101\" x=\"68.98\" y=\"37.66\"/>\n",
       "          </g>\n",
       "          <g stroke=\"#FFFFFF\" fill=\"#00BFFF\" id=\"img-cc9f7683-102\">\n",
       "            <use xlink:href=\"#img-cc9f7683-103\" x=\"75.42\" y=\"60\"/>\n",
       "          </g>\n",
       "          <g stroke=\"#FFFFFF\" fill=\"#00BFFF\" id=\"img-cc9f7683-104\">\n",
       "            <use xlink:href=\"#img-cc9f7683-105\" x=\"90.79\" y=\"51.28\"/>\n",
       "          </g>\n",
       "          <g stroke=\"#FFFFFF\" fill=\"#00BFFF\" id=\"img-cc9f7683-106\">\n",
       "            <use xlink:href=\"#img-cc9f7683-107\" x=\"74.92\" y=\"30.88\"/>\n",
       "          </g>\n",
       "          <g stroke=\"#FFFFFF\" fill=\"#00BFFF\" id=\"img-cc9f7683-108\">\n",
       "            <use xlink:href=\"#img-cc9f7683-109\" x=\"100.16\" y=\"43.82\"/>\n",
       "          </g>\n",
       "          <g stroke=\"#FFFFFF\" fill=\"#00BFFF\" id=\"img-cc9f7683-110\">\n",
       "            <use xlink:href=\"#img-cc9f7683-111\" x=\"49.75\" y=\"47.62\"/>\n",
       "          </g>\n",
       "          <g stroke=\"#FFFFFF\" fill=\"#00BFFF\" id=\"img-cc9f7683-112\">\n",
       "            <use xlink:href=\"#img-cc9f7683-113\" x=\"98\" y=\"35.22\"/>\n",
       "          </g>\n",
       "          <g stroke=\"#FFFFFF\" fill=\"#00BFFF\" id=\"img-cc9f7683-114\">\n",
       "            <use xlink:href=\"#img-cc9f7683-115\" x=\"59.46\" y=\"37.18\"/>\n",
       "          </g>\n",
       "          <g stroke=\"#FFFFFF\" fill=\"#00BFFF\" id=\"img-cc9f7683-116\">\n",
       "            <use xlink:href=\"#img-cc9f7683-117\" x=\"56.36\" y=\"47.59\"/>\n",
       "          </g>\n",
       "          <g stroke=\"#FFFFFF\" fill=\"#00BFFF\" id=\"img-cc9f7683-118\">\n",
       "            <use xlink:href=\"#img-cc9f7683-119\" x=\"80.03\" y=\"52.05\"/>\n",
       "          </g>\n",
       "          <g stroke=\"#FFFFFF\" fill=\"#00BFFF\" id=\"img-cc9f7683-120\">\n",
       "            <use xlink:href=\"#img-cc9f7683-121\" x=\"101.32\" y=\"54.45\"/>\n",
       "          </g>\n",
       "          <g stroke=\"#FFFFFF\" fill=\"#00BFFF\" id=\"img-cc9f7683-122\">\n",
       "            <use xlink:href=\"#img-cc9f7683-123\" x=\"109.79\" y=\"53.69\"/>\n",
       "          </g>\n",
       "          <g stroke=\"#FFFFFF\" fill=\"#00BFFF\" id=\"img-cc9f7683-124\">\n",
       "            <use xlink:href=\"#img-cc9f7683-125\" x=\"82.66\" y=\"21.37\"/>\n",
       "          </g>\n",
       "          <g stroke=\"#FFFFFF\" fill=\"#00BFFF\" id=\"img-cc9f7683-126\">\n",
       "            <use xlink:href=\"#img-cc9f7683-127\" x=\"77.38\" y=\"60.28\"/>\n",
       "          </g>\n",
       "          <g stroke=\"#FFFFFF\" fill=\"#00BFFF\" id=\"img-cc9f7683-128\">\n",
       "            <use xlink:href=\"#img-cc9f7683-129\" x=\"69.48\" y=\"45.27\"/>\n",
       "          </g>\n",
       "          <g stroke=\"#FFFFFF\" fill=\"#00BFFF\" id=\"img-cc9f7683-130\">\n",
       "            <use xlink:href=\"#img-cc9f7683-131\" x=\"50.91\" y=\"43.74\"/>\n",
       "          </g>\n",
       "          <g stroke=\"#FFFFFF\" fill=\"#00BFFF\" id=\"img-cc9f7683-132\">\n",
       "            <use xlink:href=\"#img-cc9f7683-133\" x=\"40.9\" y=\"19.29\"/>\n",
       "          </g>\n",
       "          <g stroke=\"#FFFFFF\" fill=\"#00BFFF\" id=\"img-cc9f7683-134\">\n",
       "            <use xlink:href=\"#img-cc9f7683-135\" x=\"63.07\" y=\"28.69\"/>\n",
       "          </g>\n",
       "          <g stroke=\"#FFFFFF\" fill=\"#00BFFF\" id=\"img-cc9f7683-136\">\n",
       "            <use xlink:href=\"#img-cc9f7683-137\" x=\"63.44\" y=\"48.22\"/>\n",
       "          </g>\n",
       "          <g stroke=\"#FFFFFF\" fill=\"#00BFFF\" id=\"img-cc9f7683-138\">\n",
       "            <use xlink:href=\"#img-cc9f7683-139\" x=\"83.38\" y=\"34.99\"/>\n",
       "          </g>\n",
       "          <g stroke=\"#FFFFFF\" fill=\"#00BFFF\" id=\"img-cc9f7683-140\">\n",
       "            <use xlink:href=\"#img-cc9f7683-141\" x=\"90.87\" y=\"54.15\"/>\n",
       "          </g>\n",
       "          <g stroke=\"#FFFFFF\" fill=\"#00BFFF\" id=\"img-cc9f7683-142\">\n",
       "            <use xlink:href=\"#img-cc9f7683-143\" x=\"87.06\" y=\"62.3\"/>\n",
       "          </g>\n",
       "          <g stroke=\"#FFFFFF\" fill=\"#00BFFF\" id=\"img-cc9f7683-144\">\n",
       "            <use xlink:href=\"#img-cc9f7683-145\" x=\"99.81\" y=\"33.82\"/>\n",
       "          </g>\n",
       "          <g stroke=\"#FFFFFF\" fill=\"#00BFFF\" id=\"img-cc9f7683-146\">\n",
       "            <use xlink:href=\"#img-cc9f7683-147\" x=\"74.71\" y=\"33.59\"/>\n",
       "          </g>\n",
       "          <g stroke=\"#FFFFFF\" fill=\"#00BFFF\" id=\"img-cc9f7683-148\">\n",
       "            <use xlink:href=\"#img-cc9f7683-149\" x=\"34.82\" y=\"48.66\"/>\n",
       "          </g>\n",
       "          <g stroke=\"#FFFFFF\" fill=\"#00BFFF\" id=\"img-cc9f7683-150\">\n",
       "            <use xlink:href=\"#img-cc9f7683-151\" x=\"72.79\" y=\"29.06\"/>\n",
       "          </g>\n",
       "          <g stroke=\"#FFFFFF\" fill=\"#00BFFF\" id=\"img-cc9f7683-152\">\n",
       "            <use xlink:href=\"#img-cc9f7683-153\" x=\"74.97\" y=\"59.97\"/>\n",
       "          </g>\n",
       "          <g stroke=\"#FFFFFF\" fill=\"#00BFFF\" id=\"img-cc9f7683-154\">\n",
       "            <use xlink:href=\"#img-cc9f7683-155\" x=\"52.25\" y=\"47.85\"/>\n",
       "          </g>\n",
       "          <g stroke=\"#FFFFFF\" fill=\"#00BFFF\" id=\"img-cc9f7683-156\">\n",
       "            <use xlink:href=\"#img-cc9f7683-157\" x=\"61.49\" y=\"75.71\"/>\n",
       "          </g>\n",
       "          <g stroke=\"#FFFFFF\" fill=\"#00BFFF\" id=\"img-cc9f7683-158\">\n",
       "            <use xlink:href=\"#img-cc9f7683-159\" x=\"74.58\" y=\"62.68\"/>\n",
       "          </g>\n",
       "          <g stroke=\"#FFFFFF\" fill=\"#00BFFF\" id=\"img-cc9f7683-160\">\n",
       "            <use xlink:href=\"#img-cc9f7683-161\" x=\"102.04\" y=\"41.07\"/>\n",
       "          </g>\n",
       "          <g stroke=\"#FFFFFF\" fill=\"#00BFFF\" id=\"img-cc9f7683-162\">\n",
       "            <use xlink:href=\"#img-cc9f7683-163\" x=\"74.77\" y=\"74.34\"/>\n",
       "          </g>\n",
       "          <g stroke=\"#FFFFFF\" fill=\"#00BFFF\" id=\"img-cc9f7683-164\">\n",
       "            <use xlink:href=\"#img-cc9f7683-165\" x=\"86.73\" y=\"36.37\"/>\n",
       "          </g>\n",
       "          <g stroke=\"#FFFFFF\" fill=\"#00BFFF\" id=\"img-cc9f7683-166\">\n",
       "            <use xlink:href=\"#img-cc9f7683-167\" x=\"89.05\" y=\"59.12\"/>\n",
       "          </g>\n",
       "          <g stroke=\"#FFFFFF\" fill=\"#00BFFF\" id=\"img-cc9f7683-168\">\n",
       "            <use xlink:href=\"#img-cc9f7683-169\" x=\"91.51\" y=\"58.77\"/>\n",
       "          </g>\n",
       "          <g stroke=\"#FFFFFF\" fill=\"#00BFFF\" id=\"img-cc9f7683-170\">\n",
       "            <use xlink:href=\"#img-cc9f7683-171\" x=\"42.33\" y=\"57.75\"/>\n",
       "          </g>\n",
       "          <g stroke=\"#FFFFFF\" fill=\"#00BFFF\" id=\"img-cc9f7683-172\">\n",
       "            <use xlink:href=\"#img-cc9f7683-173\" x=\"61.25\" y=\"36.77\"/>\n",
       "          </g>\n",
       "          <g stroke=\"#FFFFFF\" fill=\"#00BFFF\" id=\"img-cc9f7683-174\">\n",
       "            <use xlink:href=\"#img-cc9f7683-175\" x=\"78.36\" y=\"60.31\"/>\n",
       "          </g>\n",
       "          <g stroke=\"#FFFFFF\" fill=\"#00BFFF\" id=\"img-cc9f7683-176\">\n",
       "            <use xlink:href=\"#img-cc9f7683-177\" x=\"41.47\" y=\"39.77\"/>\n",
       "          </g>\n",
       "          <g stroke=\"#FFFFFF\" fill=\"#00BFFF\" id=\"img-cc9f7683-178\">\n",
       "            <use xlink:href=\"#img-cc9f7683-179\" x=\"62.5\" y=\"53.12\"/>\n",
       "          </g>\n",
       "          <g stroke=\"#FFFFFF\" fill=\"#00BFFF\" id=\"img-cc9f7683-180\">\n",
       "            <use xlink:href=\"#img-cc9f7683-181\" x=\"75.02\" y=\"57.6\"/>\n",
       "          </g>\n",
       "          <g stroke=\"#FFFFFF\" fill=\"#00BFFF\" id=\"img-cc9f7683-182\">\n",
       "            <use xlink:href=\"#img-cc9f7683-183\" x=\"83.96\" y=\"35.31\"/>\n",
       "          </g>\n",
       "          <g stroke=\"#FFFFFF\" fill=\"#00BFFF\" id=\"img-cc9f7683-184\">\n",
       "            <use xlink:href=\"#img-cc9f7683-185\" x=\"65.84\" y=\"27.47\"/>\n",
       "          </g>\n",
       "          <g stroke=\"#FFFFFF\" fill=\"#00BFFF\" id=\"img-cc9f7683-186\">\n",
       "            <use xlink:href=\"#img-cc9f7683-187\" x=\"84.94\" y=\"41.28\"/>\n",
       "          </g>\n",
       "          <g stroke=\"#FFFFFF\" fill=\"#00BFFF\" id=\"img-cc9f7683-188\">\n",
       "            <use xlink:href=\"#img-cc9f7683-189\" x=\"94.76\" y=\"47\"/>\n",
       "          </g>\n",
       "          <g stroke=\"#FFFFFF\" fill=\"#00BFFF\" id=\"img-cc9f7683-190\">\n",
       "            <use xlink:href=\"#img-cc9f7683-191\" x=\"87.37\" y=\"38.08\"/>\n",
       "          </g>\n",
       "          <g stroke=\"#FFFFFF\" fill=\"#00BFFF\" id=\"img-cc9f7683-192\">\n",
       "            <use xlink:href=\"#img-cc9f7683-193\" x=\"84.41\" y=\"50.39\"/>\n",
       "          </g>\n",
       "          <g stroke=\"#FFFFFF\" fill=\"#00BFFF\" id=\"img-cc9f7683-194\">\n",
       "            <use xlink:href=\"#img-cc9f7683-195\" x=\"86.33\" y=\"43.08\"/>\n",
       "          </g>\n",
       "          <g stroke=\"#FFFFFF\" fill=\"#00BFFF\" id=\"img-cc9f7683-196\">\n",
       "            <use xlink:href=\"#img-cc9f7683-197\" x=\"31.86\" y=\"61.08\"/>\n",
       "          </g>\n",
       "          <g stroke=\"#FFFFFF\" fill=\"#00BFFF\" id=\"img-cc9f7683-198\">\n",
       "            <use xlink:href=\"#img-cc9f7683-199\" x=\"120.7\" y=\"32.51\"/>\n",
       "          </g>\n",
       "          <g stroke=\"#FFFFFF\" fill=\"#00BFFF\" id=\"img-cc9f7683-200\">\n",
       "            <use xlink:href=\"#img-cc9f7683-201\" x=\"82.06\" y=\"47.62\"/>\n",
       "          </g>\n",
       "          <g stroke=\"#FFFFFF\" fill=\"#00BFFF\" id=\"img-cc9f7683-202\">\n",
       "            <use xlink:href=\"#img-cc9f7683-203\" x=\"59.67\" y=\"25.82\"/>\n",
       "          </g>\n",
       "          <g stroke=\"#FFFFFF\" fill=\"#00BFFF\" id=\"img-cc9f7683-204\">\n",
       "            <use xlink:href=\"#img-cc9f7683-205\" x=\"75.8\" y=\"66.37\"/>\n",
       "          </g>\n",
       "          <g stroke=\"#FFFFFF\" fill=\"#00BFFF\" id=\"img-cc9f7683-206\">\n",
       "            <use xlink:href=\"#img-cc9f7683-207\" x=\"64.37\" y=\"61.34\"/>\n",
       "          </g>\n",
       "          <g stroke=\"#FFFFFF\" fill=\"#00BFFF\" id=\"img-cc9f7683-208\">\n",
       "            <use xlink:href=\"#img-cc9f7683-209\" x=\"83.45\" y=\"48.24\"/>\n",
       "          </g>\n",
       "          <g stroke=\"#FFFFFF\" fill=\"#00BFFF\" id=\"img-cc9f7683-210\">\n",
       "            <use xlink:href=\"#img-cc9f7683-211\" x=\"81.8\" y=\"44.4\"/>\n",
       "          </g>\n",
       "        </g>\n",
       "      </g>\n",
       "    </g>\n",
       "  </g>\n",
       "</g>\n",
       "  <g class=\"guide ylabels\" font-size=\"2.82\" font-family=\"'PT Sans Caption','Helvetica Neue','Helvetica',sans-serif\" fill=\"#6C606B\" id=\"img-cc9f7683-212\">\n",
       "    <text x=\"14.59\" y=\"78.71\" text-anchor=\"end\" dy=\"0.35em\">-3</text>\n",
       "    <text x=\"14.59\" y=\"66.76\" text-anchor=\"end\" dy=\"0.35em\">-2</text>\n",
       "    <text x=\"14.59\" y=\"54.81\" text-anchor=\"end\" dy=\"0.35em\">-1</text>\n",
       "    <text x=\"14.59\" y=\"42.86\" text-anchor=\"end\" dy=\"0.35em\">0</text>\n",
       "    <text x=\"14.59\" y=\"30.9\" text-anchor=\"end\" dy=\"0.35em\">1</text>\n",
       "    <text x=\"14.59\" y=\"18.95\" text-anchor=\"end\" dy=\"0.35em\">2</text>\n",
       "    <text x=\"14.59\" y=\"7\" text-anchor=\"end\" dy=\"0.35em\">3</text>\n",
       "  </g>\n",
       "  <g font-size=\"3.88\" font-family=\"'PT Sans','Helvetica Neue','Helvetica',sans-serif\" fill=\"#564A55\" stroke=\"#000000\" stroke-opacity=\"0.000\" id=\"img-cc9f7683-213\">\n",
       "    <text x=\"8.81\" y=\"42.86\" text-anchor=\"end\" dy=\"0.35em\">y</text>\n",
       "  </g>\n",
       "</g>\n",
       "<defs>\n",
       "  <clipPath id=\"img-cc9f7683-4\">\n",
       "  <path d=\"M15.59,5 L 136.42 5 136.42 80.72 15.59 80.72\" />\n",
       "</clipPath>\n",
       "  <g id=\"img-cc9f7683-13\">\n",
       "    <circle cx=\"0\" cy=\"0\" r=\"0.9\"/>\n",
       "  </g>\n",
       "  <g id=\"img-cc9f7683-15\">\n",
       "    <circle cx=\"0\" cy=\"0\" r=\"0.9\"/>\n",
       "  </g>\n",
       "  <g id=\"img-cc9f7683-17\">\n",
       "    <circle cx=\"0\" cy=\"0\" r=\"0.9\"/>\n",
       "  </g>\n",
       "  <g id=\"img-cc9f7683-19\">\n",
       "    <circle cx=\"0\" cy=\"0\" r=\"0.9\"/>\n",
       "  </g>\n",
       "  <g id=\"img-cc9f7683-21\">\n",
       "    <circle cx=\"0\" cy=\"0\" r=\"0.9\"/>\n",
       "  </g>\n",
       "  <g id=\"img-cc9f7683-23\">\n",
       "    <circle cx=\"0\" cy=\"0\" r=\"0.9\"/>\n",
       "  </g>\n",
       "  <g id=\"img-cc9f7683-25\">\n",
       "    <circle cx=\"0\" cy=\"0\" r=\"0.9\"/>\n",
       "  </g>\n",
       "  <g id=\"img-cc9f7683-27\">\n",
       "    <circle cx=\"0\" cy=\"0\" r=\"0.9\"/>\n",
       "  </g>\n",
       "  <g id=\"img-cc9f7683-29\">\n",
       "    <circle cx=\"0\" cy=\"0\" r=\"0.9\"/>\n",
       "  </g>\n",
       "  <g id=\"img-cc9f7683-31\">\n",
       "    <circle cx=\"0\" cy=\"0\" r=\"0.9\"/>\n",
       "  </g>\n",
       "  <g id=\"img-cc9f7683-33\">\n",
       "    <circle cx=\"0\" cy=\"0\" r=\"0.9\"/>\n",
       "  </g>\n",
       "  <g id=\"img-cc9f7683-35\">\n",
       "    <circle cx=\"0\" cy=\"0\" r=\"0.9\"/>\n",
       "  </g>\n",
       "  <g id=\"img-cc9f7683-37\">\n",
       "    <circle cx=\"0\" cy=\"0\" r=\"0.9\"/>\n",
       "  </g>\n",
       "  <g id=\"img-cc9f7683-39\">\n",
       "    <circle cx=\"0\" cy=\"0\" r=\"0.9\"/>\n",
       "  </g>\n",
       "  <g id=\"img-cc9f7683-41\">\n",
       "    <circle cx=\"0\" cy=\"0\" r=\"0.9\"/>\n",
       "  </g>\n",
       "  <g id=\"img-cc9f7683-43\">\n",
       "    <circle cx=\"0\" cy=\"0\" r=\"0.9\"/>\n",
       "  </g>\n",
       "  <g id=\"img-cc9f7683-45\">\n",
       "    <circle cx=\"0\" cy=\"0\" r=\"0.9\"/>\n",
       "  </g>\n",
       "  <g id=\"img-cc9f7683-47\">\n",
       "    <circle cx=\"0\" cy=\"0\" r=\"0.9\"/>\n",
       "  </g>\n",
       "  <g id=\"img-cc9f7683-49\">\n",
       "    <circle cx=\"0\" cy=\"0\" r=\"0.9\"/>\n",
       "  </g>\n",
       "  <g id=\"img-cc9f7683-51\">\n",
       "    <circle cx=\"0\" cy=\"0\" r=\"0.9\"/>\n",
       "  </g>\n",
       "  <g id=\"img-cc9f7683-53\">\n",
       "    <circle cx=\"0\" cy=\"0\" r=\"0.9\"/>\n",
       "  </g>\n",
       "  <g id=\"img-cc9f7683-55\">\n",
       "    <circle cx=\"0\" cy=\"0\" r=\"0.9\"/>\n",
       "  </g>\n",
       "  <g id=\"img-cc9f7683-57\">\n",
       "    <circle cx=\"0\" cy=\"0\" r=\"0.9\"/>\n",
       "  </g>\n",
       "  <g id=\"img-cc9f7683-59\">\n",
       "    <circle cx=\"0\" cy=\"0\" r=\"0.9\"/>\n",
       "  </g>\n",
       "  <g id=\"img-cc9f7683-61\">\n",
       "    <circle cx=\"0\" cy=\"0\" r=\"0.9\"/>\n",
       "  </g>\n",
       "  <g id=\"img-cc9f7683-63\">\n",
       "    <circle cx=\"0\" cy=\"0\" r=\"0.9\"/>\n",
       "  </g>\n",
       "  <g id=\"img-cc9f7683-65\">\n",
       "    <circle cx=\"0\" cy=\"0\" r=\"0.9\"/>\n",
       "  </g>\n",
       "  <g id=\"img-cc9f7683-67\">\n",
       "    <circle cx=\"0\" cy=\"0\" r=\"0.9\"/>\n",
       "  </g>\n",
       "  <g id=\"img-cc9f7683-69\">\n",
       "    <circle cx=\"0\" cy=\"0\" r=\"0.9\"/>\n",
       "  </g>\n",
       "  <g id=\"img-cc9f7683-71\">\n",
       "    <circle cx=\"0\" cy=\"0\" r=\"0.9\"/>\n",
       "  </g>\n",
       "  <g id=\"img-cc9f7683-73\">\n",
       "    <circle cx=\"0\" cy=\"0\" r=\"0.9\"/>\n",
       "  </g>\n",
       "  <g id=\"img-cc9f7683-75\">\n",
       "    <circle cx=\"0\" cy=\"0\" r=\"0.9\"/>\n",
       "  </g>\n",
       "  <g id=\"img-cc9f7683-77\">\n",
       "    <circle cx=\"0\" cy=\"0\" r=\"0.9\"/>\n",
       "  </g>\n",
       "  <g id=\"img-cc9f7683-79\">\n",
       "    <circle cx=\"0\" cy=\"0\" r=\"0.9\"/>\n",
       "  </g>\n",
       "  <g id=\"img-cc9f7683-81\">\n",
       "    <circle cx=\"0\" cy=\"0\" r=\"0.9\"/>\n",
       "  </g>\n",
       "  <g id=\"img-cc9f7683-83\">\n",
       "    <circle cx=\"0\" cy=\"0\" r=\"0.9\"/>\n",
       "  </g>\n",
       "  <g id=\"img-cc9f7683-85\">\n",
       "    <circle cx=\"0\" cy=\"0\" r=\"0.9\"/>\n",
       "  </g>\n",
       "  <g id=\"img-cc9f7683-87\">\n",
       "    <circle cx=\"0\" cy=\"0\" r=\"0.9\"/>\n",
       "  </g>\n",
       "  <g id=\"img-cc9f7683-89\">\n",
       "    <circle cx=\"0\" cy=\"0\" r=\"0.9\"/>\n",
       "  </g>\n",
       "  <g id=\"img-cc9f7683-91\">\n",
       "    <circle cx=\"0\" cy=\"0\" r=\"0.9\"/>\n",
       "  </g>\n",
       "  <g id=\"img-cc9f7683-93\">\n",
       "    <circle cx=\"0\" cy=\"0\" r=\"0.9\"/>\n",
       "  </g>\n",
       "  <g id=\"img-cc9f7683-95\">\n",
       "    <circle cx=\"0\" cy=\"0\" r=\"0.9\"/>\n",
       "  </g>\n",
       "  <g id=\"img-cc9f7683-97\">\n",
       "    <circle cx=\"0\" cy=\"0\" r=\"0.9\"/>\n",
       "  </g>\n",
       "  <g id=\"img-cc9f7683-99\">\n",
       "    <circle cx=\"0\" cy=\"0\" r=\"0.9\"/>\n",
       "  </g>\n",
       "  <g id=\"img-cc9f7683-101\">\n",
       "    <circle cx=\"0\" cy=\"0\" r=\"0.9\"/>\n",
       "  </g>\n",
       "  <g id=\"img-cc9f7683-103\">\n",
       "    <circle cx=\"0\" cy=\"0\" r=\"0.9\"/>\n",
       "  </g>\n",
       "  <g id=\"img-cc9f7683-105\">\n",
       "    <circle cx=\"0\" cy=\"0\" r=\"0.9\"/>\n",
       "  </g>\n",
       "  <g id=\"img-cc9f7683-107\">\n",
       "    <circle cx=\"0\" cy=\"0\" r=\"0.9\"/>\n",
       "  </g>\n",
       "  <g id=\"img-cc9f7683-109\">\n",
       "    <circle cx=\"0\" cy=\"0\" r=\"0.9\"/>\n",
       "  </g>\n",
       "  <g id=\"img-cc9f7683-111\">\n",
       "    <circle cx=\"0\" cy=\"0\" r=\"0.9\"/>\n",
       "  </g>\n",
       "  <g id=\"img-cc9f7683-113\">\n",
       "    <circle cx=\"0\" cy=\"0\" r=\"0.9\"/>\n",
       "  </g>\n",
       "  <g id=\"img-cc9f7683-115\">\n",
       "    <circle cx=\"0\" cy=\"0\" r=\"0.9\"/>\n",
       "  </g>\n",
       "  <g id=\"img-cc9f7683-117\">\n",
       "    <circle cx=\"0\" cy=\"0\" r=\"0.9\"/>\n",
       "  </g>\n",
       "  <g id=\"img-cc9f7683-119\">\n",
       "    <circle cx=\"0\" cy=\"0\" r=\"0.9\"/>\n",
       "  </g>\n",
       "  <g id=\"img-cc9f7683-121\">\n",
       "    <circle cx=\"0\" cy=\"0\" r=\"0.9\"/>\n",
       "  </g>\n",
       "  <g id=\"img-cc9f7683-123\">\n",
       "    <circle cx=\"0\" cy=\"0\" r=\"0.9\"/>\n",
       "  </g>\n",
       "  <g id=\"img-cc9f7683-125\">\n",
       "    <circle cx=\"0\" cy=\"0\" r=\"0.9\"/>\n",
       "  </g>\n",
       "  <g id=\"img-cc9f7683-127\">\n",
       "    <circle cx=\"0\" cy=\"0\" r=\"0.9\"/>\n",
       "  </g>\n",
       "  <g id=\"img-cc9f7683-129\">\n",
       "    <circle cx=\"0\" cy=\"0\" r=\"0.9\"/>\n",
       "  </g>\n",
       "  <g id=\"img-cc9f7683-131\">\n",
       "    <circle cx=\"0\" cy=\"0\" r=\"0.9\"/>\n",
       "  </g>\n",
       "  <g id=\"img-cc9f7683-133\">\n",
       "    <circle cx=\"0\" cy=\"0\" r=\"0.9\"/>\n",
       "  </g>\n",
       "  <g id=\"img-cc9f7683-135\">\n",
       "    <circle cx=\"0\" cy=\"0\" r=\"0.9\"/>\n",
       "  </g>\n",
       "  <g id=\"img-cc9f7683-137\">\n",
       "    <circle cx=\"0\" cy=\"0\" r=\"0.9\"/>\n",
       "  </g>\n",
       "  <g id=\"img-cc9f7683-139\">\n",
       "    <circle cx=\"0\" cy=\"0\" r=\"0.9\"/>\n",
       "  </g>\n",
       "  <g id=\"img-cc9f7683-141\">\n",
       "    <circle cx=\"0\" cy=\"0\" r=\"0.9\"/>\n",
       "  </g>\n",
       "  <g id=\"img-cc9f7683-143\">\n",
       "    <circle cx=\"0\" cy=\"0\" r=\"0.9\"/>\n",
       "  </g>\n",
       "  <g id=\"img-cc9f7683-145\">\n",
       "    <circle cx=\"0\" cy=\"0\" r=\"0.9\"/>\n",
       "  </g>\n",
       "  <g id=\"img-cc9f7683-147\">\n",
       "    <circle cx=\"0\" cy=\"0\" r=\"0.9\"/>\n",
       "  </g>\n",
       "  <g id=\"img-cc9f7683-149\">\n",
       "    <circle cx=\"0\" cy=\"0\" r=\"0.9\"/>\n",
       "  </g>\n",
       "  <g id=\"img-cc9f7683-151\">\n",
       "    <circle cx=\"0\" cy=\"0\" r=\"0.9\"/>\n",
       "  </g>\n",
       "  <g id=\"img-cc9f7683-153\">\n",
       "    <circle cx=\"0\" cy=\"0\" r=\"0.9\"/>\n",
       "  </g>\n",
       "  <g id=\"img-cc9f7683-155\">\n",
       "    <circle cx=\"0\" cy=\"0\" r=\"0.9\"/>\n",
       "  </g>\n",
       "  <g id=\"img-cc9f7683-157\">\n",
       "    <circle cx=\"0\" cy=\"0\" r=\"0.9\"/>\n",
       "  </g>\n",
       "  <g id=\"img-cc9f7683-159\">\n",
       "    <circle cx=\"0\" cy=\"0\" r=\"0.9\"/>\n",
       "  </g>\n",
       "  <g id=\"img-cc9f7683-161\">\n",
       "    <circle cx=\"0\" cy=\"0\" r=\"0.9\"/>\n",
       "  </g>\n",
       "  <g id=\"img-cc9f7683-163\">\n",
       "    <circle cx=\"0\" cy=\"0\" r=\"0.9\"/>\n",
       "  </g>\n",
       "  <g id=\"img-cc9f7683-165\">\n",
       "    <circle cx=\"0\" cy=\"0\" r=\"0.9\"/>\n",
       "  </g>\n",
       "  <g id=\"img-cc9f7683-167\">\n",
       "    <circle cx=\"0\" cy=\"0\" r=\"0.9\"/>\n",
       "  </g>\n",
       "  <g id=\"img-cc9f7683-169\">\n",
       "    <circle cx=\"0\" cy=\"0\" r=\"0.9\"/>\n",
       "  </g>\n",
       "  <g id=\"img-cc9f7683-171\">\n",
       "    <circle cx=\"0\" cy=\"0\" r=\"0.9\"/>\n",
       "  </g>\n",
       "  <g id=\"img-cc9f7683-173\">\n",
       "    <circle cx=\"0\" cy=\"0\" r=\"0.9\"/>\n",
       "  </g>\n",
       "  <g id=\"img-cc9f7683-175\">\n",
       "    <circle cx=\"0\" cy=\"0\" r=\"0.9\"/>\n",
       "  </g>\n",
       "  <g id=\"img-cc9f7683-177\">\n",
       "    <circle cx=\"0\" cy=\"0\" r=\"0.9\"/>\n",
       "  </g>\n",
       "  <g id=\"img-cc9f7683-179\">\n",
       "    <circle cx=\"0\" cy=\"0\" r=\"0.9\"/>\n",
       "  </g>\n",
       "  <g id=\"img-cc9f7683-181\">\n",
       "    <circle cx=\"0\" cy=\"0\" r=\"0.9\"/>\n",
       "  </g>\n",
       "  <g id=\"img-cc9f7683-183\">\n",
       "    <circle cx=\"0\" cy=\"0\" r=\"0.9\"/>\n",
       "  </g>\n",
       "  <g id=\"img-cc9f7683-185\">\n",
       "    <circle cx=\"0\" cy=\"0\" r=\"0.9\"/>\n",
       "  </g>\n",
       "  <g id=\"img-cc9f7683-187\">\n",
       "    <circle cx=\"0\" cy=\"0\" r=\"0.9\"/>\n",
       "  </g>\n",
       "  <g id=\"img-cc9f7683-189\">\n",
       "    <circle cx=\"0\" cy=\"0\" r=\"0.9\"/>\n",
       "  </g>\n",
       "  <g id=\"img-cc9f7683-191\">\n",
       "    <circle cx=\"0\" cy=\"0\" r=\"0.9\"/>\n",
       "  </g>\n",
       "  <g id=\"img-cc9f7683-193\">\n",
       "    <circle cx=\"0\" cy=\"0\" r=\"0.9\"/>\n",
       "  </g>\n",
       "  <g id=\"img-cc9f7683-195\">\n",
       "    <circle cx=\"0\" cy=\"0\" r=\"0.9\"/>\n",
       "  </g>\n",
       "  <g id=\"img-cc9f7683-197\">\n",
       "    <circle cx=\"0\" cy=\"0\" r=\"0.9\"/>\n",
       "  </g>\n",
       "  <g id=\"img-cc9f7683-199\">\n",
       "    <circle cx=\"0\" cy=\"0\" r=\"0.9\"/>\n",
       "  </g>\n",
       "  <g id=\"img-cc9f7683-201\">\n",
       "    <circle cx=\"0\" cy=\"0\" r=\"0.9\"/>\n",
       "  </g>\n",
       "  <g id=\"img-cc9f7683-203\">\n",
       "    <circle cx=\"0\" cy=\"0\" r=\"0.9\"/>\n",
       "  </g>\n",
       "  <g id=\"img-cc9f7683-205\">\n",
       "    <circle cx=\"0\" cy=\"0\" r=\"0.9\"/>\n",
       "  </g>\n",
       "  <g id=\"img-cc9f7683-207\">\n",
       "    <circle cx=\"0\" cy=\"0\" r=\"0.9\"/>\n",
       "  </g>\n",
       "  <g id=\"img-cc9f7683-209\">\n",
       "    <circle cx=\"0\" cy=\"0\" r=\"0.9\"/>\n",
       "  </g>\n",
       "  <g id=\"img-cc9f7683-211\">\n",
       "    <circle cx=\"0\" cy=\"0\" r=\"0.9\"/>\n",
       "  </g>\n",
       "</defs>\n",
       "</svg>\n"
      ],
      "text/html": [
       "<?xml version=\"1.0\" encoding=\"UTF-8\"?>\n",
       "<svg xmlns=\"http://www.w3.org/2000/svg\"\n",
       "     xmlns:xlink=\"http://www.w3.org/1999/xlink\"\n",
       "     xmlns:gadfly=\"http://www.gadflyjl.org/ns\"\n",
       "     version=\"1.2\"\n",
       "     width=\"141.42mm\" height=\"100mm\" viewBox=\"0 0 141.42 100\"\n",
       "     stroke=\"none\"\n",
       "     fill=\"#000000\"\n",
       "     stroke-width=\"0.3\"\n",
       "     font-size=\"3.88\"\n",
       "\n",
       "     id=\"img-635cd56b\">\n",
       "<g class=\"plotroot xscalable yscalable\" id=\"img-635cd56b-1\">\n",
       "  <g font-size=\"3.88\" font-family=\"'PT Sans','Helvetica Neue','Helvetica',sans-serif\" fill=\"#564A55\" stroke=\"#000000\" stroke-opacity=\"0.000\" id=\"img-635cd56b-2\">\n",
       "    <text x=\"76.01\" y=\"88.39\" text-anchor=\"middle\" dy=\"0.6em\">x</text>\n",
       "  </g>\n",
       "  <g class=\"guide xlabels\" font-size=\"2.82\" font-family=\"'PT Sans Caption','Helvetica Neue','Helvetica',sans-serif\" fill=\"#6C606B\" id=\"img-635cd56b-3\">\n",
       "    <text x=\"-118.71\" y=\"84.39\" text-anchor=\"middle\" visibility=\"hidden\" gadfly:scale=\"1.0\">-10</text>\n",
       "    <text x=\"-99.24\" y=\"84.39\" text-anchor=\"middle\" visibility=\"hidden\" gadfly:scale=\"1.0\">-9</text>\n",
       "    <text x=\"-79.76\" y=\"84.39\" text-anchor=\"middle\" visibility=\"hidden\" gadfly:scale=\"1.0\">-8</text>\n",
       "    <text x=\"-60.29\" y=\"84.39\" text-anchor=\"middle\" visibility=\"hidden\" gadfly:scale=\"1.0\">-7</text>\n",
       "    <text x=\"-40.82\" y=\"84.39\" text-anchor=\"middle\" visibility=\"hidden\" gadfly:scale=\"1.0\">-6</text>\n",
       "    <text x=\"-21.35\" y=\"84.39\" text-anchor=\"middle\" visibility=\"hidden\" gadfly:scale=\"1.0\">-5</text>\n",
       "    <text x=\"-1.88\" y=\"84.39\" text-anchor=\"middle\" visibility=\"hidden\" gadfly:scale=\"1.0\">-4</text>\n",
       "    <text x=\"17.59\" y=\"84.39\" text-anchor=\"middle\" visibility=\"visible\" gadfly:scale=\"1.0\">-3</text>\n",
       "    <text x=\"37.06\" y=\"84.39\" text-anchor=\"middle\" visibility=\"visible\" gadfly:scale=\"1.0\">-2</text>\n",
       "    <text x=\"56.54\" y=\"84.39\" text-anchor=\"middle\" visibility=\"visible\" gadfly:scale=\"1.0\">-1</text>\n",
       "    <text x=\"76.01\" y=\"84.39\" text-anchor=\"middle\" visibility=\"visible\" gadfly:scale=\"1.0\">0</text>\n",
       "    <text x=\"95.48\" y=\"84.39\" text-anchor=\"middle\" visibility=\"visible\" gadfly:scale=\"1.0\">1</text>\n",
       "    <text x=\"114.95\" y=\"84.39\" text-anchor=\"middle\" visibility=\"visible\" gadfly:scale=\"1.0\">2</text>\n",
       "    <text x=\"134.42\" y=\"84.39\" text-anchor=\"middle\" visibility=\"visible\" gadfly:scale=\"1.0\">3</text>\n",
       "    <text x=\"153.89\" y=\"84.39\" text-anchor=\"middle\" visibility=\"hidden\" gadfly:scale=\"1.0\">4</text>\n",
       "    <text x=\"173.36\" y=\"84.39\" text-anchor=\"middle\" visibility=\"hidden\" gadfly:scale=\"1.0\">5</text>\n",
       "    <text x=\"192.84\" y=\"84.39\" text-anchor=\"middle\" visibility=\"hidden\" gadfly:scale=\"1.0\">6</text>\n",
       "    <text x=\"212.31\" y=\"84.39\" text-anchor=\"middle\" visibility=\"hidden\" gadfly:scale=\"1.0\">7</text>\n",
       "    <text x=\"231.78\" y=\"84.39\" text-anchor=\"middle\" visibility=\"hidden\" gadfly:scale=\"1.0\">8</text>\n",
       "    <text x=\"251.25\" y=\"84.39\" text-anchor=\"middle\" visibility=\"hidden\" gadfly:scale=\"1.0\">9</text>\n",
       "    <text x=\"270.72\" y=\"84.39\" text-anchor=\"middle\" visibility=\"hidden\" gadfly:scale=\"1.0\">10</text>\n",
       "    <text x=\"-99.24\" y=\"84.39\" text-anchor=\"middle\" visibility=\"hidden\" gadfly:scale=\"10.0\">-9.0</text>\n",
       "    <text x=\"-95.34\" y=\"84.39\" text-anchor=\"middle\" visibility=\"hidden\" gadfly:scale=\"10.0\">-8.8</text>\n",
       "    <text x=\"-91.45\" y=\"84.39\" text-anchor=\"middle\" visibility=\"hidden\" gadfly:scale=\"10.0\">-8.6</text>\n",
       "    <text x=\"-87.55\" y=\"84.39\" text-anchor=\"middle\" visibility=\"hidden\" gadfly:scale=\"10.0\">-8.4</text>\n",
       "    <text x=\"-83.66\" y=\"84.39\" text-anchor=\"middle\" visibility=\"hidden\" gadfly:scale=\"10.0\">-8.2</text>\n",
       "    <text x=\"-79.76\" y=\"84.39\" text-anchor=\"middle\" visibility=\"hidden\" gadfly:scale=\"10.0\">-8.0</text>\n",
       "    <text x=\"-75.87\" y=\"84.39\" text-anchor=\"middle\" visibility=\"hidden\" gadfly:scale=\"10.0\">-7.8</text>\n",
       "    <text x=\"-71.98\" y=\"84.39\" text-anchor=\"middle\" visibility=\"hidden\" gadfly:scale=\"10.0\">-7.6</text>\n",
       "    <text x=\"-68.08\" y=\"84.39\" text-anchor=\"middle\" visibility=\"hidden\" gadfly:scale=\"10.0\">-7.4</text>\n",
       "    <text x=\"-64.19\" y=\"84.39\" text-anchor=\"middle\" visibility=\"hidden\" gadfly:scale=\"10.0\">-7.2</text>\n",
       "    <text x=\"-60.29\" y=\"84.39\" text-anchor=\"middle\" visibility=\"hidden\" gadfly:scale=\"10.0\">-7.0</text>\n",
       "    <text x=\"-56.4\" y=\"84.39\" text-anchor=\"middle\" visibility=\"hidden\" gadfly:scale=\"10.0\">-6.8</text>\n",
       "    <text x=\"-52.5\" y=\"84.39\" text-anchor=\"middle\" visibility=\"hidden\" gadfly:scale=\"10.0\">-6.6</text>\n",
       "    <text x=\"-48.61\" y=\"84.39\" text-anchor=\"middle\" visibility=\"hidden\" gadfly:scale=\"10.0\">-6.4</text>\n",
       "    <text x=\"-44.72\" y=\"84.39\" text-anchor=\"middle\" visibility=\"hidden\" gadfly:scale=\"10.0\">-6.2</text>\n",
       "    <text x=\"-40.82\" y=\"84.39\" text-anchor=\"middle\" visibility=\"hidden\" gadfly:scale=\"10.0\">-6.0</text>\n",
       "    <text x=\"-36.93\" y=\"84.39\" text-anchor=\"middle\" visibility=\"hidden\" gadfly:scale=\"10.0\">-5.8</text>\n",
       "    <text x=\"-33.03\" y=\"84.39\" text-anchor=\"middle\" visibility=\"hidden\" gadfly:scale=\"10.0\">-5.6</text>\n",
       "    <text x=\"-29.14\" y=\"84.39\" text-anchor=\"middle\" visibility=\"hidden\" gadfly:scale=\"10.0\">-5.4</text>\n",
       "    <text x=\"-25.24\" y=\"84.39\" text-anchor=\"middle\" visibility=\"hidden\" gadfly:scale=\"10.0\">-5.2</text>\n",
       "    <text x=\"-21.35\" y=\"84.39\" text-anchor=\"middle\" visibility=\"hidden\" gadfly:scale=\"10.0\">-5.0</text>\n",
       "    <text x=\"-17.46\" y=\"84.39\" text-anchor=\"middle\" visibility=\"hidden\" gadfly:scale=\"10.0\">-4.8</text>\n",
       "    <text x=\"-13.56\" y=\"84.39\" text-anchor=\"middle\" visibility=\"hidden\" gadfly:scale=\"10.0\">-4.6</text>\n",
       "    <text x=\"-9.67\" y=\"84.39\" text-anchor=\"middle\" visibility=\"hidden\" gadfly:scale=\"10.0\">-4.4</text>\n",
       "    <text x=\"-5.77\" y=\"84.39\" text-anchor=\"middle\" visibility=\"hidden\" gadfly:scale=\"10.0\">-4.2</text>\n",
       "    <text x=\"-1.88\" y=\"84.39\" text-anchor=\"middle\" visibility=\"hidden\" gadfly:scale=\"10.0\">-4.0</text>\n",
       "    <text x=\"2.02\" y=\"84.39\" text-anchor=\"middle\" visibility=\"hidden\" gadfly:scale=\"10.0\">-3.8</text>\n",
       "    <text x=\"5.91\" y=\"84.39\" text-anchor=\"middle\" visibility=\"hidden\" gadfly:scale=\"10.0\">-3.6</text>\n",
       "    <text x=\"9.8\" y=\"84.39\" text-anchor=\"middle\" visibility=\"hidden\" gadfly:scale=\"10.0\">-3.4</text>\n",
       "    <text x=\"13.7\" y=\"84.39\" text-anchor=\"middle\" visibility=\"hidden\" gadfly:scale=\"10.0\">-3.2</text>\n",
       "    <text x=\"17.59\" y=\"84.39\" text-anchor=\"middle\" visibility=\"hidden\" gadfly:scale=\"10.0\">-3.0</text>\n",
       "    <text x=\"21.49\" y=\"84.39\" text-anchor=\"middle\" visibility=\"hidden\" gadfly:scale=\"10.0\">-2.8</text>\n",
       "    <text x=\"25.38\" y=\"84.39\" text-anchor=\"middle\" visibility=\"hidden\" gadfly:scale=\"10.0\">-2.6</text>\n",
       "    <text x=\"29.28\" y=\"84.39\" text-anchor=\"middle\" visibility=\"hidden\" gadfly:scale=\"10.0\">-2.4</text>\n",
       "    <text x=\"33.17\" y=\"84.39\" text-anchor=\"middle\" visibility=\"hidden\" gadfly:scale=\"10.0\">-2.2</text>\n",
       "    <text x=\"37.06\" y=\"84.39\" text-anchor=\"middle\" visibility=\"hidden\" gadfly:scale=\"10.0\">-2.0</text>\n",
       "    <text x=\"40.96\" y=\"84.39\" text-anchor=\"middle\" visibility=\"hidden\" gadfly:scale=\"10.0\">-1.8</text>\n",
       "    <text x=\"44.85\" y=\"84.39\" text-anchor=\"middle\" visibility=\"hidden\" gadfly:scale=\"10.0\">-1.6</text>\n",
       "    <text x=\"48.75\" y=\"84.39\" text-anchor=\"middle\" visibility=\"hidden\" gadfly:scale=\"10.0\">-1.4</text>\n",
       "    <text x=\"52.64\" y=\"84.39\" text-anchor=\"middle\" visibility=\"hidden\" gadfly:scale=\"10.0\">-1.2</text>\n",
       "    <text x=\"56.54\" y=\"84.39\" text-anchor=\"middle\" visibility=\"hidden\" gadfly:scale=\"10.0\">-1.0</text>\n",
       "    <text x=\"60.43\" y=\"84.39\" text-anchor=\"middle\" visibility=\"hidden\" gadfly:scale=\"10.0\">-0.8</text>\n",
       "    <text x=\"64.32\" y=\"84.39\" text-anchor=\"middle\" visibility=\"hidden\" gadfly:scale=\"10.0\">-0.6</text>\n",
       "    <text x=\"68.22\" y=\"84.39\" text-anchor=\"middle\" visibility=\"hidden\" gadfly:scale=\"10.0\">-0.4</text>\n",
       "    <text x=\"72.11\" y=\"84.39\" text-anchor=\"middle\" visibility=\"hidden\" gadfly:scale=\"10.0\">-0.2</text>\n",
       "    <text x=\"76.01\" y=\"84.39\" text-anchor=\"middle\" visibility=\"hidden\" gadfly:scale=\"10.0\">0.0</text>\n",
       "    <text x=\"79.9\" y=\"84.39\" text-anchor=\"middle\" visibility=\"hidden\" gadfly:scale=\"10.0\">0.2</text>\n",
       "    <text x=\"83.8\" y=\"84.39\" text-anchor=\"middle\" visibility=\"hidden\" gadfly:scale=\"10.0\">0.4</text>\n",
       "    <text x=\"87.69\" y=\"84.39\" text-anchor=\"middle\" visibility=\"hidden\" gadfly:scale=\"10.0\">0.6</text>\n",
       "    <text x=\"91.58\" y=\"84.39\" text-anchor=\"middle\" visibility=\"hidden\" gadfly:scale=\"10.0\">0.8</text>\n",
       "    <text x=\"95.48\" y=\"84.39\" text-anchor=\"middle\" visibility=\"hidden\" gadfly:scale=\"10.0\">1.0</text>\n",
       "    <text x=\"99.37\" y=\"84.39\" text-anchor=\"middle\" visibility=\"hidden\" gadfly:scale=\"10.0\">1.2</text>\n",
       "    <text x=\"103.27\" y=\"84.39\" text-anchor=\"middle\" visibility=\"hidden\" gadfly:scale=\"10.0\">1.4</text>\n",
       "    <text x=\"107.16\" y=\"84.39\" text-anchor=\"middle\" visibility=\"hidden\" gadfly:scale=\"10.0\">1.6</text>\n",
       "    <text x=\"111.06\" y=\"84.39\" text-anchor=\"middle\" visibility=\"hidden\" gadfly:scale=\"10.0\">1.8</text>\n",
       "    <text x=\"114.95\" y=\"84.39\" text-anchor=\"middle\" visibility=\"hidden\" gadfly:scale=\"10.0\">2.0</text>\n",
       "    <text x=\"118.84\" y=\"84.39\" text-anchor=\"middle\" visibility=\"hidden\" gadfly:scale=\"10.0\">2.2</text>\n",
       "    <text x=\"122.74\" y=\"84.39\" text-anchor=\"middle\" visibility=\"hidden\" gadfly:scale=\"10.0\">2.4</text>\n",
       "    <text x=\"126.63\" y=\"84.39\" text-anchor=\"middle\" visibility=\"hidden\" gadfly:scale=\"10.0\">2.6</text>\n",
       "    <text x=\"130.53\" y=\"84.39\" text-anchor=\"middle\" visibility=\"hidden\" gadfly:scale=\"10.0\">2.8</text>\n",
       "    <text x=\"134.42\" y=\"84.39\" text-anchor=\"middle\" visibility=\"hidden\" gadfly:scale=\"10.0\">3.0</text>\n",
       "    <text x=\"138.32\" y=\"84.39\" text-anchor=\"middle\" visibility=\"hidden\" gadfly:scale=\"10.0\">3.2</text>\n",
       "    <text x=\"142.21\" y=\"84.39\" text-anchor=\"middle\" visibility=\"hidden\" gadfly:scale=\"10.0\">3.4</text>\n",
       "    <text x=\"146.1\" y=\"84.39\" text-anchor=\"middle\" visibility=\"hidden\" gadfly:scale=\"10.0\">3.6</text>\n",
       "    <text x=\"150\" y=\"84.39\" text-anchor=\"middle\" visibility=\"hidden\" gadfly:scale=\"10.0\">3.8</text>\n",
       "    <text x=\"153.89\" y=\"84.39\" text-anchor=\"middle\" visibility=\"hidden\" gadfly:scale=\"10.0\">4.0</text>\n",
       "    <text x=\"157.79\" y=\"84.39\" text-anchor=\"middle\" visibility=\"hidden\" gadfly:scale=\"10.0\">4.2</text>\n",
       "    <text x=\"161.68\" y=\"84.39\" text-anchor=\"middle\" visibility=\"hidden\" gadfly:scale=\"10.0\">4.4</text>\n",
       "    <text x=\"165.58\" y=\"84.39\" text-anchor=\"middle\" visibility=\"hidden\" gadfly:scale=\"10.0\">4.6</text>\n",
       "    <text x=\"169.47\" y=\"84.39\" text-anchor=\"middle\" visibility=\"hidden\" gadfly:scale=\"10.0\">4.8</text>\n",
       "    <text x=\"173.36\" y=\"84.39\" text-anchor=\"middle\" visibility=\"hidden\" gadfly:scale=\"10.0\">5.0</text>\n",
       "    <text x=\"177.26\" y=\"84.39\" text-anchor=\"middle\" visibility=\"hidden\" gadfly:scale=\"10.0\">5.2</text>\n",
       "    <text x=\"181.15\" y=\"84.39\" text-anchor=\"middle\" visibility=\"hidden\" gadfly:scale=\"10.0\">5.4</text>\n",
       "    <text x=\"185.05\" y=\"84.39\" text-anchor=\"middle\" visibility=\"hidden\" gadfly:scale=\"10.0\">5.6</text>\n",
       "    <text x=\"188.94\" y=\"84.39\" text-anchor=\"middle\" visibility=\"hidden\" gadfly:scale=\"10.0\">5.8</text>\n",
       "    <text x=\"192.84\" y=\"84.39\" text-anchor=\"middle\" visibility=\"hidden\" gadfly:scale=\"10.0\">6.0</text>\n",
       "    <text x=\"196.73\" y=\"84.39\" text-anchor=\"middle\" visibility=\"hidden\" gadfly:scale=\"10.0\">6.2</text>\n",
       "    <text x=\"200.62\" y=\"84.39\" text-anchor=\"middle\" visibility=\"hidden\" gadfly:scale=\"10.0\">6.4</text>\n",
       "    <text x=\"204.52\" y=\"84.39\" text-anchor=\"middle\" visibility=\"hidden\" gadfly:scale=\"10.0\">6.6</text>\n",
       "    <text x=\"208.41\" y=\"84.39\" text-anchor=\"middle\" visibility=\"hidden\" gadfly:scale=\"10.0\">6.8</text>\n",
       "    <text x=\"212.31\" y=\"84.39\" text-anchor=\"middle\" visibility=\"hidden\" gadfly:scale=\"10.0\">7.0</text>\n",
       "    <text x=\"216.2\" y=\"84.39\" text-anchor=\"middle\" visibility=\"hidden\" gadfly:scale=\"10.0\">7.2</text>\n",
       "    <text x=\"220.1\" y=\"84.39\" text-anchor=\"middle\" visibility=\"hidden\" gadfly:scale=\"10.0\">7.4</text>\n",
       "    <text x=\"223.99\" y=\"84.39\" text-anchor=\"middle\" visibility=\"hidden\" gadfly:scale=\"10.0\">7.6</text>\n",
       "    <text x=\"227.88\" y=\"84.39\" text-anchor=\"middle\" visibility=\"hidden\" gadfly:scale=\"10.0\">7.8</text>\n",
       "    <text x=\"231.78\" y=\"84.39\" text-anchor=\"middle\" visibility=\"hidden\" gadfly:scale=\"10.0\">8.0</text>\n",
       "    <text x=\"235.67\" y=\"84.39\" text-anchor=\"middle\" visibility=\"hidden\" gadfly:scale=\"10.0\">8.2</text>\n",
       "    <text x=\"239.57\" y=\"84.39\" text-anchor=\"middle\" visibility=\"hidden\" gadfly:scale=\"10.0\">8.4</text>\n",
       "    <text x=\"243.46\" y=\"84.39\" text-anchor=\"middle\" visibility=\"hidden\" gadfly:scale=\"10.0\">8.6</text>\n",
       "    <text x=\"247.36\" y=\"84.39\" text-anchor=\"middle\" visibility=\"hidden\" gadfly:scale=\"10.0\">8.8</text>\n",
       "    <text x=\"251.25\" y=\"84.39\" text-anchor=\"middle\" visibility=\"hidden\" gadfly:scale=\"10.0\">9.0</text>\n",
       "    <text x=\"-118.71\" y=\"84.39\" text-anchor=\"middle\" visibility=\"hidden\" gadfly:scale=\"0.5\">-10</text>\n",
       "    <text x=\"-21.35\" y=\"84.39\" text-anchor=\"middle\" visibility=\"hidden\" gadfly:scale=\"0.5\">-5</text>\n",
       "    <text x=\"76.01\" y=\"84.39\" text-anchor=\"middle\" visibility=\"hidden\" gadfly:scale=\"0.5\">0</text>\n",
       "    <text x=\"173.36\" y=\"84.39\" text-anchor=\"middle\" visibility=\"hidden\" gadfly:scale=\"0.5\">5</text>\n",
       "    <text x=\"270.72\" y=\"84.39\" text-anchor=\"middle\" visibility=\"hidden\" gadfly:scale=\"0.5\">10</text>\n",
       "    <text x=\"-99.24\" y=\"84.39\" text-anchor=\"middle\" visibility=\"hidden\" gadfly:scale=\"5.0\">-9.0</text>\n",
       "    <text x=\"-89.5\" y=\"84.39\" text-anchor=\"middle\" visibility=\"hidden\" gadfly:scale=\"5.0\">-8.5</text>\n",
       "    <text x=\"-79.76\" y=\"84.39\" text-anchor=\"middle\" visibility=\"hidden\" gadfly:scale=\"5.0\">-8.0</text>\n",
       "    <text x=\"-70.03\" y=\"84.39\" text-anchor=\"middle\" visibility=\"hidden\" gadfly:scale=\"5.0\">-7.5</text>\n",
       "    <text x=\"-60.29\" y=\"84.39\" text-anchor=\"middle\" visibility=\"hidden\" gadfly:scale=\"5.0\">-7.0</text>\n",
       "    <text x=\"-50.56\" y=\"84.39\" text-anchor=\"middle\" visibility=\"hidden\" gadfly:scale=\"5.0\">-6.5</text>\n",
       "    <text x=\"-40.82\" y=\"84.39\" text-anchor=\"middle\" visibility=\"hidden\" gadfly:scale=\"5.0\">-6.0</text>\n",
       "    <text x=\"-31.09\" y=\"84.39\" text-anchor=\"middle\" visibility=\"hidden\" gadfly:scale=\"5.0\">-5.5</text>\n",
       "    <text x=\"-21.35\" y=\"84.39\" text-anchor=\"middle\" visibility=\"hidden\" gadfly:scale=\"5.0\">-5.0</text>\n",
       "    <text x=\"-11.61\" y=\"84.39\" text-anchor=\"middle\" visibility=\"hidden\" gadfly:scale=\"5.0\">-4.5</text>\n",
       "    <text x=\"-1.88\" y=\"84.39\" text-anchor=\"middle\" visibility=\"hidden\" gadfly:scale=\"5.0\">-4.0</text>\n",
       "    <text x=\"7.86\" y=\"84.39\" text-anchor=\"middle\" visibility=\"hidden\" gadfly:scale=\"5.0\">-3.5</text>\n",
       "    <text x=\"17.59\" y=\"84.39\" text-anchor=\"middle\" visibility=\"hidden\" gadfly:scale=\"5.0\">-3.0</text>\n",
       "    <text x=\"27.33\" y=\"84.39\" text-anchor=\"middle\" visibility=\"hidden\" gadfly:scale=\"5.0\">-2.5</text>\n",
       "    <text x=\"37.06\" y=\"84.39\" text-anchor=\"middle\" visibility=\"hidden\" gadfly:scale=\"5.0\">-2.0</text>\n",
       "    <text x=\"46.8\" y=\"84.39\" text-anchor=\"middle\" visibility=\"hidden\" gadfly:scale=\"5.0\">-1.5</text>\n",
       "    <text x=\"56.54\" y=\"84.39\" text-anchor=\"middle\" visibility=\"hidden\" gadfly:scale=\"5.0\">-1.0</text>\n",
       "    <text x=\"66.27\" y=\"84.39\" text-anchor=\"middle\" visibility=\"hidden\" gadfly:scale=\"5.0\">-0.5</text>\n",
       "    <text x=\"76.01\" y=\"84.39\" text-anchor=\"middle\" visibility=\"hidden\" gadfly:scale=\"5.0\">0.0</text>\n",
       "    <text x=\"85.74\" y=\"84.39\" text-anchor=\"middle\" visibility=\"hidden\" gadfly:scale=\"5.0\">0.5</text>\n",
       "    <text x=\"95.48\" y=\"84.39\" text-anchor=\"middle\" visibility=\"hidden\" gadfly:scale=\"5.0\">1.0</text>\n",
       "    <text x=\"105.21\" y=\"84.39\" text-anchor=\"middle\" visibility=\"hidden\" gadfly:scale=\"5.0\">1.5</text>\n",
       "    <text x=\"114.95\" y=\"84.39\" text-anchor=\"middle\" visibility=\"hidden\" gadfly:scale=\"5.0\">2.0</text>\n",
       "    <text x=\"124.69\" y=\"84.39\" text-anchor=\"middle\" visibility=\"hidden\" gadfly:scale=\"5.0\">2.5</text>\n",
       "    <text x=\"134.42\" y=\"84.39\" text-anchor=\"middle\" visibility=\"hidden\" gadfly:scale=\"5.0\">3.0</text>\n",
       "    <text x=\"144.16\" y=\"84.39\" text-anchor=\"middle\" visibility=\"hidden\" gadfly:scale=\"5.0\">3.5</text>\n",
       "    <text x=\"153.89\" y=\"84.39\" text-anchor=\"middle\" visibility=\"hidden\" gadfly:scale=\"5.0\">4.0</text>\n",
       "    <text x=\"163.63\" y=\"84.39\" text-anchor=\"middle\" visibility=\"hidden\" gadfly:scale=\"5.0\">4.5</text>\n",
       "    <text x=\"173.36\" y=\"84.39\" text-anchor=\"middle\" visibility=\"hidden\" gadfly:scale=\"5.0\">5.0</text>\n",
       "    <text x=\"183.1\" y=\"84.39\" text-anchor=\"middle\" visibility=\"hidden\" gadfly:scale=\"5.0\">5.5</text>\n",
       "    <text x=\"192.84\" y=\"84.39\" text-anchor=\"middle\" visibility=\"hidden\" gadfly:scale=\"5.0\">6.0</text>\n",
       "    <text x=\"202.57\" y=\"84.39\" text-anchor=\"middle\" visibility=\"hidden\" gadfly:scale=\"5.0\">6.5</text>\n",
       "    <text x=\"212.31\" y=\"84.39\" text-anchor=\"middle\" visibility=\"hidden\" gadfly:scale=\"5.0\">7.0</text>\n",
       "    <text x=\"222.04\" y=\"84.39\" text-anchor=\"middle\" visibility=\"hidden\" gadfly:scale=\"5.0\">7.5</text>\n",
       "    <text x=\"231.78\" y=\"84.39\" text-anchor=\"middle\" visibility=\"hidden\" gadfly:scale=\"5.0\">8.0</text>\n",
       "    <text x=\"241.51\" y=\"84.39\" text-anchor=\"middle\" visibility=\"hidden\" gadfly:scale=\"5.0\">8.5</text>\n",
       "    <text x=\"251.25\" y=\"84.39\" text-anchor=\"middle\" visibility=\"hidden\" gadfly:scale=\"5.0\">9.0</text>\n",
       "  </g>\n",
       "<g clip-path=\"url(#img-635cd56b-4)\">\n",
       "  <g id=\"img-635cd56b-5\">\n",
       "    <g pointer-events=\"visible\" opacity=\"1\" fill=\"#000000\" fill-opacity=\"0.000\" stroke=\"#000000\" stroke-opacity=\"0.000\" class=\"guide background\" id=\"img-635cd56b-6\">\n",
       "      <rect x=\"15.59\" y=\"5\" width=\"120.83\" height=\"75.72\"/>\n",
       "    </g>\n",
       "    <g class=\"guide ygridlines xfixed\" stroke-dasharray=\"0.5,0.5\" stroke-width=\"0.2\" stroke=\"#D0D0E0\" id=\"img-635cd56b-7\">\n",
       "      <path fill=\"none\" d=\"M15.59,162.38 L 136.42 162.38\" visibility=\"hidden\" gadfly:scale=\"1.0\"/>\n",
       "      <path fill=\"none\" d=\"M15.59,150.43 L 136.42 150.43\" visibility=\"hidden\" gadfly:scale=\"1.0\"/>\n",
       "      <path fill=\"none\" d=\"M15.59,138.48 L 136.42 138.48\" visibility=\"hidden\" gadfly:scale=\"1.0\"/>\n",
       "      <path fill=\"none\" d=\"M15.59,126.52 L 136.42 126.52\" visibility=\"hidden\" gadfly:scale=\"1.0\"/>\n",
       "      <path fill=\"none\" d=\"M15.59,114.57 L 136.42 114.57\" visibility=\"hidden\" gadfly:scale=\"1.0\"/>\n",
       "      <path fill=\"none\" d=\"M15.59,102.62 L 136.42 102.62\" visibility=\"hidden\" gadfly:scale=\"1.0\"/>\n",
       "      <path fill=\"none\" d=\"M15.59,90.67 L 136.42 90.67\" visibility=\"hidden\" gadfly:scale=\"1.0\"/>\n",
       "      <path fill=\"none\" d=\"M15.59,78.71 L 136.42 78.71\" visibility=\"visible\" gadfly:scale=\"1.0\"/>\n",
       "      <path fill=\"none\" d=\"M15.59,66.76 L 136.42 66.76\" visibility=\"visible\" gadfly:scale=\"1.0\"/>\n",
       "      <path fill=\"none\" d=\"M15.59,54.81 L 136.42 54.81\" visibility=\"visible\" gadfly:scale=\"1.0\"/>\n",
       "      <path fill=\"none\" d=\"M15.59,42.86 L 136.42 42.86\" visibility=\"visible\" gadfly:scale=\"1.0\"/>\n",
       "      <path fill=\"none\" d=\"M15.59,30.9 L 136.42 30.9\" visibility=\"visible\" gadfly:scale=\"1.0\"/>\n",
       "      <path fill=\"none\" d=\"M15.59,18.95 L 136.42 18.95\" visibility=\"visible\" gadfly:scale=\"1.0\"/>\n",
       "      <path fill=\"none\" d=\"M15.59,7 L 136.42 7\" visibility=\"visible\" gadfly:scale=\"1.0\"/>\n",
       "      <path fill=\"none\" d=\"M15.59,-4.95 L 136.42 -4.95\" visibility=\"hidden\" gadfly:scale=\"1.0\"/>\n",
       "      <path fill=\"none\" d=\"M15.59,-16.9 L 136.42 -16.9\" visibility=\"hidden\" gadfly:scale=\"1.0\"/>\n",
       "      <path fill=\"none\" d=\"M15.59,-28.86 L 136.42 -28.86\" visibility=\"hidden\" gadfly:scale=\"1.0\"/>\n",
       "      <path fill=\"none\" d=\"M15.59,-40.81 L 136.42 -40.81\" visibility=\"hidden\" gadfly:scale=\"1.0\"/>\n",
       "      <path fill=\"none\" d=\"M15.59,-52.76 L 136.42 -52.76\" visibility=\"hidden\" gadfly:scale=\"1.0\"/>\n",
       "      <path fill=\"none\" d=\"M15.59,-64.71 L 136.42 -64.71\" visibility=\"hidden\" gadfly:scale=\"1.0\"/>\n",
       "      <path fill=\"none\" d=\"M15.59,-76.67 L 136.42 -76.67\" visibility=\"hidden\" gadfly:scale=\"1.0\"/>\n",
       "      <path fill=\"none\" d=\"M15.59,150.43 L 136.42 150.43\" visibility=\"hidden\" gadfly:scale=\"10.0\"/>\n",
       "      <path fill=\"none\" d=\"M15.59,148.04 L 136.42 148.04\" visibility=\"hidden\" gadfly:scale=\"10.0\"/>\n",
       "      <path fill=\"none\" d=\"M15.59,145.65 L 136.42 145.65\" visibility=\"hidden\" gadfly:scale=\"10.0\"/>\n",
       "      <path fill=\"none\" d=\"M15.59,143.26 L 136.42 143.26\" visibility=\"hidden\" gadfly:scale=\"10.0\"/>\n",
       "      <path fill=\"none\" d=\"M15.59,140.87 L 136.42 140.87\" visibility=\"hidden\" gadfly:scale=\"10.0\"/>\n",
       "      <path fill=\"none\" d=\"M15.59,138.48 L 136.42 138.48\" visibility=\"hidden\" gadfly:scale=\"10.0\"/>\n",
       "      <path fill=\"none\" d=\"M15.59,136.09 L 136.42 136.09\" visibility=\"hidden\" gadfly:scale=\"10.0\"/>\n",
       "      <path fill=\"none\" d=\"M15.59,133.7 L 136.42 133.7\" visibility=\"hidden\" gadfly:scale=\"10.0\"/>\n",
       "      <path fill=\"none\" d=\"M15.59,131.31 L 136.42 131.31\" visibility=\"hidden\" gadfly:scale=\"10.0\"/>\n",
       "      <path fill=\"none\" d=\"M15.59,128.92 L 136.42 128.92\" visibility=\"hidden\" gadfly:scale=\"10.0\"/>\n",
       "      <path fill=\"none\" d=\"M15.59,126.52 L 136.42 126.52\" visibility=\"hidden\" gadfly:scale=\"10.0\"/>\n",
       "      <path fill=\"none\" d=\"M15.59,124.13 L 136.42 124.13\" visibility=\"hidden\" gadfly:scale=\"10.0\"/>\n",
       "      <path fill=\"none\" d=\"M15.59,121.74 L 136.42 121.74\" visibility=\"hidden\" gadfly:scale=\"10.0\"/>\n",
       "      <path fill=\"none\" d=\"M15.59,119.35 L 136.42 119.35\" visibility=\"hidden\" gadfly:scale=\"10.0\"/>\n",
       "      <path fill=\"none\" d=\"M15.59,116.96 L 136.42 116.96\" visibility=\"hidden\" gadfly:scale=\"10.0\"/>\n",
       "      <path fill=\"none\" d=\"M15.59,114.57 L 136.42 114.57\" visibility=\"hidden\" gadfly:scale=\"10.0\"/>\n",
       "      <path fill=\"none\" d=\"M15.59,112.18 L 136.42 112.18\" visibility=\"hidden\" gadfly:scale=\"10.0\"/>\n",
       "      <path fill=\"none\" d=\"M15.59,109.79 L 136.42 109.79\" visibility=\"hidden\" gadfly:scale=\"10.0\"/>\n",
       "      <path fill=\"none\" d=\"M15.59,107.4 L 136.42 107.4\" visibility=\"hidden\" gadfly:scale=\"10.0\"/>\n",
       "      <path fill=\"none\" d=\"M15.59,105.01 L 136.42 105.01\" visibility=\"hidden\" gadfly:scale=\"10.0\"/>\n",
       "      <path fill=\"none\" d=\"M15.59,102.62 L 136.42 102.62\" visibility=\"hidden\" gadfly:scale=\"10.0\"/>\n",
       "      <path fill=\"none\" d=\"M15.59,100.23 L 136.42 100.23\" visibility=\"hidden\" gadfly:scale=\"10.0\"/>\n",
       "      <path fill=\"none\" d=\"M15.59,97.84 L 136.42 97.84\" visibility=\"hidden\" gadfly:scale=\"10.0\"/>\n",
       "      <path fill=\"none\" d=\"M15.59,95.45 L 136.42 95.45\" visibility=\"hidden\" gadfly:scale=\"10.0\"/>\n",
       "      <path fill=\"none\" d=\"M15.59,93.06 L 136.42 93.06\" visibility=\"hidden\" gadfly:scale=\"10.0\"/>\n",
       "      <path fill=\"none\" d=\"M15.59,90.67 L 136.42 90.67\" visibility=\"hidden\" gadfly:scale=\"10.0\"/>\n",
       "      <path fill=\"none\" d=\"M15.59,88.28 L 136.42 88.28\" visibility=\"hidden\" gadfly:scale=\"10.0\"/>\n",
       "      <path fill=\"none\" d=\"M15.59,85.89 L 136.42 85.89\" visibility=\"hidden\" gadfly:scale=\"10.0\"/>\n",
       "      <path fill=\"none\" d=\"M15.59,83.5 L 136.42 83.5\" visibility=\"hidden\" gadfly:scale=\"10.0\"/>\n",
       "      <path fill=\"none\" d=\"M15.59,81.11 L 136.42 81.11\" visibility=\"hidden\" gadfly:scale=\"10.0\"/>\n",
       "      <path fill=\"none\" d=\"M15.59,78.71 L 136.42 78.71\" visibility=\"hidden\" gadfly:scale=\"10.0\"/>\n",
       "      <path fill=\"none\" d=\"M15.59,76.32 L 136.42 76.32\" visibility=\"hidden\" gadfly:scale=\"10.0\"/>\n",
       "      <path fill=\"none\" d=\"M15.59,73.93 L 136.42 73.93\" visibility=\"hidden\" gadfly:scale=\"10.0\"/>\n",
       "      <path fill=\"none\" d=\"M15.59,71.54 L 136.42 71.54\" visibility=\"hidden\" gadfly:scale=\"10.0\"/>\n",
       "      <path fill=\"none\" d=\"M15.59,69.15 L 136.42 69.15\" visibility=\"hidden\" gadfly:scale=\"10.0\"/>\n",
       "      <path fill=\"none\" d=\"M15.59,66.76 L 136.42 66.76\" visibility=\"hidden\" gadfly:scale=\"10.0\"/>\n",
       "      <path fill=\"none\" d=\"M15.59,64.37 L 136.42 64.37\" visibility=\"hidden\" gadfly:scale=\"10.0\"/>\n",
       "      <path fill=\"none\" d=\"M15.59,61.98 L 136.42 61.98\" visibility=\"hidden\" gadfly:scale=\"10.0\"/>\n",
       "      <path fill=\"none\" d=\"M15.59,59.59 L 136.42 59.59\" visibility=\"hidden\" gadfly:scale=\"10.0\"/>\n",
       "      <path fill=\"none\" d=\"M15.59,57.2 L 136.42 57.2\" visibility=\"hidden\" gadfly:scale=\"10.0\"/>\n",
       "      <path fill=\"none\" d=\"M15.59,54.81 L 136.42 54.81\" visibility=\"hidden\" gadfly:scale=\"10.0\"/>\n",
       "      <path fill=\"none\" d=\"M15.59,52.42 L 136.42 52.42\" visibility=\"hidden\" gadfly:scale=\"10.0\"/>\n",
       "      <path fill=\"none\" d=\"M15.59,50.03 L 136.42 50.03\" visibility=\"hidden\" gadfly:scale=\"10.0\"/>\n",
       "      <path fill=\"none\" d=\"M15.59,47.64 L 136.42 47.64\" visibility=\"hidden\" gadfly:scale=\"10.0\"/>\n",
       "      <path fill=\"none\" d=\"M15.59,45.25 L 136.42 45.25\" visibility=\"hidden\" gadfly:scale=\"10.0\"/>\n",
       "      <path fill=\"none\" d=\"M15.59,42.86 L 136.42 42.86\" visibility=\"hidden\" gadfly:scale=\"10.0\"/>\n",
       "      <path fill=\"none\" d=\"M15.59,40.47 L 136.42 40.47\" visibility=\"hidden\" gadfly:scale=\"10.0\"/>\n",
       "      <path fill=\"none\" d=\"M15.59,38.08 L 136.42 38.08\" visibility=\"hidden\" gadfly:scale=\"10.0\"/>\n",
       "      <path fill=\"none\" d=\"M15.59,35.69 L 136.42 35.69\" visibility=\"hidden\" gadfly:scale=\"10.0\"/>\n",
       "      <path fill=\"none\" d=\"M15.59,33.3 L 136.42 33.3\" visibility=\"hidden\" gadfly:scale=\"10.0\"/>\n",
       "      <path fill=\"none\" d=\"M15.59,30.9 L 136.42 30.9\" visibility=\"hidden\" gadfly:scale=\"10.0\"/>\n",
       "      <path fill=\"none\" d=\"M15.59,28.51 L 136.42 28.51\" visibility=\"hidden\" gadfly:scale=\"10.0\"/>\n",
       "      <path fill=\"none\" d=\"M15.59,26.12 L 136.42 26.12\" visibility=\"hidden\" gadfly:scale=\"10.0\"/>\n",
       "      <path fill=\"none\" d=\"M15.59,23.73 L 136.42 23.73\" visibility=\"hidden\" gadfly:scale=\"10.0\"/>\n",
       "      <path fill=\"none\" d=\"M15.59,21.34 L 136.42 21.34\" visibility=\"hidden\" gadfly:scale=\"10.0\"/>\n",
       "      <path fill=\"none\" d=\"M15.59,18.95 L 136.42 18.95\" visibility=\"hidden\" gadfly:scale=\"10.0\"/>\n",
       "      <path fill=\"none\" d=\"M15.59,16.56 L 136.42 16.56\" visibility=\"hidden\" gadfly:scale=\"10.0\"/>\n",
       "      <path fill=\"none\" d=\"M15.59,14.17 L 136.42 14.17\" visibility=\"hidden\" gadfly:scale=\"10.0\"/>\n",
       "      <path fill=\"none\" d=\"M15.59,11.78 L 136.42 11.78\" visibility=\"hidden\" gadfly:scale=\"10.0\"/>\n",
       "      <path fill=\"none\" d=\"M15.59,9.39 L 136.42 9.39\" visibility=\"hidden\" gadfly:scale=\"10.0\"/>\n",
       "      <path fill=\"none\" d=\"M15.59,7 L 136.42 7\" visibility=\"hidden\" gadfly:scale=\"10.0\"/>\n",
       "      <path fill=\"none\" d=\"M15.59,4.61 L 136.42 4.61\" visibility=\"hidden\" gadfly:scale=\"10.0\"/>\n",
       "      <path fill=\"none\" d=\"M15.59,2.22 L 136.42 2.22\" visibility=\"hidden\" gadfly:scale=\"10.0\"/>\n",
       "      <path fill=\"none\" d=\"M15.59,-0.17 L 136.42 -0.17\" visibility=\"hidden\" gadfly:scale=\"10.0\"/>\n",
       "      <path fill=\"none\" d=\"M15.59,-2.56 L 136.42 -2.56\" visibility=\"hidden\" gadfly:scale=\"10.0\"/>\n",
       "      <path fill=\"none\" d=\"M15.59,-4.95 L 136.42 -4.95\" visibility=\"hidden\" gadfly:scale=\"10.0\"/>\n",
       "      <path fill=\"none\" d=\"M15.59,-7.34 L 136.42 -7.34\" visibility=\"hidden\" gadfly:scale=\"10.0\"/>\n",
       "      <path fill=\"none\" d=\"M15.59,-9.73 L 136.42 -9.73\" visibility=\"hidden\" gadfly:scale=\"10.0\"/>\n",
       "      <path fill=\"none\" d=\"M15.59,-12.12 L 136.42 -12.12\" visibility=\"hidden\" gadfly:scale=\"10.0\"/>\n",
       "      <path fill=\"none\" d=\"M15.59,-14.51 L 136.42 -14.51\" visibility=\"hidden\" gadfly:scale=\"10.0\"/>\n",
       "      <path fill=\"none\" d=\"M15.59,-16.9 L 136.42 -16.9\" visibility=\"hidden\" gadfly:scale=\"10.0\"/>\n",
       "      <path fill=\"none\" d=\"M15.59,-19.3 L 136.42 -19.3\" visibility=\"hidden\" gadfly:scale=\"10.0\"/>\n",
       "      <path fill=\"none\" d=\"M15.59,-21.69 L 136.42 -21.69\" visibility=\"hidden\" gadfly:scale=\"10.0\"/>\n",
       "      <path fill=\"none\" d=\"M15.59,-24.08 L 136.42 -24.08\" visibility=\"hidden\" gadfly:scale=\"10.0\"/>\n",
       "      <path fill=\"none\" d=\"M15.59,-26.47 L 136.42 -26.47\" visibility=\"hidden\" gadfly:scale=\"10.0\"/>\n",
       "      <path fill=\"none\" d=\"M15.59,-28.86 L 136.42 -28.86\" visibility=\"hidden\" gadfly:scale=\"10.0\"/>\n",
       "      <path fill=\"none\" d=\"M15.59,-31.25 L 136.42 -31.25\" visibility=\"hidden\" gadfly:scale=\"10.0\"/>\n",
       "      <path fill=\"none\" d=\"M15.59,-33.64 L 136.42 -33.64\" visibility=\"hidden\" gadfly:scale=\"10.0\"/>\n",
       "      <path fill=\"none\" d=\"M15.59,-36.03 L 136.42 -36.03\" visibility=\"hidden\" gadfly:scale=\"10.0\"/>\n",
       "      <path fill=\"none\" d=\"M15.59,-38.42 L 136.42 -38.42\" visibility=\"hidden\" gadfly:scale=\"10.0\"/>\n",
       "      <path fill=\"none\" d=\"M15.59,-40.81 L 136.42 -40.81\" visibility=\"hidden\" gadfly:scale=\"10.0\"/>\n",
       "      <path fill=\"none\" d=\"M15.59,-43.2 L 136.42 -43.2\" visibility=\"hidden\" gadfly:scale=\"10.0\"/>\n",
       "      <path fill=\"none\" d=\"M15.59,-45.59 L 136.42 -45.59\" visibility=\"hidden\" gadfly:scale=\"10.0\"/>\n",
       "      <path fill=\"none\" d=\"M15.59,-47.98 L 136.42 -47.98\" visibility=\"hidden\" gadfly:scale=\"10.0\"/>\n",
       "      <path fill=\"none\" d=\"M15.59,-50.37 L 136.42 -50.37\" visibility=\"hidden\" gadfly:scale=\"10.0\"/>\n",
       "      <path fill=\"none\" d=\"M15.59,-52.76 L 136.42 -52.76\" visibility=\"hidden\" gadfly:scale=\"10.0\"/>\n",
       "      <path fill=\"none\" d=\"M15.59,-55.15 L 136.42 -55.15\" visibility=\"hidden\" gadfly:scale=\"10.0\"/>\n",
       "      <path fill=\"none\" d=\"M15.59,-57.54 L 136.42 -57.54\" visibility=\"hidden\" gadfly:scale=\"10.0\"/>\n",
       "      <path fill=\"none\" d=\"M15.59,-59.93 L 136.42 -59.93\" visibility=\"hidden\" gadfly:scale=\"10.0\"/>\n",
       "      <path fill=\"none\" d=\"M15.59,-62.32 L 136.42 -62.32\" visibility=\"hidden\" gadfly:scale=\"10.0\"/>\n",
       "      <path fill=\"none\" d=\"M15.59,-64.71 L 136.42 -64.71\" visibility=\"hidden\" gadfly:scale=\"10.0\"/>\n",
       "      <path fill=\"none\" d=\"M15.59,162.38 L 136.42 162.38\" visibility=\"hidden\" gadfly:scale=\"0.5\"/>\n",
       "      <path fill=\"none\" d=\"M15.59,102.62 L 136.42 102.62\" visibility=\"hidden\" gadfly:scale=\"0.5\"/>\n",
       "      <path fill=\"none\" d=\"M15.59,42.86 L 136.42 42.86\" visibility=\"hidden\" gadfly:scale=\"0.5\"/>\n",
       "      <path fill=\"none\" d=\"M15.59,-16.9 L 136.42 -16.9\" visibility=\"hidden\" gadfly:scale=\"0.5\"/>\n",
       "      <path fill=\"none\" d=\"M15.59,-76.67 L 136.42 -76.67\" visibility=\"hidden\" gadfly:scale=\"0.5\"/>\n",
       "      <path fill=\"none\" d=\"M15.59,150.43 L 136.42 150.43\" visibility=\"hidden\" gadfly:scale=\"5.0\"/>\n",
       "      <path fill=\"none\" d=\"M15.59,144.45 L 136.42 144.45\" visibility=\"hidden\" gadfly:scale=\"5.0\"/>\n",
       "      <path fill=\"none\" d=\"M15.59,138.48 L 136.42 138.48\" visibility=\"hidden\" gadfly:scale=\"5.0\"/>\n",
       "      <path fill=\"none\" d=\"M15.59,132.5 L 136.42 132.5\" visibility=\"hidden\" gadfly:scale=\"5.0\"/>\n",
       "      <path fill=\"none\" d=\"M15.59,126.52 L 136.42 126.52\" visibility=\"hidden\" gadfly:scale=\"5.0\"/>\n",
       "      <path fill=\"none\" d=\"M15.59,120.55 L 136.42 120.55\" visibility=\"hidden\" gadfly:scale=\"5.0\"/>\n",
       "      <path fill=\"none\" d=\"M15.59,114.57 L 136.42 114.57\" visibility=\"hidden\" gadfly:scale=\"5.0\"/>\n",
       "      <path fill=\"none\" d=\"M15.59,108.6 L 136.42 108.6\" visibility=\"hidden\" gadfly:scale=\"5.0\"/>\n",
       "      <path fill=\"none\" d=\"M15.59,102.62 L 136.42 102.62\" visibility=\"hidden\" gadfly:scale=\"5.0\"/>\n",
       "      <path fill=\"none\" d=\"M15.59,96.64 L 136.42 96.64\" visibility=\"hidden\" gadfly:scale=\"5.0\"/>\n",
       "      <path fill=\"none\" d=\"M15.59,90.67 L 136.42 90.67\" visibility=\"hidden\" gadfly:scale=\"5.0\"/>\n",
       "      <path fill=\"none\" d=\"M15.59,84.69 L 136.42 84.69\" visibility=\"hidden\" gadfly:scale=\"5.0\"/>\n",
       "      <path fill=\"none\" d=\"M15.59,78.71 L 136.42 78.71\" visibility=\"hidden\" gadfly:scale=\"5.0\"/>\n",
       "      <path fill=\"none\" d=\"M15.59,72.74 L 136.42 72.74\" visibility=\"hidden\" gadfly:scale=\"5.0\"/>\n",
       "      <path fill=\"none\" d=\"M15.59,66.76 L 136.42 66.76\" visibility=\"hidden\" gadfly:scale=\"5.0\"/>\n",
       "      <path fill=\"none\" d=\"M15.59,60.79 L 136.42 60.79\" visibility=\"hidden\" gadfly:scale=\"5.0\"/>\n",
       "      <path fill=\"none\" d=\"M15.59,54.81 L 136.42 54.81\" visibility=\"hidden\" gadfly:scale=\"5.0\"/>\n",
       "      <path fill=\"none\" d=\"M15.59,48.83 L 136.42 48.83\" visibility=\"hidden\" gadfly:scale=\"5.0\"/>\n",
       "      <path fill=\"none\" d=\"M15.59,42.86 L 136.42 42.86\" visibility=\"hidden\" gadfly:scale=\"5.0\"/>\n",
       "      <path fill=\"none\" d=\"M15.59,36.88 L 136.42 36.88\" visibility=\"hidden\" gadfly:scale=\"5.0\"/>\n",
       "      <path fill=\"none\" d=\"M15.59,30.9 L 136.42 30.9\" visibility=\"hidden\" gadfly:scale=\"5.0\"/>\n",
       "      <path fill=\"none\" d=\"M15.59,24.93 L 136.42 24.93\" visibility=\"hidden\" gadfly:scale=\"5.0\"/>\n",
       "      <path fill=\"none\" d=\"M15.59,18.95 L 136.42 18.95\" visibility=\"hidden\" gadfly:scale=\"5.0\"/>\n",
       "      <path fill=\"none\" d=\"M15.59,12.98 L 136.42 12.98\" visibility=\"hidden\" gadfly:scale=\"5.0\"/>\n",
       "      <path fill=\"none\" d=\"M15.59,7 L 136.42 7\" visibility=\"hidden\" gadfly:scale=\"5.0\"/>\n",
       "      <path fill=\"none\" d=\"M15.59,1.02 L 136.42 1.02\" visibility=\"hidden\" gadfly:scale=\"5.0\"/>\n",
       "      <path fill=\"none\" d=\"M15.59,-4.95 L 136.42 -4.95\" visibility=\"hidden\" gadfly:scale=\"5.0\"/>\n",
       "      <path fill=\"none\" d=\"M15.59,-10.93 L 136.42 -10.93\" visibility=\"hidden\" gadfly:scale=\"5.0\"/>\n",
       "      <path fill=\"none\" d=\"M15.59,-16.9 L 136.42 -16.9\" visibility=\"hidden\" gadfly:scale=\"5.0\"/>\n",
       "      <path fill=\"none\" d=\"M15.59,-22.88 L 136.42 -22.88\" visibility=\"hidden\" gadfly:scale=\"5.0\"/>\n",
       "      <path fill=\"none\" d=\"M15.59,-28.86 L 136.42 -28.86\" visibility=\"hidden\" gadfly:scale=\"5.0\"/>\n",
       "      <path fill=\"none\" d=\"M15.59,-34.83 L 136.42 -34.83\" visibility=\"hidden\" gadfly:scale=\"5.0\"/>\n",
       "      <path fill=\"none\" d=\"M15.59,-40.81 L 136.42 -40.81\" visibility=\"hidden\" gadfly:scale=\"5.0\"/>\n",
       "      <path fill=\"none\" d=\"M15.59,-46.79 L 136.42 -46.79\" visibility=\"hidden\" gadfly:scale=\"5.0\"/>\n",
       "      <path fill=\"none\" d=\"M15.59,-52.76 L 136.42 -52.76\" visibility=\"hidden\" gadfly:scale=\"5.0\"/>\n",
       "      <path fill=\"none\" d=\"M15.59,-58.74 L 136.42 -58.74\" visibility=\"hidden\" gadfly:scale=\"5.0\"/>\n",
       "      <path fill=\"none\" d=\"M15.59,-64.71 L 136.42 -64.71\" visibility=\"hidden\" gadfly:scale=\"5.0\"/>\n",
       "    </g>\n",
       "    <g class=\"guide xgridlines yfixed\" stroke-dasharray=\"0.5,0.5\" stroke-width=\"0.2\" stroke=\"#D0D0E0\" id=\"img-635cd56b-8\">\n",
       "      <path fill=\"none\" d=\"M-118.71,5 L -118.71 80.72\" visibility=\"hidden\" gadfly:scale=\"1.0\"/>\n",
       "      <path fill=\"none\" d=\"M-99.24,5 L -99.24 80.72\" visibility=\"hidden\" gadfly:scale=\"1.0\"/>\n",
       "      <path fill=\"none\" d=\"M-79.76,5 L -79.76 80.72\" visibility=\"hidden\" gadfly:scale=\"1.0\"/>\n",
       "      <path fill=\"none\" d=\"M-60.29,5 L -60.29 80.72\" visibility=\"hidden\" gadfly:scale=\"1.0\"/>\n",
       "      <path fill=\"none\" d=\"M-40.82,5 L -40.82 80.72\" visibility=\"hidden\" gadfly:scale=\"1.0\"/>\n",
       "      <path fill=\"none\" d=\"M-21.35,5 L -21.35 80.72\" visibility=\"hidden\" gadfly:scale=\"1.0\"/>\n",
       "      <path fill=\"none\" d=\"M-1.88,5 L -1.88 80.72\" visibility=\"hidden\" gadfly:scale=\"1.0\"/>\n",
       "      <path fill=\"none\" d=\"M17.59,5 L 17.59 80.72\" visibility=\"visible\" gadfly:scale=\"1.0\"/>\n",
       "      <path fill=\"none\" d=\"M37.06,5 L 37.06 80.72\" visibility=\"visible\" gadfly:scale=\"1.0\"/>\n",
       "      <path fill=\"none\" d=\"M56.54,5 L 56.54 80.72\" visibility=\"visible\" gadfly:scale=\"1.0\"/>\n",
       "      <path fill=\"none\" d=\"M76.01,5 L 76.01 80.72\" visibility=\"visible\" gadfly:scale=\"1.0\"/>\n",
       "      <path fill=\"none\" d=\"M95.48,5 L 95.48 80.72\" visibility=\"visible\" gadfly:scale=\"1.0\"/>\n",
       "      <path fill=\"none\" d=\"M114.95,5 L 114.95 80.72\" visibility=\"visible\" gadfly:scale=\"1.0\"/>\n",
       "      <path fill=\"none\" d=\"M134.42,5 L 134.42 80.72\" visibility=\"visible\" gadfly:scale=\"1.0\"/>\n",
       "      <path fill=\"none\" d=\"M153.89,5 L 153.89 80.72\" visibility=\"hidden\" gadfly:scale=\"1.0\"/>\n",
       "      <path fill=\"none\" d=\"M173.36,5 L 173.36 80.72\" visibility=\"hidden\" gadfly:scale=\"1.0\"/>\n",
       "      <path fill=\"none\" d=\"M192.84,5 L 192.84 80.72\" visibility=\"hidden\" gadfly:scale=\"1.0\"/>\n",
       "      <path fill=\"none\" d=\"M212.31,5 L 212.31 80.72\" visibility=\"hidden\" gadfly:scale=\"1.0\"/>\n",
       "      <path fill=\"none\" d=\"M231.78,5 L 231.78 80.72\" visibility=\"hidden\" gadfly:scale=\"1.0\"/>\n",
       "      <path fill=\"none\" d=\"M251.25,5 L 251.25 80.72\" visibility=\"hidden\" gadfly:scale=\"1.0\"/>\n",
       "      <path fill=\"none\" d=\"M270.72,5 L 270.72 80.72\" visibility=\"hidden\" gadfly:scale=\"1.0\"/>\n",
       "      <path fill=\"none\" d=\"M-99.24,5 L -99.24 80.72\" visibility=\"hidden\" gadfly:scale=\"10.0\"/>\n",
       "      <path fill=\"none\" d=\"M-95.34,5 L -95.34 80.72\" visibility=\"hidden\" gadfly:scale=\"10.0\"/>\n",
       "      <path fill=\"none\" d=\"M-91.45,5 L -91.45 80.72\" visibility=\"hidden\" gadfly:scale=\"10.0\"/>\n",
       "      <path fill=\"none\" d=\"M-87.55,5 L -87.55 80.72\" visibility=\"hidden\" gadfly:scale=\"10.0\"/>\n",
       "      <path fill=\"none\" d=\"M-83.66,5 L -83.66 80.72\" visibility=\"hidden\" gadfly:scale=\"10.0\"/>\n",
       "      <path fill=\"none\" d=\"M-79.76,5 L -79.76 80.72\" visibility=\"hidden\" gadfly:scale=\"10.0\"/>\n",
       "      <path fill=\"none\" d=\"M-75.87,5 L -75.87 80.72\" visibility=\"hidden\" gadfly:scale=\"10.0\"/>\n",
       "      <path fill=\"none\" d=\"M-71.98,5 L -71.98 80.72\" visibility=\"hidden\" gadfly:scale=\"10.0\"/>\n",
       "      <path fill=\"none\" d=\"M-68.08,5 L -68.08 80.72\" visibility=\"hidden\" gadfly:scale=\"10.0\"/>\n",
       "      <path fill=\"none\" d=\"M-64.19,5 L -64.19 80.72\" visibility=\"hidden\" gadfly:scale=\"10.0\"/>\n",
       "      <path fill=\"none\" d=\"M-60.29,5 L -60.29 80.72\" visibility=\"hidden\" gadfly:scale=\"10.0\"/>\n",
       "      <path fill=\"none\" d=\"M-56.4,5 L -56.4 80.72\" visibility=\"hidden\" gadfly:scale=\"10.0\"/>\n",
       "      <path fill=\"none\" d=\"M-52.5,5 L -52.5 80.72\" visibility=\"hidden\" gadfly:scale=\"10.0\"/>\n",
       "      <path fill=\"none\" d=\"M-48.61,5 L -48.61 80.72\" visibility=\"hidden\" gadfly:scale=\"10.0\"/>\n",
       "      <path fill=\"none\" d=\"M-44.72,5 L -44.72 80.72\" visibility=\"hidden\" gadfly:scale=\"10.0\"/>\n",
       "      <path fill=\"none\" d=\"M-40.82,5 L -40.82 80.72\" visibility=\"hidden\" gadfly:scale=\"10.0\"/>\n",
       "      <path fill=\"none\" d=\"M-36.93,5 L -36.93 80.72\" visibility=\"hidden\" gadfly:scale=\"10.0\"/>\n",
       "      <path fill=\"none\" d=\"M-33.03,5 L -33.03 80.72\" visibility=\"hidden\" gadfly:scale=\"10.0\"/>\n",
       "      <path fill=\"none\" d=\"M-29.14,5 L -29.14 80.72\" visibility=\"hidden\" gadfly:scale=\"10.0\"/>\n",
       "      <path fill=\"none\" d=\"M-25.24,5 L -25.24 80.72\" visibility=\"hidden\" gadfly:scale=\"10.0\"/>\n",
       "      <path fill=\"none\" d=\"M-21.35,5 L -21.35 80.72\" visibility=\"hidden\" gadfly:scale=\"10.0\"/>\n",
       "      <path fill=\"none\" d=\"M-17.46,5 L -17.46 80.72\" visibility=\"hidden\" gadfly:scale=\"10.0\"/>\n",
       "      <path fill=\"none\" d=\"M-13.56,5 L -13.56 80.72\" visibility=\"hidden\" gadfly:scale=\"10.0\"/>\n",
       "      <path fill=\"none\" d=\"M-9.67,5 L -9.67 80.72\" visibility=\"hidden\" gadfly:scale=\"10.0\"/>\n",
       "      <path fill=\"none\" d=\"M-5.77,5 L -5.77 80.72\" visibility=\"hidden\" gadfly:scale=\"10.0\"/>\n",
       "      <path fill=\"none\" d=\"M-1.88,5 L -1.88 80.72\" visibility=\"hidden\" gadfly:scale=\"10.0\"/>\n",
       "      <path fill=\"none\" d=\"M2.02,5 L 2.02 80.72\" visibility=\"hidden\" gadfly:scale=\"10.0\"/>\n",
       "      <path fill=\"none\" d=\"M5.91,5 L 5.91 80.72\" visibility=\"hidden\" gadfly:scale=\"10.0\"/>\n",
       "      <path fill=\"none\" d=\"M9.8,5 L 9.8 80.72\" visibility=\"hidden\" gadfly:scale=\"10.0\"/>\n",
       "      <path fill=\"none\" d=\"M13.7,5 L 13.7 80.72\" visibility=\"hidden\" gadfly:scale=\"10.0\"/>\n",
       "      <path fill=\"none\" d=\"M17.59,5 L 17.59 80.72\" visibility=\"hidden\" gadfly:scale=\"10.0\"/>\n",
       "      <path fill=\"none\" d=\"M21.49,5 L 21.49 80.72\" visibility=\"hidden\" gadfly:scale=\"10.0\"/>\n",
       "      <path fill=\"none\" d=\"M25.38,5 L 25.38 80.72\" visibility=\"hidden\" gadfly:scale=\"10.0\"/>\n",
       "      <path fill=\"none\" d=\"M29.28,5 L 29.28 80.72\" visibility=\"hidden\" gadfly:scale=\"10.0\"/>\n",
       "      <path fill=\"none\" d=\"M33.17,5 L 33.17 80.72\" visibility=\"hidden\" gadfly:scale=\"10.0\"/>\n",
       "      <path fill=\"none\" d=\"M37.06,5 L 37.06 80.72\" visibility=\"hidden\" gadfly:scale=\"10.0\"/>\n",
       "      <path fill=\"none\" d=\"M40.96,5 L 40.96 80.72\" visibility=\"hidden\" gadfly:scale=\"10.0\"/>\n",
       "      <path fill=\"none\" d=\"M44.85,5 L 44.85 80.72\" visibility=\"hidden\" gadfly:scale=\"10.0\"/>\n",
       "      <path fill=\"none\" d=\"M48.75,5 L 48.75 80.72\" visibility=\"hidden\" gadfly:scale=\"10.0\"/>\n",
       "      <path fill=\"none\" d=\"M52.64,5 L 52.64 80.72\" visibility=\"hidden\" gadfly:scale=\"10.0\"/>\n",
       "      <path fill=\"none\" d=\"M56.54,5 L 56.54 80.72\" visibility=\"hidden\" gadfly:scale=\"10.0\"/>\n",
       "      <path fill=\"none\" d=\"M60.43,5 L 60.43 80.72\" visibility=\"hidden\" gadfly:scale=\"10.0\"/>\n",
       "      <path fill=\"none\" d=\"M64.32,5 L 64.32 80.72\" visibility=\"hidden\" gadfly:scale=\"10.0\"/>\n",
       "      <path fill=\"none\" d=\"M68.22,5 L 68.22 80.72\" visibility=\"hidden\" gadfly:scale=\"10.0\"/>\n",
       "      <path fill=\"none\" d=\"M72.11,5 L 72.11 80.72\" visibility=\"hidden\" gadfly:scale=\"10.0\"/>\n",
       "      <path fill=\"none\" d=\"M76.01,5 L 76.01 80.72\" visibility=\"hidden\" gadfly:scale=\"10.0\"/>\n",
       "      <path fill=\"none\" d=\"M79.9,5 L 79.9 80.72\" visibility=\"hidden\" gadfly:scale=\"10.0\"/>\n",
       "      <path fill=\"none\" d=\"M83.8,5 L 83.8 80.72\" visibility=\"hidden\" gadfly:scale=\"10.0\"/>\n",
       "      <path fill=\"none\" d=\"M87.69,5 L 87.69 80.72\" visibility=\"hidden\" gadfly:scale=\"10.0\"/>\n",
       "      <path fill=\"none\" d=\"M91.58,5 L 91.58 80.72\" visibility=\"hidden\" gadfly:scale=\"10.0\"/>\n",
       "      <path fill=\"none\" d=\"M95.48,5 L 95.48 80.72\" visibility=\"hidden\" gadfly:scale=\"10.0\"/>\n",
       "      <path fill=\"none\" d=\"M99.37,5 L 99.37 80.72\" visibility=\"hidden\" gadfly:scale=\"10.0\"/>\n",
       "      <path fill=\"none\" d=\"M103.27,5 L 103.27 80.72\" visibility=\"hidden\" gadfly:scale=\"10.0\"/>\n",
       "      <path fill=\"none\" d=\"M107.16,5 L 107.16 80.72\" visibility=\"hidden\" gadfly:scale=\"10.0\"/>\n",
       "      <path fill=\"none\" d=\"M111.06,5 L 111.06 80.72\" visibility=\"hidden\" gadfly:scale=\"10.0\"/>\n",
       "      <path fill=\"none\" d=\"M114.95,5 L 114.95 80.72\" visibility=\"hidden\" gadfly:scale=\"10.0\"/>\n",
       "      <path fill=\"none\" d=\"M118.84,5 L 118.84 80.72\" visibility=\"hidden\" gadfly:scale=\"10.0\"/>\n",
       "      <path fill=\"none\" d=\"M122.74,5 L 122.74 80.72\" visibility=\"hidden\" gadfly:scale=\"10.0\"/>\n",
       "      <path fill=\"none\" d=\"M126.63,5 L 126.63 80.72\" visibility=\"hidden\" gadfly:scale=\"10.0\"/>\n",
       "      <path fill=\"none\" d=\"M130.53,5 L 130.53 80.72\" visibility=\"hidden\" gadfly:scale=\"10.0\"/>\n",
       "      <path fill=\"none\" d=\"M134.42,5 L 134.42 80.72\" visibility=\"hidden\" gadfly:scale=\"10.0\"/>\n",
       "      <path fill=\"none\" d=\"M138.32,5 L 138.32 80.72\" visibility=\"hidden\" gadfly:scale=\"10.0\"/>\n",
       "      <path fill=\"none\" d=\"M142.21,5 L 142.21 80.72\" visibility=\"hidden\" gadfly:scale=\"10.0\"/>\n",
       "      <path fill=\"none\" d=\"M146.1,5 L 146.1 80.72\" visibility=\"hidden\" gadfly:scale=\"10.0\"/>\n",
       "      <path fill=\"none\" d=\"M150,5 L 150 80.72\" visibility=\"hidden\" gadfly:scale=\"10.0\"/>\n",
       "      <path fill=\"none\" d=\"M153.89,5 L 153.89 80.72\" visibility=\"hidden\" gadfly:scale=\"10.0\"/>\n",
       "      <path fill=\"none\" d=\"M157.79,5 L 157.79 80.72\" visibility=\"hidden\" gadfly:scale=\"10.0\"/>\n",
       "      <path fill=\"none\" d=\"M161.68,5 L 161.68 80.72\" visibility=\"hidden\" gadfly:scale=\"10.0\"/>\n",
       "      <path fill=\"none\" d=\"M165.58,5 L 165.58 80.72\" visibility=\"hidden\" gadfly:scale=\"10.0\"/>\n",
       "      <path fill=\"none\" d=\"M169.47,5 L 169.47 80.72\" visibility=\"hidden\" gadfly:scale=\"10.0\"/>\n",
       "      <path fill=\"none\" d=\"M173.36,5 L 173.36 80.72\" visibility=\"hidden\" gadfly:scale=\"10.0\"/>\n",
       "      <path fill=\"none\" d=\"M177.26,5 L 177.26 80.72\" visibility=\"hidden\" gadfly:scale=\"10.0\"/>\n",
       "      <path fill=\"none\" d=\"M181.15,5 L 181.15 80.72\" visibility=\"hidden\" gadfly:scale=\"10.0\"/>\n",
       "      <path fill=\"none\" d=\"M185.05,5 L 185.05 80.72\" visibility=\"hidden\" gadfly:scale=\"10.0\"/>\n",
       "      <path fill=\"none\" d=\"M188.94,5 L 188.94 80.72\" visibility=\"hidden\" gadfly:scale=\"10.0\"/>\n",
       "      <path fill=\"none\" d=\"M192.84,5 L 192.84 80.72\" visibility=\"hidden\" gadfly:scale=\"10.0\"/>\n",
       "      <path fill=\"none\" d=\"M196.73,5 L 196.73 80.72\" visibility=\"hidden\" gadfly:scale=\"10.0\"/>\n",
       "      <path fill=\"none\" d=\"M200.62,5 L 200.62 80.72\" visibility=\"hidden\" gadfly:scale=\"10.0\"/>\n",
       "      <path fill=\"none\" d=\"M204.52,5 L 204.52 80.72\" visibility=\"hidden\" gadfly:scale=\"10.0\"/>\n",
       "      <path fill=\"none\" d=\"M208.41,5 L 208.41 80.72\" visibility=\"hidden\" gadfly:scale=\"10.0\"/>\n",
       "      <path fill=\"none\" d=\"M212.31,5 L 212.31 80.72\" visibility=\"hidden\" gadfly:scale=\"10.0\"/>\n",
       "      <path fill=\"none\" d=\"M216.2,5 L 216.2 80.72\" visibility=\"hidden\" gadfly:scale=\"10.0\"/>\n",
       "      <path fill=\"none\" d=\"M220.1,5 L 220.1 80.72\" visibility=\"hidden\" gadfly:scale=\"10.0\"/>\n",
       "      <path fill=\"none\" d=\"M223.99,5 L 223.99 80.72\" visibility=\"hidden\" gadfly:scale=\"10.0\"/>\n",
       "      <path fill=\"none\" d=\"M227.88,5 L 227.88 80.72\" visibility=\"hidden\" gadfly:scale=\"10.0\"/>\n",
       "      <path fill=\"none\" d=\"M231.78,5 L 231.78 80.72\" visibility=\"hidden\" gadfly:scale=\"10.0\"/>\n",
       "      <path fill=\"none\" d=\"M235.67,5 L 235.67 80.72\" visibility=\"hidden\" gadfly:scale=\"10.0\"/>\n",
       "      <path fill=\"none\" d=\"M239.57,5 L 239.57 80.72\" visibility=\"hidden\" gadfly:scale=\"10.0\"/>\n",
       "      <path fill=\"none\" d=\"M243.46,5 L 243.46 80.72\" visibility=\"hidden\" gadfly:scale=\"10.0\"/>\n",
       "      <path fill=\"none\" d=\"M247.36,5 L 247.36 80.72\" visibility=\"hidden\" gadfly:scale=\"10.0\"/>\n",
       "      <path fill=\"none\" d=\"M251.25,5 L 251.25 80.72\" visibility=\"hidden\" gadfly:scale=\"10.0\"/>\n",
       "      <path fill=\"none\" d=\"M-118.71,5 L -118.71 80.72\" visibility=\"hidden\" gadfly:scale=\"0.5\"/>\n",
       "      <path fill=\"none\" d=\"M-21.35,5 L -21.35 80.72\" visibility=\"hidden\" gadfly:scale=\"0.5\"/>\n",
       "      <path fill=\"none\" d=\"M76.01,5 L 76.01 80.72\" visibility=\"hidden\" gadfly:scale=\"0.5\"/>\n",
       "      <path fill=\"none\" d=\"M173.36,5 L 173.36 80.72\" visibility=\"hidden\" gadfly:scale=\"0.5\"/>\n",
       "      <path fill=\"none\" d=\"M270.72,5 L 270.72 80.72\" visibility=\"hidden\" gadfly:scale=\"0.5\"/>\n",
       "      <path fill=\"none\" d=\"M-99.24,5 L -99.24 80.72\" visibility=\"hidden\" gadfly:scale=\"5.0\"/>\n",
       "      <path fill=\"none\" d=\"M-89.5,5 L -89.5 80.72\" visibility=\"hidden\" gadfly:scale=\"5.0\"/>\n",
       "      <path fill=\"none\" d=\"M-79.76,5 L -79.76 80.72\" visibility=\"hidden\" gadfly:scale=\"5.0\"/>\n",
       "      <path fill=\"none\" d=\"M-70.03,5 L -70.03 80.72\" visibility=\"hidden\" gadfly:scale=\"5.0\"/>\n",
       "      <path fill=\"none\" d=\"M-60.29,5 L -60.29 80.72\" visibility=\"hidden\" gadfly:scale=\"5.0\"/>\n",
       "      <path fill=\"none\" d=\"M-50.56,5 L -50.56 80.72\" visibility=\"hidden\" gadfly:scale=\"5.0\"/>\n",
       "      <path fill=\"none\" d=\"M-40.82,5 L -40.82 80.72\" visibility=\"hidden\" gadfly:scale=\"5.0\"/>\n",
       "      <path fill=\"none\" d=\"M-31.09,5 L -31.09 80.72\" visibility=\"hidden\" gadfly:scale=\"5.0\"/>\n",
       "      <path fill=\"none\" d=\"M-21.35,5 L -21.35 80.72\" visibility=\"hidden\" gadfly:scale=\"5.0\"/>\n",
       "      <path fill=\"none\" d=\"M-11.61,5 L -11.61 80.72\" visibility=\"hidden\" gadfly:scale=\"5.0\"/>\n",
       "      <path fill=\"none\" d=\"M-1.88,5 L -1.88 80.72\" visibility=\"hidden\" gadfly:scale=\"5.0\"/>\n",
       "      <path fill=\"none\" d=\"M7.86,5 L 7.86 80.72\" visibility=\"hidden\" gadfly:scale=\"5.0\"/>\n",
       "      <path fill=\"none\" d=\"M17.59,5 L 17.59 80.72\" visibility=\"hidden\" gadfly:scale=\"5.0\"/>\n",
       "      <path fill=\"none\" d=\"M27.33,5 L 27.33 80.72\" visibility=\"hidden\" gadfly:scale=\"5.0\"/>\n",
       "      <path fill=\"none\" d=\"M37.06,5 L 37.06 80.72\" visibility=\"hidden\" gadfly:scale=\"5.0\"/>\n",
       "      <path fill=\"none\" d=\"M46.8,5 L 46.8 80.72\" visibility=\"hidden\" gadfly:scale=\"5.0\"/>\n",
       "      <path fill=\"none\" d=\"M56.54,5 L 56.54 80.72\" visibility=\"hidden\" gadfly:scale=\"5.0\"/>\n",
       "      <path fill=\"none\" d=\"M66.27,5 L 66.27 80.72\" visibility=\"hidden\" gadfly:scale=\"5.0\"/>\n",
       "      <path fill=\"none\" d=\"M76.01,5 L 76.01 80.72\" visibility=\"hidden\" gadfly:scale=\"5.0\"/>\n",
       "      <path fill=\"none\" d=\"M85.74,5 L 85.74 80.72\" visibility=\"hidden\" gadfly:scale=\"5.0\"/>\n",
       "      <path fill=\"none\" d=\"M95.48,5 L 95.48 80.72\" visibility=\"hidden\" gadfly:scale=\"5.0\"/>\n",
       "      <path fill=\"none\" d=\"M105.21,5 L 105.21 80.72\" visibility=\"hidden\" gadfly:scale=\"5.0\"/>\n",
       "      <path fill=\"none\" d=\"M114.95,5 L 114.95 80.72\" visibility=\"hidden\" gadfly:scale=\"5.0\"/>\n",
       "      <path fill=\"none\" d=\"M124.69,5 L 124.69 80.72\" visibility=\"hidden\" gadfly:scale=\"5.0\"/>\n",
       "      <path fill=\"none\" d=\"M134.42,5 L 134.42 80.72\" visibility=\"hidden\" gadfly:scale=\"5.0\"/>\n",
       "      <path fill=\"none\" d=\"M144.16,5 L 144.16 80.72\" visibility=\"hidden\" gadfly:scale=\"5.0\"/>\n",
       "      <path fill=\"none\" d=\"M153.89,5 L 153.89 80.72\" visibility=\"hidden\" gadfly:scale=\"5.0\"/>\n",
       "      <path fill=\"none\" d=\"M163.63,5 L 163.63 80.72\" visibility=\"hidden\" gadfly:scale=\"5.0\"/>\n",
       "      <path fill=\"none\" d=\"M173.36,5 L 173.36 80.72\" visibility=\"hidden\" gadfly:scale=\"5.0\"/>\n",
       "      <path fill=\"none\" d=\"M183.1,5 L 183.1 80.72\" visibility=\"hidden\" gadfly:scale=\"5.0\"/>\n",
       "      <path fill=\"none\" d=\"M192.84,5 L 192.84 80.72\" visibility=\"hidden\" gadfly:scale=\"5.0\"/>\n",
       "      <path fill=\"none\" d=\"M202.57,5 L 202.57 80.72\" visibility=\"hidden\" gadfly:scale=\"5.0\"/>\n",
       "      <path fill=\"none\" d=\"M212.31,5 L 212.31 80.72\" visibility=\"hidden\" gadfly:scale=\"5.0\"/>\n",
       "      <path fill=\"none\" d=\"M222.04,5 L 222.04 80.72\" visibility=\"hidden\" gadfly:scale=\"5.0\"/>\n",
       "      <path fill=\"none\" d=\"M231.78,5 L 231.78 80.72\" visibility=\"hidden\" gadfly:scale=\"5.0\"/>\n",
       "      <path fill=\"none\" d=\"M241.51,5 L 241.51 80.72\" visibility=\"hidden\" gadfly:scale=\"5.0\"/>\n",
       "      <path fill=\"none\" d=\"M251.25,5 L 251.25 80.72\" visibility=\"hidden\" gadfly:scale=\"5.0\"/>\n",
       "    </g>\n",
       "    <g class=\"plotpanel\" id=\"img-635cd56b-9\">\n",
       "      <g class=\"geometry\" id=\"img-635cd56b-10\">\n",
       "        <g class=\"color_RGBA{Float32}(0.0f0,0.74736935f0,1.0f0,1.0f0)\" stroke-width=\"0.3\" id=\"img-635cd56b-11\">\n",
       "          <g stroke=\"#FFFFFF\" fill=\"#00BFFF\" id=\"img-635cd56b-12\">\n",
       "            <use xlink:href=\"#img-635cd56b-13\" x=\"105.21\" y=\"20.08\"/>\n",
       "          </g>\n",
       "          <g stroke=\"#FFFFFF\" fill=\"#00BFFF\" id=\"img-635cd56b-14\">\n",
       "            <use xlink:href=\"#img-635cd56b-15\" x=\"42.71\" y=\"35.15\"/>\n",
       "          </g>\n",
       "          <g stroke=\"#FFFFFF\" fill=\"#00BFFF\" id=\"img-635cd56b-16\">\n",
       "            <use xlink:href=\"#img-635cd56b-17\" x=\"60.15\" y=\"58.12\"/>\n",
       "          </g>\n",
       "          <g stroke=\"#FFFFFF\" fill=\"#00BFFF\" id=\"img-635cd56b-18\">\n",
       "            <use xlink:href=\"#img-635cd56b-19\" x=\"79.05\" y=\"47.31\"/>\n",
       "          </g>\n",
       "          <g stroke=\"#FFFFFF\" fill=\"#00BFFF\" id=\"img-635cd56b-20\">\n",
       "            <use xlink:href=\"#img-635cd56b-21\" x=\"72.79\" y=\"60.81\"/>\n",
       "          </g>\n",
       "          <g stroke=\"#FFFFFF\" fill=\"#00BFFF\" id=\"img-635cd56b-22\">\n",
       "            <use xlink:href=\"#img-635cd56b-23\" x=\"100.54\" y=\"35.68\"/>\n",
       "          </g>\n",
       "          <g stroke=\"#FFFFFF\" fill=\"#00BFFF\" id=\"img-635cd56b-24\">\n",
       "            <use xlink:href=\"#img-635cd56b-25\" x=\"105.67\" y=\"34.79\"/>\n",
       "          </g>\n",
       "          <g stroke=\"#FFFFFF\" fill=\"#00BFFF\" id=\"img-635cd56b-26\">\n",
       "            <use xlink:href=\"#img-635cd56b-27\" x=\"80.1\" y=\"38.51\"/>\n",
       "          </g>\n",
       "          <g stroke=\"#FFFFFF\" fill=\"#00BFFF\" id=\"img-635cd56b-28\">\n",
       "            <use xlink:href=\"#img-635cd56b-29\" x=\"84.96\" y=\"48.78\"/>\n",
       "          </g>\n",
       "          <g stroke=\"#FFFFFF\" fill=\"#00BFFF\" id=\"img-635cd56b-30\">\n",
       "            <use xlink:href=\"#img-635cd56b-31\" x=\"81.05\" y=\"30.92\"/>\n",
       "          </g>\n",
       "          <g stroke=\"#FFFFFF\" fill=\"#00BFFF\" id=\"img-635cd56b-32\">\n",
       "            <use xlink:href=\"#img-635cd56b-33\" x=\"82.24\" y=\"52.27\"/>\n",
       "          </g>\n",
       "          <g stroke=\"#FFFFFF\" fill=\"#00BFFF\" id=\"img-635cd56b-34\">\n",
       "            <use xlink:href=\"#img-635cd56b-35\" x=\"83\" y=\"41.03\"/>\n",
       "          </g>\n",
       "          <g stroke=\"#FFFFFF\" fill=\"#00BFFF\" id=\"img-635cd56b-36\">\n",
       "            <use xlink:href=\"#img-635cd56b-37\" x=\"80.24\" y=\"18.84\"/>\n",
       "          </g>\n",
       "          <g stroke=\"#FFFFFF\" fill=\"#00BFFF\" id=\"img-635cd56b-38\">\n",
       "            <use xlink:href=\"#img-635cd56b-39\" x=\"66.87\" y=\"34.5\"/>\n",
       "          </g>\n",
       "          <g stroke=\"#FFFFFF\" fill=\"#00BFFF\" id=\"img-635cd56b-40\">\n",
       "            <use xlink:href=\"#img-635cd56b-41\" x=\"72.66\" y=\"32.44\"/>\n",
       "          </g>\n",
       "          <g stroke=\"#FFFFFF\" fill=\"#00BFFF\" id=\"img-635cd56b-42\">\n",
       "            <use xlink:href=\"#img-635cd56b-43\" x=\"91.53\" y=\"36.8\"/>\n",
       "          </g>\n",
       "          <g stroke=\"#FFFFFF\" fill=\"#00BFFF\" id=\"img-635cd56b-44\">\n",
       "            <use xlink:href=\"#img-635cd56b-45\" x=\"105.2\" y=\"31.07\"/>\n",
       "          </g>\n",
       "          <g stroke=\"#FFFFFF\" fill=\"#00BFFF\" id=\"img-635cd56b-46\">\n",
       "            <use xlink:href=\"#img-635cd56b-47\" x=\"70.81\" y=\"39.11\"/>\n",
       "          </g>\n",
       "          <g stroke=\"#FFFFFF\" fill=\"#00BFFF\" id=\"img-635cd56b-48\">\n",
       "            <use xlink:href=\"#img-635cd56b-49\" x=\"66.17\" y=\"35.37\"/>\n",
       "          </g>\n",
       "          <g stroke=\"#FFFFFF\" fill=\"#00BFFF\" id=\"img-635cd56b-50\">\n",
       "            <use xlink:href=\"#img-635cd56b-51\" x=\"98.36\" y=\"41.46\"/>\n",
       "          </g>\n",
       "          <g stroke=\"#FFFFFF\" fill=\"#00BFFF\" id=\"img-635cd56b-52\">\n",
       "            <use xlink:href=\"#img-635cd56b-53\" x=\"58.3\" y=\"59.55\"/>\n",
       "          </g>\n",
       "          <g stroke=\"#FFFFFF\" fill=\"#00BFFF\" id=\"img-635cd56b-54\">\n",
       "            <use xlink:href=\"#img-635cd56b-55\" x=\"118.05\" y=\"27.59\"/>\n",
       "          </g>\n",
       "          <g stroke=\"#FFFFFF\" fill=\"#00BFFF\" id=\"img-635cd56b-56\">\n",
       "            <use xlink:href=\"#img-635cd56b-57\" x=\"105\" y=\"35.62\"/>\n",
       "          </g>\n",
       "          <g stroke=\"#FFFFFF\" fill=\"#00BFFF\" id=\"img-635cd56b-58\">\n",
       "            <use xlink:href=\"#img-635cd56b-59\" x=\"99.88\" y=\"37.14\"/>\n",
       "          </g>\n",
       "          <g stroke=\"#FFFFFF\" fill=\"#00BFFF\" id=\"img-635cd56b-60\">\n",
       "            <use xlink:href=\"#img-635cd56b-61\" x=\"67.46\" y=\"34.12\"/>\n",
       "          </g>\n",
       "          <g stroke=\"#FFFFFF\" fill=\"#00BFFF\" id=\"img-635cd56b-62\">\n",
       "            <use xlink:href=\"#img-635cd56b-63\" x=\"44.98\" y=\"26.59\"/>\n",
       "          </g>\n",
       "          <g stroke=\"#FFFFFF\" fill=\"#00BFFF\" id=\"img-635cd56b-64\">\n",
       "            <use xlink:href=\"#img-635cd56b-65\" x=\"50.17\" y=\"45.64\"/>\n",
       "          </g>\n",
       "          <g stroke=\"#FFFFFF\" fill=\"#00BFFF\" id=\"img-635cd56b-66\">\n",
       "            <use xlink:href=\"#img-635cd56b-67\" x=\"98.88\" y=\"53.92\"/>\n",
       "          </g>\n",
       "          <g stroke=\"#FFFFFF\" fill=\"#00BFFF\" id=\"img-635cd56b-68\">\n",
       "            <use xlink:href=\"#img-635cd56b-69\" x=\"95.52\" y=\"38.61\"/>\n",
       "          </g>\n",
       "          <g stroke=\"#FFFFFF\" fill=\"#00BFFF\" id=\"img-635cd56b-70\">\n",
       "            <use xlink:href=\"#img-635cd56b-71\" x=\"67.96\" y=\"41.05\"/>\n",
       "          </g>\n",
       "          <g stroke=\"#FFFFFF\" fill=\"#00BFFF\" id=\"img-635cd56b-72\">\n",
       "            <use xlink:href=\"#img-635cd56b-73\" x=\"66.42\" y=\"27.92\"/>\n",
       "          </g>\n",
       "          <g stroke=\"#FFFFFF\" fill=\"#00BFFF\" id=\"img-635cd56b-74\">\n",
       "            <use xlink:href=\"#img-635cd56b-75\" x=\"47.82\" y=\"43.7\"/>\n",
       "          </g>\n",
       "          <g stroke=\"#FFFFFF\" fill=\"#00BFFF\" id=\"img-635cd56b-76\">\n",
       "            <use xlink:href=\"#img-635cd56b-77\" x=\"82.25\" y=\"41.82\"/>\n",
       "          </g>\n",
       "          <g stroke=\"#FFFFFF\" fill=\"#00BFFF\" id=\"img-635cd56b-78\">\n",
       "            <use xlink:href=\"#img-635cd56b-79\" x=\"42.52\" y=\"55.93\"/>\n",
       "          </g>\n",
       "          <g stroke=\"#FFFFFF\" fill=\"#00BFFF\" id=\"img-635cd56b-80\">\n",
       "            <use xlink:href=\"#img-635cd56b-81\" x=\"64.01\" y=\"35.17\"/>\n",
       "          </g>\n",
       "          <g stroke=\"#FFFFFF\" fill=\"#00BFFF\" id=\"img-635cd56b-82\">\n",
       "            <use xlink:href=\"#img-635cd56b-83\" x=\"78.62\" y=\"41.53\"/>\n",
       "          </g>\n",
       "          <g stroke=\"#FFFFFF\" fill=\"#00BFFF\" id=\"img-635cd56b-84\">\n",
       "            <use xlink:href=\"#img-635cd56b-85\" x=\"49.04\" y=\"46.09\"/>\n",
       "          </g>\n",
       "          <g stroke=\"#FFFFFF\" fill=\"#00BFFF\" id=\"img-635cd56b-86\">\n",
       "            <use xlink:href=\"#img-635cd56b-87\" x=\"57.25\" y=\"42.13\"/>\n",
       "          </g>\n",
       "          <g stroke=\"#FFFFFF\" fill=\"#00BFFF\" id=\"img-635cd56b-88\">\n",
       "            <use xlink:href=\"#img-635cd56b-89\" x=\"65.59\" y=\"44.71\"/>\n",
       "          </g>\n",
       "          <g stroke=\"#FFFFFF\" fill=\"#00BFFF\" id=\"img-635cd56b-90\">\n",
       "            <use xlink:href=\"#img-635cd56b-91\" x=\"47.37\" y=\"53.79\"/>\n",
       "          </g>\n",
       "          <g stroke=\"#FFFFFF\" fill=\"#00BFFF\" id=\"img-635cd56b-92\">\n",
       "            <use xlink:href=\"#img-635cd56b-93\" x=\"112.63\" y=\"35.94\"/>\n",
       "          </g>\n",
       "          <g stroke=\"#FFFFFF\" fill=\"#00BFFF\" id=\"img-635cd56b-94\">\n",
       "            <use xlink:href=\"#img-635cd56b-95\" x=\"53.62\" y=\"16.71\"/>\n",
       "          </g>\n",
       "          <g stroke=\"#FFFFFF\" fill=\"#00BFFF\" id=\"img-635cd56b-96\">\n",
       "            <use xlink:href=\"#img-635cd56b-97\" x=\"64.93\" y=\"48.4\"/>\n",
       "          </g>\n",
       "          <g stroke=\"#FFFFFF\" fill=\"#00BFFF\" id=\"img-635cd56b-98\">\n",
       "            <use xlink:href=\"#img-635cd56b-99\" x=\"36.92\" y=\"43.96\"/>\n",
       "          </g>\n",
       "          <g stroke=\"#FFFFFF\" fill=\"#00BFFF\" id=\"img-635cd56b-100\">\n",
       "            <use xlink:href=\"#img-635cd56b-101\" x=\"68.98\" y=\"37.66\"/>\n",
       "          </g>\n",
       "          <g stroke=\"#FFFFFF\" fill=\"#00BFFF\" id=\"img-635cd56b-102\">\n",
       "            <use xlink:href=\"#img-635cd56b-103\" x=\"75.42\" y=\"60\"/>\n",
       "          </g>\n",
       "          <g stroke=\"#FFFFFF\" fill=\"#00BFFF\" id=\"img-635cd56b-104\">\n",
       "            <use xlink:href=\"#img-635cd56b-105\" x=\"90.79\" y=\"51.28\"/>\n",
       "          </g>\n",
       "          <g stroke=\"#FFFFFF\" fill=\"#00BFFF\" id=\"img-635cd56b-106\">\n",
       "            <use xlink:href=\"#img-635cd56b-107\" x=\"74.92\" y=\"30.88\"/>\n",
       "          </g>\n",
       "          <g stroke=\"#FFFFFF\" fill=\"#00BFFF\" id=\"img-635cd56b-108\">\n",
       "            <use xlink:href=\"#img-635cd56b-109\" x=\"100.16\" y=\"43.82\"/>\n",
       "          </g>\n",
       "          <g stroke=\"#FFFFFF\" fill=\"#00BFFF\" id=\"img-635cd56b-110\">\n",
       "            <use xlink:href=\"#img-635cd56b-111\" x=\"49.75\" y=\"47.62\"/>\n",
       "          </g>\n",
       "          <g stroke=\"#FFFFFF\" fill=\"#00BFFF\" id=\"img-635cd56b-112\">\n",
       "            <use xlink:href=\"#img-635cd56b-113\" x=\"98\" y=\"35.22\"/>\n",
       "          </g>\n",
       "          <g stroke=\"#FFFFFF\" fill=\"#00BFFF\" id=\"img-635cd56b-114\">\n",
       "            <use xlink:href=\"#img-635cd56b-115\" x=\"59.46\" y=\"37.18\"/>\n",
       "          </g>\n",
       "          <g stroke=\"#FFFFFF\" fill=\"#00BFFF\" id=\"img-635cd56b-116\">\n",
       "            <use xlink:href=\"#img-635cd56b-117\" x=\"56.36\" y=\"47.59\"/>\n",
       "          </g>\n",
       "          <g stroke=\"#FFFFFF\" fill=\"#00BFFF\" id=\"img-635cd56b-118\">\n",
       "            <use xlink:href=\"#img-635cd56b-119\" x=\"80.03\" y=\"52.05\"/>\n",
       "          </g>\n",
       "          <g stroke=\"#FFFFFF\" fill=\"#00BFFF\" id=\"img-635cd56b-120\">\n",
       "            <use xlink:href=\"#img-635cd56b-121\" x=\"101.32\" y=\"54.45\"/>\n",
       "          </g>\n",
       "          <g stroke=\"#FFFFFF\" fill=\"#00BFFF\" id=\"img-635cd56b-122\">\n",
       "            <use xlink:href=\"#img-635cd56b-123\" x=\"109.79\" y=\"53.69\"/>\n",
       "          </g>\n",
       "          <g stroke=\"#FFFFFF\" fill=\"#00BFFF\" id=\"img-635cd56b-124\">\n",
       "            <use xlink:href=\"#img-635cd56b-125\" x=\"82.66\" y=\"21.37\"/>\n",
       "          </g>\n",
       "          <g stroke=\"#FFFFFF\" fill=\"#00BFFF\" id=\"img-635cd56b-126\">\n",
       "            <use xlink:href=\"#img-635cd56b-127\" x=\"77.38\" y=\"60.28\"/>\n",
       "          </g>\n",
       "          <g stroke=\"#FFFFFF\" fill=\"#00BFFF\" id=\"img-635cd56b-128\">\n",
       "            <use xlink:href=\"#img-635cd56b-129\" x=\"69.48\" y=\"45.27\"/>\n",
       "          </g>\n",
       "          <g stroke=\"#FFFFFF\" fill=\"#00BFFF\" id=\"img-635cd56b-130\">\n",
       "            <use xlink:href=\"#img-635cd56b-131\" x=\"50.91\" y=\"43.74\"/>\n",
       "          </g>\n",
       "          <g stroke=\"#FFFFFF\" fill=\"#00BFFF\" id=\"img-635cd56b-132\">\n",
       "            <use xlink:href=\"#img-635cd56b-133\" x=\"40.9\" y=\"19.29\"/>\n",
       "          </g>\n",
       "          <g stroke=\"#FFFFFF\" fill=\"#00BFFF\" id=\"img-635cd56b-134\">\n",
       "            <use xlink:href=\"#img-635cd56b-135\" x=\"63.07\" y=\"28.69\"/>\n",
       "          </g>\n",
       "          <g stroke=\"#FFFFFF\" fill=\"#00BFFF\" id=\"img-635cd56b-136\">\n",
       "            <use xlink:href=\"#img-635cd56b-137\" x=\"63.44\" y=\"48.22\"/>\n",
       "          </g>\n",
       "          <g stroke=\"#FFFFFF\" fill=\"#00BFFF\" id=\"img-635cd56b-138\">\n",
       "            <use xlink:href=\"#img-635cd56b-139\" x=\"83.38\" y=\"34.99\"/>\n",
       "          </g>\n",
       "          <g stroke=\"#FFFFFF\" fill=\"#00BFFF\" id=\"img-635cd56b-140\">\n",
       "            <use xlink:href=\"#img-635cd56b-141\" x=\"90.87\" y=\"54.15\"/>\n",
       "          </g>\n",
       "          <g stroke=\"#FFFFFF\" fill=\"#00BFFF\" id=\"img-635cd56b-142\">\n",
       "            <use xlink:href=\"#img-635cd56b-143\" x=\"87.06\" y=\"62.3\"/>\n",
       "          </g>\n",
       "          <g stroke=\"#FFFFFF\" fill=\"#00BFFF\" id=\"img-635cd56b-144\">\n",
       "            <use xlink:href=\"#img-635cd56b-145\" x=\"99.81\" y=\"33.82\"/>\n",
       "          </g>\n",
       "          <g stroke=\"#FFFFFF\" fill=\"#00BFFF\" id=\"img-635cd56b-146\">\n",
       "            <use xlink:href=\"#img-635cd56b-147\" x=\"74.71\" y=\"33.59\"/>\n",
       "          </g>\n",
       "          <g stroke=\"#FFFFFF\" fill=\"#00BFFF\" id=\"img-635cd56b-148\">\n",
       "            <use xlink:href=\"#img-635cd56b-149\" x=\"34.82\" y=\"48.66\"/>\n",
       "          </g>\n",
       "          <g stroke=\"#FFFFFF\" fill=\"#00BFFF\" id=\"img-635cd56b-150\">\n",
       "            <use xlink:href=\"#img-635cd56b-151\" x=\"72.79\" y=\"29.06\"/>\n",
       "          </g>\n",
       "          <g stroke=\"#FFFFFF\" fill=\"#00BFFF\" id=\"img-635cd56b-152\">\n",
       "            <use xlink:href=\"#img-635cd56b-153\" x=\"74.97\" y=\"59.97\"/>\n",
       "          </g>\n",
       "          <g stroke=\"#FFFFFF\" fill=\"#00BFFF\" id=\"img-635cd56b-154\">\n",
       "            <use xlink:href=\"#img-635cd56b-155\" x=\"52.25\" y=\"47.85\"/>\n",
       "          </g>\n",
       "          <g stroke=\"#FFFFFF\" fill=\"#00BFFF\" id=\"img-635cd56b-156\">\n",
       "            <use xlink:href=\"#img-635cd56b-157\" x=\"61.49\" y=\"75.71\"/>\n",
       "          </g>\n",
       "          <g stroke=\"#FFFFFF\" fill=\"#00BFFF\" id=\"img-635cd56b-158\">\n",
       "            <use xlink:href=\"#img-635cd56b-159\" x=\"74.58\" y=\"62.68\"/>\n",
       "          </g>\n",
       "          <g stroke=\"#FFFFFF\" fill=\"#00BFFF\" id=\"img-635cd56b-160\">\n",
       "            <use xlink:href=\"#img-635cd56b-161\" x=\"102.04\" y=\"41.07\"/>\n",
       "          </g>\n",
       "          <g stroke=\"#FFFFFF\" fill=\"#00BFFF\" id=\"img-635cd56b-162\">\n",
       "            <use xlink:href=\"#img-635cd56b-163\" x=\"74.77\" y=\"74.34\"/>\n",
       "          </g>\n",
       "          <g stroke=\"#FFFFFF\" fill=\"#00BFFF\" id=\"img-635cd56b-164\">\n",
       "            <use xlink:href=\"#img-635cd56b-165\" x=\"86.73\" y=\"36.37\"/>\n",
       "          </g>\n",
       "          <g stroke=\"#FFFFFF\" fill=\"#00BFFF\" id=\"img-635cd56b-166\">\n",
       "            <use xlink:href=\"#img-635cd56b-167\" x=\"89.05\" y=\"59.12\"/>\n",
       "          </g>\n",
       "          <g stroke=\"#FFFFFF\" fill=\"#00BFFF\" id=\"img-635cd56b-168\">\n",
       "            <use xlink:href=\"#img-635cd56b-169\" x=\"91.51\" y=\"58.77\"/>\n",
       "          </g>\n",
       "          <g stroke=\"#FFFFFF\" fill=\"#00BFFF\" id=\"img-635cd56b-170\">\n",
       "            <use xlink:href=\"#img-635cd56b-171\" x=\"42.33\" y=\"57.75\"/>\n",
       "          </g>\n",
       "          <g stroke=\"#FFFFFF\" fill=\"#00BFFF\" id=\"img-635cd56b-172\">\n",
       "            <use xlink:href=\"#img-635cd56b-173\" x=\"61.25\" y=\"36.77\"/>\n",
       "          </g>\n",
       "          <g stroke=\"#FFFFFF\" fill=\"#00BFFF\" id=\"img-635cd56b-174\">\n",
       "            <use xlink:href=\"#img-635cd56b-175\" x=\"78.36\" y=\"60.31\"/>\n",
       "          </g>\n",
       "          <g stroke=\"#FFFFFF\" fill=\"#00BFFF\" id=\"img-635cd56b-176\">\n",
       "            <use xlink:href=\"#img-635cd56b-177\" x=\"41.47\" y=\"39.77\"/>\n",
       "          </g>\n",
       "          <g stroke=\"#FFFFFF\" fill=\"#00BFFF\" id=\"img-635cd56b-178\">\n",
       "            <use xlink:href=\"#img-635cd56b-179\" x=\"62.5\" y=\"53.12\"/>\n",
       "          </g>\n",
       "          <g stroke=\"#FFFFFF\" fill=\"#00BFFF\" id=\"img-635cd56b-180\">\n",
       "            <use xlink:href=\"#img-635cd56b-181\" x=\"75.02\" y=\"57.6\"/>\n",
       "          </g>\n",
       "          <g stroke=\"#FFFFFF\" fill=\"#00BFFF\" id=\"img-635cd56b-182\">\n",
       "            <use xlink:href=\"#img-635cd56b-183\" x=\"83.96\" y=\"35.31\"/>\n",
       "          </g>\n",
       "          <g stroke=\"#FFFFFF\" fill=\"#00BFFF\" id=\"img-635cd56b-184\">\n",
       "            <use xlink:href=\"#img-635cd56b-185\" x=\"65.84\" y=\"27.47\"/>\n",
       "          </g>\n",
       "          <g stroke=\"#FFFFFF\" fill=\"#00BFFF\" id=\"img-635cd56b-186\">\n",
       "            <use xlink:href=\"#img-635cd56b-187\" x=\"84.94\" y=\"41.28\"/>\n",
       "          </g>\n",
       "          <g stroke=\"#FFFFFF\" fill=\"#00BFFF\" id=\"img-635cd56b-188\">\n",
       "            <use xlink:href=\"#img-635cd56b-189\" x=\"94.76\" y=\"47\"/>\n",
       "          </g>\n",
       "          <g stroke=\"#FFFFFF\" fill=\"#00BFFF\" id=\"img-635cd56b-190\">\n",
       "            <use xlink:href=\"#img-635cd56b-191\" x=\"87.37\" y=\"38.08\"/>\n",
       "          </g>\n",
       "          <g stroke=\"#FFFFFF\" fill=\"#00BFFF\" id=\"img-635cd56b-192\">\n",
       "            <use xlink:href=\"#img-635cd56b-193\" x=\"84.41\" y=\"50.39\"/>\n",
       "          </g>\n",
       "          <g stroke=\"#FFFFFF\" fill=\"#00BFFF\" id=\"img-635cd56b-194\">\n",
       "            <use xlink:href=\"#img-635cd56b-195\" x=\"86.33\" y=\"43.08\"/>\n",
       "          </g>\n",
       "          <g stroke=\"#FFFFFF\" fill=\"#00BFFF\" id=\"img-635cd56b-196\">\n",
       "            <use xlink:href=\"#img-635cd56b-197\" x=\"31.86\" y=\"61.08\"/>\n",
       "          </g>\n",
       "          <g stroke=\"#FFFFFF\" fill=\"#00BFFF\" id=\"img-635cd56b-198\">\n",
       "            <use xlink:href=\"#img-635cd56b-199\" x=\"120.7\" y=\"32.51\"/>\n",
       "          </g>\n",
       "          <g stroke=\"#FFFFFF\" fill=\"#00BFFF\" id=\"img-635cd56b-200\">\n",
       "            <use xlink:href=\"#img-635cd56b-201\" x=\"82.06\" y=\"47.62\"/>\n",
       "          </g>\n",
       "          <g stroke=\"#FFFFFF\" fill=\"#00BFFF\" id=\"img-635cd56b-202\">\n",
       "            <use xlink:href=\"#img-635cd56b-203\" x=\"59.67\" y=\"25.82\"/>\n",
       "          </g>\n",
       "          <g stroke=\"#FFFFFF\" fill=\"#00BFFF\" id=\"img-635cd56b-204\">\n",
       "            <use xlink:href=\"#img-635cd56b-205\" x=\"75.8\" y=\"66.37\"/>\n",
       "          </g>\n",
       "          <g stroke=\"#FFFFFF\" fill=\"#00BFFF\" id=\"img-635cd56b-206\">\n",
       "            <use xlink:href=\"#img-635cd56b-207\" x=\"64.37\" y=\"61.34\"/>\n",
       "          </g>\n",
       "          <g stroke=\"#FFFFFF\" fill=\"#00BFFF\" id=\"img-635cd56b-208\">\n",
       "            <use xlink:href=\"#img-635cd56b-209\" x=\"83.45\" y=\"48.24\"/>\n",
       "          </g>\n",
       "          <g stroke=\"#FFFFFF\" fill=\"#00BFFF\" id=\"img-635cd56b-210\">\n",
       "            <use xlink:href=\"#img-635cd56b-211\" x=\"81.8\" y=\"44.4\"/>\n",
       "          </g>\n",
       "        </g>\n",
       "      </g>\n",
       "    </g>\n",
       "    <g opacity=\"0\" class=\"guide zoomslider\" stroke=\"#000000\" stroke-opacity=\"0.000\" id=\"img-635cd56b-212\">\n",
       "      <g fill=\"#EAEAEA\" stroke-width=\"0.3\" stroke-opacity=\"0\" stroke=\"#6A6A6A\" id=\"img-635cd56b-213\">\n",
       "        <rect x=\"129.42\" y=\"8\" width=\"4\" height=\"4\"/>\n",
       "        <g class=\"button_logo\" fill=\"#6A6A6A\" id=\"img-635cd56b-214\">\n",
       "          <path d=\"M130.22,9.6 L 131.02 9.6 131.02 8.8 131.82 8.8 131.82 9.6 132.62 9.6 132.62 10.4 131.82 10.4 131.82 11.2 131.02 11.2 131.02 10.4 130.22 10.4 z\"/>\n",
       "        </g>\n",
       "      </g>\n",
       "      <g fill=\"#EAEAEA\" id=\"img-635cd56b-215\">\n",
       "        <rect x=\"109.92\" y=\"8\" width=\"19\" height=\"4\"/>\n",
       "      </g>\n",
       "      <g class=\"zoomslider_thumb\" fill=\"#6A6A6A\" id=\"img-635cd56b-216\">\n",
       "        <rect x=\"118.42\" y=\"8\" width=\"2\" height=\"4\"/>\n",
       "      </g>\n",
       "      <g fill=\"#EAEAEA\" stroke-width=\"0.3\" stroke-opacity=\"0\" stroke=\"#6A6A6A\" id=\"img-635cd56b-217\">\n",
       "        <rect x=\"105.42\" y=\"8\" width=\"4\" height=\"4\"/>\n",
       "        <g class=\"button_logo\" fill=\"#6A6A6A\" id=\"img-635cd56b-218\">\n",
       "          <path d=\"M106.22,9.6 L 108.62 9.6 108.62 10.4 106.22 10.4 z\"/>\n",
       "        </g>\n",
       "      </g>\n",
       "    </g>\n",
       "  </g>\n",
       "</g>\n",
       "  <g class=\"guide ylabels\" font-size=\"2.82\" font-family=\"'PT Sans Caption','Helvetica Neue','Helvetica',sans-serif\" fill=\"#6C606B\" id=\"img-635cd56b-219\">\n",
       "    <text x=\"14.59\" y=\"162.38\" text-anchor=\"end\" dy=\"0.35em\" visibility=\"hidden\" gadfly:scale=\"1.0\">-10</text>\n",
       "    <text x=\"14.59\" y=\"150.43\" text-anchor=\"end\" dy=\"0.35em\" visibility=\"hidden\" gadfly:scale=\"1.0\">-9</text>\n",
       "    <text x=\"14.59\" y=\"138.48\" text-anchor=\"end\" dy=\"0.35em\" visibility=\"hidden\" gadfly:scale=\"1.0\">-8</text>\n",
       "    <text x=\"14.59\" y=\"126.52\" text-anchor=\"end\" dy=\"0.35em\" visibility=\"hidden\" gadfly:scale=\"1.0\">-7</text>\n",
       "    <text x=\"14.59\" y=\"114.57\" text-anchor=\"end\" dy=\"0.35em\" visibility=\"hidden\" gadfly:scale=\"1.0\">-6</text>\n",
       "    <text x=\"14.59\" y=\"102.62\" text-anchor=\"end\" dy=\"0.35em\" visibility=\"hidden\" gadfly:scale=\"1.0\">-5</text>\n",
       "    <text x=\"14.59\" y=\"90.67\" text-anchor=\"end\" dy=\"0.35em\" visibility=\"hidden\" gadfly:scale=\"1.0\">-4</text>\n",
       "    <text x=\"14.59\" y=\"78.71\" text-anchor=\"end\" dy=\"0.35em\" visibility=\"visible\" gadfly:scale=\"1.0\">-3</text>\n",
       "    <text x=\"14.59\" y=\"66.76\" text-anchor=\"end\" dy=\"0.35em\" visibility=\"visible\" gadfly:scale=\"1.0\">-2</text>\n",
       "    <text x=\"14.59\" y=\"54.81\" text-anchor=\"end\" dy=\"0.35em\" visibility=\"visible\" gadfly:scale=\"1.0\">-1</text>\n",
       "    <text x=\"14.59\" y=\"42.86\" text-anchor=\"end\" dy=\"0.35em\" visibility=\"visible\" gadfly:scale=\"1.0\">0</text>\n",
       "    <text x=\"14.59\" y=\"30.9\" text-anchor=\"end\" dy=\"0.35em\" visibility=\"visible\" gadfly:scale=\"1.0\">1</text>\n",
       "    <text x=\"14.59\" y=\"18.95\" text-anchor=\"end\" dy=\"0.35em\" visibility=\"visible\" gadfly:scale=\"1.0\">2</text>\n",
       "    <text x=\"14.59\" y=\"7\" text-anchor=\"end\" dy=\"0.35em\" visibility=\"visible\" gadfly:scale=\"1.0\">3</text>\n",
       "    <text x=\"14.59\" y=\"-4.95\" text-anchor=\"end\" dy=\"0.35em\" visibility=\"hidden\" gadfly:scale=\"1.0\">4</text>\n",
       "    <text x=\"14.59\" y=\"-16.9\" text-anchor=\"end\" dy=\"0.35em\" visibility=\"hidden\" gadfly:scale=\"1.0\">5</text>\n",
       "    <text x=\"14.59\" y=\"-28.86\" text-anchor=\"end\" dy=\"0.35em\" visibility=\"hidden\" gadfly:scale=\"1.0\">6</text>\n",
       "    <text x=\"14.59\" y=\"-40.81\" text-anchor=\"end\" dy=\"0.35em\" visibility=\"hidden\" gadfly:scale=\"1.0\">7</text>\n",
       "    <text x=\"14.59\" y=\"-52.76\" text-anchor=\"end\" dy=\"0.35em\" visibility=\"hidden\" gadfly:scale=\"1.0\">8</text>\n",
       "    <text x=\"14.59\" y=\"-64.71\" text-anchor=\"end\" dy=\"0.35em\" visibility=\"hidden\" gadfly:scale=\"1.0\">9</text>\n",
       "    <text x=\"14.59\" y=\"-76.67\" text-anchor=\"end\" dy=\"0.35em\" visibility=\"hidden\" gadfly:scale=\"1.0\">10</text>\n",
       "    <text x=\"14.59\" y=\"150.43\" text-anchor=\"end\" dy=\"0.35em\" visibility=\"hidden\" gadfly:scale=\"10.0\">-9.0</text>\n",
       "    <text x=\"14.59\" y=\"148.04\" text-anchor=\"end\" dy=\"0.35em\" visibility=\"hidden\" gadfly:scale=\"10.0\">-8.8</text>\n",
       "    <text x=\"14.59\" y=\"145.65\" text-anchor=\"end\" dy=\"0.35em\" visibility=\"hidden\" gadfly:scale=\"10.0\">-8.6</text>\n",
       "    <text x=\"14.59\" y=\"143.26\" text-anchor=\"end\" dy=\"0.35em\" visibility=\"hidden\" gadfly:scale=\"10.0\">-8.4</text>\n",
       "    <text x=\"14.59\" y=\"140.87\" text-anchor=\"end\" dy=\"0.35em\" visibility=\"hidden\" gadfly:scale=\"10.0\">-8.2</text>\n",
       "    <text x=\"14.59\" y=\"138.48\" text-anchor=\"end\" dy=\"0.35em\" visibility=\"hidden\" gadfly:scale=\"10.0\">-8.0</text>\n",
       "    <text x=\"14.59\" y=\"136.09\" text-anchor=\"end\" dy=\"0.35em\" visibility=\"hidden\" gadfly:scale=\"10.0\">-7.8</text>\n",
       "    <text x=\"14.59\" y=\"133.7\" text-anchor=\"end\" dy=\"0.35em\" visibility=\"hidden\" gadfly:scale=\"10.0\">-7.6</text>\n",
       "    <text x=\"14.59\" y=\"131.31\" text-anchor=\"end\" dy=\"0.35em\" visibility=\"hidden\" gadfly:scale=\"10.0\">-7.4</text>\n",
       "    <text x=\"14.59\" y=\"128.92\" text-anchor=\"end\" dy=\"0.35em\" visibility=\"hidden\" gadfly:scale=\"10.0\">-7.2</text>\n",
       "    <text x=\"14.59\" y=\"126.52\" text-anchor=\"end\" dy=\"0.35em\" visibility=\"hidden\" gadfly:scale=\"10.0\">-7.0</text>\n",
       "    <text x=\"14.59\" y=\"124.13\" text-anchor=\"end\" dy=\"0.35em\" visibility=\"hidden\" gadfly:scale=\"10.0\">-6.8</text>\n",
       "    <text x=\"14.59\" y=\"121.74\" text-anchor=\"end\" dy=\"0.35em\" visibility=\"hidden\" gadfly:scale=\"10.0\">-6.6</text>\n",
       "    <text x=\"14.59\" y=\"119.35\" text-anchor=\"end\" dy=\"0.35em\" visibility=\"hidden\" gadfly:scale=\"10.0\">-6.4</text>\n",
       "    <text x=\"14.59\" y=\"116.96\" text-anchor=\"end\" dy=\"0.35em\" visibility=\"hidden\" gadfly:scale=\"10.0\">-6.2</text>\n",
       "    <text x=\"14.59\" y=\"114.57\" text-anchor=\"end\" dy=\"0.35em\" visibility=\"hidden\" gadfly:scale=\"10.0\">-6.0</text>\n",
       "    <text x=\"14.59\" y=\"112.18\" text-anchor=\"end\" dy=\"0.35em\" visibility=\"hidden\" gadfly:scale=\"10.0\">-5.8</text>\n",
       "    <text x=\"14.59\" y=\"109.79\" text-anchor=\"end\" dy=\"0.35em\" visibility=\"hidden\" gadfly:scale=\"10.0\">-5.6</text>\n",
       "    <text x=\"14.59\" y=\"107.4\" text-anchor=\"end\" dy=\"0.35em\" visibility=\"hidden\" gadfly:scale=\"10.0\">-5.4</text>\n",
       "    <text x=\"14.59\" y=\"105.01\" text-anchor=\"end\" dy=\"0.35em\" visibility=\"hidden\" gadfly:scale=\"10.0\">-5.2</text>\n",
       "    <text x=\"14.59\" y=\"102.62\" text-anchor=\"end\" dy=\"0.35em\" visibility=\"hidden\" gadfly:scale=\"10.0\">-5.0</text>\n",
       "    <text x=\"14.59\" y=\"100.23\" text-anchor=\"end\" dy=\"0.35em\" visibility=\"hidden\" gadfly:scale=\"10.0\">-4.8</text>\n",
       "    <text x=\"14.59\" y=\"97.84\" text-anchor=\"end\" dy=\"0.35em\" visibility=\"hidden\" gadfly:scale=\"10.0\">-4.6</text>\n",
       "    <text x=\"14.59\" y=\"95.45\" text-anchor=\"end\" dy=\"0.35em\" visibility=\"hidden\" gadfly:scale=\"10.0\">-4.4</text>\n",
       "    <text x=\"14.59\" y=\"93.06\" text-anchor=\"end\" dy=\"0.35em\" visibility=\"hidden\" gadfly:scale=\"10.0\">-4.2</text>\n",
       "    <text x=\"14.59\" y=\"90.67\" text-anchor=\"end\" dy=\"0.35em\" visibility=\"hidden\" gadfly:scale=\"10.0\">-4.0</text>\n",
       "    <text x=\"14.59\" y=\"88.28\" text-anchor=\"end\" dy=\"0.35em\" visibility=\"hidden\" gadfly:scale=\"10.0\">-3.8</text>\n",
       "    <text x=\"14.59\" y=\"85.89\" text-anchor=\"end\" dy=\"0.35em\" visibility=\"hidden\" gadfly:scale=\"10.0\">-3.6</text>\n",
       "    <text x=\"14.59\" y=\"83.5\" text-anchor=\"end\" dy=\"0.35em\" visibility=\"hidden\" gadfly:scale=\"10.0\">-3.4</text>\n",
       "    <text x=\"14.59\" y=\"81.11\" text-anchor=\"end\" dy=\"0.35em\" visibility=\"hidden\" gadfly:scale=\"10.0\">-3.2</text>\n",
       "    <text x=\"14.59\" y=\"78.71\" text-anchor=\"end\" dy=\"0.35em\" visibility=\"hidden\" gadfly:scale=\"10.0\">-3.0</text>\n",
       "    <text x=\"14.59\" y=\"76.32\" text-anchor=\"end\" dy=\"0.35em\" visibility=\"hidden\" gadfly:scale=\"10.0\">-2.8</text>\n",
       "    <text x=\"14.59\" y=\"73.93\" text-anchor=\"end\" dy=\"0.35em\" visibility=\"hidden\" gadfly:scale=\"10.0\">-2.6</text>\n",
       "    <text x=\"14.59\" y=\"71.54\" text-anchor=\"end\" dy=\"0.35em\" visibility=\"hidden\" gadfly:scale=\"10.0\">-2.4</text>\n",
       "    <text x=\"14.59\" y=\"69.15\" text-anchor=\"end\" dy=\"0.35em\" visibility=\"hidden\" gadfly:scale=\"10.0\">-2.2</text>\n",
       "    <text x=\"14.59\" y=\"66.76\" text-anchor=\"end\" dy=\"0.35em\" visibility=\"hidden\" gadfly:scale=\"10.0\">-2.0</text>\n",
       "    <text x=\"14.59\" y=\"64.37\" text-anchor=\"end\" dy=\"0.35em\" visibility=\"hidden\" gadfly:scale=\"10.0\">-1.8</text>\n",
       "    <text x=\"14.59\" y=\"61.98\" text-anchor=\"end\" dy=\"0.35em\" visibility=\"hidden\" gadfly:scale=\"10.0\">-1.6</text>\n",
       "    <text x=\"14.59\" y=\"59.59\" text-anchor=\"end\" dy=\"0.35em\" visibility=\"hidden\" gadfly:scale=\"10.0\">-1.4</text>\n",
       "    <text x=\"14.59\" y=\"57.2\" text-anchor=\"end\" dy=\"0.35em\" visibility=\"hidden\" gadfly:scale=\"10.0\">-1.2</text>\n",
       "    <text x=\"14.59\" y=\"54.81\" text-anchor=\"end\" dy=\"0.35em\" visibility=\"hidden\" gadfly:scale=\"10.0\">-1.0</text>\n",
       "    <text x=\"14.59\" y=\"52.42\" text-anchor=\"end\" dy=\"0.35em\" visibility=\"hidden\" gadfly:scale=\"10.0\">-0.8</text>\n",
       "    <text x=\"14.59\" y=\"50.03\" text-anchor=\"end\" dy=\"0.35em\" visibility=\"hidden\" gadfly:scale=\"10.0\">-0.6</text>\n",
       "    <text x=\"14.59\" y=\"47.64\" text-anchor=\"end\" dy=\"0.35em\" visibility=\"hidden\" gadfly:scale=\"10.0\">-0.4</text>\n",
       "    <text x=\"14.59\" y=\"45.25\" text-anchor=\"end\" dy=\"0.35em\" visibility=\"hidden\" gadfly:scale=\"10.0\">-0.2</text>\n",
       "    <text x=\"14.59\" y=\"42.86\" text-anchor=\"end\" dy=\"0.35em\" visibility=\"hidden\" gadfly:scale=\"10.0\">0.0</text>\n",
       "    <text x=\"14.59\" y=\"40.47\" text-anchor=\"end\" dy=\"0.35em\" visibility=\"hidden\" gadfly:scale=\"10.0\">0.2</text>\n",
       "    <text x=\"14.59\" y=\"38.08\" text-anchor=\"end\" dy=\"0.35em\" visibility=\"hidden\" gadfly:scale=\"10.0\">0.4</text>\n",
       "    <text x=\"14.59\" y=\"35.69\" text-anchor=\"end\" dy=\"0.35em\" visibility=\"hidden\" gadfly:scale=\"10.0\">0.6</text>\n",
       "    <text x=\"14.59\" y=\"33.3\" text-anchor=\"end\" dy=\"0.35em\" visibility=\"hidden\" gadfly:scale=\"10.0\">0.8</text>\n",
       "    <text x=\"14.59\" y=\"30.9\" text-anchor=\"end\" dy=\"0.35em\" visibility=\"hidden\" gadfly:scale=\"10.0\">1.0</text>\n",
       "    <text x=\"14.59\" y=\"28.51\" text-anchor=\"end\" dy=\"0.35em\" visibility=\"hidden\" gadfly:scale=\"10.0\">1.2</text>\n",
       "    <text x=\"14.59\" y=\"26.12\" text-anchor=\"end\" dy=\"0.35em\" visibility=\"hidden\" gadfly:scale=\"10.0\">1.4</text>\n",
       "    <text x=\"14.59\" y=\"23.73\" text-anchor=\"end\" dy=\"0.35em\" visibility=\"hidden\" gadfly:scale=\"10.0\">1.6</text>\n",
       "    <text x=\"14.59\" y=\"21.34\" text-anchor=\"end\" dy=\"0.35em\" visibility=\"hidden\" gadfly:scale=\"10.0\">1.8</text>\n",
       "    <text x=\"14.59\" y=\"18.95\" text-anchor=\"end\" dy=\"0.35em\" visibility=\"hidden\" gadfly:scale=\"10.0\">2.0</text>\n",
       "    <text x=\"14.59\" y=\"16.56\" text-anchor=\"end\" dy=\"0.35em\" visibility=\"hidden\" gadfly:scale=\"10.0\">2.2</text>\n",
       "    <text x=\"14.59\" y=\"14.17\" text-anchor=\"end\" dy=\"0.35em\" visibility=\"hidden\" gadfly:scale=\"10.0\">2.4</text>\n",
       "    <text x=\"14.59\" y=\"11.78\" text-anchor=\"end\" dy=\"0.35em\" visibility=\"hidden\" gadfly:scale=\"10.0\">2.6</text>\n",
       "    <text x=\"14.59\" y=\"9.39\" text-anchor=\"end\" dy=\"0.35em\" visibility=\"hidden\" gadfly:scale=\"10.0\">2.8</text>\n",
       "    <text x=\"14.59\" y=\"7\" text-anchor=\"end\" dy=\"0.35em\" visibility=\"hidden\" gadfly:scale=\"10.0\">3.0</text>\n",
       "    <text x=\"14.59\" y=\"4.61\" text-anchor=\"end\" dy=\"0.35em\" visibility=\"hidden\" gadfly:scale=\"10.0\">3.2</text>\n",
       "    <text x=\"14.59\" y=\"2.22\" text-anchor=\"end\" dy=\"0.35em\" visibility=\"hidden\" gadfly:scale=\"10.0\">3.4</text>\n",
       "    <text x=\"14.59\" y=\"-0.17\" text-anchor=\"end\" dy=\"0.35em\" visibility=\"hidden\" gadfly:scale=\"10.0\">3.6</text>\n",
       "    <text x=\"14.59\" y=\"-2.56\" text-anchor=\"end\" dy=\"0.35em\" visibility=\"hidden\" gadfly:scale=\"10.0\">3.8</text>\n",
       "    <text x=\"14.59\" y=\"-4.95\" text-anchor=\"end\" dy=\"0.35em\" visibility=\"hidden\" gadfly:scale=\"10.0\">4.0</text>\n",
       "    <text x=\"14.59\" y=\"-7.34\" text-anchor=\"end\" dy=\"0.35em\" visibility=\"hidden\" gadfly:scale=\"10.0\">4.2</text>\n",
       "    <text x=\"14.59\" y=\"-9.73\" text-anchor=\"end\" dy=\"0.35em\" visibility=\"hidden\" gadfly:scale=\"10.0\">4.4</text>\n",
       "    <text x=\"14.59\" y=\"-12.12\" text-anchor=\"end\" dy=\"0.35em\" visibility=\"hidden\" gadfly:scale=\"10.0\">4.6</text>\n",
       "    <text x=\"14.59\" y=\"-14.51\" text-anchor=\"end\" dy=\"0.35em\" visibility=\"hidden\" gadfly:scale=\"10.0\">4.8</text>\n",
       "    <text x=\"14.59\" y=\"-16.9\" text-anchor=\"end\" dy=\"0.35em\" visibility=\"hidden\" gadfly:scale=\"10.0\">5.0</text>\n",
       "    <text x=\"14.59\" y=\"-19.3\" text-anchor=\"end\" dy=\"0.35em\" visibility=\"hidden\" gadfly:scale=\"10.0\">5.2</text>\n",
       "    <text x=\"14.59\" y=\"-21.69\" text-anchor=\"end\" dy=\"0.35em\" visibility=\"hidden\" gadfly:scale=\"10.0\">5.4</text>\n",
       "    <text x=\"14.59\" y=\"-24.08\" text-anchor=\"end\" dy=\"0.35em\" visibility=\"hidden\" gadfly:scale=\"10.0\">5.6</text>\n",
       "    <text x=\"14.59\" y=\"-26.47\" text-anchor=\"end\" dy=\"0.35em\" visibility=\"hidden\" gadfly:scale=\"10.0\">5.8</text>\n",
       "    <text x=\"14.59\" y=\"-28.86\" text-anchor=\"end\" dy=\"0.35em\" visibility=\"hidden\" gadfly:scale=\"10.0\">6.0</text>\n",
       "    <text x=\"14.59\" y=\"-31.25\" text-anchor=\"end\" dy=\"0.35em\" visibility=\"hidden\" gadfly:scale=\"10.0\">6.2</text>\n",
       "    <text x=\"14.59\" y=\"-33.64\" text-anchor=\"end\" dy=\"0.35em\" visibility=\"hidden\" gadfly:scale=\"10.0\">6.4</text>\n",
       "    <text x=\"14.59\" y=\"-36.03\" text-anchor=\"end\" dy=\"0.35em\" visibility=\"hidden\" gadfly:scale=\"10.0\">6.6</text>\n",
       "    <text x=\"14.59\" y=\"-38.42\" text-anchor=\"end\" dy=\"0.35em\" visibility=\"hidden\" gadfly:scale=\"10.0\">6.8</text>\n",
       "    <text x=\"14.59\" y=\"-40.81\" text-anchor=\"end\" dy=\"0.35em\" visibility=\"hidden\" gadfly:scale=\"10.0\">7.0</text>\n",
       "    <text x=\"14.59\" y=\"-43.2\" text-anchor=\"end\" dy=\"0.35em\" visibility=\"hidden\" gadfly:scale=\"10.0\">7.2</text>\n",
       "    <text x=\"14.59\" y=\"-45.59\" text-anchor=\"end\" dy=\"0.35em\" visibility=\"hidden\" gadfly:scale=\"10.0\">7.4</text>\n",
       "    <text x=\"14.59\" y=\"-47.98\" text-anchor=\"end\" dy=\"0.35em\" visibility=\"hidden\" gadfly:scale=\"10.0\">7.6</text>\n",
       "    <text x=\"14.59\" y=\"-50.37\" text-anchor=\"end\" dy=\"0.35em\" visibility=\"hidden\" gadfly:scale=\"10.0\">7.8</text>\n",
       "    <text x=\"14.59\" y=\"-52.76\" text-anchor=\"end\" dy=\"0.35em\" visibility=\"hidden\" gadfly:scale=\"10.0\">8.0</text>\n",
       "    <text x=\"14.59\" y=\"-55.15\" text-anchor=\"end\" dy=\"0.35em\" visibility=\"hidden\" gadfly:scale=\"10.0\">8.2</text>\n",
       "    <text x=\"14.59\" y=\"-57.54\" text-anchor=\"end\" dy=\"0.35em\" visibility=\"hidden\" gadfly:scale=\"10.0\">8.4</text>\n",
       "    <text x=\"14.59\" y=\"-59.93\" text-anchor=\"end\" dy=\"0.35em\" visibility=\"hidden\" gadfly:scale=\"10.0\">8.6</text>\n",
       "    <text x=\"14.59\" y=\"-62.32\" text-anchor=\"end\" dy=\"0.35em\" visibility=\"hidden\" gadfly:scale=\"10.0\">8.8</text>\n",
       "    <text x=\"14.59\" y=\"-64.71\" text-anchor=\"end\" dy=\"0.35em\" visibility=\"hidden\" gadfly:scale=\"10.0\">9.0</text>\n",
       "    <text x=\"14.59\" y=\"162.38\" text-anchor=\"end\" dy=\"0.35em\" visibility=\"hidden\" gadfly:scale=\"0.5\">-10</text>\n",
       "    <text x=\"14.59\" y=\"102.62\" text-anchor=\"end\" dy=\"0.35em\" visibility=\"hidden\" gadfly:scale=\"0.5\">-5</text>\n",
       "    <text x=\"14.59\" y=\"42.86\" text-anchor=\"end\" dy=\"0.35em\" visibility=\"hidden\" gadfly:scale=\"0.5\">0</text>\n",
       "    <text x=\"14.59\" y=\"-16.9\" text-anchor=\"end\" dy=\"0.35em\" visibility=\"hidden\" gadfly:scale=\"0.5\">5</text>\n",
       "    <text x=\"14.59\" y=\"-76.67\" text-anchor=\"end\" dy=\"0.35em\" visibility=\"hidden\" gadfly:scale=\"0.5\">10</text>\n",
       "    <text x=\"14.59\" y=\"150.43\" text-anchor=\"end\" dy=\"0.35em\" visibility=\"hidden\" gadfly:scale=\"5.0\">-9.0</text>\n",
       "    <text x=\"14.59\" y=\"144.45\" text-anchor=\"end\" dy=\"0.35em\" visibility=\"hidden\" gadfly:scale=\"5.0\">-8.5</text>\n",
       "    <text x=\"14.59\" y=\"138.48\" text-anchor=\"end\" dy=\"0.35em\" visibility=\"hidden\" gadfly:scale=\"5.0\">-8.0</text>\n",
       "    <text x=\"14.59\" y=\"132.5\" text-anchor=\"end\" dy=\"0.35em\" visibility=\"hidden\" gadfly:scale=\"5.0\">-7.5</text>\n",
       "    <text x=\"14.59\" y=\"126.52\" text-anchor=\"end\" dy=\"0.35em\" visibility=\"hidden\" gadfly:scale=\"5.0\">-7.0</text>\n",
       "    <text x=\"14.59\" y=\"120.55\" text-anchor=\"end\" dy=\"0.35em\" visibility=\"hidden\" gadfly:scale=\"5.0\">-6.5</text>\n",
       "    <text x=\"14.59\" y=\"114.57\" text-anchor=\"end\" dy=\"0.35em\" visibility=\"hidden\" gadfly:scale=\"5.0\">-6.0</text>\n",
       "    <text x=\"14.59\" y=\"108.6\" text-anchor=\"end\" dy=\"0.35em\" visibility=\"hidden\" gadfly:scale=\"5.0\">-5.5</text>\n",
       "    <text x=\"14.59\" y=\"102.62\" text-anchor=\"end\" dy=\"0.35em\" visibility=\"hidden\" gadfly:scale=\"5.0\">-5.0</text>\n",
       "    <text x=\"14.59\" y=\"96.64\" text-anchor=\"end\" dy=\"0.35em\" visibility=\"hidden\" gadfly:scale=\"5.0\">-4.5</text>\n",
       "    <text x=\"14.59\" y=\"90.67\" text-anchor=\"end\" dy=\"0.35em\" visibility=\"hidden\" gadfly:scale=\"5.0\">-4.0</text>\n",
       "    <text x=\"14.59\" y=\"84.69\" text-anchor=\"end\" dy=\"0.35em\" visibility=\"hidden\" gadfly:scale=\"5.0\">-3.5</text>\n",
       "    <text x=\"14.59\" y=\"78.71\" text-anchor=\"end\" dy=\"0.35em\" visibility=\"hidden\" gadfly:scale=\"5.0\">-3.0</text>\n",
       "    <text x=\"14.59\" y=\"72.74\" text-anchor=\"end\" dy=\"0.35em\" visibility=\"hidden\" gadfly:scale=\"5.0\">-2.5</text>\n",
       "    <text x=\"14.59\" y=\"66.76\" text-anchor=\"end\" dy=\"0.35em\" visibility=\"hidden\" gadfly:scale=\"5.0\">-2.0</text>\n",
       "    <text x=\"14.59\" y=\"60.79\" text-anchor=\"end\" dy=\"0.35em\" visibility=\"hidden\" gadfly:scale=\"5.0\">-1.5</text>\n",
       "    <text x=\"14.59\" y=\"54.81\" text-anchor=\"end\" dy=\"0.35em\" visibility=\"hidden\" gadfly:scale=\"5.0\">-1.0</text>\n",
       "    <text x=\"14.59\" y=\"48.83\" text-anchor=\"end\" dy=\"0.35em\" visibility=\"hidden\" gadfly:scale=\"5.0\">-0.5</text>\n",
       "    <text x=\"14.59\" y=\"42.86\" text-anchor=\"end\" dy=\"0.35em\" visibility=\"hidden\" gadfly:scale=\"5.0\">0.0</text>\n",
       "    <text x=\"14.59\" y=\"36.88\" text-anchor=\"end\" dy=\"0.35em\" visibility=\"hidden\" gadfly:scale=\"5.0\">0.5</text>\n",
       "    <text x=\"14.59\" y=\"30.9\" text-anchor=\"end\" dy=\"0.35em\" visibility=\"hidden\" gadfly:scale=\"5.0\">1.0</text>\n",
       "    <text x=\"14.59\" y=\"24.93\" text-anchor=\"end\" dy=\"0.35em\" visibility=\"hidden\" gadfly:scale=\"5.0\">1.5</text>\n",
       "    <text x=\"14.59\" y=\"18.95\" text-anchor=\"end\" dy=\"0.35em\" visibility=\"hidden\" gadfly:scale=\"5.0\">2.0</text>\n",
       "    <text x=\"14.59\" y=\"12.98\" text-anchor=\"end\" dy=\"0.35em\" visibility=\"hidden\" gadfly:scale=\"5.0\">2.5</text>\n",
       "    <text x=\"14.59\" y=\"7\" text-anchor=\"end\" dy=\"0.35em\" visibility=\"hidden\" gadfly:scale=\"5.0\">3.0</text>\n",
       "    <text x=\"14.59\" y=\"1.02\" text-anchor=\"end\" dy=\"0.35em\" visibility=\"hidden\" gadfly:scale=\"5.0\">3.5</text>\n",
       "    <text x=\"14.59\" y=\"-4.95\" text-anchor=\"end\" dy=\"0.35em\" visibility=\"hidden\" gadfly:scale=\"5.0\">4.0</text>\n",
       "    <text x=\"14.59\" y=\"-10.93\" text-anchor=\"end\" dy=\"0.35em\" visibility=\"hidden\" gadfly:scale=\"5.0\">4.5</text>\n",
       "    <text x=\"14.59\" y=\"-16.9\" text-anchor=\"end\" dy=\"0.35em\" visibility=\"hidden\" gadfly:scale=\"5.0\">5.0</text>\n",
       "    <text x=\"14.59\" y=\"-22.88\" text-anchor=\"end\" dy=\"0.35em\" visibility=\"hidden\" gadfly:scale=\"5.0\">5.5</text>\n",
       "    <text x=\"14.59\" y=\"-28.86\" text-anchor=\"end\" dy=\"0.35em\" visibility=\"hidden\" gadfly:scale=\"5.0\">6.0</text>\n",
       "    <text x=\"14.59\" y=\"-34.83\" text-anchor=\"end\" dy=\"0.35em\" visibility=\"hidden\" gadfly:scale=\"5.0\">6.5</text>\n",
       "    <text x=\"14.59\" y=\"-40.81\" text-anchor=\"end\" dy=\"0.35em\" visibility=\"hidden\" gadfly:scale=\"5.0\">7.0</text>\n",
       "    <text x=\"14.59\" y=\"-46.79\" text-anchor=\"end\" dy=\"0.35em\" visibility=\"hidden\" gadfly:scale=\"5.0\">7.5</text>\n",
       "    <text x=\"14.59\" y=\"-52.76\" text-anchor=\"end\" dy=\"0.35em\" visibility=\"hidden\" gadfly:scale=\"5.0\">8.0</text>\n",
       "    <text x=\"14.59\" y=\"-58.74\" text-anchor=\"end\" dy=\"0.35em\" visibility=\"hidden\" gadfly:scale=\"5.0\">8.5</text>\n",
       "    <text x=\"14.59\" y=\"-64.71\" text-anchor=\"end\" dy=\"0.35em\" visibility=\"hidden\" gadfly:scale=\"5.0\">9.0</text>\n",
       "  </g>\n",
       "  <g font-size=\"3.88\" font-family=\"'PT Sans','Helvetica Neue','Helvetica',sans-serif\" fill=\"#564A55\" stroke=\"#000000\" stroke-opacity=\"0.000\" id=\"img-635cd56b-220\">\n",
       "    <text x=\"8.81\" y=\"42.86\" text-anchor=\"end\" dy=\"0.35em\">y</text>\n",
       "  </g>\n",
       "</g>\n",
       "<defs>\n",
       "  <clipPath id=\"img-635cd56b-4\">\n",
       "  <path d=\"M15.59,5 L 136.42 5 136.42 80.72 15.59 80.72\" />\n",
       "</clipPath>\n",
       "  <g id=\"img-635cd56b-13\">\n",
       "    <circle cx=\"0\" cy=\"0\" r=\"0.9\"/>\n",
       "  </g>\n",
       "  <g id=\"img-635cd56b-15\">\n",
       "    <circle cx=\"0\" cy=\"0\" r=\"0.9\"/>\n",
       "  </g>\n",
       "  <g id=\"img-635cd56b-17\">\n",
       "    <circle cx=\"0\" cy=\"0\" r=\"0.9\"/>\n",
       "  </g>\n",
       "  <g id=\"img-635cd56b-19\">\n",
       "    <circle cx=\"0\" cy=\"0\" r=\"0.9\"/>\n",
       "  </g>\n",
       "  <g id=\"img-635cd56b-21\">\n",
       "    <circle cx=\"0\" cy=\"0\" r=\"0.9\"/>\n",
       "  </g>\n",
       "  <g id=\"img-635cd56b-23\">\n",
       "    <circle cx=\"0\" cy=\"0\" r=\"0.9\"/>\n",
       "  </g>\n",
       "  <g id=\"img-635cd56b-25\">\n",
       "    <circle cx=\"0\" cy=\"0\" r=\"0.9\"/>\n",
       "  </g>\n",
       "  <g id=\"img-635cd56b-27\">\n",
       "    <circle cx=\"0\" cy=\"0\" r=\"0.9\"/>\n",
       "  </g>\n",
       "  <g id=\"img-635cd56b-29\">\n",
       "    <circle cx=\"0\" cy=\"0\" r=\"0.9\"/>\n",
       "  </g>\n",
       "  <g id=\"img-635cd56b-31\">\n",
       "    <circle cx=\"0\" cy=\"0\" r=\"0.9\"/>\n",
       "  </g>\n",
       "  <g id=\"img-635cd56b-33\">\n",
       "    <circle cx=\"0\" cy=\"0\" r=\"0.9\"/>\n",
       "  </g>\n",
       "  <g id=\"img-635cd56b-35\">\n",
       "    <circle cx=\"0\" cy=\"0\" r=\"0.9\"/>\n",
       "  </g>\n",
       "  <g id=\"img-635cd56b-37\">\n",
       "    <circle cx=\"0\" cy=\"0\" r=\"0.9\"/>\n",
       "  </g>\n",
       "  <g id=\"img-635cd56b-39\">\n",
       "    <circle cx=\"0\" cy=\"0\" r=\"0.9\"/>\n",
       "  </g>\n",
       "  <g id=\"img-635cd56b-41\">\n",
       "    <circle cx=\"0\" cy=\"0\" r=\"0.9\"/>\n",
       "  </g>\n",
       "  <g id=\"img-635cd56b-43\">\n",
       "    <circle cx=\"0\" cy=\"0\" r=\"0.9\"/>\n",
       "  </g>\n",
       "  <g id=\"img-635cd56b-45\">\n",
       "    <circle cx=\"0\" cy=\"0\" r=\"0.9\"/>\n",
       "  </g>\n",
       "  <g id=\"img-635cd56b-47\">\n",
       "    <circle cx=\"0\" cy=\"0\" r=\"0.9\"/>\n",
       "  </g>\n",
       "  <g id=\"img-635cd56b-49\">\n",
       "    <circle cx=\"0\" cy=\"0\" r=\"0.9\"/>\n",
       "  </g>\n",
       "  <g id=\"img-635cd56b-51\">\n",
       "    <circle cx=\"0\" cy=\"0\" r=\"0.9\"/>\n",
       "  </g>\n",
       "  <g id=\"img-635cd56b-53\">\n",
       "    <circle cx=\"0\" cy=\"0\" r=\"0.9\"/>\n",
       "  </g>\n",
       "  <g id=\"img-635cd56b-55\">\n",
       "    <circle cx=\"0\" cy=\"0\" r=\"0.9\"/>\n",
       "  </g>\n",
       "  <g id=\"img-635cd56b-57\">\n",
       "    <circle cx=\"0\" cy=\"0\" r=\"0.9\"/>\n",
       "  </g>\n",
       "  <g id=\"img-635cd56b-59\">\n",
       "    <circle cx=\"0\" cy=\"0\" r=\"0.9\"/>\n",
       "  </g>\n",
       "  <g id=\"img-635cd56b-61\">\n",
       "    <circle cx=\"0\" cy=\"0\" r=\"0.9\"/>\n",
       "  </g>\n",
       "  <g id=\"img-635cd56b-63\">\n",
       "    <circle cx=\"0\" cy=\"0\" r=\"0.9\"/>\n",
       "  </g>\n",
       "  <g id=\"img-635cd56b-65\">\n",
       "    <circle cx=\"0\" cy=\"0\" r=\"0.9\"/>\n",
       "  </g>\n",
       "  <g id=\"img-635cd56b-67\">\n",
       "    <circle cx=\"0\" cy=\"0\" r=\"0.9\"/>\n",
       "  </g>\n",
       "  <g id=\"img-635cd56b-69\">\n",
       "    <circle cx=\"0\" cy=\"0\" r=\"0.9\"/>\n",
       "  </g>\n",
       "  <g id=\"img-635cd56b-71\">\n",
       "    <circle cx=\"0\" cy=\"0\" r=\"0.9\"/>\n",
       "  </g>\n",
       "  <g id=\"img-635cd56b-73\">\n",
       "    <circle cx=\"0\" cy=\"0\" r=\"0.9\"/>\n",
       "  </g>\n",
       "  <g id=\"img-635cd56b-75\">\n",
       "    <circle cx=\"0\" cy=\"0\" r=\"0.9\"/>\n",
       "  </g>\n",
       "  <g id=\"img-635cd56b-77\">\n",
       "    <circle cx=\"0\" cy=\"0\" r=\"0.9\"/>\n",
       "  </g>\n",
       "  <g id=\"img-635cd56b-79\">\n",
       "    <circle cx=\"0\" cy=\"0\" r=\"0.9\"/>\n",
       "  </g>\n",
       "  <g id=\"img-635cd56b-81\">\n",
       "    <circle cx=\"0\" cy=\"0\" r=\"0.9\"/>\n",
       "  </g>\n",
       "  <g id=\"img-635cd56b-83\">\n",
       "    <circle cx=\"0\" cy=\"0\" r=\"0.9\"/>\n",
       "  </g>\n",
       "  <g id=\"img-635cd56b-85\">\n",
       "    <circle cx=\"0\" cy=\"0\" r=\"0.9\"/>\n",
       "  </g>\n",
       "  <g id=\"img-635cd56b-87\">\n",
       "    <circle cx=\"0\" cy=\"0\" r=\"0.9\"/>\n",
       "  </g>\n",
       "  <g id=\"img-635cd56b-89\">\n",
       "    <circle cx=\"0\" cy=\"0\" r=\"0.9\"/>\n",
       "  </g>\n",
       "  <g id=\"img-635cd56b-91\">\n",
       "    <circle cx=\"0\" cy=\"0\" r=\"0.9\"/>\n",
       "  </g>\n",
       "  <g id=\"img-635cd56b-93\">\n",
       "    <circle cx=\"0\" cy=\"0\" r=\"0.9\"/>\n",
       "  </g>\n",
       "  <g id=\"img-635cd56b-95\">\n",
       "    <circle cx=\"0\" cy=\"0\" r=\"0.9\"/>\n",
       "  </g>\n",
       "  <g id=\"img-635cd56b-97\">\n",
       "    <circle cx=\"0\" cy=\"0\" r=\"0.9\"/>\n",
       "  </g>\n",
       "  <g id=\"img-635cd56b-99\">\n",
       "    <circle cx=\"0\" cy=\"0\" r=\"0.9\"/>\n",
       "  </g>\n",
       "  <g id=\"img-635cd56b-101\">\n",
       "    <circle cx=\"0\" cy=\"0\" r=\"0.9\"/>\n",
       "  </g>\n",
       "  <g id=\"img-635cd56b-103\">\n",
       "    <circle cx=\"0\" cy=\"0\" r=\"0.9\"/>\n",
       "  </g>\n",
       "  <g id=\"img-635cd56b-105\">\n",
       "    <circle cx=\"0\" cy=\"0\" r=\"0.9\"/>\n",
       "  </g>\n",
       "  <g id=\"img-635cd56b-107\">\n",
       "    <circle cx=\"0\" cy=\"0\" r=\"0.9\"/>\n",
       "  </g>\n",
       "  <g id=\"img-635cd56b-109\">\n",
       "    <circle cx=\"0\" cy=\"0\" r=\"0.9\"/>\n",
       "  </g>\n",
       "  <g id=\"img-635cd56b-111\">\n",
       "    <circle cx=\"0\" cy=\"0\" r=\"0.9\"/>\n",
       "  </g>\n",
       "  <g id=\"img-635cd56b-113\">\n",
       "    <circle cx=\"0\" cy=\"0\" r=\"0.9\"/>\n",
       "  </g>\n",
       "  <g id=\"img-635cd56b-115\">\n",
       "    <circle cx=\"0\" cy=\"0\" r=\"0.9\"/>\n",
       "  </g>\n",
       "  <g id=\"img-635cd56b-117\">\n",
       "    <circle cx=\"0\" cy=\"0\" r=\"0.9\"/>\n",
       "  </g>\n",
       "  <g id=\"img-635cd56b-119\">\n",
       "    <circle cx=\"0\" cy=\"0\" r=\"0.9\"/>\n",
       "  </g>\n",
       "  <g id=\"img-635cd56b-121\">\n",
       "    <circle cx=\"0\" cy=\"0\" r=\"0.9\"/>\n",
       "  </g>\n",
       "  <g id=\"img-635cd56b-123\">\n",
       "    <circle cx=\"0\" cy=\"0\" r=\"0.9\"/>\n",
       "  </g>\n",
       "  <g id=\"img-635cd56b-125\">\n",
       "    <circle cx=\"0\" cy=\"0\" r=\"0.9\"/>\n",
       "  </g>\n",
       "  <g id=\"img-635cd56b-127\">\n",
       "    <circle cx=\"0\" cy=\"0\" r=\"0.9\"/>\n",
       "  </g>\n",
       "  <g id=\"img-635cd56b-129\">\n",
       "    <circle cx=\"0\" cy=\"0\" r=\"0.9\"/>\n",
       "  </g>\n",
       "  <g id=\"img-635cd56b-131\">\n",
       "    <circle cx=\"0\" cy=\"0\" r=\"0.9\"/>\n",
       "  </g>\n",
       "  <g id=\"img-635cd56b-133\">\n",
       "    <circle cx=\"0\" cy=\"0\" r=\"0.9\"/>\n",
       "  </g>\n",
       "  <g id=\"img-635cd56b-135\">\n",
       "    <circle cx=\"0\" cy=\"0\" r=\"0.9\"/>\n",
       "  </g>\n",
       "  <g id=\"img-635cd56b-137\">\n",
       "    <circle cx=\"0\" cy=\"0\" r=\"0.9\"/>\n",
       "  </g>\n",
       "  <g id=\"img-635cd56b-139\">\n",
       "    <circle cx=\"0\" cy=\"0\" r=\"0.9\"/>\n",
       "  </g>\n",
       "  <g id=\"img-635cd56b-141\">\n",
       "    <circle cx=\"0\" cy=\"0\" r=\"0.9\"/>\n",
       "  </g>\n",
       "  <g id=\"img-635cd56b-143\">\n",
       "    <circle cx=\"0\" cy=\"0\" r=\"0.9\"/>\n",
       "  </g>\n",
       "  <g id=\"img-635cd56b-145\">\n",
       "    <circle cx=\"0\" cy=\"0\" r=\"0.9\"/>\n",
       "  </g>\n",
       "  <g id=\"img-635cd56b-147\">\n",
       "    <circle cx=\"0\" cy=\"0\" r=\"0.9\"/>\n",
       "  </g>\n",
       "  <g id=\"img-635cd56b-149\">\n",
       "    <circle cx=\"0\" cy=\"0\" r=\"0.9\"/>\n",
       "  </g>\n",
       "  <g id=\"img-635cd56b-151\">\n",
       "    <circle cx=\"0\" cy=\"0\" r=\"0.9\"/>\n",
       "  </g>\n",
       "  <g id=\"img-635cd56b-153\">\n",
       "    <circle cx=\"0\" cy=\"0\" r=\"0.9\"/>\n",
       "  </g>\n",
       "  <g id=\"img-635cd56b-155\">\n",
       "    <circle cx=\"0\" cy=\"0\" r=\"0.9\"/>\n",
       "  </g>\n",
       "  <g id=\"img-635cd56b-157\">\n",
       "    <circle cx=\"0\" cy=\"0\" r=\"0.9\"/>\n",
       "  </g>\n",
       "  <g id=\"img-635cd56b-159\">\n",
       "    <circle cx=\"0\" cy=\"0\" r=\"0.9\"/>\n",
       "  </g>\n",
       "  <g id=\"img-635cd56b-161\">\n",
       "    <circle cx=\"0\" cy=\"0\" r=\"0.9\"/>\n",
       "  </g>\n",
       "  <g id=\"img-635cd56b-163\">\n",
       "    <circle cx=\"0\" cy=\"0\" r=\"0.9\"/>\n",
       "  </g>\n",
       "  <g id=\"img-635cd56b-165\">\n",
       "    <circle cx=\"0\" cy=\"0\" r=\"0.9\"/>\n",
       "  </g>\n",
       "  <g id=\"img-635cd56b-167\">\n",
       "    <circle cx=\"0\" cy=\"0\" r=\"0.9\"/>\n",
       "  </g>\n",
       "  <g id=\"img-635cd56b-169\">\n",
       "    <circle cx=\"0\" cy=\"0\" r=\"0.9\"/>\n",
       "  </g>\n",
       "  <g id=\"img-635cd56b-171\">\n",
       "    <circle cx=\"0\" cy=\"0\" r=\"0.9\"/>\n",
       "  </g>\n",
       "  <g id=\"img-635cd56b-173\">\n",
       "    <circle cx=\"0\" cy=\"0\" r=\"0.9\"/>\n",
       "  </g>\n",
       "  <g id=\"img-635cd56b-175\">\n",
       "    <circle cx=\"0\" cy=\"0\" r=\"0.9\"/>\n",
       "  </g>\n",
       "  <g id=\"img-635cd56b-177\">\n",
       "    <circle cx=\"0\" cy=\"0\" r=\"0.9\"/>\n",
       "  </g>\n",
       "  <g id=\"img-635cd56b-179\">\n",
       "    <circle cx=\"0\" cy=\"0\" r=\"0.9\"/>\n",
       "  </g>\n",
       "  <g id=\"img-635cd56b-181\">\n",
       "    <circle cx=\"0\" cy=\"0\" r=\"0.9\"/>\n",
       "  </g>\n",
       "  <g id=\"img-635cd56b-183\">\n",
       "    <circle cx=\"0\" cy=\"0\" r=\"0.9\"/>\n",
       "  </g>\n",
       "  <g id=\"img-635cd56b-185\">\n",
       "    <circle cx=\"0\" cy=\"0\" r=\"0.9\"/>\n",
       "  </g>\n",
       "  <g id=\"img-635cd56b-187\">\n",
       "    <circle cx=\"0\" cy=\"0\" r=\"0.9\"/>\n",
       "  </g>\n",
       "  <g id=\"img-635cd56b-189\">\n",
       "    <circle cx=\"0\" cy=\"0\" r=\"0.9\"/>\n",
       "  </g>\n",
       "  <g id=\"img-635cd56b-191\">\n",
       "    <circle cx=\"0\" cy=\"0\" r=\"0.9\"/>\n",
       "  </g>\n",
       "  <g id=\"img-635cd56b-193\">\n",
       "    <circle cx=\"0\" cy=\"0\" r=\"0.9\"/>\n",
       "  </g>\n",
       "  <g id=\"img-635cd56b-195\">\n",
       "    <circle cx=\"0\" cy=\"0\" r=\"0.9\"/>\n",
       "  </g>\n",
       "  <g id=\"img-635cd56b-197\">\n",
       "    <circle cx=\"0\" cy=\"0\" r=\"0.9\"/>\n",
       "  </g>\n",
       "  <g id=\"img-635cd56b-199\">\n",
       "    <circle cx=\"0\" cy=\"0\" r=\"0.9\"/>\n",
       "  </g>\n",
       "  <g id=\"img-635cd56b-201\">\n",
       "    <circle cx=\"0\" cy=\"0\" r=\"0.9\"/>\n",
       "  </g>\n",
       "  <g id=\"img-635cd56b-203\">\n",
       "    <circle cx=\"0\" cy=\"0\" r=\"0.9\"/>\n",
       "  </g>\n",
       "  <g id=\"img-635cd56b-205\">\n",
       "    <circle cx=\"0\" cy=\"0\" r=\"0.9\"/>\n",
       "  </g>\n",
       "  <g id=\"img-635cd56b-207\">\n",
       "    <circle cx=\"0\" cy=\"0\" r=\"0.9\"/>\n",
       "  </g>\n",
       "  <g id=\"img-635cd56b-209\">\n",
       "    <circle cx=\"0\" cy=\"0\" r=\"0.9\"/>\n",
       "  </g>\n",
       "  <g id=\"img-635cd56b-211\">\n",
       "    <circle cx=\"0\" cy=\"0\" r=\"0.9\"/>\n",
       "  </g>\n",
       "</defs>\n",
       "<script> <![CDATA[\n",
       "(function(N){var k=/[\\.\\/]/,L=/\\s*,\\s*/,C=function(a,d){return a-d},a,v,y={n:{}},M=function(){for(var a=0,d=this.length;a<d;a++)if(\"undefined\"!=typeof this[a])return this[a]},A=function(){for(var a=this.length;--a;)if(\"undefined\"!=typeof this[a])return this[a]},w=function(k,d){k=String(k);var f=v,n=Array.prototype.slice.call(arguments,2),u=w.listeners(k),p=0,b,q=[],e={},l=[],r=a;l.firstDefined=M;l.lastDefined=A;a=k;for(var s=v=0,x=u.length;s<x;s++)\"zIndex\"in u[s]&&(q.push(u[s].zIndex),0>u[s].zIndex&&\n",
       "(e[u[s].zIndex]=u[s]));for(q.sort(C);0>q[p];)if(b=e[q[p++] ],l.push(b.apply(d,n)),v)return v=f,l;for(s=0;s<x;s++)if(b=u[s],\"zIndex\"in b)if(b.zIndex==q[p]){l.push(b.apply(d,n));if(v)break;do if(p++,(b=e[q[p] ])&&l.push(b.apply(d,n)),v)break;while(b)}else e[b.zIndex]=b;else if(l.push(b.apply(d,n)),v)break;v=f;a=r;return l};w._events=y;w.listeners=function(a){a=a.split(k);var d=y,f,n,u,p,b,q,e,l=[d],r=[];u=0;for(p=a.length;u<p;u++){e=[];b=0;for(q=l.length;b<q;b++)for(d=l[b].n,f=[d[a[u] ],d[\"*\"] ],n=2;n--;)if(d=\n",
       "f[n])e.push(d),r=r.concat(d.f||[]);l=e}return r};w.on=function(a,d){a=String(a);if(\"function\"!=typeof d)return function(){};for(var f=a.split(L),n=0,u=f.length;n<u;n++)(function(a){a=a.split(k);for(var b=y,f,e=0,l=a.length;e<l;e++)b=b.n,b=b.hasOwnProperty(a[e])&&b[a[e] ]||(b[a[e] ]={n:{}});b.f=b.f||[];e=0;for(l=b.f.length;e<l;e++)if(b.f[e]==d){f=!0;break}!f&&b.f.push(d)})(f[n]);return function(a){+a==+a&&(d.zIndex=+a)}};w.f=function(a){var d=[].slice.call(arguments,1);return function(){w.apply(null,\n",
       "[a,null].concat(d).concat([].slice.call(arguments,0)))}};w.stop=function(){v=1};w.nt=function(k){return k?(new RegExp(\"(?:\\\\.|\\\\/|^)\"+k+\"(?:\\\\.|\\\\/|$)\")).test(a):a};w.nts=function(){return a.split(k)};w.off=w.unbind=function(a,d){if(a){var f=a.split(L);if(1<f.length)for(var n=0,u=f.length;n<u;n++)w.off(f[n],d);else{for(var f=a.split(k),p,b,q,e,l=[y],n=0,u=f.length;n<u;n++)for(e=0;e<l.length;e+=q.length-2){q=[e,1];p=l[e].n;if(\"*\"!=f[n])p[f[n] ]&&q.push(p[f[n] ]);else for(b in p)p.hasOwnProperty(b)&&\n",
       "q.push(p[b]);l.splice.apply(l,q)}n=0;for(u=l.length;n<u;n++)for(p=l[n];p.n;){if(d){if(p.f){e=0;for(f=p.f.length;e<f;e++)if(p.f[e]==d){p.f.splice(e,1);break}!p.f.length&&delete p.f}for(b in p.n)if(p.n.hasOwnProperty(b)&&p.n[b].f){q=p.n[b].f;e=0;for(f=q.length;e<f;e++)if(q[e]==d){q.splice(e,1);break}!q.length&&delete p.n[b].f}}else for(b in delete p.f,p.n)p.n.hasOwnProperty(b)&&p.n[b].f&&delete p.n[b].f;p=p.n}}}else w._events=y={n:{}}};w.once=function(a,d){var f=function(){w.unbind(a,f);return d.apply(this,\n",
       "arguments)};return w.on(a,f)};w.version=\"0.4.2\";w.toString=function(){return\"You are running Eve 0.4.2\"};\"undefined\"!=typeof module&&module.exports?module.exports=w:\"function\"===typeof define&&define.amd?define(\"eve\",[],function(){return w}):N.eve=w})(this);\n",
       "(function(N,k){\"function\"===typeof define&&define.amd?define(\"Snap.svg\",[\"eve\"],function(L){return k(N,L)}):k(N,N.eve)})(this,function(N,k){var L=function(a){var k={},y=N.requestAnimationFrame||N.webkitRequestAnimationFrame||N.mozRequestAnimationFrame||N.oRequestAnimationFrame||N.msRequestAnimationFrame||function(a){setTimeout(a,16)},M=Array.isArray||function(a){return a instanceof Array||\"[object Array]\"==Object.prototype.toString.call(a)},A=0,w=\"M\"+(+new Date).toString(36),z=function(a){if(null==\n",
       "a)return this.s;var b=this.s-a;this.b+=this.dur*b;this.B+=this.dur*b;this.s=a},d=function(a){if(null==a)return this.spd;this.spd=a},f=function(a){if(null==a)return this.dur;this.s=this.s*a/this.dur;this.dur=a},n=function(){delete k[this.id];this.update();a(\"mina.stop.\"+this.id,this)},u=function(){this.pdif||(delete k[this.id],this.update(),this.pdif=this.get()-this.b)},p=function(){this.pdif&&(this.b=this.get()-this.pdif,delete this.pdif,k[this.id]=this)},b=function(){var a;if(M(this.start)){a=[];\n",
       "for(var b=0,e=this.start.length;b<e;b++)a[b]=+this.start[b]+(this.end[b]-this.start[b])*this.easing(this.s)}else a=+this.start+(this.end-this.start)*this.easing(this.s);this.set(a)},q=function(){var l=0,b;for(b in k)if(k.hasOwnProperty(b)){var e=k[b],f=e.get();l++;e.s=(f-e.b)/(e.dur/e.spd);1<=e.s&&(delete k[b],e.s=1,l--,function(b){setTimeout(function(){a(\"mina.finish.\"+b.id,b)})}(e));e.update()}l&&y(q)},e=function(a,r,s,x,G,h,J){a={id:w+(A++).toString(36),start:a,end:r,b:s,s:0,dur:x-s,spd:1,get:G,\n",
       "set:h,easing:J||e.linear,status:z,speed:d,duration:f,stop:n,pause:u,resume:p,update:b};k[a.id]=a;r=0;for(var K in k)if(k.hasOwnProperty(K)&&(r++,2==r))break;1==r&&y(q);return a};e.time=Date.now||function(){return+new Date};e.getById=function(a){return k[a]||null};e.linear=function(a){return a};e.easeout=function(a){return Math.pow(a,1.7)};e.easein=function(a){return Math.pow(a,0.48)};e.easeinout=function(a){if(1==a)return 1;if(0==a)return 0;var b=0.48-a/1.04,e=Math.sqrt(0.1734+b*b);a=e-b;a=Math.pow(Math.abs(a),\n",
       "1/3)*(0>a?-1:1);b=-e-b;b=Math.pow(Math.abs(b),1/3)*(0>b?-1:1);a=a+b+0.5;return 3*(1-a)*a*a+a*a*a};e.backin=function(a){return 1==a?1:a*a*(2.70158*a-1.70158)};e.backout=function(a){if(0==a)return 0;a-=1;return a*a*(2.70158*a+1.70158)+1};e.elastic=function(a){return a==!!a?a:Math.pow(2,-10*a)*Math.sin(2*(a-0.075)*Math.PI/0.3)+1};e.bounce=function(a){a<1/2.75?a*=7.5625*a:a<2/2.75?(a-=1.5/2.75,a=7.5625*a*a+0.75):a<2.5/2.75?(a-=2.25/2.75,a=7.5625*a*a+0.9375):(a-=2.625/2.75,a=7.5625*a*a+0.984375);return a};\n",
       "return N.mina=e}(\"undefined\"==typeof k?function(){}:k),C=function(){function a(c,t){if(c){if(c.tagName)return x(c);if(y(c,\"array\")&&a.set)return a.set.apply(a,c);if(c instanceof e)return c;if(null==t)return c=G.doc.querySelector(c),x(c)}return new s(null==c?\"100%\":c,null==t?\"100%\":t)}function v(c,a){if(a){\"#text\"==c&&(c=G.doc.createTextNode(a.text||\"\"));\"string\"==typeof c&&(c=v(c));if(\"string\"==typeof a)return\"xlink:\"==a.substring(0,6)?c.getAttributeNS(m,a.substring(6)):\"xml:\"==a.substring(0,4)?c.getAttributeNS(la,\n",
       "a.substring(4)):c.getAttribute(a);for(var da in a)if(a[h](da)){var b=J(a[da]);b?\"xlink:\"==da.substring(0,6)?c.setAttributeNS(m,da.substring(6),b):\"xml:\"==da.substring(0,4)?c.setAttributeNS(la,da.substring(4),b):c.setAttribute(da,b):c.removeAttribute(da)}}else c=G.doc.createElementNS(la,c);return c}function y(c,a){a=J.prototype.toLowerCase.call(a);return\"finite\"==a?isFinite(c):\"array\"==a&&(c instanceof Array||Array.isArray&&Array.isArray(c))?!0:\"null\"==a&&null===c||a==typeof c&&null!==c||\"object\"==\n",
       "a&&c===Object(c)||$.call(c).slice(8,-1).toLowerCase()==a}function M(c){if(\"function\"==typeof c||Object(c)!==c)return c;var a=new c.constructor,b;for(b in c)c[h](b)&&(a[b]=M(c[b]));return a}function A(c,a,b){function m(){var e=Array.prototype.slice.call(arguments,0),f=e.join(\"\\u2400\"),d=m.cache=m.cache||{},l=m.count=m.count||[];if(d[h](f)){a:for(var e=l,l=f,B=0,H=e.length;B<H;B++)if(e[B]===l){e.push(e.splice(B,1)[0]);break a}return b?b(d[f]):d[f]}1E3<=l.length&&delete d[l.shift()];l.push(f);d[f]=c.apply(a,\n",
       "e);return b?b(d[f]):d[f]}return m}function w(c,a,b,m,e,f){return null==e?(c-=b,a-=m,c||a?(180*I.atan2(-a,-c)/C+540)%360:0):w(c,a,e,f)-w(b,m,e,f)}function z(c){return c%360*C/180}function d(c){var a=[];c=c.replace(/(?:^|\\s)(\\w+)\\(([^)]+)\\)/g,function(c,b,m){m=m.split(/\\s*,\\s*|\\s+/);\"rotate\"==b&&1==m.length&&m.push(0,0);\"scale\"==b&&(2<m.length?m=m.slice(0,2):2==m.length&&m.push(0,0),1==m.length&&m.push(m[0],0,0));\"skewX\"==b?a.push([\"m\",1,0,I.tan(z(m[0])),1,0,0]):\"skewY\"==b?a.push([\"m\",1,I.tan(z(m[0])),\n",
       "0,1,0,0]):a.push([b.charAt(0)].concat(m));return c});return a}function f(c,t){var b=O(c),m=new a.Matrix;if(b)for(var e=0,f=b.length;e<f;e++){var h=b[e],d=h.length,B=J(h[0]).toLowerCase(),H=h[0]!=B,l=H?m.invert():0,E;\"t\"==B&&2==d?m.translate(h[1],0):\"t\"==B&&3==d?H?(d=l.x(0,0),B=l.y(0,0),H=l.x(h[1],h[2]),l=l.y(h[1],h[2]),m.translate(H-d,l-B)):m.translate(h[1],h[2]):\"r\"==B?2==d?(E=E||t,m.rotate(h[1],E.x+E.width/2,E.y+E.height/2)):4==d&&(H?(H=l.x(h[2],h[3]),l=l.y(h[2],h[3]),m.rotate(h[1],H,l)):m.rotate(h[1],\n",
       "h[2],h[3])):\"s\"==B?2==d||3==d?(E=E||t,m.scale(h[1],h[d-1],E.x+E.width/2,E.y+E.height/2)):4==d?H?(H=l.x(h[2],h[3]),l=l.y(h[2],h[3]),m.scale(h[1],h[1],H,l)):m.scale(h[1],h[1],h[2],h[3]):5==d&&(H?(H=l.x(h[3],h[4]),l=l.y(h[3],h[4]),m.scale(h[1],h[2],H,l)):m.scale(h[1],h[2],h[3],h[4])):\"m\"==B&&7==d&&m.add(h[1],h[2],h[3],h[4],h[5],h[6])}return m}function n(c,t){if(null==t){var m=!0;t=\"linearGradient\"==c.type||\"radialGradient\"==c.type?c.node.getAttribute(\"gradientTransform\"):\"pattern\"==c.type?c.node.getAttribute(\"patternTransform\"):\n",
       "c.node.getAttribute(\"transform\");if(!t)return new a.Matrix;t=d(t)}else t=a._.rgTransform.test(t)?J(t).replace(/\\.{3}|\\u2026/g,c._.transform||aa):d(t),y(t,\"array\")&&(t=a.path?a.path.toString.call(t):J(t)),c._.transform=t;var b=f(t,c.getBBox(1));if(m)return b;c.matrix=b}function u(c){c=c.node.ownerSVGElement&&x(c.node.ownerSVGElement)||c.node.parentNode&&x(c.node.parentNode)||a.select(\"svg\")||a(0,0);var t=c.select(\"defs\"),t=null==t?!1:t.node;t||(t=r(\"defs\",c.node).node);return t}function p(c){return c.node.ownerSVGElement&&\n",
       "x(c.node.ownerSVGElement)||a.select(\"svg\")}function b(c,a,m){function b(c){if(null==c)return aa;if(c==+c)return c;v(B,{width:c});try{return B.getBBox().width}catch(a){return 0}}function h(c){if(null==c)return aa;if(c==+c)return c;v(B,{height:c});try{return B.getBBox().height}catch(a){return 0}}function e(b,B){null==a?d[b]=B(c.attr(b)||0):b==a&&(d=B(null==m?c.attr(b)||0:m))}var f=p(c).node,d={},B=f.querySelector(\".svg---mgr\");B||(B=v(\"rect\"),v(B,{x:-9E9,y:-9E9,width:10,height:10,\"class\":\"svg---mgr\",\n",
       "fill:\"none\"}),f.appendChild(B));switch(c.type){case \"rect\":e(\"rx\",b),e(\"ry\",h);case \"image\":e(\"width\",b),e(\"height\",h);case \"text\":e(\"x\",b);e(\"y\",h);break;case \"circle\":e(\"cx\",b);e(\"cy\",h);e(\"r\",b);break;case \"ellipse\":e(\"cx\",b);e(\"cy\",h);e(\"rx\",b);e(\"ry\",h);break;case \"line\":e(\"x1\",b);e(\"x2\",b);e(\"y1\",h);e(\"y2\",h);break;case \"marker\":e(\"refX\",b);e(\"markerWidth\",b);e(\"refY\",h);e(\"markerHeight\",h);break;case \"radialGradient\":e(\"fx\",b);e(\"fy\",h);break;case \"tspan\":e(\"dx\",b);e(\"dy\",h);break;default:e(a,\n",
       "b)}f.removeChild(B);return d}function q(c){y(c,\"array\")||(c=Array.prototype.slice.call(arguments,0));for(var a=0,b=0,m=this.node;this[a];)delete this[a++];for(a=0;a<c.length;a++)\"set\"==c[a].type?c[a].forEach(function(c){m.appendChild(c.node)}):m.appendChild(c[a].node);for(var h=m.childNodes,a=0;a<h.length;a++)this[b++]=x(h[a]);return this}function e(c){if(c.snap in E)return E[c.snap];var a=this.id=V(),b;try{b=c.ownerSVGElement}catch(m){}this.node=c;b&&(this.paper=new s(b));this.type=c.tagName;this.anims=\n",
       "{};this._={transform:[]};c.snap=a;E[a]=this;\"g\"==this.type&&(this.add=q);if(this.type in{g:1,mask:1,pattern:1})for(var e in s.prototype)s.prototype[h](e)&&(this[e]=s.prototype[e])}function l(c){this.node=c}function r(c,a){var b=v(c);a.appendChild(b);return x(b)}function s(c,a){var b,m,f,d=s.prototype;if(c&&\"svg\"==c.tagName){if(c.snap in E)return E[c.snap];var l=c.ownerDocument;b=new e(c);m=c.getElementsByTagName(\"desc\")[0];f=c.getElementsByTagName(\"defs\")[0];m||(m=v(\"desc\"),m.appendChild(l.createTextNode(\"Created with Snap\")),\n",
       "b.node.appendChild(m));f||(f=v(\"defs\"),b.node.appendChild(f));b.defs=f;for(var ca in d)d[h](ca)&&(b[ca]=d[ca]);b.paper=b.root=b}else b=r(\"svg\",G.doc.body),v(b.node,{height:a,version:1.1,width:c,xmlns:la});return b}function x(c){return!c||c instanceof e||c instanceof l?c:c.tagName&&\"svg\"==c.tagName.toLowerCase()?new s(c):c.tagName&&\"object\"==c.tagName.toLowerCase()&&\"image/svg+xml\"==c.type?new s(c.contentDocument.getElementsByTagName(\"svg\")[0]):new e(c)}a.version=\"0.3.0\";a.toString=function(){return\"Snap v\"+\n",
       "this.version};a._={};var G={win:N,doc:N.document};a._.glob=G;var h=\"hasOwnProperty\",J=String,K=parseFloat,U=parseInt,I=Math,P=I.max,Q=I.min,Y=I.abs,C=I.PI,aa=\"\",$=Object.prototype.toString,F=/^\\s*((#[a-f\\d]{6})|(#[a-f\\d]{3})|rgba?\\(\\s*([\\d\\.]+%?\\s*,\\s*[\\d\\.]+%?\\s*,\\s*[\\d\\.]+%?(?:\\s*,\\s*[\\d\\.]+%?)?)\\s*\\)|hsba?\\(\\s*([\\d\\.]+(?:deg|\\xb0|%)?\\s*,\\s*[\\d\\.]+%?\\s*,\\s*[\\d\\.]+(?:%?\\s*,\\s*[\\d\\.]+)?%?)\\s*\\)|hsla?\\(\\s*([\\d\\.]+(?:deg|\\xb0|%)?\\s*,\\s*[\\d\\.]+%?\\s*,\\s*[\\d\\.]+(?:%?\\s*,\\s*[\\d\\.]+)?%?)\\s*\\))\\s*$/i;a._.separator=\n",
       "RegExp(\"[,\\t\\n\\x0B\\f\\r \\u00a0\\u1680\\u180e\\u2000\\u2001\\u2002\\u2003\\u2004\\u2005\\u2006\\u2007\\u2008\\u2009\\u200a\\u202f\\u205f\\u3000\\u2028\\u2029]+\");var S=RegExp(\"[\\t\\n\\x0B\\f\\r \\u00a0\\u1680\\u180e\\u2000\\u2001\\u2002\\u2003\\u2004\\u2005\\u2006\\u2007\\u2008\\u2009\\u200a\\u202f\\u205f\\u3000\\u2028\\u2029]*,[\\t\\n\\x0B\\f\\r \\u00a0\\u1680\\u180e\\u2000\\u2001\\u2002\\u2003\\u2004\\u2005\\u2006\\u2007\\u2008\\u2009\\u200a\\u202f\\u205f\\u3000\\u2028\\u2029]*\"),X={hs:1,rg:1},W=RegExp(\"([a-z])[\\t\\n\\x0B\\f\\r \\u00a0\\u1680\\u180e\\u2000\\u2001\\u2002\\u2003\\u2004\\u2005\\u2006\\u2007\\u2008\\u2009\\u200a\\u202f\\u205f\\u3000\\u2028\\u2029,]*((-?\\\\d*\\\\.?\\\\d*(?:e[\\\\-+]?\\\\d+)?[\\t\\n\\x0B\\f\\r \\u00a0\\u1680\\u180e\\u2000\\u2001\\u2002\\u2003\\u2004\\u2005\\u2006\\u2007\\u2008\\u2009\\u200a\\u202f\\u205f\\u3000\\u2028\\u2029]*,?[\\t\\n\\x0B\\f\\r \\u00a0\\u1680\\u180e\\u2000\\u2001\\u2002\\u2003\\u2004\\u2005\\u2006\\u2007\\u2008\\u2009\\u200a\\u202f\\u205f\\u3000\\u2028\\u2029]*)+)\",\n",
       "\"ig\"),ma=RegExp(\"([rstm])[\\t\\n\\x0B\\f\\r \\u00a0\\u1680\\u180e\\u2000\\u2001\\u2002\\u2003\\u2004\\u2005\\u2006\\u2007\\u2008\\u2009\\u200a\\u202f\\u205f\\u3000\\u2028\\u2029,]*((-?\\\\d*\\\\.?\\\\d*(?:e[\\\\-+]?\\\\d+)?[\\t\\n\\x0B\\f\\r \\u00a0\\u1680\\u180e\\u2000\\u2001\\u2002\\u2003\\u2004\\u2005\\u2006\\u2007\\u2008\\u2009\\u200a\\u202f\\u205f\\u3000\\u2028\\u2029]*,?[\\t\\n\\x0B\\f\\r \\u00a0\\u1680\\u180e\\u2000\\u2001\\u2002\\u2003\\u2004\\u2005\\u2006\\u2007\\u2008\\u2009\\u200a\\u202f\\u205f\\u3000\\u2028\\u2029]*)+)\",\"ig\"),Z=RegExp(\"(-?\\\\d*\\\\.?\\\\d*(?:e[\\\\-+]?\\\\d+)?)[\\t\\n\\x0B\\f\\r \\u00a0\\u1680\\u180e\\u2000\\u2001\\u2002\\u2003\\u2004\\u2005\\u2006\\u2007\\u2008\\u2009\\u200a\\u202f\\u205f\\u3000\\u2028\\u2029]*,?[\\t\\n\\x0B\\f\\r \\u00a0\\u1680\\u180e\\u2000\\u2001\\u2002\\u2003\\u2004\\u2005\\u2006\\u2007\\u2008\\u2009\\u200a\\u202f\\u205f\\u3000\\u2028\\u2029]*\",\n",
       "\"ig\"),na=0,ba=\"S\"+(+new Date).toString(36),V=function(){return ba+(na++).toString(36)},m=\"http://www.w3.org/1999/xlink\",la=\"http://www.w3.org/2000/svg\",E={},ca=a.url=function(c){return\"url('#\"+c+\"')\"};a._.$=v;a._.id=V;a.format=function(){var c=/\\{([^\\}]+)\\}/g,a=/(?:(?:^|\\.)(.+?)(?=\\[|\\.|$|\\()|\\[('|\")(.+?)\\2\\])(\\(\\))?/g,b=function(c,b,m){var h=m;b.replace(a,function(c,a,b,m,t){a=a||m;h&&(a in h&&(h=h[a]),\"function\"==typeof h&&t&&(h=h()))});return h=(null==h||h==m?c:h)+\"\"};return function(a,m){return J(a).replace(c,\n",
       "function(c,a){return b(c,a,m)})}}();a._.clone=M;a._.cacher=A;a.rad=z;a.deg=function(c){return 180*c/C%360};a.angle=w;a.is=y;a.snapTo=function(c,a,b){b=y(b,\"finite\")?b:10;if(y(c,\"array\"))for(var m=c.length;m--;){if(Y(c[m]-a)<=b)return c[m]}else{c=+c;m=a%c;if(m<b)return a-m;if(m>c-b)return a-m+c}return a};a.getRGB=A(function(c){if(!c||(c=J(c)).indexOf(\"-\")+1)return{r:-1,g:-1,b:-1,hex:\"none\",error:1,toString:ka};if(\"none\"==c)return{r:-1,g:-1,b:-1,hex:\"none\",toString:ka};!X[h](c.toLowerCase().substring(0,\n",
       "2))&&\"#\"!=c.charAt()&&(c=T(c));if(!c)return{r:-1,g:-1,b:-1,hex:\"none\",error:1,toString:ka};var b,m,e,f,d;if(c=c.match(F)){c[2]&&(e=U(c[2].substring(5),16),m=U(c[2].substring(3,5),16),b=U(c[2].substring(1,3),16));c[3]&&(e=U((d=c[3].charAt(3))+d,16),m=U((d=c[3].charAt(2))+d,16),b=U((d=c[3].charAt(1))+d,16));c[4]&&(d=c[4].split(S),b=K(d[0]),\"%\"==d[0].slice(-1)&&(b*=2.55),m=K(d[1]),\"%\"==d[1].slice(-1)&&(m*=2.55),e=K(d[2]),\"%\"==d[2].slice(-1)&&(e*=2.55),\"rgba\"==c[1].toLowerCase().slice(0,4)&&(f=K(d[3])),\n",
       "d[3]&&\"%\"==d[3].slice(-1)&&(f/=100));if(c[5])return d=c[5].split(S),b=K(d[0]),\"%\"==d[0].slice(-1)&&(b/=100),m=K(d[1]),\"%\"==d[1].slice(-1)&&(m/=100),e=K(d[2]),\"%\"==d[2].slice(-1)&&(e/=100),\"deg\"!=d[0].slice(-3)&&\"\\u00b0\"!=d[0].slice(-1)||(b/=360),\"hsba\"==c[1].toLowerCase().slice(0,4)&&(f=K(d[3])),d[3]&&\"%\"==d[3].slice(-1)&&(f/=100),a.hsb2rgb(b,m,e,f);if(c[6])return d=c[6].split(S),b=K(d[0]),\"%\"==d[0].slice(-1)&&(b/=100),m=K(d[1]),\"%\"==d[1].slice(-1)&&(m/=100),e=K(d[2]),\"%\"==d[2].slice(-1)&&(e/=100),\n",
       "\"deg\"!=d[0].slice(-3)&&\"\\u00b0\"!=d[0].slice(-1)||(b/=360),\"hsla\"==c[1].toLowerCase().slice(0,4)&&(f=K(d[3])),d[3]&&\"%\"==d[3].slice(-1)&&(f/=100),a.hsl2rgb(b,m,e,f);b=Q(I.round(b),255);m=Q(I.round(m),255);e=Q(I.round(e),255);f=Q(P(f,0),1);c={r:b,g:m,b:e,toString:ka};c.hex=\"#\"+(16777216|e|m<<8|b<<16).toString(16).slice(1);c.opacity=y(f,\"finite\")?f:1;return c}return{r:-1,g:-1,b:-1,hex:\"none\",error:1,toString:ka}},a);a.hsb=A(function(c,b,m){return a.hsb2rgb(c,b,m).hex});a.hsl=A(function(c,b,m){return a.hsl2rgb(c,\n",
       "b,m).hex});a.rgb=A(function(c,a,b,m){if(y(m,\"finite\")){var e=I.round;return\"rgba(\"+[e(c),e(a),e(b),+m.toFixed(2)]+\")\"}return\"#\"+(16777216|b|a<<8|c<<16).toString(16).slice(1)});var T=function(c){var a=G.doc.getElementsByTagName(\"head\")[0]||G.doc.getElementsByTagName(\"svg\")[0];T=A(function(c){if(\"red\"==c.toLowerCase())return\"rgb(255, 0, 0)\";a.style.color=\"rgb(255, 0, 0)\";a.style.color=c;c=G.doc.defaultView.getComputedStyle(a,aa).getPropertyValue(\"color\");return\"rgb(255, 0, 0)\"==c?null:c});return T(c)},\n",
       "qa=function(){return\"hsb(\"+[this.h,this.s,this.b]+\")\"},ra=function(){return\"hsl(\"+[this.h,this.s,this.l]+\")\"},ka=function(){return 1==this.opacity||null==this.opacity?this.hex:\"rgba(\"+[this.r,this.g,this.b,this.opacity]+\")\"},D=function(c,b,m){null==b&&y(c,\"object\")&&\"r\"in c&&\"g\"in c&&\"b\"in c&&(m=c.b,b=c.g,c=c.r);null==b&&y(c,string)&&(m=a.getRGB(c),c=m.r,b=m.g,m=m.b);if(1<c||1<b||1<m)c/=255,b/=255,m/=255;return[c,b,m]},oa=function(c,b,m,e){c=I.round(255*c);b=I.round(255*b);m=I.round(255*m);c={r:c,\n",
       "g:b,b:m,opacity:y(e,\"finite\")?e:1,hex:a.rgb(c,b,m),toString:ka};y(e,\"finite\")&&(c.opacity=e);return c};a.color=function(c){var b;y(c,\"object\")&&\"h\"in c&&\"s\"in c&&\"b\"in c?(b=a.hsb2rgb(c),c.r=b.r,c.g=b.g,c.b=b.b,c.opacity=1,c.hex=b.hex):y(c,\"object\")&&\"h\"in c&&\"s\"in c&&\"l\"in c?(b=a.hsl2rgb(c),c.r=b.r,c.g=b.g,c.b=b.b,c.opacity=1,c.hex=b.hex):(y(c,\"string\")&&(c=a.getRGB(c)),y(c,\"object\")&&\"r\"in c&&\"g\"in c&&\"b\"in c&&!(\"error\"in c)?(b=a.rgb2hsl(c),c.h=b.h,c.s=b.s,c.l=b.l,b=a.rgb2hsb(c),c.v=b.b):(c={hex:\"none\"},\n",
       "c.r=c.g=c.b=c.h=c.s=c.v=c.l=-1,c.error=1));c.toString=ka;return c};a.hsb2rgb=function(c,a,b,m){y(c,\"object\")&&\"h\"in c&&\"s\"in c&&\"b\"in c&&(b=c.b,a=c.s,c=c.h,m=c.o);var e,h,d;c=360*c%360/60;d=b*a;a=d*(1-Y(c%2-1));b=e=h=b-d;c=~~c;b+=[d,a,0,0,a,d][c];e+=[a,d,d,a,0,0][c];h+=[0,0,a,d,d,a][c];return oa(b,e,h,m)};a.hsl2rgb=function(c,a,b,m){y(c,\"object\")&&\"h\"in c&&\"s\"in c&&\"l\"in c&&(b=c.l,a=c.s,c=c.h);if(1<c||1<a||1<b)c/=360,a/=100,b/=100;var e,h,d;c=360*c%360/60;d=2*a*(0.5>b?b:1-b);a=d*(1-Y(c%2-1));b=e=\n",
       "h=b-d/2;c=~~c;b+=[d,a,0,0,a,d][c];e+=[a,d,d,a,0,0][c];h+=[0,0,a,d,d,a][c];return oa(b,e,h,m)};a.rgb2hsb=function(c,a,b){b=D(c,a,b);c=b[0];a=b[1];b=b[2];var m,e;m=P(c,a,b);e=m-Q(c,a,b);c=((0==e?0:m==c?(a-b)/e:m==a?(b-c)/e+2:(c-a)/e+4)+360)%6*60/360;return{h:c,s:0==e?0:e/m,b:m,toString:qa}};a.rgb2hsl=function(c,a,b){b=D(c,a,b);c=b[0];a=b[1];b=b[2];var m,e,h;m=P(c,a,b);e=Q(c,a,b);h=m-e;c=((0==h?0:m==c?(a-b)/h:m==a?(b-c)/h+2:(c-a)/h+4)+360)%6*60/360;m=(m+e)/2;return{h:c,s:0==h?0:0.5>m?h/(2*m):h/(2-2*\n",
       "m),l:m,toString:ra}};a.parsePathString=function(c){if(!c)return null;var b=a.path(c);if(b.arr)return a.path.clone(b.arr);var m={a:7,c:6,o:2,h:1,l:2,m:2,r:4,q:4,s:4,t:2,v:1,u:3,z:0},e=[];y(c,\"array\")&&y(c[0],\"array\")&&(e=a.path.clone(c));e.length||J(c).replace(W,function(c,a,b){var h=[];c=a.toLowerCase();b.replace(Z,function(c,a){a&&h.push(+a)});\"m\"==c&&2<h.length&&(e.push([a].concat(h.splice(0,2))),c=\"l\",a=\"m\"==a?\"l\":\"L\");\"o\"==c&&1==h.length&&e.push([a,h[0] ]);if(\"r\"==c)e.push([a].concat(h));else for(;h.length>=\n",
       "m[c]&&(e.push([a].concat(h.splice(0,m[c]))),m[c]););});e.toString=a.path.toString;b.arr=a.path.clone(e);return e};var O=a.parseTransformString=function(c){if(!c)return null;var b=[];y(c,\"array\")&&y(c[0],\"array\")&&(b=a.path.clone(c));b.length||J(c).replace(ma,function(c,a,m){var e=[];a.toLowerCase();m.replace(Z,function(c,a){a&&e.push(+a)});b.push([a].concat(e))});b.toString=a.path.toString;return b};a._.svgTransform2string=d;a._.rgTransform=RegExp(\"^[a-z][\\t\\n\\x0B\\f\\r \\u00a0\\u1680\\u180e\\u2000\\u2001\\u2002\\u2003\\u2004\\u2005\\u2006\\u2007\\u2008\\u2009\\u200a\\u202f\\u205f\\u3000\\u2028\\u2029]*-?\\\\.?\\\\d\",\n",
       "\"i\");a._.transform2matrix=f;a._unit2px=b;a._.getSomeDefs=u;a._.getSomeSVG=p;a.select=function(c){return x(G.doc.querySelector(c))};a.selectAll=function(c){c=G.doc.querySelectorAll(c);for(var b=(a.set||Array)(),m=0;m<c.length;m++)b.push(x(c[m]));return b};setInterval(function(){for(var c in E)if(E[h](c)){var a=E[c],b=a.node;(\"svg\"!=a.type&&!b.ownerSVGElement||\"svg\"==a.type&&(!b.parentNode||\"ownerSVGElement\"in b.parentNode&&!b.ownerSVGElement))&&delete E[c]}},1E4);(function(c){function m(c){function a(c,\n",
       "b){var m=v(c.node,b);(m=(m=m&&m.match(d))&&m[2])&&\"#\"==m.charAt()&&(m=m.substring(1))&&(f[m]=(f[m]||[]).concat(function(a){var m={};m[b]=ca(a);v(c.node,m)}))}function b(c){var a=v(c.node,\"xlink:href\");a&&\"#\"==a.charAt()&&(a=a.substring(1))&&(f[a]=(f[a]||[]).concat(function(a){c.attr(\"xlink:href\",\"#\"+a)}))}var e=c.selectAll(\"*\"),h,d=/^\\s*url\\((\"|'|)(.*)\\1\\)\\s*$/;c=[];for(var f={},l=0,E=e.length;l<E;l++){h=e[l];a(h,\"fill\");a(h,\"stroke\");a(h,\"filter\");a(h,\"mask\");a(h,\"clip-path\");b(h);var t=v(h.node,\n",
       "\"id\");t&&(v(h.node,{id:h.id}),c.push({old:t,id:h.id}))}l=0;for(E=c.length;l<E;l++)if(e=f[c[l].old])for(h=0,t=e.length;h<t;h++)e[h](c[l].id)}function e(c,a,b){return function(m){m=m.slice(c,a);1==m.length&&(m=m[0]);return b?b(m):m}}function d(c){return function(){var a=c?\"<\"+this.type:\"\",b=this.node.attributes,m=this.node.childNodes;if(c)for(var e=0,h=b.length;e<h;e++)a+=\" \"+b[e].name+'=\"'+b[e].value.replace(/\"/g,'\\\\\"')+'\"';if(m.length){c&&(a+=\">\");e=0;for(h=m.length;e<h;e++)3==m[e].nodeType?a+=m[e].nodeValue:\n",
       "1==m[e].nodeType&&(a+=x(m[e]).toString());c&&(a+=\"</\"+this.type+\">\")}else c&&(a+=\"/>\");return a}}c.attr=function(c,a){if(!c)return this;if(y(c,\"string\"))if(1<arguments.length){var b={};b[c]=a;c=b}else return k(\"snap.util.getattr.\"+c,this).firstDefined();for(var m in c)c[h](m)&&k(\"snap.util.attr.\"+m,this,c[m]);return this};c.getBBox=function(c){if(!a.Matrix||!a.path)return this.node.getBBox();var b=this,m=new a.Matrix;if(b.removed)return a._.box();for(;\"use\"==b.type;)if(c||(m=m.add(b.transform().localMatrix.translate(b.attr(\"x\")||\n",
       "0,b.attr(\"y\")||0))),b.original)b=b.original;else var e=b.attr(\"xlink:href\"),b=b.original=b.node.ownerDocument.getElementById(e.substring(e.indexOf(\"#\")+1));var e=b._,h=a.path.get[b.type]||a.path.get.deflt;try{if(c)return e.bboxwt=h?a.path.getBBox(b.realPath=h(b)):a._.box(b.node.getBBox()),a._.box(e.bboxwt);b.realPath=h(b);b.matrix=b.transform().localMatrix;e.bbox=a.path.getBBox(a.path.map(b.realPath,m.add(b.matrix)));return a._.box(e.bbox)}catch(d){return a._.box()}};var f=function(){return this.string};\n",
       "c.transform=function(c){var b=this._;if(null==c){var m=this;c=new a.Matrix(this.node.getCTM());for(var e=n(this),h=[e],d=new a.Matrix,l=e.toTransformString(),b=J(e)==J(this.matrix)?J(b.transform):l;\"svg\"!=m.type&&(m=m.parent());)h.push(n(m));for(m=h.length;m--;)d.add(h[m]);return{string:b,globalMatrix:c,totalMatrix:d,localMatrix:e,diffMatrix:c.clone().add(e.invert()),global:c.toTransformString(),total:d.toTransformString(),local:l,toString:f}}c instanceof a.Matrix?this.matrix=c:n(this,c);this.node&&\n",
       "(\"linearGradient\"==this.type||\"radialGradient\"==this.type?v(this.node,{gradientTransform:this.matrix}):\"pattern\"==this.type?v(this.node,{patternTransform:this.matrix}):v(this.node,{transform:this.matrix}));return this};c.parent=function(){return x(this.node.parentNode)};c.append=c.add=function(c){if(c){if(\"set\"==c.type){var a=this;c.forEach(function(c){a.add(c)});return this}c=x(c);this.node.appendChild(c.node);c.paper=this.paper}return this};c.appendTo=function(c){c&&(c=x(c),c.append(this));return this};\n",
       "c.prepend=function(c){if(c){if(\"set\"==c.type){var a=this,b;c.forEach(function(c){b?b.after(c):a.prepend(c);b=c});return this}c=x(c);var m=c.parent();this.node.insertBefore(c.node,this.node.firstChild);this.add&&this.add();c.paper=this.paper;this.parent()&&this.parent().add();m&&m.add()}return this};c.prependTo=function(c){c=x(c);c.prepend(this);return this};c.before=function(c){if(\"set\"==c.type){var a=this;c.forEach(function(c){var b=c.parent();a.node.parentNode.insertBefore(c.node,a.node);b&&b.add()});\n",
       "this.parent().add();return this}c=x(c);var b=c.parent();this.node.parentNode.insertBefore(c.node,this.node);this.parent()&&this.parent().add();b&&b.add();c.paper=this.paper;return this};c.after=function(c){c=x(c);var a=c.parent();this.node.nextSibling?this.node.parentNode.insertBefore(c.node,this.node.nextSibling):this.node.parentNode.appendChild(c.node);this.parent()&&this.parent().add();a&&a.add();c.paper=this.paper;return this};c.insertBefore=function(c){c=x(c);var a=this.parent();c.node.parentNode.insertBefore(this.node,\n",
       "c.node);this.paper=c.paper;a&&a.add();c.parent()&&c.parent().add();return this};c.insertAfter=function(c){c=x(c);var a=this.parent();c.node.parentNode.insertBefore(this.node,c.node.nextSibling);this.paper=c.paper;a&&a.add();c.parent()&&c.parent().add();return this};c.remove=function(){var c=this.parent();this.node.parentNode&&this.node.parentNode.removeChild(this.node);delete this.paper;this.removed=!0;c&&c.add();return this};c.select=function(c){return x(this.node.querySelector(c))};c.selectAll=\n",
       "function(c){c=this.node.querySelectorAll(c);for(var b=(a.set||Array)(),m=0;m<c.length;m++)b.push(x(c[m]));return b};c.asPX=function(c,a){null==a&&(a=this.attr(c));return+b(this,c,a)};c.use=function(){var c,a=this.node.id;a||(a=this.id,v(this.node,{id:a}));c=\"linearGradient\"==this.type||\"radialGradient\"==this.type||\"pattern\"==this.type?r(this.type,this.node.parentNode):r(\"use\",this.node.parentNode);v(c.node,{\"xlink:href\":\"#\"+a});c.original=this;return c};var l=/\\S+/g;c.addClass=function(c){var a=(c||\n",
       "\"\").match(l)||[];c=this.node;var b=c.className.baseVal,m=b.match(l)||[],e,h,d;if(a.length){for(e=0;d=a[e++];)h=m.indexOf(d),~h||m.push(d);a=m.join(\" \");b!=a&&(c.className.baseVal=a)}return this};c.removeClass=function(c){var a=(c||\"\").match(l)||[];c=this.node;var b=c.className.baseVal,m=b.match(l)||[],e,h;if(m.length){for(e=0;h=a[e++];)h=m.indexOf(h),~h&&m.splice(h,1);a=m.join(\" \");b!=a&&(c.className.baseVal=a)}return this};c.hasClass=function(c){return!!~(this.node.className.baseVal.match(l)||[]).indexOf(c)};\n",
       "c.toggleClass=function(c,a){if(null!=a)return a?this.addClass(c):this.removeClass(c);var b=(c||\"\").match(l)||[],m=this.node,e=m.className.baseVal,h=e.match(l)||[],d,f,E;for(d=0;E=b[d++];)f=h.indexOf(E),~f?h.splice(f,1):h.push(E);b=h.join(\" \");e!=b&&(m.className.baseVal=b);return this};c.clone=function(){var c=x(this.node.cloneNode(!0));v(c.node,\"id\")&&v(c.node,{id:c.id});m(c);c.insertAfter(this);return c};c.toDefs=function(){u(this).appendChild(this.node);return this};c.pattern=c.toPattern=function(c,\n",
       "a,b,m){var e=r(\"pattern\",u(this));null==c&&(c=this.getBBox());y(c,\"object\")&&\"x\"in c&&(a=c.y,b=c.width,m=c.height,c=c.x);v(e.node,{x:c,y:a,width:b,height:m,patternUnits:\"userSpaceOnUse\",id:e.id,viewBox:[c,a,b,m].join(\" \")});e.node.appendChild(this.node);return e};c.marker=function(c,a,b,m,e,h){var d=r(\"marker\",u(this));null==c&&(c=this.getBBox());y(c,\"object\")&&\"x\"in c&&(a=c.y,b=c.width,m=c.height,e=c.refX||c.cx,h=c.refY||c.cy,c=c.x);v(d.node,{viewBox:[c,a,b,m].join(\" \"),markerWidth:b,markerHeight:m,\n",
       "orient:\"auto\",refX:e||0,refY:h||0,id:d.id});d.node.appendChild(this.node);return d};var E=function(c,a,b,m){\"function\"!=typeof b||b.length||(m=b,b=L.linear);this.attr=c;this.dur=a;b&&(this.easing=b);m&&(this.callback=m)};a._.Animation=E;a.animation=function(c,a,b,m){return new E(c,a,b,m)};c.inAnim=function(){var c=[],a;for(a in this.anims)this.anims[h](a)&&function(a){c.push({anim:new E(a._attrs,a.dur,a.easing,a._callback),mina:a,curStatus:a.status(),status:function(c){return a.status(c)},stop:function(){a.stop()}})}(this.anims[a]);\n",
       "return c};a.animate=function(c,a,b,m,e,h){\"function\"!=typeof e||e.length||(h=e,e=L.linear);var d=L.time();c=L(c,a,d,d+m,L.time,b,e);h&&k.once(\"mina.finish.\"+c.id,h);return c};c.stop=function(){for(var c=this.inAnim(),a=0,b=c.length;a<b;a++)c[a].stop();return this};c.animate=function(c,a,b,m){\"function\"!=typeof b||b.length||(m=b,b=L.linear);c instanceof E&&(m=c.callback,b=c.easing,a=b.dur,c=c.attr);var d=[],f=[],l={},t,ca,n,T=this,q;for(q in c)if(c[h](q)){T.equal?(n=T.equal(q,J(c[q])),t=n.from,ca=\n",
       "n.to,n=n.f):(t=+T.attr(q),ca=+c[q]);var la=y(t,\"array\")?t.length:1;l[q]=e(d.length,d.length+la,n);d=d.concat(t);f=f.concat(ca)}t=L.time();var p=L(d,f,t,t+a,L.time,function(c){var a={},b;for(b in l)l[h](b)&&(a[b]=l[b](c));T.attr(a)},b);T.anims[p.id]=p;p._attrs=c;p._callback=m;k(\"snap.animcreated.\"+T.id,p);k.once(\"mina.finish.\"+p.id,function(){delete T.anims[p.id];m&&m.call(T)});k.once(\"mina.stop.\"+p.id,function(){delete T.anims[p.id]});return T};var T={};c.data=function(c,b){var m=T[this.id]=T[this.id]||\n",
       "{};if(0==arguments.length)return k(\"snap.data.get.\"+this.id,this,m,null),m;if(1==arguments.length){if(a.is(c,\"object\")){for(var e in c)c[h](e)&&this.data(e,c[e]);return this}k(\"snap.data.get.\"+this.id,this,m[c],c);return m[c]}m[c]=b;k(\"snap.data.set.\"+this.id,this,b,c);return this};c.removeData=function(c){null==c?T[this.id]={}:T[this.id]&&delete T[this.id][c];return this};c.outerSVG=c.toString=d(1);c.innerSVG=d()})(e.prototype);a.parse=function(c){var a=G.doc.createDocumentFragment(),b=!0,m=G.doc.createElement(\"div\");\n",
       "c=J(c);c.match(/^\\s*<\\s*svg(?:\\s|>)/)||(c=\"<svg>\"+c+\"</svg>\",b=!1);m.innerHTML=c;if(c=m.getElementsByTagName(\"svg\")[0])if(b)a=c;else for(;c.firstChild;)a.appendChild(c.firstChild);m.innerHTML=aa;return new l(a)};l.prototype.select=e.prototype.select;l.prototype.selectAll=e.prototype.selectAll;a.fragment=function(){for(var c=Array.prototype.slice.call(arguments,0),b=G.doc.createDocumentFragment(),m=0,e=c.length;m<e;m++){var h=c[m];h.node&&h.node.nodeType&&b.appendChild(h.node);h.nodeType&&b.appendChild(h);\n",
       "\"string\"==typeof h&&b.appendChild(a.parse(h).node)}return new l(b)};a._.make=r;a._.wrap=x;s.prototype.el=function(c,a){var b=r(c,this.node);a&&b.attr(a);return b};k.on(\"snap.util.getattr\",function(){var c=k.nt(),c=c.substring(c.lastIndexOf(\".\")+1),a=c.replace(/[A-Z]/g,function(c){return\"-\"+c.toLowerCase()});return pa[h](a)?this.node.ownerDocument.defaultView.getComputedStyle(this.node,null).getPropertyValue(a):v(this.node,c)});var pa={\"alignment-baseline\":0,\"baseline-shift\":0,clip:0,\"clip-path\":0,\n",
       "\"clip-rule\":0,color:0,\"color-interpolation\":0,\"color-interpolation-filters\":0,\"color-profile\":0,\"color-rendering\":0,cursor:0,direction:0,display:0,\"dominant-baseline\":0,\"enable-background\":0,fill:0,\"fill-opacity\":0,\"fill-rule\":0,filter:0,\"flood-color\":0,\"flood-opacity\":0,font:0,\"font-family\":0,\"font-size\":0,\"font-size-adjust\":0,\"font-stretch\":0,\"font-style\":0,\"font-variant\":0,\"font-weight\":0,\"glyph-orientation-horizontal\":0,\"glyph-orientation-vertical\":0,\"image-rendering\":0,kerning:0,\"letter-spacing\":0,\n",
       "\"lighting-color\":0,marker:0,\"marker-end\":0,\"marker-mid\":0,\"marker-start\":0,mask:0,opacity:0,overflow:0,\"pointer-events\":0,\"shape-rendering\":0,\"stop-color\":0,\"stop-opacity\":0,stroke:0,\"stroke-dasharray\":0,\"stroke-dashoffset\":0,\"stroke-linecap\":0,\"stroke-linejoin\":0,\"stroke-miterlimit\":0,\"stroke-opacity\":0,\"stroke-width\":0,\"text-anchor\":0,\"text-decoration\":0,\"text-rendering\":0,\"unicode-bidi\":0,visibility:0,\"word-spacing\":0,\"writing-mode\":0};k.on(\"snap.util.attr\",function(c){var a=k.nt(),b={},a=a.substring(a.lastIndexOf(\".\")+\n",
       "1);b[a]=c;var m=a.replace(/-(\\w)/gi,function(c,a){return a.toUpperCase()}),a=a.replace(/[A-Z]/g,function(c){return\"-\"+c.toLowerCase()});pa[h](a)?this.node.style[m]=null==c?aa:c:v(this.node,b)});a.ajax=function(c,a,b,m){var e=new XMLHttpRequest,h=V();if(e){if(y(a,\"function\"))m=b,b=a,a=null;else if(y(a,\"object\")){var d=[],f;for(f in a)a.hasOwnProperty(f)&&d.push(encodeURIComponent(f)+\"=\"+encodeURIComponent(a[f]));a=d.join(\"&\")}e.open(a?\"POST\":\"GET\",c,!0);a&&(e.setRequestHeader(\"X-Requested-With\",\"XMLHttpRequest\"),\n",
       "e.setRequestHeader(\"Content-type\",\"application/x-www-form-urlencoded\"));b&&(k.once(\"snap.ajax.\"+h+\".0\",b),k.once(\"snap.ajax.\"+h+\".200\",b),k.once(\"snap.ajax.\"+h+\".304\",b));e.onreadystatechange=function(){4==e.readyState&&k(\"snap.ajax.\"+h+\".\"+e.status,m,e)};if(4==e.readyState)return e;e.send(a);return e}};a.load=function(c,b,m){a.ajax(c,function(c){c=a.parse(c.responseText);m?b.call(m,c):b(c)})};a.getElementByPoint=function(c,a){var b,m,e=G.doc.elementFromPoint(c,a);if(G.win.opera&&\"svg\"==e.tagName){b=\n",
       "e;m=b.getBoundingClientRect();b=b.ownerDocument;var h=b.body,d=b.documentElement;b=m.top+(g.win.pageYOffset||d.scrollTop||h.scrollTop)-(d.clientTop||h.clientTop||0);m=m.left+(g.win.pageXOffset||d.scrollLeft||h.scrollLeft)-(d.clientLeft||h.clientLeft||0);h=e.createSVGRect();h.x=c-m;h.y=a-b;h.width=h.height=1;b=e.getIntersectionList(h,null);b.length&&(e=b[b.length-1])}return e?x(e):null};a.plugin=function(c){c(a,e,s,G,l)};return G.win.Snap=a}();C.plugin(function(a,k,y,M,A){function w(a,d,f,b,q,e){null==\n",
       "d&&\"[object SVGMatrix]\"==z.call(a)?(this.a=a.a,this.b=a.b,this.c=a.c,this.d=a.d,this.e=a.e,this.f=a.f):null!=a?(this.a=+a,this.b=+d,this.c=+f,this.d=+b,this.e=+q,this.f=+e):(this.a=1,this.c=this.b=0,this.d=1,this.f=this.e=0)}var z=Object.prototype.toString,d=String,f=Math;(function(n){function k(a){return a[0]*a[0]+a[1]*a[1]}function p(a){var d=f.sqrt(k(a));a[0]&&(a[0]/=d);a[1]&&(a[1]/=d)}n.add=function(a,d,e,f,n,p){var k=[[],[],[] ],u=[[this.a,this.c,this.e],[this.b,this.d,this.f],[0,0,1] ];d=[[a,\n",
       "e,n],[d,f,p],[0,0,1] ];a&&a instanceof w&&(d=[[a.a,a.c,a.e],[a.b,a.d,a.f],[0,0,1] ]);for(a=0;3>a;a++)for(e=0;3>e;e++){for(f=n=0;3>f;f++)n+=u[a][f]*d[f][e];k[a][e]=n}this.a=k[0][0];this.b=k[1][0];this.c=k[0][1];this.d=k[1][1];this.e=k[0][2];this.f=k[1][2];return this};n.invert=function(){var a=this.a*this.d-this.b*this.c;return new w(this.d/a,-this.b/a,-this.c/a,this.a/a,(this.c*this.f-this.d*this.e)/a,(this.b*this.e-this.a*this.f)/a)};n.clone=function(){return new w(this.a,this.b,this.c,this.d,this.e,\n",
       "this.f)};n.translate=function(a,d){return this.add(1,0,0,1,a,d)};n.scale=function(a,d,e,f){null==d&&(d=a);(e||f)&&this.add(1,0,0,1,e,f);this.add(a,0,0,d,0,0);(e||f)&&this.add(1,0,0,1,-e,-f);return this};n.rotate=function(b,d,e){b=a.rad(b);d=d||0;e=e||0;var l=+f.cos(b).toFixed(9);b=+f.sin(b).toFixed(9);this.add(l,b,-b,l,d,e);return this.add(1,0,0,1,-d,-e)};n.x=function(a,d){return a*this.a+d*this.c+this.e};n.y=function(a,d){return a*this.b+d*this.d+this.f};n.get=function(a){return+this[d.fromCharCode(97+\n",
       "a)].toFixed(4)};n.toString=function(){return\"matrix(\"+[this.get(0),this.get(1),this.get(2),this.get(3),this.get(4),this.get(5)].join()+\")\"};n.offset=function(){return[this.e.toFixed(4),this.f.toFixed(4)]};n.determinant=function(){return this.a*this.d-this.b*this.c};n.split=function(){var b={};b.dx=this.e;b.dy=this.f;var d=[[this.a,this.c],[this.b,this.d] ];b.scalex=f.sqrt(k(d[0]));p(d[0]);b.shear=d[0][0]*d[1][0]+d[0][1]*d[1][1];d[1]=[d[1][0]-d[0][0]*b.shear,d[1][1]-d[0][1]*b.shear];b.scaley=f.sqrt(k(d[1]));\n",
       "p(d[1]);b.shear/=b.scaley;0>this.determinant()&&(b.scalex=-b.scalex);var e=-d[0][1],d=d[1][1];0>d?(b.rotate=a.deg(f.acos(d)),0>e&&(b.rotate=360-b.rotate)):b.rotate=a.deg(f.asin(e));b.isSimple=!+b.shear.toFixed(9)&&(b.scalex.toFixed(9)==b.scaley.toFixed(9)||!b.rotate);b.isSuperSimple=!+b.shear.toFixed(9)&&b.scalex.toFixed(9)==b.scaley.toFixed(9)&&!b.rotate;b.noRotation=!+b.shear.toFixed(9)&&!b.rotate;return b};n.toTransformString=function(a){a=a||this.split();if(+a.shear.toFixed(9))return\"m\"+[this.get(0),\n",
       "this.get(1),this.get(2),this.get(3),this.get(4),this.get(5)];a.scalex=+a.scalex.toFixed(4);a.scaley=+a.scaley.toFixed(4);a.rotate=+a.rotate.toFixed(4);return(a.dx||a.dy?\"t\"+[+a.dx.toFixed(4),+a.dy.toFixed(4)]:\"\")+(1!=a.scalex||1!=a.scaley?\"s\"+[a.scalex,a.scaley,0,0]:\"\")+(a.rotate?\"r\"+[+a.rotate.toFixed(4),0,0]:\"\")}})(w.prototype);a.Matrix=w;a.matrix=function(a,d,f,b,k,e){return new w(a,d,f,b,k,e)}});C.plugin(function(a,v,y,M,A){function w(h){return function(d){k.stop();d instanceof A&&1==d.node.childNodes.length&&\n",
       "(\"radialGradient\"==d.node.firstChild.tagName||\"linearGradient\"==d.node.firstChild.tagName||\"pattern\"==d.node.firstChild.tagName)&&(d=d.node.firstChild,b(this).appendChild(d),d=u(d));if(d instanceof v)if(\"radialGradient\"==d.type||\"linearGradient\"==d.type||\"pattern\"==d.type){d.node.id||e(d.node,{id:d.id});var f=l(d.node.id)}else f=d.attr(h);else f=a.color(d),f.error?(f=a(b(this).ownerSVGElement).gradient(d))?(f.node.id||e(f.node,{id:f.id}),f=l(f.node.id)):f=d:f=r(f);d={};d[h]=f;e(this.node,d);this.node.style[h]=\n",
       "x}}function z(a){k.stop();a==+a&&(a+=\"px\");this.node.style.fontSize=a}function d(a){var b=[];a=a.childNodes;for(var e=0,f=a.length;e<f;e++){var l=a[e];3==l.nodeType&&b.push(l.nodeValue);\"tspan\"==l.tagName&&(1==l.childNodes.length&&3==l.firstChild.nodeType?b.push(l.firstChild.nodeValue):b.push(d(l)))}return b}function f(){k.stop();return this.node.style.fontSize}var n=a._.make,u=a._.wrap,p=a.is,b=a._.getSomeDefs,q=/^url\\(#?([^)]+)\\)$/,e=a._.$,l=a.url,r=String,s=a._.separator,x=\"\";k.on(\"snap.util.attr.mask\",\n",
       "function(a){if(a instanceof v||a instanceof A){k.stop();a instanceof A&&1==a.node.childNodes.length&&(a=a.node.firstChild,b(this).appendChild(a),a=u(a));if(\"mask\"==a.type)var d=a;else d=n(\"mask\",b(this)),d.node.appendChild(a.node);!d.node.id&&e(d.node,{id:d.id});e(this.node,{mask:l(d.id)})}});(function(a){k.on(\"snap.util.attr.clip\",a);k.on(\"snap.util.attr.clip-path\",a);k.on(\"snap.util.attr.clipPath\",a)})(function(a){if(a instanceof v||a instanceof A){k.stop();if(\"clipPath\"==a.type)var d=a;else d=\n",
       "n(\"clipPath\",b(this)),d.node.appendChild(a.node),!d.node.id&&e(d.node,{id:d.id});e(this.node,{\"clip-path\":l(d.id)})}});k.on(\"snap.util.attr.fill\",w(\"fill\"));k.on(\"snap.util.attr.stroke\",w(\"stroke\"));var G=/^([lr])(?:\\(([^)]*)\\))?(.*)$/i;k.on(\"snap.util.grad.parse\",function(a){a=r(a);var b=a.match(G);if(!b)return null;a=b[1];var e=b[2],b=b[3],e=e.split(/\\s*,\\s*/).map(function(a){return+a==a?+a:a});1==e.length&&0==e[0]&&(e=[]);b=b.split(\"-\");b=b.map(function(a){a=a.split(\":\");var b={color:a[0]};a[1]&&\n",
       "(b.offset=parseFloat(a[1]));return b});return{type:a,params:e,stops:b}});k.on(\"snap.util.attr.d\",function(b){k.stop();p(b,\"array\")&&p(b[0],\"array\")&&(b=a.path.toString.call(b));b=r(b);b.match(/[ruo]/i)&&(b=a.path.toAbsolute(b));e(this.node,{d:b})})(-1);k.on(\"snap.util.attr.#text\",function(a){k.stop();a=r(a);for(a=M.doc.createTextNode(a);this.node.firstChild;)this.node.removeChild(this.node.firstChild);this.node.appendChild(a)})(-1);k.on(\"snap.util.attr.path\",function(a){k.stop();this.attr({d:a})})(-1);\n",
       "k.on(\"snap.util.attr.class\",function(a){k.stop();this.node.className.baseVal=a})(-1);k.on(\"snap.util.attr.viewBox\",function(a){a=p(a,\"object\")&&\"x\"in a?[a.x,a.y,a.width,a.height].join(\" \"):p(a,\"array\")?a.join(\" \"):a;e(this.node,{viewBox:a});k.stop()})(-1);k.on(\"snap.util.attr.transform\",function(a){this.transform(a);k.stop()})(-1);k.on(\"snap.util.attr.r\",function(a){\"rect\"==this.type&&(k.stop(),e(this.node,{rx:a,ry:a}))})(-1);k.on(\"snap.util.attr.textpath\",function(a){k.stop();if(\"text\"==this.type){var d,\n",
       "f;if(!a&&this.textPath){for(a=this.textPath;a.node.firstChild;)this.node.appendChild(a.node.firstChild);a.remove();delete this.textPath}else if(p(a,\"string\")?(d=b(this),a=u(d.parentNode).path(a),d.appendChild(a.node),d=a.id,a.attr({id:d})):(a=u(a),a instanceof v&&(d=a.attr(\"id\"),d||(d=a.id,a.attr({id:d})))),d)if(a=this.textPath,f=this.node,a)a.attr({\"xlink:href\":\"#\"+d});else{for(a=e(\"textPath\",{\"xlink:href\":\"#\"+d});f.firstChild;)a.appendChild(f.firstChild);f.appendChild(a);this.textPath=u(a)}}})(-1);\n",
       "k.on(\"snap.util.attr.text\",function(a){if(\"text\"==this.type){for(var b=this.node,d=function(a){var b=e(\"tspan\");if(p(a,\"array\"))for(var f=0;f<a.length;f++)b.appendChild(d(a[f]));else b.appendChild(M.doc.createTextNode(a));b.normalize&&b.normalize();return b};b.firstChild;)b.removeChild(b.firstChild);for(a=d(a);a.firstChild;)b.appendChild(a.firstChild)}k.stop()})(-1);k.on(\"snap.util.attr.fontSize\",z)(-1);k.on(\"snap.util.attr.font-size\",z)(-1);k.on(\"snap.util.getattr.transform\",function(){k.stop();\n",
       "return this.transform()})(-1);k.on(\"snap.util.getattr.textpath\",function(){k.stop();return this.textPath})(-1);(function(){function b(d){return function(){k.stop();var b=M.doc.defaultView.getComputedStyle(this.node,null).getPropertyValue(\"marker-\"+d);return\"none\"==b?b:a(M.doc.getElementById(b.match(q)[1]))}}function d(a){return function(b){k.stop();var d=\"marker\"+a.charAt(0).toUpperCase()+a.substring(1);if(\"\"==b||!b)this.node.style[d]=\"none\";else if(\"marker\"==b.type){var f=b.node.id;f||e(b.node,{id:b.id});\n",
       "this.node.style[d]=l(f)}}}k.on(\"snap.util.getattr.marker-end\",b(\"end\"))(-1);k.on(\"snap.util.getattr.markerEnd\",b(\"end\"))(-1);k.on(\"snap.util.getattr.marker-start\",b(\"start\"))(-1);k.on(\"snap.util.getattr.markerStart\",b(\"start\"))(-1);k.on(\"snap.util.getattr.marker-mid\",b(\"mid\"))(-1);k.on(\"snap.util.getattr.markerMid\",b(\"mid\"))(-1);k.on(\"snap.util.attr.marker-end\",d(\"end\"))(-1);k.on(\"snap.util.attr.markerEnd\",d(\"end\"))(-1);k.on(\"snap.util.attr.marker-start\",d(\"start\"))(-1);k.on(\"snap.util.attr.markerStart\",\n",
       "d(\"start\"))(-1);k.on(\"snap.util.attr.marker-mid\",d(\"mid\"))(-1);k.on(\"snap.util.attr.markerMid\",d(\"mid\"))(-1)})();k.on(\"snap.util.getattr.r\",function(){if(\"rect\"==this.type&&e(this.node,\"rx\")==e(this.node,\"ry\"))return k.stop(),e(this.node,\"rx\")})(-1);k.on(\"snap.util.getattr.text\",function(){if(\"text\"==this.type||\"tspan\"==this.type){k.stop();var a=d(this.node);return 1==a.length?a[0]:a}})(-1);k.on(\"snap.util.getattr.#text\",function(){return this.node.textContent})(-1);k.on(\"snap.util.getattr.viewBox\",\n",
       "function(){k.stop();var b=e(this.node,\"viewBox\");if(b)return b=b.split(s),a._.box(+b[0],+b[1],+b[2],+b[3])})(-1);k.on(\"snap.util.getattr.points\",function(){var a=e(this.node,\"points\");k.stop();if(a)return a.split(s)})(-1);k.on(\"snap.util.getattr.path\",function(){var a=e(this.node,\"d\");k.stop();return a})(-1);k.on(\"snap.util.getattr.class\",function(){return this.node.className.baseVal})(-1);k.on(\"snap.util.getattr.fontSize\",f)(-1);k.on(\"snap.util.getattr.font-size\",f)(-1)});C.plugin(function(a,v,y,\n",
       "M,A){function w(a){return a}function z(a){return function(b){return+b.toFixed(3)+a}}var d={\"+\":function(a,b){return a+b},\"-\":function(a,b){return a-b},\"/\":function(a,b){return a/b},\"*\":function(a,b){return a*b}},f=String,n=/[a-z]+$/i,u=/^\\s*([+\\-\\/*])\\s*=\\s*([\\d.eE+\\-]+)\\s*([^\\d\\s]+)?\\s*$/;k.on(\"snap.util.attr\",function(a){if(a=f(a).match(u)){var b=k.nt(),b=b.substring(b.lastIndexOf(\".\")+1),q=this.attr(b),e={};k.stop();var l=a[3]||\"\",r=q.match(n),s=d[a[1] ];r&&r==l?a=s(parseFloat(q),+a[2]):(q=this.asPX(b),\n",
       "a=s(this.asPX(b),this.asPX(b,a[2]+l)));isNaN(q)||isNaN(a)||(e[b]=a,this.attr(e))}})(-10);k.on(\"snap.util.equal\",function(a,b){var q=f(this.attr(a)||\"\"),e=f(b).match(u);if(e){k.stop();var l=e[3]||\"\",r=q.match(n),s=d[e[1] ];if(r&&r==l)return{from:parseFloat(q),to:s(parseFloat(q),+e[2]),f:z(r)};q=this.asPX(a);return{from:q,to:s(q,this.asPX(a,e[2]+l)),f:w}}})(-10)});C.plugin(function(a,v,y,M,A){var w=y.prototype,z=a.is;w.rect=function(a,d,k,p,b,q){var e;null==q&&(q=b);z(a,\"object\")&&\"[object Object]\"==\n",
       "a?e=a:null!=a&&(e={x:a,y:d,width:k,height:p},null!=b&&(e.rx=b,e.ry=q));return this.el(\"rect\",e)};w.circle=function(a,d,k){var p;z(a,\"object\")&&\"[object Object]\"==a?p=a:null!=a&&(p={cx:a,cy:d,r:k});return this.el(\"circle\",p)};var d=function(){function a(){this.parentNode.removeChild(this)}return function(d,k){var p=M.doc.createElement(\"img\"),b=M.doc.body;p.style.cssText=\"position:absolute;left:-9999em;top:-9999em\";p.onload=function(){k.call(p);p.onload=p.onerror=null;b.removeChild(p)};p.onerror=a;\n",
       "b.appendChild(p);p.src=d}}();w.image=function(f,n,k,p,b){var q=this.el(\"image\");if(z(f,\"object\")&&\"src\"in f)q.attr(f);else if(null!=f){var e={\"xlink:href\":f,preserveAspectRatio:\"none\"};null!=n&&null!=k&&(e.x=n,e.y=k);null!=p&&null!=b?(e.width=p,e.height=b):d(f,function(){a._.$(q.node,{width:this.offsetWidth,height:this.offsetHeight})});a._.$(q.node,e)}return q};w.ellipse=function(a,d,k,p){var b;z(a,\"object\")&&\"[object Object]\"==a?b=a:null!=a&&(b={cx:a,cy:d,rx:k,ry:p});return this.el(\"ellipse\",b)};\n",
       "w.path=function(a){var d;z(a,\"object\")&&!z(a,\"array\")?d=a:a&&(d={d:a});return this.el(\"path\",d)};w.group=w.g=function(a){var d=this.el(\"g\");1==arguments.length&&a&&!a.type?d.attr(a):arguments.length&&d.add(Array.prototype.slice.call(arguments,0));return d};w.svg=function(a,d,k,p,b,q,e,l){var r={};z(a,\"object\")&&null==d?r=a:(null!=a&&(r.x=a),null!=d&&(r.y=d),null!=k&&(r.width=k),null!=p&&(r.height=p),null!=b&&null!=q&&null!=e&&null!=l&&(r.viewBox=[b,q,e,l]));return this.el(\"svg\",r)};w.mask=function(a){var d=\n",
       "this.el(\"mask\");1==arguments.length&&a&&!a.type?d.attr(a):arguments.length&&d.add(Array.prototype.slice.call(arguments,0));return d};w.ptrn=function(a,d,k,p,b,q,e,l){if(z(a,\"object\"))var r=a;else arguments.length?(r={},null!=a&&(r.x=a),null!=d&&(r.y=d),null!=k&&(r.width=k),null!=p&&(r.height=p),null!=b&&null!=q&&null!=e&&null!=l&&(r.viewBox=[b,q,e,l])):r={patternUnits:\"userSpaceOnUse\"};return this.el(\"pattern\",r)};w.use=function(a){return null!=a?(make(\"use\",this.node),a instanceof v&&(a.attr(\"id\")||\n",
       "a.attr({id:ID()}),a=a.attr(\"id\")),this.el(\"use\",{\"xlink:href\":a})):v.prototype.use.call(this)};w.text=function(a,d,k){var p={};z(a,\"object\")?p=a:null!=a&&(p={x:a,y:d,text:k||\"\"});return this.el(\"text\",p)};w.line=function(a,d,k,p){var b={};z(a,\"object\")?b=a:null!=a&&(b={x1:a,x2:k,y1:d,y2:p});return this.el(\"line\",b)};w.polyline=function(a){1<arguments.length&&(a=Array.prototype.slice.call(arguments,0));var d={};z(a,\"object\")&&!z(a,\"array\")?d=a:null!=a&&(d={points:a});return this.el(\"polyline\",d)};\n",
       "w.polygon=function(a){1<arguments.length&&(a=Array.prototype.slice.call(arguments,0));var d={};z(a,\"object\")&&!z(a,\"array\")?d=a:null!=a&&(d={points:a});return this.el(\"polygon\",d)};(function(){function d(){return this.selectAll(\"stop\")}function n(b,d){var f=e(\"stop\"),k={offset:+d+\"%\"};b=a.color(b);k[\"stop-color\"]=b.hex;1>b.opacity&&(k[\"stop-opacity\"]=b.opacity);e(f,k);this.node.appendChild(f);return this}function u(){if(\"linearGradient\"==this.type){var b=e(this.node,\"x1\")||0,d=e(this.node,\"x2\")||\n",
       "1,f=e(this.node,\"y1\")||0,k=e(this.node,\"y2\")||0;return a._.box(b,f,math.abs(d-b),math.abs(k-f))}b=this.node.r||0;return a._.box((this.node.cx||0.5)-b,(this.node.cy||0.5)-b,2*b,2*b)}function p(a,d){function f(a,b){for(var d=(b-u)/(a-w),e=w;e<a;e++)h[e].offset=+(+u+d*(e-w)).toFixed(2);w=a;u=b}var n=k(\"snap.util.grad.parse\",null,d).firstDefined(),p;if(!n)return null;n.params.unshift(a);p=\"l\"==n.type.toLowerCase()?b.apply(0,n.params):q.apply(0,n.params);n.type!=n.type.toLowerCase()&&e(p.node,{gradientUnits:\"userSpaceOnUse\"});\n",
       "var h=n.stops,n=h.length,u=0,w=0;n--;for(var v=0;v<n;v++)\"offset\"in h[v]&&f(v,h[v].offset);h[n].offset=h[n].offset||100;f(n,h[n].offset);for(v=0;v<=n;v++){var y=h[v];p.addStop(y.color,y.offset)}return p}function b(b,k,p,q,w){b=a._.make(\"linearGradient\",b);b.stops=d;b.addStop=n;b.getBBox=u;null!=k&&e(b.node,{x1:k,y1:p,x2:q,y2:w});return b}function q(b,k,p,q,w,h){b=a._.make(\"radialGradient\",b);b.stops=d;b.addStop=n;b.getBBox=u;null!=k&&e(b.node,{cx:k,cy:p,r:q});null!=w&&null!=h&&e(b.node,{fx:w,fy:h});\n",
       "return b}var e=a._.$;w.gradient=function(a){return p(this.defs,a)};w.gradientLinear=function(a,d,e,f){return b(this.defs,a,d,e,f)};w.gradientRadial=function(a,b,d,e,f){return q(this.defs,a,b,d,e,f)};w.toString=function(){var b=this.node.ownerDocument,d=b.createDocumentFragment(),b=b.createElement(\"div\"),e=this.node.cloneNode(!0);d.appendChild(b);b.appendChild(e);a._.$(e,{xmlns:\"http://www.w3.org/2000/svg\"});b=b.innerHTML;d.removeChild(d.firstChild);return b};w.clear=function(){for(var a=this.node.firstChild,\n",
       "b;a;)b=a.nextSibling,\"defs\"!=a.tagName?a.parentNode.removeChild(a):w.clear.call({node:a}),a=b}})()});C.plugin(function(a,k,y,M){function A(a){var b=A.ps=A.ps||{};b[a]?b[a].sleep=100:b[a]={sleep:100};setTimeout(function(){for(var d in b)b[L](d)&&d!=a&&(b[d].sleep--,!b[d].sleep&&delete b[d])});return b[a]}function w(a,b,d,e){null==a&&(a=b=d=e=0);null==b&&(b=a.y,d=a.width,e=a.height,a=a.x);return{x:a,y:b,width:d,w:d,height:e,h:e,x2:a+d,y2:b+e,cx:a+d/2,cy:b+e/2,r1:F.min(d,e)/2,r2:F.max(d,e)/2,r0:F.sqrt(d*\n",
       "d+e*e)/2,path:s(a,b,d,e),vb:[a,b,d,e].join(\" \")}}function z(){return this.join(\",\").replace(N,\"$1\")}function d(a){a=C(a);a.toString=z;return a}function f(a,b,d,h,f,k,l,n,p){if(null==p)return e(a,b,d,h,f,k,l,n);if(0>p||e(a,b,d,h,f,k,l,n)<p)p=void 0;else{var q=0.5,O=1-q,s;for(s=e(a,b,d,h,f,k,l,n,O);0.01<Z(s-p);)q/=2,O+=(s<p?1:-1)*q,s=e(a,b,d,h,f,k,l,n,O);p=O}return u(a,b,d,h,f,k,l,n,p)}function n(b,d){function e(a){return+(+a).toFixed(3)}return a._.cacher(function(a,h,l){a instanceof k&&(a=a.attr(\"d\"));\n",
       "a=I(a);for(var n,p,D,q,O=\"\",s={},c=0,t=0,r=a.length;t<r;t++){D=a[t];if(\"M\"==D[0])n=+D[1],p=+D[2];else{q=f(n,p,D[1],D[2],D[3],D[4],D[5],D[6]);if(c+q>h){if(d&&!s.start){n=f(n,p,D[1],D[2],D[3],D[4],D[5],D[6],h-c);O+=[\"C\"+e(n.start.x),e(n.start.y),e(n.m.x),e(n.m.y),e(n.x),e(n.y)];if(l)return O;s.start=O;O=[\"M\"+e(n.x),e(n.y)+\"C\"+e(n.n.x),e(n.n.y),e(n.end.x),e(n.end.y),e(D[5]),e(D[6])].join();c+=q;n=+D[5];p=+D[6];continue}if(!b&&!d)return n=f(n,p,D[1],D[2],D[3],D[4],D[5],D[6],h-c)}c+=q;n=+D[5];p=+D[6]}O+=\n",
       "D.shift()+D}s.end=O;return n=b?c:d?s:u(n,p,D[0],D[1],D[2],D[3],D[4],D[5],1)},null,a._.clone)}function u(a,b,d,e,h,f,k,l,n){var p=1-n,q=ma(p,3),s=ma(p,2),c=n*n,t=c*n,r=q*a+3*s*n*d+3*p*n*n*h+t*k,q=q*b+3*s*n*e+3*p*n*n*f+t*l,s=a+2*n*(d-a)+c*(h-2*d+a),t=b+2*n*(e-b)+c*(f-2*e+b),x=d+2*n*(h-d)+c*(k-2*h+d),c=e+2*n*(f-e)+c*(l-2*f+e);a=p*a+n*d;b=p*b+n*e;h=p*h+n*k;f=p*f+n*l;l=90-180*F.atan2(s-x,t-c)/S;return{x:r,y:q,m:{x:s,y:t},n:{x:x,y:c},start:{x:a,y:b},end:{x:h,y:f},alpha:l}}function p(b,d,e,h,f,n,k,l){a.is(b,\n",
       "\"array\")||(b=[b,d,e,h,f,n,k,l]);b=U.apply(null,b);return w(b.min.x,b.min.y,b.max.x-b.min.x,b.max.y-b.min.y)}function b(a,b,d){return b>=a.x&&b<=a.x+a.width&&d>=a.y&&d<=a.y+a.height}function q(a,d){a=w(a);d=w(d);return b(d,a.x,a.y)||b(d,a.x2,a.y)||b(d,a.x,a.y2)||b(d,a.x2,a.y2)||b(a,d.x,d.y)||b(a,d.x2,d.y)||b(a,d.x,d.y2)||b(a,d.x2,d.y2)||(a.x<d.x2&&a.x>d.x||d.x<a.x2&&d.x>a.x)&&(a.y<d.y2&&a.y>d.y||d.y<a.y2&&d.y>a.y)}function e(a,b,d,e,h,f,n,k,l){null==l&&(l=1);l=(1<l?1:0>l?0:l)/2;for(var p=[-0.1252,\n",
       "0.1252,-0.3678,0.3678,-0.5873,0.5873,-0.7699,0.7699,-0.9041,0.9041,-0.9816,0.9816],q=[0.2491,0.2491,0.2335,0.2335,0.2032,0.2032,0.1601,0.1601,0.1069,0.1069,0.0472,0.0472],s=0,c=0;12>c;c++)var t=l*p[c]+l,r=t*(t*(-3*a+9*d-9*h+3*n)+6*a-12*d+6*h)-3*a+3*d,t=t*(t*(-3*b+9*e-9*f+3*k)+6*b-12*e+6*f)-3*b+3*e,s=s+q[c]*F.sqrt(r*r+t*t);return l*s}function l(a,b,d){a=I(a);b=I(b);for(var h,f,l,n,k,s,r,O,x,c,t=d?0:[],w=0,v=a.length;w<v;w++)if(x=a[w],\"M\"==x[0])h=k=x[1],f=s=x[2];else{\"C\"==x[0]?(x=[h,f].concat(x.slice(1)),\n",
       "h=x[6],f=x[7]):(x=[h,f,h,f,k,s,k,s],h=k,f=s);for(var G=0,y=b.length;G<y;G++)if(c=b[G],\"M\"==c[0])l=r=c[1],n=O=c[2];else{\"C\"==c[0]?(c=[l,n].concat(c.slice(1)),l=c[6],n=c[7]):(c=[l,n,l,n,r,O,r,O],l=r,n=O);var z;var K=x,B=c;z=d;var H=p(K),J=p(B);if(q(H,J)){for(var H=e.apply(0,K),J=e.apply(0,B),H=~~(H/8),J=~~(J/8),U=[],A=[],F={},M=z?0:[],P=0;P<H+1;P++){var C=u.apply(0,K.concat(P/H));U.push({x:C.x,y:C.y,t:P/H})}for(P=0;P<J+1;P++)C=u.apply(0,B.concat(P/J)),A.push({x:C.x,y:C.y,t:P/J});for(P=0;P<H;P++)for(K=\n",
       "0;K<J;K++){var Q=U[P],L=U[P+1],B=A[K],C=A[K+1],N=0.001>Z(L.x-Q.x)?\"y\":\"x\",S=0.001>Z(C.x-B.x)?\"y\":\"x\",R;R=Q.x;var Y=Q.y,V=L.x,ea=L.y,fa=B.x,ga=B.y,ha=C.x,ia=C.y;if(W(R,V)<X(fa,ha)||X(R,V)>W(fa,ha)||W(Y,ea)<X(ga,ia)||X(Y,ea)>W(ga,ia))R=void 0;else{var $=(R*ea-Y*V)*(fa-ha)-(R-V)*(fa*ia-ga*ha),aa=(R*ea-Y*V)*(ga-ia)-(Y-ea)*(fa*ia-ga*ha),ja=(R-V)*(ga-ia)-(Y-ea)*(fa-ha);if(ja){var $=$/ja,aa=aa/ja,ja=+$.toFixed(2),ba=+aa.toFixed(2);R=ja<+X(R,V).toFixed(2)||ja>+W(R,V).toFixed(2)||ja<+X(fa,ha).toFixed(2)||\n",
       "ja>+W(fa,ha).toFixed(2)||ba<+X(Y,ea).toFixed(2)||ba>+W(Y,ea).toFixed(2)||ba<+X(ga,ia).toFixed(2)||ba>+W(ga,ia).toFixed(2)?void 0:{x:$,y:aa}}else R=void 0}R&&F[R.x.toFixed(4)]!=R.y.toFixed(4)&&(F[R.x.toFixed(4)]=R.y.toFixed(4),Q=Q.t+Z((R[N]-Q[N])/(L[N]-Q[N]))*(L.t-Q.t),B=B.t+Z((R[S]-B[S])/(C[S]-B[S]))*(C.t-B.t),0<=Q&&1>=Q&&0<=B&&1>=B&&(z?M++:M.push({x:R.x,y:R.y,t1:Q,t2:B})))}z=M}else z=z?0:[];if(d)t+=z;else{H=0;for(J=z.length;H<J;H++)z[H].segment1=w,z[H].segment2=G,z[H].bez1=x,z[H].bez2=c;t=t.concat(z)}}}return t}\n",
       "function r(a){var b=A(a);if(b.bbox)return C(b.bbox);if(!a)return w();a=I(a);for(var d=0,e=0,h=[],f=[],l,n=0,k=a.length;n<k;n++)l=a[n],\"M\"==l[0]?(d=l[1],e=l[2],h.push(d),f.push(e)):(d=U(d,e,l[1],l[2],l[3],l[4],l[5],l[6]),h=h.concat(d.min.x,d.max.x),f=f.concat(d.min.y,d.max.y),d=l[5],e=l[6]);a=X.apply(0,h);l=X.apply(0,f);h=W.apply(0,h);f=W.apply(0,f);f=w(a,l,h-a,f-l);b.bbox=C(f);return f}function s(a,b,d,e,h){if(h)return[[\"M\",+a+ +h,b],[\"l\",d-2*h,0],[\"a\",h,h,0,0,1,h,h],[\"l\",0,e-2*h],[\"a\",h,h,0,0,1,\n",
       "-h,h],[\"l\",2*h-d,0],[\"a\",h,h,0,0,1,-h,-h],[\"l\",0,2*h-e],[\"a\",h,h,0,0,1,h,-h],[\"z\"] ];a=[[\"M\",a,b],[\"l\",d,0],[\"l\",0,e],[\"l\",-d,0],[\"z\"] ];a.toString=z;return a}function x(a,b,d,e,h){null==h&&null==e&&(e=d);a=+a;b=+b;d=+d;e=+e;if(null!=h){var f=Math.PI/180,l=a+d*Math.cos(-e*f);a+=d*Math.cos(-h*f);var n=b+d*Math.sin(-e*f);b+=d*Math.sin(-h*f);d=[[\"M\",l,n],[\"A\",d,d,0,+(180<h-e),0,a,b] ]}else d=[[\"M\",a,b],[\"m\",0,-e],[\"a\",d,e,0,1,1,0,2*e],[\"a\",d,e,0,1,1,0,-2*e],[\"z\"] ];d.toString=z;return d}function G(b){var e=\n",
       "A(b);if(e.abs)return d(e.abs);Q(b,\"array\")&&Q(b&&b[0],\"array\")||(b=a.parsePathString(b));if(!b||!b.length)return[[\"M\",0,0] ];var h=[],f=0,l=0,n=0,k=0,p=0;\"M\"==b[0][0]&&(f=+b[0][1],l=+b[0][2],n=f,k=l,p++,h[0]=[\"M\",f,l]);for(var q=3==b.length&&\"M\"==b[0][0]&&\"R\"==b[1][0].toUpperCase()&&\"Z\"==b[2][0].toUpperCase(),s,r,w=p,c=b.length;w<c;w++){h.push(s=[]);r=b[w];p=r[0];if(p!=p.toUpperCase())switch(s[0]=p.toUpperCase(),s[0]){case \"A\":s[1]=r[1];s[2]=r[2];s[3]=r[3];s[4]=r[4];s[5]=r[5];s[6]=+r[6]+f;s[7]=+r[7]+\n",
       "l;break;case \"V\":s[1]=+r[1]+l;break;case \"H\":s[1]=+r[1]+f;break;case \"R\":for(var t=[f,l].concat(r.slice(1)),u=2,v=t.length;u<v;u++)t[u]=+t[u]+f,t[++u]=+t[u]+l;h.pop();h=h.concat(P(t,q));break;case \"O\":h.pop();t=x(f,l,r[1],r[2]);t.push(t[0]);h=h.concat(t);break;case \"U\":h.pop();h=h.concat(x(f,l,r[1],r[2],r[3]));s=[\"U\"].concat(h[h.length-1].slice(-2));break;case \"M\":n=+r[1]+f,k=+r[2]+l;default:for(u=1,v=r.length;u<v;u++)s[u]=+r[u]+(u%2?f:l)}else if(\"R\"==p)t=[f,l].concat(r.slice(1)),h.pop(),h=h.concat(P(t,\n",
       "q)),s=[\"R\"].concat(r.slice(-2));else if(\"O\"==p)h.pop(),t=x(f,l,r[1],r[2]),t.push(t[0]),h=h.concat(t);else if(\"U\"==p)h.pop(),h=h.concat(x(f,l,r[1],r[2],r[3])),s=[\"U\"].concat(h[h.length-1].slice(-2));else for(t=0,u=r.length;t<u;t++)s[t]=r[t];p=p.toUpperCase();if(\"O\"!=p)switch(s[0]){case \"Z\":f=+n;l=+k;break;case \"H\":f=s[1];break;case \"V\":l=s[1];break;case \"M\":n=s[s.length-2],k=s[s.length-1];default:f=s[s.length-2],l=s[s.length-1]}}h.toString=z;e.abs=d(h);return h}function h(a,b,d,e){return[a,b,d,e,d,\n",
       "e]}function J(a,b,d,e,h,f){var l=1/3,n=2/3;return[l*a+n*d,l*b+n*e,l*h+n*d,l*f+n*e,h,f]}function K(b,d,e,h,f,l,n,k,p,s){var r=120*S/180,q=S/180*(+f||0),c=[],t,x=a._.cacher(function(a,b,c){var d=a*F.cos(c)-b*F.sin(c);a=a*F.sin(c)+b*F.cos(c);return{x:d,y:a}});if(s)v=s[0],t=s[1],l=s[2],u=s[3];else{t=x(b,d,-q);b=t.x;d=t.y;t=x(k,p,-q);k=t.x;p=t.y;F.cos(S/180*f);F.sin(S/180*f);t=(b-k)/2;v=(d-p)/2;u=t*t/(e*e)+v*v/(h*h);1<u&&(u=F.sqrt(u),e*=u,h*=u);var u=e*e,w=h*h,u=(l==n?-1:1)*F.sqrt(Z((u*w-u*v*v-w*t*t)/\n",
       "(u*v*v+w*t*t)));l=u*e*v/h+(b+k)/2;var u=u*-h*t/e+(d+p)/2,v=F.asin(((d-u)/h).toFixed(9));t=F.asin(((p-u)/h).toFixed(9));v=b<l?S-v:v;t=k<l?S-t:t;0>v&&(v=2*S+v);0>t&&(t=2*S+t);n&&v>t&&(v-=2*S);!n&&t>v&&(t-=2*S)}if(Z(t-v)>r){var c=t,w=k,G=p;t=v+r*(n&&t>v?1:-1);k=l+e*F.cos(t);p=u+h*F.sin(t);c=K(k,p,e,h,f,0,n,w,G,[t,c,l,u])}l=t-v;f=F.cos(v);r=F.sin(v);n=F.cos(t);t=F.sin(t);l=F.tan(l/4);e=4/3*e*l;l*=4/3*h;h=[b,d];b=[b+e*r,d-l*f];d=[k+e*t,p-l*n];k=[k,p];b[0]=2*h[0]-b[0];b[1]=2*h[1]-b[1];if(s)return[b,d,k].concat(c);\n",
       "c=[b,d,k].concat(c).join().split(\",\");s=[];k=0;for(p=c.length;k<p;k++)s[k]=k%2?x(c[k-1],c[k],q).y:x(c[k],c[k+1],q).x;return s}function U(a,b,d,e,h,f,l,k){for(var n=[],p=[[],[] ],s,r,c,t,q=0;2>q;++q)0==q?(r=6*a-12*d+6*h,s=-3*a+9*d-9*h+3*l,c=3*d-3*a):(r=6*b-12*e+6*f,s=-3*b+9*e-9*f+3*k,c=3*e-3*b),1E-12>Z(s)?1E-12>Z(r)||(s=-c/r,0<s&&1>s&&n.push(s)):(t=r*r-4*c*s,c=F.sqrt(t),0>t||(t=(-r+c)/(2*s),0<t&&1>t&&n.push(t),s=(-r-c)/(2*s),0<s&&1>s&&n.push(s)));for(r=q=n.length;q--;)s=n[q],c=1-s,p[0][q]=c*c*c*a+3*\n",
       "c*c*s*d+3*c*s*s*h+s*s*s*l,p[1][q]=c*c*c*b+3*c*c*s*e+3*c*s*s*f+s*s*s*k;p[0][r]=a;p[1][r]=b;p[0][r+1]=l;p[1][r+1]=k;p[0].length=p[1].length=r+2;return{min:{x:X.apply(0,p[0]),y:X.apply(0,p[1])},max:{x:W.apply(0,p[0]),y:W.apply(0,p[1])}}}function I(a,b){var e=!b&&A(a);if(!b&&e.curve)return d(e.curve);var f=G(a),l=b&&G(b),n={x:0,y:0,bx:0,by:0,X:0,Y:0,qx:null,qy:null},k={x:0,y:0,bx:0,by:0,X:0,Y:0,qx:null,qy:null},p=function(a,b,c){if(!a)return[\"C\",b.x,b.y,b.x,b.y,b.x,b.y];a[0]in{T:1,Q:1}||(b.qx=b.qy=null);\n",
       "switch(a[0]){case \"M\":b.X=a[1];b.Y=a[2];break;case \"A\":a=[\"C\"].concat(K.apply(0,[b.x,b.y].concat(a.slice(1))));break;case \"S\":\"C\"==c||\"S\"==c?(c=2*b.x-b.bx,b=2*b.y-b.by):(c=b.x,b=b.y);a=[\"C\",c,b].concat(a.slice(1));break;case \"T\":\"Q\"==c||\"T\"==c?(b.qx=2*b.x-b.qx,b.qy=2*b.y-b.qy):(b.qx=b.x,b.qy=b.y);a=[\"C\"].concat(J(b.x,b.y,b.qx,b.qy,a[1],a[2]));break;case \"Q\":b.qx=a[1];b.qy=a[2];a=[\"C\"].concat(J(b.x,b.y,a[1],a[2],a[3],a[4]));break;case \"L\":a=[\"C\"].concat(h(b.x,b.y,a[1],a[2]));break;case \"H\":a=[\"C\"].concat(h(b.x,\n",
       "b.y,a[1],b.y));break;case \"V\":a=[\"C\"].concat(h(b.x,b.y,b.x,a[1]));break;case \"Z\":a=[\"C\"].concat(h(b.x,b.y,b.X,b.Y))}return a},s=function(a,b){if(7<a[b].length){a[b].shift();for(var c=a[b];c.length;)q[b]=\"A\",l&&(u[b]=\"A\"),a.splice(b++,0,[\"C\"].concat(c.splice(0,6)));a.splice(b,1);v=W(f.length,l&&l.length||0)}},r=function(a,b,c,d,e){a&&b&&\"M\"==a[e][0]&&\"M\"!=b[e][0]&&(b.splice(e,0,[\"M\",d.x,d.y]),c.bx=0,c.by=0,c.x=a[e][1],c.y=a[e][2],v=W(f.length,l&&l.length||0))},q=[],u=[],c=\"\",t=\"\",x=0,v=W(f.length,\n",
       "l&&l.length||0);for(;x<v;x++){f[x]&&(c=f[x][0]);\"C\"!=c&&(q[x]=c,x&&(t=q[x-1]));f[x]=p(f[x],n,t);\"A\"!=q[x]&&\"C\"==c&&(q[x]=\"C\");s(f,x);l&&(l[x]&&(c=l[x][0]),\"C\"!=c&&(u[x]=c,x&&(t=u[x-1])),l[x]=p(l[x],k,t),\"A\"!=u[x]&&\"C\"==c&&(u[x]=\"C\"),s(l,x));r(f,l,n,k,x);r(l,f,k,n,x);var w=f[x],z=l&&l[x],y=w.length,U=l&&z.length;n.x=w[y-2];n.y=w[y-1];n.bx=$(w[y-4])||n.x;n.by=$(w[y-3])||n.y;k.bx=l&&($(z[U-4])||k.x);k.by=l&&($(z[U-3])||k.y);k.x=l&&z[U-2];k.y=l&&z[U-1]}l||(e.curve=d(f));return l?[f,l]:f}function P(a,\n",
       "b){for(var d=[],e=0,h=a.length;h-2*!b>e;e+=2){var f=[{x:+a[e-2],y:+a[e-1]},{x:+a[e],y:+a[e+1]},{x:+a[e+2],y:+a[e+3]},{x:+a[e+4],y:+a[e+5]}];b?e?h-4==e?f[3]={x:+a[0],y:+a[1]}:h-2==e&&(f[2]={x:+a[0],y:+a[1]},f[3]={x:+a[2],y:+a[3]}):f[0]={x:+a[h-2],y:+a[h-1]}:h-4==e?f[3]=f[2]:e||(f[0]={x:+a[e],y:+a[e+1]});d.push([\"C\",(-f[0].x+6*f[1].x+f[2].x)/6,(-f[0].y+6*f[1].y+f[2].y)/6,(f[1].x+6*f[2].x-f[3].x)/6,(f[1].y+6*f[2].y-f[3].y)/6,f[2].x,f[2].y])}return d}y=k.prototype;var Q=a.is,C=a._.clone,L=\"hasOwnProperty\",\n",
       "N=/,?([a-z]),?/gi,$=parseFloat,F=Math,S=F.PI,X=F.min,W=F.max,ma=F.pow,Z=F.abs;M=n(1);var na=n(),ba=n(0,1),V=a._unit2px;a.path=A;a.path.getTotalLength=M;a.path.getPointAtLength=na;a.path.getSubpath=function(a,b,d){if(1E-6>this.getTotalLength(a)-d)return ba(a,b).end;a=ba(a,d,1);return b?ba(a,b).end:a};y.getTotalLength=function(){if(this.node.getTotalLength)return this.node.getTotalLength()};y.getPointAtLength=function(a){return na(this.attr(\"d\"),a)};y.getSubpath=function(b,d){return a.path.getSubpath(this.attr(\"d\"),\n",
       "b,d)};a._.box=w;a.path.findDotsAtSegment=u;a.path.bezierBBox=p;a.path.isPointInsideBBox=b;a.path.isBBoxIntersect=q;a.path.intersection=function(a,b){return l(a,b)};a.path.intersectionNumber=function(a,b){return l(a,b,1)};a.path.isPointInside=function(a,d,e){var h=r(a);return b(h,d,e)&&1==l(a,[[\"M\",d,e],[\"H\",h.x2+10] ],1)%2};a.path.getBBox=r;a.path.get={path:function(a){return a.attr(\"path\")},circle:function(a){a=V(a);return x(a.cx,a.cy,a.r)},ellipse:function(a){a=V(a);return x(a.cx||0,a.cy||0,a.rx,\n",
       "a.ry)},rect:function(a){a=V(a);return s(a.x||0,a.y||0,a.width,a.height,a.rx,a.ry)},image:function(a){a=V(a);return s(a.x||0,a.y||0,a.width,a.height)},line:function(a){return\"M\"+[a.attr(\"x1\")||0,a.attr(\"y1\")||0,a.attr(\"x2\"),a.attr(\"y2\")]},polyline:function(a){return\"M\"+a.attr(\"points\")},polygon:function(a){return\"M\"+a.attr(\"points\")+\"z\"},deflt:function(a){a=a.node.getBBox();return s(a.x,a.y,a.width,a.height)}};a.path.toRelative=function(b){var e=A(b),h=String.prototype.toLowerCase;if(e.rel)return d(e.rel);\n",
       "a.is(b,\"array\")&&a.is(b&&b[0],\"array\")||(b=a.parsePathString(b));var f=[],l=0,n=0,k=0,p=0,s=0;\"M\"==b[0][0]&&(l=b[0][1],n=b[0][2],k=l,p=n,s++,f.push([\"M\",l,n]));for(var r=b.length;s<r;s++){var q=f[s]=[],x=b[s];if(x[0]!=h.call(x[0]))switch(q[0]=h.call(x[0]),q[0]){case \"a\":q[1]=x[1];q[2]=x[2];q[3]=x[3];q[4]=x[4];q[5]=x[5];q[6]=+(x[6]-l).toFixed(3);q[7]=+(x[7]-n).toFixed(3);break;case \"v\":q[1]=+(x[1]-n).toFixed(3);break;case \"m\":k=x[1],p=x[2];default:for(var c=1,t=x.length;c<t;c++)q[c]=+(x[c]-(c%2?l:\n",
       "n)).toFixed(3)}else for(f[s]=[],\"m\"==x[0]&&(k=x[1]+l,p=x[2]+n),q=0,c=x.length;q<c;q++)f[s][q]=x[q];x=f[s].length;switch(f[s][0]){case \"z\":l=k;n=p;break;case \"h\":l+=+f[s][x-1];break;case \"v\":n+=+f[s][x-1];break;default:l+=+f[s][x-2],n+=+f[s][x-1]}}f.toString=z;e.rel=d(f);return f};a.path.toAbsolute=G;a.path.toCubic=I;a.path.map=function(a,b){if(!b)return a;var d,e,h,f,l,n,k;a=I(a);h=0;for(l=a.length;h<l;h++)for(k=a[h],f=1,n=k.length;f<n;f+=2)d=b.x(k[f],k[f+1]),e=b.y(k[f],k[f+1]),k[f]=d,k[f+1]=e;return a};\n",
       "a.path.toString=z;a.path.clone=d});C.plugin(function(a,v,y,C){var A=Math.max,w=Math.min,z=function(a){this.items=[];this.bindings={};this.length=0;this.type=\"set\";if(a)for(var f=0,n=a.length;f<n;f++)a[f]&&(this[this.items.length]=this.items[this.items.length]=a[f],this.length++)};v=z.prototype;v.push=function(){for(var a,f,n=0,k=arguments.length;n<k;n++)if(a=arguments[n])f=this.items.length,this[f]=this.items[f]=a,this.length++;return this};v.pop=function(){this.length&&delete this[this.length--];\n",
       "return this.items.pop()};v.forEach=function(a,f){for(var n=0,k=this.items.length;n<k&&!1!==a.call(f,this.items[n],n);n++);return this};v.animate=function(d,f,n,u){\"function\"!=typeof n||n.length||(u=n,n=L.linear);d instanceof a._.Animation&&(u=d.callback,n=d.easing,f=n.dur,d=d.attr);var p=arguments;if(a.is(d,\"array\")&&a.is(p[p.length-1],\"array\"))var b=!0;var q,e=function(){q?this.b=q:q=this.b},l=0,r=u&&function(){l++==this.length&&u.call(this)};return this.forEach(function(a,l){k.once(\"snap.animcreated.\"+\n",
       "a.id,e);b?p[l]&&a.animate.apply(a,p[l]):a.animate(d,f,n,r)})};v.remove=function(){for(;this.length;)this.pop().remove();return this};v.bind=function(a,f,k){var u={};if(\"function\"==typeof f)this.bindings[a]=f;else{var p=k||a;this.bindings[a]=function(a){u[p]=a;f.attr(u)}}return this};v.attr=function(a){var f={},k;for(k in a)if(this.bindings[k])this.bindings[k](a[k]);else f[k]=a[k];a=0;for(k=this.items.length;a<k;a++)this.items[a].attr(f);return this};v.clear=function(){for(;this.length;)this.pop()};\n",
       "v.splice=function(a,f,k){a=0>a?A(this.length+a,0):a;f=A(0,w(this.length-a,f));var u=[],p=[],b=[],q;for(q=2;q<arguments.length;q++)b.push(arguments[q]);for(q=0;q<f;q++)p.push(this[a+q]);for(;q<this.length-a;q++)u.push(this[a+q]);var e=b.length;for(q=0;q<e+u.length;q++)this.items[a+q]=this[a+q]=q<e?b[q]:u[q-e];for(q=this.items.length=this.length-=f-e;this[q];)delete this[q++];return new z(p)};v.exclude=function(a){for(var f=0,k=this.length;f<k;f++)if(this[f]==a)return this.splice(f,1),!0;return!1};\n",
       "v.insertAfter=function(a){for(var f=this.items.length;f--;)this.items[f].insertAfter(a);return this};v.getBBox=function(){for(var a=[],f=[],k=[],u=[],p=this.items.length;p--;)if(!this.items[p].removed){var b=this.items[p].getBBox();a.push(b.x);f.push(b.y);k.push(b.x+b.width);u.push(b.y+b.height)}a=w.apply(0,a);f=w.apply(0,f);k=A.apply(0,k);u=A.apply(0,u);return{x:a,y:f,x2:k,y2:u,width:k-a,height:u-f,cx:a+(k-a)/2,cy:f+(u-f)/2}};v.clone=function(a){a=new z;for(var f=0,k=this.items.length;f<k;f++)a.push(this.items[f].clone());\n",
       "return a};v.toString=function(){return\"Snap\\u2018s set\"};v.type=\"set\";a.set=function(){var a=new z;arguments.length&&a.push.apply(a,Array.prototype.slice.call(arguments,0));return a}});C.plugin(function(a,v,y,C){function A(a){var b=a[0];switch(b.toLowerCase()){case \"t\":return[b,0,0];case \"m\":return[b,1,0,0,1,0,0];case \"r\":return 4==a.length?[b,0,a[2],a[3] ]:[b,0];case \"s\":return 5==a.length?[b,1,1,a[3],a[4] ]:3==a.length?[b,1,1]:[b,1]}}function w(b,d,f){d=q(d).replace(/\\.{3}|\\u2026/g,b);b=a.parseTransformString(b)||\n",
       "[];d=a.parseTransformString(d)||[];for(var k=Math.max(b.length,d.length),p=[],v=[],h=0,w,z,y,I;h<k;h++){y=b[h]||A(d[h]);I=d[h]||A(y);if(y[0]!=I[0]||\"r\"==y[0].toLowerCase()&&(y[2]!=I[2]||y[3]!=I[3])||\"s\"==y[0].toLowerCase()&&(y[3]!=I[3]||y[4]!=I[4])){b=a._.transform2matrix(b,f());d=a._.transform2matrix(d,f());p=[[\"m\",b.a,b.b,b.c,b.d,b.e,b.f] ];v=[[\"m\",d.a,d.b,d.c,d.d,d.e,d.f] ];break}p[h]=[];v[h]=[];w=0;for(z=Math.max(y.length,I.length);w<z;w++)w in y&&(p[h][w]=y[w]),w in I&&(v[h][w]=I[w])}return{from:u(p),\n",
       "to:u(v),f:n(p)}}function z(a){return a}function d(a){return function(b){return+b.toFixed(3)+a}}function f(b){return a.rgb(b[0],b[1],b[2])}function n(a){var b=0,d,f,k,n,h,p,q=[];d=0;for(f=a.length;d<f;d++){h=\"[\";p=['\"'+a[d][0]+'\"'];k=1;for(n=a[d].length;k<n;k++)p[k]=\"val[\"+b++ +\"]\";h+=p+\"]\";q[d]=h}return Function(\"val\",\"return Snap.path.toString.call([\"+q+\"])\")}function u(a){for(var b=[],d=0,f=a.length;d<f;d++)for(var k=1,n=a[d].length;k<n;k++)b.push(a[d][k]);return b}var p={},b=/[a-z]+$/i,q=String;\n",
       "p.stroke=p.fill=\"colour\";v.prototype.equal=function(a,b){return k(\"snap.util.equal\",this,a,b).firstDefined()};k.on(\"snap.util.equal\",function(e,k){var r,s;r=q(this.attr(e)||\"\");var x=this;if(r==+r&&k==+k)return{from:+r,to:+k,f:z};if(\"colour\"==p[e])return r=a.color(r),s=a.color(k),{from:[r.r,r.g,r.b,r.opacity],to:[s.r,s.g,s.b,s.opacity],f:f};if(\"transform\"==e||\"gradientTransform\"==e||\"patternTransform\"==e)return k instanceof a.Matrix&&(k=k.toTransformString()),a._.rgTransform.test(k)||(k=a._.svgTransform2string(k)),\n",
       "w(r,k,function(){return x.getBBox(1)});if(\"d\"==e||\"path\"==e)return r=a.path.toCubic(r,k),{from:u(r[0]),to:u(r[1]),f:n(r[0])};if(\"points\"==e)return r=q(r).split(a._.separator),s=q(k).split(a._.separator),{from:r,to:s,f:function(a){return a}};aUnit=r.match(b);s=q(k).match(b);return aUnit&&aUnit==s?{from:parseFloat(r),to:parseFloat(k),f:d(aUnit)}:{from:this.asPX(e),to:this.asPX(e,k),f:z}})});C.plugin(function(a,v,y,C){var A=v.prototype,w=\"createTouch\"in C.doc;v=\"click dblclick mousedown mousemove mouseout mouseover mouseup touchstart touchmove touchend touchcancel\".split(\" \");\n",
       "var z={mousedown:\"touchstart\",mousemove:\"touchmove\",mouseup:\"touchend\"},d=function(a,b){var d=\"y\"==a?\"scrollTop\":\"scrollLeft\",e=b&&b.node?b.node.ownerDocument:C.doc;return e[d in e.documentElement?\"documentElement\":\"body\"][d]},f=function(){this.returnValue=!1},n=function(){return this.originalEvent.preventDefault()},u=function(){this.cancelBubble=!0},p=function(){return this.originalEvent.stopPropagation()},b=function(){if(C.doc.addEventListener)return function(a,b,e,f){var k=w&&z[b]?z[b]:b,l=function(k){var l=\n",
       "d(\"y\",f),q=d(\"x\",f);if(w&&z.hasOwnProperty(b))for(var r=0,u=k.targetTouches&&k.targetTouches.length;r<u;r++)if(k.targetTouches[r].target==a||a.contains(k.targetTouches[r].target)){u=k;k=k.targetTouches[r];k.originalEvent=u;k.preventDefault=n;k.stopPropagation=p;break}return e.call(f,k,k.clientX+q,k.clientY+l)};b!==k&&a.addEventListener(b,l,!1);a.addEventListener(k,l,!1);return function(){b!==k&&a.removeEventListener(b,l,!1);a.removeEventListener(k,l,!1);return!0}};if(C.doc.attachEvent)return function(a,\n",
       "b,e,h){var k=function(a){a=a||h.node.ownerDocument.window.event;var b=d(\"y\",h),k=d(\"x\",h),k=a.clientX+k,b=a.clientY+b;a.preventDefault=a.preventDefault||f;a.stopPropagation=a.stopPropagation||u;return e.call(h,a,k,b)};a.attachEvent(\"on\"+b,k);return function(){a.detachEvent(\"on\"+b,k);return!0}}}(),q=[],e=function(a){for(var b=a.clientX,e=a.clientY,f=d(\"y\"),l=d(\"x\"),n,p=q.length;p--;){n=q[p];if(w)for(var r=a.touches&&a.touches.length,u;r--;){if(u=a.touches[r],u.identifier==n.el._drag.id||n.el.node.contains(u.target)){b=\n",
       "u.clientX;e=u.clientY;(a.originalEvent?a.originalEvent:a).preventDefault();break}}else a.preventDefault();b+=l;e+=f;k(\"snap.drag.move.\"+n.el.id,n.move_scope||n.el,b-n.el._drag.x,e-n.el._drag.y,b,e,a)}},l=function(b){a.unmousemove(e).unmouseup(l);for(var d=q.length,f;d--;)f=q[d],f.el._drag={},k(\"snap.drag.end.\"+f.el.id,f.end_scope||f.start_scope||f.move_scope||f.el,b);q=[]};for(y=v.length;y--;)(function(d){a[d]=A[d]=function(e,f){a.is(e,\"function\")&&(this.events=this.events||[],this.events.push({name:d,\n",
       "f:e,unbind:b(this.node||document,d,e,f||this)}));return this};a[\"un\"+d]=A[\"un\"+d]=function(a){for(var b=this.events||[],e=b.length;e--;)if(b[e].name==d&&(b[e].f==a||!a)){b[e].unbind();b.splice(e,1);!b.length&&delete this.events;break}return this}})(v[y]);A.hover=function(a,b,d,e){return this.mouseover(a,d).mouseout(b,e||d)};A.unhover=function(a,b){return this.unmouseover(a).unmouseout(b)};var r=[];A.drag=function(b,d,f,h,n,p){function u(r,v,w){(r.originalEvent||r).preventDefault();this._drag.x=v;\n",
       "this._drag.y=w;this._drag.id=r.identifier;!q.length&&a.mousemove(e).mouseup(l);q.push({el:this,move_scope:h,start_scope:n,end_scope:p});d&&k.on(\"snap.drag.start.\"+this.id,d);b&&k.on(\"snap.drag.move.\"+this.id,b);f&&k.on(\"snap.drag.end.\"+this.id,f);k(\"snap.drag.start.\"+this.id,n||h||this,v,w,r)}if(!arguments.length){var v;return this.drag(function(a,b){this.attr({transform:v+(v?\"T\":\"t\")+[a,b]})},function(){v=this.transform().local})}this._drag={};r.push({el:this,start:u});this.mousedown(u);return this};\n",
       "A.undrag=function(){for(var b=r.length;b--;)r[b].el==this&&(this.unmousedown(r[b].start),r.splice(b,1),k.unbind(\"snap.drag.*.\"+this.id));!r.length&&a.unmousemove(e).unmouseup(l);return this}});C.plugin(function(a,v,y,C){y=y.prototype;var A=/^\\s*url\\((.+)\\)/,w=String,z=a._.$;a.filter={};y.filter=function(d){var f=this;\"svg\"!=f.type&&(f=f.paper);d=a.parse(w(d));var k=a._.id(),u=z(\"filter\");z(u,{id:k,filterUnits:\"userSpaceOnUse\"});u.appendChild(d.node);f.defs.appendChild(u);return new v(u)};k.on(\"snap.util.getattr.filter\",\n",
       "function(){k.stop();var d=z(this.node,\"filter\");if(d)return(d=w(d).match(A))&&a.select(d[1])});k.on(\"snap.util.attr.filter\",function(d){if(d instanceof v&&\"filter\"==d.type){k.stop();var f=d.node.id;f||(z(d.node,{id:d.id}),f=d.id);z(this.node,{filter:a.url(f)})}d&&\"none\"!=d||(k.stop(),this.node.removeAttribute(\"filter\"))});a.filter.blur=function(d,f){null==d&&(d=2);return a.format('<feGaussianBlur stdDeviation=\"{def}\"/>',{def:null==f?d:[d,f]})};a.filter.blur.toString=function(){return this()};a.filter.shadow=\n",
       "function(d,f,k,u,p){\"string\"==typeof k&&(p=u=k,k=4);\"string\"!=typeof u&&(p=u,u=\"#000\");null==k&&(k=4);null==p&&(p=1);null==d&&(d=0,f=2);null==f&&(f=d);u=a.color(u||\"#000\");return a.format('<feGaussianBlur in=\"SourceAlpha\" stdDeviation=\"{blur}\"/><feOffset dx=\"{dx}\" dy=\"{dy}\" result=\"offsetblur\"/><feFlood flood-color=\"{color}\"/><feComposite in2=\"offsetblur\" operator=\"in\"/><feComponentTransfer><feFuncA type=\"linear\" slope=\"{opacity}\"/></feComponentTransfer><feMerge><feMergeNode/><feMergeNode in=\"SourceGraphic\"/></feMerge>',\n",
       "{color:u,dx:d,dy:f,blur:k,opacity:p})};a.filter.shadow.toString=function(){return this()};a.filter.grayscale=function(d){null==d&&(d=1);return a.format('<feColorMatrix type=\"matrix\" values=\"{a} {b} {c} 0 0 {d} {e} {f} 0 0 {g} {b} {h} 0 0 0 0 0 1 0\"/>',{a:0.2126+0.7874*(1-d),b:0.7152-0.7152*(1-d),c:0.0722-0.0722*(1-d),d:0.2126-0.2126*(1-d),e:0.7152+0.2848*(1-d),f:0.0722-0.0722*(1-d),g:0.2126-0.2126*(1-d),h:0.0722+0.9278*(1-d)})};a.filter.grayscale.toString=function(){return this()};a.filter.sepia=\n",
       "function(d){null==d&&(d=1);return a.format('<feColorMatrix type=\"matrix\" values=\"{a} {b} {c} 0 0 {d} {e} {f} 0 0 {g} {h} {i} 0 0 0 0 0 1 0\"/>',{a:0.393+0.607*(1-d),b:0.769-0.769*(1-d),c:0.189-0.189*(1-d),d:0.349-0.349*(1-d),e:0.686+0.314*(1-d),f:0.168-0.168*(1-d),g:0.272-0.272*(1-d),h:0.534-0.534*(1-d),i:0.131+0.869*(1-d)})};a.filter.sepia.toString=function(){return this()};a.filter.saturate=function(d){null==d&&(d=1);return a.format('<feColorMatrix type=\"saturate\" values=\"{amount}\"/>',{amount:1-\n",
       "d})};a.filter.saturate.toString=function(){return this()};a.filter.hueRotate=function(d){return a.format('<feColorMatrix type=\"hueRotate\" values=\"{angle}\"/>',{angle:d||0})};a.filter.hueRotate.toString=function(){return this()};a.filter.invert=function(d){null==d&&(d=1);return a.format('<feComponentTransfer><feFuncR type=\"table\" tableValues=\"{amount} {amount2}\"/><feFuncG type=\"table\" tableValues=\"{amount} {amount2}\"/><feFuncB type=\"table\" tableValues=\"{amount} {amount2}\"/></feComponentTransfer>',{amount:d,\n",
       "amount2:1-d})};a.filter.invert.toString=function(){return this()};a.filter.brightness=function(d){null==d&&(d=1);return a.format('<feComponentTransfer><feFuncR type=\"linear\" slope=\"{amount}\"/><feFuncG type=\"linear\" slope=\"{amount}\"/><feFuncB type=\"linear\" slope=\"{amount}\"/></feComponentTransfer>',{amount:d})};a.filter.brightness.toString=function(){return this()};a.filter.contrast=function(d){null==d&&(d=1);return a.format('<feComponentTransfer><feFuncR type=\"linear\" slope=\"{amount}\" intercept=\"{amount2}\"/><feFuncG type=\"linear\" slope=\"{amount}\" intercept=\"{amount2}\"/><feFuncB type=\"linear\" slope=\"{amount}\" intercept=\"{amount2}\"/></feComponentTransfer>',\n",
       "{amount:d,amount2:0.5-d/2})};a.filter.contrast.toString=function(){return this()}});return C});\n",
       "\n",
       "]]> </script>\n",
       "<script> <![CDATA[\n",
       "\n",
       "(function (glob, factory) {\n",
       "    // AMD support\n",
       "    if (typeof define === \"function\" && define.amd) {\n",
       "        // Define as an anonymous module\n",
       "        define(\"Gadfly\", [\"Snap.svg\"], function (Snap) {\n",
       "            return factory(Snap);\n",
       "        });\n",
       "    } else {\n",
       "        // Browser globals (glob is window)\n",
       "        // Snap adds itself to window\n",
       "        glob.Gadfly = factory(glob.Snap);\n",
       "    }\n",
       "}(this, function (Snap) {\n",
       "\n",
       "var Gadfly = {};\n",
       "\n",
       "// Get an x/y coordinate value in pixels\n",
       "var xPX = function(fig, x) {\n",
       "    var client_box = fig.node.getBoundingClientRect();\n",
       "    return x * fig.node.viewBox.baseVal.width / client_box.width;\n",
       "};\n",
       "\n",
       "var yPX = function(fig, y) {\n",
       "    var client_box = fig.node.getBoundingClientRect();\n",
       "    return y * fig.node.viewBox.baseVal.height / client_box.height;\n",
       "};\n",
       "\n",
       "\n",
       "Snap.plugin(function (Snap, Element, Paper, global) {\n",
       "    // Traverse upwards from a snap element to find and return the first\n",
       "    // note with the \"plotroot\" class.\n",
       "    Element.prototype.plotroot = function () {\n",
       "        var element = this;\n",
       "        while (!element.hasClass(\"plotroot\") && element.parent() != null) {\n",
       "            element = element.parent();\n",
       "        }\n",
       "        return element;\n",
       "    };\n",
       "\n",
       "    Element.prototype.svgroot = function () {\n",
       "        var element = this;\n",
       "        while (element.node.nodeName != \"svg\" && element.parent() != null) {\n",
       "            element = element.parent();\n",
       "        }\n",
       "        return element;\n",
       "    };\n",
       "\n",
       "    Element.prototype.plotbounds = function () {\n",
       "        var root = this.plotroot()\n",
       "        var bbox = root.select(\".guide.background\").node.getBBox();\n",
       "        return {\n",
       "            x0: bbox.x,\n",
       "            x1: bbox.x + bbox.width,\n",
       "            y0: bbox.y,\n",
       "            y1: bbox.y + bbox.height\n",
       "        };\n",
       "    };\n",
       "\n",
       "    Element.prototype.plotcenter = function () {\n",
       "        var root = this.plotroot()\n",
       "        var bbox = root.select(\".guide.background\").node.getBBox();\n",
       "        return {\n",
       "            x: bbox.x + bbox.width / 2,\n",
       "            y: bbox.y + bbox.height / 2\n",
       "        };\n",
       "    };\n",
       "\n",
       "    // Emulate IE style mouseenter/mouseleave events, since Microsoft always\n",
       "    // does everything right.\n",
       "    // See: http://www.dynamic-tools.net/toolbox/isMouseLeaveOrEnter/\n",
       "    var events = [\"mouseenter\", \"mouseleave\"];\n",
       "\n",
       "    for (i in events) {\n",
       "        (function (event_name) {\n",
       "            var event_name = events[i];\n",
       "            Element.prototype[event_name] = function (fn, scope) {\n",
       "                if (Snap.is(fn, \"function\")) {\n",
       "                    var fn2 = function (event) {\n",
       "                        if (event.type != \"mouseover\" && event.type != \"mouseout\") {\n",
       "                            return;\n",
       "                        }\n",
       "\n",
       "                        var reltg = event.relatedTarget ? event.relatedTarget :\n",
       "                            event.type == \"mouseout\" ? event.toElement : event.fromElement;\n",
       "                        while (reltg && reltg != this.node) reltg = reltg.parentNode;\n",
       "\n",
       "                        if (reltg != this.node) {\n",
       "                            return fn.apply(this, event);\n",
       "                        }\n",
       "                    };\n",
       "\n",
       "                    if (event_name == \"mouseenter\") {\n",
       "                        this.mouseover(fn2, scope);\n",
       "                    } else {\n",
       "                        this.mouseout(fn2, scope);\n",
       "                    }\n",
       "                }\n",
       "                return this;\n",
       "            };\n",
       "        })(events[i]);\n",
       "    }\n",
       "\n",
       "\n",
       "    Element.prototype.mousewheel = function (fn, scope) {\n",
       "        if (Snap.is(fn, \"function\")) {\n",
       "            var el = this;\n",
       "            var fn2 = function (event) {\n",
       "                fn.apply(el, [event]);\n",
       "            };\n",
       "        }\n",
       "\n",
       "        this.node.addEventListener(\n",
       "            /Firefox/i.test(navigator.userAgent) ? \"DOMMouseScroll\" : \"mousewheel\",\n",
       "            fn2);\n",
       "\n",
       "        return this;\n",
       "    };\n",
       "\n",
       "\n",
       "    // Snap's attr function can be too slow for things like panning/zooming.\n",
       "    // This is a function to directly update element attributes without going\n",
       "    // through eve.\n",
       "    Element.prototype.attribute = function(key, val) {\n",
       "        if (val === undefined) {\n",
       "            return this.node.getAttribute(key);\n",
       "        } else {\n",
       "            this.node.setAttribute(key, val);\n",
       "            return this;\n",
       "        }\n",
       "    };\n",
       "\n",
       "    Element.prototype.init_gadfly = function() {\n",
       "        this.mouseenter(Gadfly.plot_mouseover)\n",
       "            .mouseleave(Gadfly.plot_mouseout)\n",
       "            .dblclick(Gadfly.plot_dblclick)\n",
       "            .mousewheel(Gadfly.guide_background_scroll)\n",
       "            .drag(Gadfly.guide_background_drag_onmove,\n",
       "                  Gadfly.guide_background_drag_onstart,\n",
       "                  Gadfly.guide_background_drag_onend);\n",
       "        this.mouseenter(function (event) {\n",
       "            init_pan_zoom(this.plotroot());\n",
       "        });\n",
       "        return this;\n",
       "    };\n",
       "});\n",
       "\n",
       "\n",
       "// When the plot is moused over, emphasize the grid lines.\n",
       "Gadfly.plot_mouseover = function(event) {\n",
       "    var root = this.plotroot();\n",
       "\n",
       "    var keyboard_zoom = function(event) {\n",
       "        if (event.which == 187) { // plus\n",
       "            increase_zoom_by_position(root, 0.1, true);\n",
       "        } else if (event.which == 189) { // minus\n",
       "            increase_zoom_by_position(root, -0.1, true);\n",
       "        }\n",
       "    };\n",
       "    root.data(\"keyboard_zoom\", keyboard_zoom);\n",
       "    window.addEventListener(\"keyup\", keyboard_zoom);\n",
       "\n",
       "    var xgridlines = root.select(\".xgridlines\"),\n",
       "        ygridlines = root.select(\".ygridlines\");\n",
       "\n",
       "    xgridlines.data(\"unfocused_strokedash\",\n",
       "                    xgridlines.attribute(\"stroke-dasharray\").replace(/(\\d)(,|$)/g, \"$1mm$2\"));\n",
       "    ygridlines.data(\"unfocused_strokedash\",\n",
       "                    ygridlines.attribute(\"stroke-dasharray\").replace(/(\\d)(,|$)/g, \"$1mm$2\"));\n",
       "\n",
       "    // emphasize grid lines\n",
       "    var destcolor = root.data(\"focused_xgrid_color\");\n",
       "    xgridlines.attribute(\"stroke-dasharray\", \"none\")\n",
       "              .selectAll(\"path\")\n",
       "              .animate({stroke: destcolor}, 250);\n",
       "\n",
       "    destcolor = root.data(\"focused_ygrid_color\");\n",
       "    ygridlines.attribute(\"stroke-dasharray\", \"none\")\n",
       "              .selectAll(\"path\")\n",
       "              .animate({stroke: destcolor}, 250);\n",
       "\n",
       "    // reveal zoom slider\n",
       "    root.select(\".zoomslider\")\n",
       "        .animate({opacity: 1.0}, 250);\n",
       "};\n",
       "\n",
       "// Reset pan and zoom on double click\n",
       "Gadfly.plot_dblclick = function(event) {\n",
       "  set_plot_pan_zoom(this.plotroot(), 0.0, 0.0, 1.0);\n",
       "};\n",
       "\n",
       "// Unemphasize grid lines on mouse out.\n",
       "Gadfly.plot_mouseout = function(event) {\n",
       "    var root = this.plotroot();\n",
       "\n",
       "    window.removeEventListener(\"keyup\", root.data(\"keyboard_zoom\"));\n",
       "    root.data(\"keyboard_zoom\", undefined);\n",
       "\n",
       "    var xgridlines = root.select(\".xgridlines\"),\n",
       "        ygridlines = root.select(\".ygridlines\");\n",
       "\n",
       "    var destcolor = root.data(\"unfocused_xgrid_color\");\n",
       "\n",
       "    xgridlines.attribute(\"stroke-dasharray\", xgridlines.data(\"unfocused_strokedash\"))\n",
       "              .selectAll(\"path\")\n",
       "              .animate({stroke: destcolor}, 250);\n",
       "\n",
       "    destcolor = root.data(\"unfocused_ygrid_color\");\n",
       "    ygridlines.attribute(\"stroke-dasharray\", ygridlines.data(\"unfocused_strokedash\"))\n",
       "              .selectAll(\"path\")\n",
       "              .animate({stroke: destcolor}, 250);\n",
       "\n",
       "    // hide zoom slider\n",
       "    root.select(\".zoomslider\")\n",
       "        .animate({opacity: 0.0}, 250);\n",
       "};\n",
       "\n",
       "\n",
       "var set_geometry_transform = function(root, tx, ty, scale) {\n",
       "    var xscalable = root.hasClass(\"xscalable\"),\n",
       "        yscalable = root.hasClass(\"yscalable\");\n",
       "\n",
       "    var old_scale = root.data(\"scale\");\n",
       "\n",
       "    var xscale = xscalable ? scale : 1.0,\n",
       "        yscale = yscalable ? scale : 1.0;\n",
       "\n",
       "    tx = xscalable ? tx : 0.0;\n",
       "    ty = yscalable ? ty : 0.0;\n",
       "\n",
       "    var t = new Snap.Matrix().translate(tx, ty).scale(xscale, yscale);\n",
       "\n",
       "    root.selectAll(\".geometry, image\")\n",
       "        .forEach(function (element, i) {\n",
       "            element.transform(t);\n",
       "        });\n",
       "\n",
       "    bounds = root.plotbounds();\n",
       "\n",
       "    if (yscalable) {\n",
       "        var xfixed_t = new Snap.Matrix().translate(0, ty).scale(1.0, yscale);\n",
       "        root.selectAll(\".xfixed\")\n",
       "            .forEach(function (element, i) {\n",
       "                element.transform(xfixed_t);\n",
       "            });\n",
       "\n",
       "        root.select(\".ylabels\")\n",
       "            .transform(xfixed_t)\n",
       "            .selectAll(\"text\")\n",
       "            .forEach(function (element, i) {\n",
       "                if (element.attribute(\"gadfly:inscale\") == \"true\") {\n",
       "                    var cx = element.asPX(\"x\"),\n",
       "                        cy = element.asPX(\"y\");\n",
       "                    var st = element.data(\"static_transform\");\n",
       "                    unscale_t = new Snap.Matrix();\n",
       "                    unscale_t.scale(1, 1/scale, cx, cy).add(st);\n",
       "                    element.transform(unscale_t);\n",
       "\n",
       "                    var y = cy * scale + ty;\n",
       "                    element.attr(\"visibility\",\n",
       "                        bounds.y0 <= y && y <= bounds.y1 ? \"visible\" : \"hidden\");\n",
       "                }\n",
       "            });\n",
       "    }\n",
       "\n",
       "    if (xscalable) {\n",
       "        var yfixed_t = new Snap.Matrix().translate(tx, 0).scale(xscale, 1.0);\n",
       "        var xtrans = new Snap.Matrix().translate(tx, 0);\n",
       "        root.selectAll(\".yfixed\")\n",
       "            .forEach(function (element, i) {\n",
       "                element.transform(yfixed_t);\n",
       "            });\n",
       "\n",
       "        root.select(\".xlabels\")\n",
       "            .transform(yfixed_t)\n",
       "            .selectAll(\"text\")\n",
       "            .forEach(function (element, i) {\n",
       "                if (element.attribute(\"gadfly:inscale\") == \"true\") {\n",
       "                    var cx = element.asPX(\"x\"),\n",
       "                        cy = element.asPX(\"y\");\n",
       "                    var st = element.data(\"static_transform\");\n",
       "                    unscale_t = new Snap.Matrix();\n",
       "                    unscale_t.scale(1/scale, 1, cx, cy).add(st);\n",
       "\n",
       "                    element.transform(unscale_t);\n",
       "\n",
       "                    var x = cx * scale + tx;\n",
       "                    element.attr(\"visibility\",\n",
       "                        bounds.x0 <= x && x <= bounds.x1 ? \"visible\" : \"hidden\");\n",
       "                    }\n",
       "            });\n",
       "    }\n",
       "\n",
       "    // we must unscale anything that is scale invariance: widths, raiduses, etc.\n",
       "    var size_attribs = [\"font-size\"];\n",
       "    var unscaled_selection = \".geometry, .geometry *\";\n",
       "    if (xscalable) {\n",
       "        size_attribs.push(\"rx\");\n",
       "        unscaled_selection += \", .xgridlines\";\n",
       "    }\n",
       "    if (yscalable) {\n",
       "        size_attribs.push(\"ry\");\n",
       "        unscaled_selection += \", .ygridlines\";\n",
       "    }\n",
       "\n",
       "    root.selectAll(unscaled_selection)\n",
       "        .forEach(function (element, i) {\n",
       "            // circle need special help\n",
       "            if (element.node.nodeName == \"circle\") {\n",
       "                var cx = element.attribute(\"cx\"),\n",
       "                    cy = element.attribute(\"cy\");\n",
       "                unscale_t = new Snap.Matrix().scale(1/xscale, 1/yscale,\n",
       "                                                        cx, cy);\n",
       "                element.transform(unscale_t);\n",
       "                return;\n",
       "            }\n",
       "\n",
       "            for (i in size_attribs) {\n",
       "                var key = size_attribs[i];\n",
       "                var val = parseFloat(element.attribute(key));\n",
       "                if (val !== undefined && val != 0 && !isNaN(val)) {\n",
       "                    element.attribute(key, val * old_scale / scale);\n",
       "                }\n",
       "            }\n",
       "        });\n",
       "};\n",
       "\n",
       "\n",
       "// Find the most appropriate tick scale and update label visibility.\n",
       "var update_tickscale = function(root, scale, axis) {\n",
       "    if (!root.hasClass(axis + \"scalable\")) return;\n",
       "\n",
       "    var tickscales = root.data(axis + \"tickscales\");\n",
       "    var best_tickscale = 1.0;\n",
       "    var best_tickscale_dist = Infinity;\n",
       "    for (tickscale in tickscales) {\n",
       "        var dist = Math.abs(Math.log(tickscale) - Math.log(scale));\n",
       "        if (dist < best_tickscale_dist) {\n",
       "            best_tickscale_dist = dist;\n",
       "            best_tickscale = tickscale;\n",
       "        }\n",
       "    }\n",
       "\n",
       "    if (best_tickscale != root.data(axis + \"tickscale\")) {\n",
       "        root.data(axis + \"tickscale\", best_tickscale);\n",
       "        var mark_inscale_gridlines = function (element, i) {\n",
       "            var inscale = element.attr(\"gadfly:scale\") == best_tickscale;\n",
       "            element.attribute(\"gadfly:inscale\", inscale);\n",
       "            element.attr(\"visibility\", inscale ? \"visible\" : \"hidden\");\n",
       "        };\n",
       "\n",
       "        var mark_inscale_labels = function (element, i) {\n",
       "            var inscale = element.attr(\"gadfly:scale\") == best_tickscale;\n",
       "            element.attribute(\"gadfly:inscale\", inscale);\n",
       "            element.attr(\"visibility\", inscale ? \"visible\" : \"hidden\");\n",
       "        };\n",
       "\n",
       "        root.select(\".\" + axis + \"gridlines\").selectAll(\"path\").forEach(mark_inscale_gridlines);\n",
       "        root.select(\".\" + axis + \"labels\").selectAll(\"text\").forEach(mark_inscale_labels);\n",
       "    }\n",
       "};\n",
       "\n",
       "\n",
       "var set_plot_pan_zoom = function(root, tx, ty, scale) {\n",
       "    var old_scale = root.data(\"scale\");\n",
       "    var bounds = root.plotbounds();\n",
       "\n",
       "    var width = bounds.x1 - bounds.x0,\n",
       "        height = bounds.y1 - bounds.y0;\n",
       "\n",
       "    // compute the viewport derived from tx, ty, and scale\n",
       "    var x_min = -width * scale - (scale * width - width),\n",
       "        x_max = width * scale,\n",
       "        y_min = -height * scale - (scale * height - height),\n",
       "        y_max = height * scale;\n",
       "\n",
       "    var x0 = bounds.x0 - scale * bounds.x0,\n",
       "        y0 = bounds.y0 - scale * bounds.y0;\n",
       "\n",
       "    var tx = Math.max(Math.min(tx - x0, x_max), x_min),\n",
       "        ty = Math.max(Math.min(ty - y0, y_max), y_min);\n",
       "\n",
       "    tx += x0;\n",
       "    ty += y0;\n",
       "\n",
       "    // when the scale change, we may need to alter which set of\n",
       "    // ticks is being displayed\n",
       "    if (scale != old_scale) {\n",
       "        update_tickscale(root, scale, \"x\");\n",
       "        update_tickscale(root, scale, \"y\");\n",
       "    }\n",
       "\n",
       "    set_geometry_transform(root, tx, ty, scale);\n",
       "\n",
       "    root.data(\"scale\", scale);\n",
       "    root.data(\"tx\", tx);\n",
       "    root.data(\"ty\", ty);\n",
       "};\n",
       "\n",
       "\n",
       "var scale_centered_translation = function(root, scale) {\n",
       "    var bounds = root.plotbounds();\n",
       "\n",
       "    var width = bounds.x1 - bounds.x0,\n",
       "        height = bounds.y1 - bounds.y0;\n",
       "\n",
       "    var tx0 = root.data(\"tx\"),\n",
       "        ty0 = root.data(\"ty\");\n",
       "\n",
       "    var scale0 = root.data(\"scale\");\n",
       "\n",
       "    // how off from center the current view is\n",
       "    var xoff = tx0 - (bounds.x0 * (1 - scale0) + (width * (1 - scale0)) / 2),\n",
       "        yoff = ty0 - (bounds.y0 * (1 - scale0) + (height * (1 - scale0)) / 2);\n",
       "\n",
       "    // rescale offsets\n",
       "    xoff = xoff * scale / scale0;\n",
       "    yoff = yoff * scale / scale0;\n",
       "\n",
       "    // adjust for the panel position being scaled\n",
       "    var x_edge_adjust = bounds.x0 * (1 - scale),\n",
       "        y_edge_adjust = bounds.y0 * (1 - scale);\n",
       "\n",
       "    return {\n",
       "        x: xoff + x_edge_adjust + (width - width * scale) / 2,\n",
       "        y: yoff + y_edge_adjust + (height - height * scale) / 2\n",
       "    };\n",
       "};\n",
       "\n",
       "\n",
       "// Initialize data for panning zooming if it isn't already.\n",
       "var init_pan_zoom = function(root) {\n",
       "    if (root.data(\"zoompan-ready\")) {\n",
       "        return;\n",
       "    }\n",
       "\n",
       "    // The non-scaling-stroke trick. Rather than try to correct for the\n",
       "    // stroke-width when zooming, we force it to a fixed value.\n",
       "    var px_per_mm = root.node.getCTM().a;\n",
       "\n",
       "    // Drag events report deltas in pixels, which we'd like to convert to\n",
       "    // millimeters.\n",
       "    root.data(\"px_per_mm\", px_per_mm);\n",
       "\n",
       "    root.selectAll(\"path\")\n",
       "        .forEach(function (element, i) {\n",
       "        sw = element.asPX(\"stroke-width\") * px_per_mm;\n",
       "        if (sw > 0) {\n",
       "            element.attribute(\"stroke-width\", sw);\n",
       "            element.attribute(\"vector-effect\", \"non-scaling-stroke\");\n",
       "        }\n",
       "    });\n",
       "\n",
       "    // Store ticks labels original tranformation\n",
       "    root.selectAll(\".xlabels > text, .ylabels > text\")\n",
       "        .forEach(function (element, i) {\n",
       "            var lm = element.transform().localMatrix;\n",
       "            element.data(\"static_transform\",\n",
       "                new Snap.Matrix(lm.a, lm.b, lm.c, lm.d, lm.e, lm.f));\n",
       "        });\n",
       "\n",
       "    var xgridlines = root.select(\".xgridlines\");\n",
       "    var ygridlines = root.select(\".ygridlines\");\n",
       "    var xlabels = root.select(\".xlabels\");\n",
       "    var ylabels = root.select(\".ylabels\");\n",
       "\n",
       "    if (root.data(\"tx\") === undefined) root.data(\"tx\", 0);\n",
       "    if (root.data(\"ty\") === undefined) root.data(\"ty\", 0);\n",
       "    if (root.data(\"scale\") === undefined) root.data(\"scale\", 1.0);\n",
       "    if (root.data(\"xtickscales\") === undefined) {\n",
       "\n",
       "        // index all the tick scales that are listed\n",
       "        var xtickscales = {};\n",
       "        var ytickscales = {};\n",
       "        var add_x_tick_scales = function (element, i) {\n",
       "            xtickscales[element.attribute(\"gadfly:scale\")] = true;\n",
       "        };\n",
       "        var add_y_tick_scales = function (element, i) {\n",
       "            ytickscales[element.attribute(\"gadfly:scale\")] = true;\n",
       "        };\n",
       "\n",
       "        if (xgridlines) xgridlines.selectAll(\"path\").forEach(add_x_tick_scales);\n",
       "        if (ygridlines) ygridlines.selectAll(\"path\").forEach(add_y_tick_scales);\n",
       "        if (xlabels) xlabels.selectAll(\"text\").forEach(add_x_tick_scales);\n",
       "        if (ylabels) ylabels.selectAll(\"text\").forEach(add_y_tick_scales);\n",
       "\n",
       "        root.data(\"xtickscales\", xtickscales);\n",
       "        root.data(\"ytickscales\", ytickscales);\n",
       "        root.data(\"xtickscale\", 1.0);\n",
       "    }\n",
       "\n",
       "    var min_scale = 1.0, max_scale = 1.0;\n",
       "    for (scale in xtickscales) {\n",
       "        min_scale = Math.min(min_scale, scale);\n",
       "        max_scale = Math.max(max_scale, scale);\n",
       "    }\n",
       "    for (scale in ytickscales) {\n",
       "        min_scale = Math.min(min_scale, scale);\n",
       "        max_scale = Math.max(max_scale, scale);\n",
       "    }\n",
       "    root.data(\"min_scale\", min_scale);\n",
       "    root.data(\"max_scale\", max_scale);\n",
       "\n",
       "    // store the original positions of labels\n",
       "    if (xlabels) {\n",
       "        xlabels.selectAll(\"text\")\n",
       "               .forEach(function (element, i) {\n",
       "                   element.data(\"x\", element.asPX(\"x\"));\n",
       "               });\n",
       "    }\n",
       "\n",
       "    if (ylabels) {\n",
       "        ylabels.selectAll(\"text\")\n",
       "               .forEach(function (element, i) {\n",
       "                   element.data(\"y\", element.asPX(\"y\"));\n",
       "               });\n",
       "    }\n",
       "\n",
       "    // mark grid lines and ticks as in or out of scale.\n",
       "    var mark_inscale = function (element, i) {\n",
       "        element.attribute(\"gadfly:inscale\", element.attribute(\"gadfly:scale\") == 1.0);\n",
       "    };\n",
       "\n",
       "    if (xgridlines) xgridlines.selectAll(\"path\").forEach(mark_inscale);\n",
       "    if (ygridlines) ygridlines.selectAll(\"path\").forEach(mark_inscale);\n",
       "    if (xlabels) xlabels.selectAll(\"text\").forEach(mark_inscale);\n",
       "    if (ylabels) ylabels.selectAll(\"text\").forEach(mark_inscale);\n",
       "\n",
       "    // figure out the upper ond lower bounds on panning using the maximum\n",
       "    // and minum grid lines\n",
       "    var bounds = root.plotbounds();\n",
       "    var pan_bounds = {\n",
       "        x0: 0.0,\n",
       "        y0: 0.0,\n",
       "        x1: 0.0,\n",
       "        y1: 0.0\n",
       "    };\n",
       "\n",
       "    if (xgridlines) {\n",
       "        xgridlines\n",
       "            .selectAll(\"path\")\n",
       "            .forEach(function (element, i) {\n",
       "                if (element.attribute(\"gadfly:inscale\") == \"true\") {\n",
       "                    var bbox = element.node.getBBox();\n",
       "                    if (bounds.x1 - bbox.x < pan_bounds.x0) {\n",
       "                        pan_bounds.x0 = bounds.x1 - bbox.x;\n",
       "                    }\n",
       "                    if (bounds.x0 - bbox.x > pan_bounds.x1) {\n",
       "                        pan_bounds.x1 = bounds.x0 - bbox.x;\n",
       "                    }\n",
       "                    element.attr(\"visibility\", \"visible\");\n",
       "                }\n",
       "            });\n",
       "    }\n",
       "\n",
       "    if (ygridlines) {\n",
       "        ygridlines\n",
       "            .selectAll(\"path\")\n",
       "            .forEach(function (element, i) {\n",
       "                if (element.attribute(\"gadfly:inscale\") == \"true\") {\n",
       "                    var bbox = element.node.getBBox();\n",
       "                    if (bounds.y1 - bbox.y < pan_bounds.y0) {\n",
       "                        pan_bounds.y0 = bounds.y1 - bbox.y;\n",
       "                    }\n",
       "                    if (bounds.y0 - bbox.y > pan_bounds.y1) {\n",
       "                        pan_bounds.y1 = bounds.y0 - bbox.y;\n",
       "                    }\n",
       "                    element.attr(\"visibility\", \"visible\");\n",
       "                }\n",
       "            });\n",
       "    }\n",
       "\n",
       "    // nudge these values a little\n",
       "    pan_bounds.x0 -= 5;\n",
       "    pan_bounds.x1 += 5;\n",
       "    pan_bounds.y0 -= 5;\n",
       "    pan_bounds.y1 += 5;\n",
       "    root.data(\"pan_bounds\", pan_bounds);\n",
       "\n",
       "    root.data(\"zoompan-ready\", true)\n",
       "};\n",
       "\n",
       "\n",
       "// drag actions, i.e. zooming and panning\n",
       "var pan_action = {\n",
       "    start: function(root, x, y, event) {\n",
       "        root.data(\"dx\", 0);\n",
       "        root.data(\"dy\", 0);\n",
       "        root.data(\"tx0\", root.data(\"tx\"));\n",
       "        root.data(\"ty0\", root.data(\"ty\"));\n",
       "    },\n",
       "    update: function(root, dx, dy, x, y, event) {\n",
       "        var px_per_mm = root.data(\"px_per_mm\");\n",
       "        dx /= px_per_mm;\n",
       "        dy /= px_per_mm;\n",
       "\n",
       "        var tx0 = root.data(\"tx\"),\n",
       "            ty0 = root.data(\"ty\");\n",
       "\n",
       "        var dx0 = root.data(\"dx\"),\n",
       "            dy0 = root.data(\"dy\");\n",
       "\n",
       "        root.data(\"dx\", dx);\n",
       "        root.data(\"dy\", dy);\n",
       "\n",
       "        dx = dx - dx0;\n",
       "        dy = dy - dy0;\n",
       "\n",
       "        var tx = tx0 + dx,\n",
       "            ty = ty0 + dy;\n",
       "\n",
       "        set_plot_pan_zoom(root, tx, ty, root.data(\"scale\"));\n",
       "    },\n",
       "    end: function(root, event) {\n",
       "\n",
       "    },\n",
       "    cancel: function(root) {\n",
       "        set_plot_pan_zoom(root, root.data(\"tx0\"), root.data(\"ty0\"), root.data(\"scale\"));\n",
       "    }\n",
       "};\n",
       "\n",
       "var zoom_box;\n",
       "var zoom_action = {\n",
       "    start: function(root, x, y, event) {\n",
       "        var bounds = root.plotbounds();\n",
       "        var width = bounds.x1 - bounds.x0,\n",
       "            height = bounds.y1 - bounds.y0;\n",
       "        var ratio = width / height;\n",
       "        var xscalable = root.hasClass(\"xscalable\"),\n",
       "            yscalable = root.hasClass(\"yscalable\");\n",
       "        var px_per_mm = root.data(\"px_per_mm\");\n",
       "        x = xscalable ? x / px_per_mm : bounds.x0;\n",
       "        y = yscalable ? y / px_per_mm : bounds.y0;\n",
       "        var w = xscalable ? 0 : width;\n",
       "        var h = yscalable ? 0 : height;\n",
       "        zoom_box = root.rect(x, y, w, h).attr({\n",
       "            \"fill\": \"#000\",\n",
       "            \"opacity\": 0.25\n",
       "        });\n",
       "        zoom_box.data(\"ratio\", ratio);\n",
       "    },\n",
       "    update: function(root, dx, dy, x, y, event) {\n",
       "        var xscalable = root.hasClass(\"xscalable\"),\n",
       "            yscalable = root.hasClass(\"yscalable\");\n",
       "        var px_per_mm = root.data(\"px_per_mm\");\n",
       "        var bounds = root.plotbounds();\n",
       "        if (yscalable) {\n",
       "            y /= px_per_mm;\n",
       "            y = Math.max(bounds.y0, y);\n",
       "            y = Math.min(bounds.y1, y);\n",
       "        } else {\n",
       "            y = bounds.y1;\n",
       "        }\n",
       "        if (xscalable) {\n",
       "            x /= px_per_mm;\n",
       "            x = Math.max(bounds.x0, x);\n",
       "            x = Math.min(bounds.x1, x);\n",
       "        } else {\n",
       "            x = bounds.x1;\n",
       "        }\n",
       "\n",
       "        dx = x - zoom_box.attr(\"x\");\n",
       "        dy = y - zoom_box.attr(\"y\");\n",
       "        if (xscalable && yscalable) {\n",
       "            var ratio = zoom_box.data(\"ratio\");\n",
       "            var width = Math.min(Math.abs(dx), ratio * Math.abs(dy));\n",
       "            var height = Math.min(Math.abs(dy), Math.abs(dx) / ratio);\n",
       "            dx = width * dx / Math.abs(dx);\n",
       "            dy = height * dy / Math.abs(dy);\n",
       "        }\n",
       "        var xoffset = 0,\n",
       "            yoffset = 0;\n",
       "        if (dx < 0) {\n",
       "            xoffset = dx;\n",
       "            dx = -1 * dx;\n",
       "        }\n",
       "        if (dy < 0) {\n",
       "            yoffset = dy;\n",
       "            dy = -1 * dy;\n",
       "        }\n",
       "        if (isNaN(dy)) {\n",
       "            dy = 0.0;\n",
       "        }\n",
       "        if (isNaN(dx)) {\n",
       "            dx = 0.0;\n",
       "        }\n",
       "        zoom_box.transform(\"T\" + xoffset + \",\" + yoffset);\n",
       "        zoom_box.attr(\"width\", dx);\n",
       "        zoom_box.attr(\"height\", dy);\n",
       "    },\n",
       "    end: function(root, event) {\n",
       "        var xscalable = root.hasClass(\"xscalable\"),\n",
       "            yscalable = root.hasClass(\"yscalable\");\n",
       "        var zoom_bounds = zoom_box.getBBox();\n",
       "        if (zoom_bounds.width * zoom_bounds.height <= 0) {\n",
       "            return;\n",
       "        }\n",
       "        var plot_bounds = root.plotbounds();\n",
       "        var zoom_factor = 1.0;\n",
       "        if (yscalable) {\n",
       "            zoom_factor = (plot_bounds.y1 - plot_bounds.y0) / zoom_bounds.height;\n",
       "        } else {\n",
       "            zoom_factor = (plot_bounds.x1 - plot_bounds.x0) / zoom_bounds.width;\n",
       "        }\n",
       "        var tx = (root.data(\"tx\") - zoom_bounds.x) * zoom_factor + plot_bounds.x0,\n",
       "            ty = (root.data(\"ty\") - zoom_bounds.y) * zoom_factor + plot_bounds.y0;\n",
       "        set_plot_pan_zoom(root, tx, ty, root.data(\"scale\") * zoom_factor);\n",
       "        zoom_box.remove();\n",
       "    },\n",
       "    cancel: function(root) {\n",
       "        zoom_box.remove();\n",
       "    }\n",
       "};\n",
       "\n",
       "\n",
       "Gadfly.guide_background_drag_onstart = function(x, y, event) {\n",
       "    var root = this.plotroot();\n",
       "    var scalable = root.hasClass(\"xscalable\") || root.hasClass(\"yscalable\");\n",
       "    var zoomable = !event.altKey && !event.ctrlKey && event.shiftKey && scalable;\n",
       "    var panable = !event.altKey && !event.ctrlKey && !event.shiftKey && scalable;\n",
       "    var drag_action = zoomable ? zoom_action :\n",
       "                      panable  ? pan_action :\n",
       "                                 undefined;\n",
       "    root.data(\"drag_action\", drag_action);\n",
       "    if (drag_action) {\n",
       "        var cancel_drag_action = function(event) {\n",
       "            if (event.which == 27) { // esc key\n",
       "                drag_action.cancel(root);\n",
       "                root.data(\"drag_action\", undefined);\n",
       "            }\n",
       "        };\n",
       "        window.addEventListener(\"keyup\", cancel_drag_action);\n",
       "        root.data(\"cancel_drag_action\", cancel_drag_action);\n",
       "        drag_action.start(root, x, y, event);\n",
       "    }\n",
       "};\n",
       "\n",
       "\n",
       "Gadfly.guide_background_drag_onmove = function(dx, dy, x, y, event) {\n",
       "    var root = this.plotroot();\n",
       "    var drag_action = root.data(\"drag_action\");\n",
       "    if (drag_action) {\n",
       "        drag_action.update(root, dx, dy, x, y, event);\n",
       "    }\n",
       "};\n",
       "\n",
       "\n",
       "Gadfly.guide_background_drag_onend = function(event) {\n",
       "    var root = this.plotroot();\n",
       "    window.removeEventListener(\"keyup\", root.data(\"cancel_drag_action\"));\n",
       "    root.data(\"cancel_drag_action\", undefined);\n",
       "    var drag_action = root.data(\"drag_action\");\n",
       "    if (drag_action) {\n",
       "        drag_action.end(root, event);\n",
       "    }\n",
       "    root.data(\"drag_action\", undefined);\n",
       "};\n",
       "\n",
       "\n",
       "Gadfly.guide_background_scroll = function(event) {\n",
       "    if (event.shiftKey) {\n",
       "        increase_zoom_by_position(this.plotroot(), 0.001 * event.wheelDelta);\n",
       "        event.preventDefault();\n",
       "    }\n",
       "};\n",
       "\n",
       "\n",
       "Gadfly.zoomslider_button_mouseover = function(event) {\n",
       "    this.select(\".button_logo\")\n",
       "         .animate({fill: this.data(\"mouseover_color\")}, 100);\n",
       "};\n",
       "\n",
       "\n",
       "Gadfly.zoomslider_button_mouseout = function(event) {\n",
       "     this.select(\".button_logo\")\n",
       "         .animate({fill: this.data(\"mouseout_color\")}, 100);\n",
       "};\n",
       "\n",
       "\n",
       "Gadfly.zoomslider_zoomout_click = function(event) {\n",
       "    increase_zoom_by_position(this.plotroot(), -0.1, true);\n",
       "};\n",
       "\n",
       "\n",
       "Gadfly.zoomslider_zoomin_click = function(event) {\n",
       "    increase_zoom_by_position(this.plotroot(), 0.1, true);\n",
       "};\n",
       "\n",
       "\n",
       "Gadfly.zoomslider_track_click = function(event) {\n",
       "    // TODO\n",
       "};\n",
       "\n",
       "\n",
       "// Map slider position x to scale y using the function y = a*exp(b*x)+c.\n",
       "// The constants a, b, and c are solved using the constraint that the function\n",
       "// should go through the points (0; min_scale), (0.5; 1), and (1; max_scale).\n",
       "var scale_from_slider_position = function(position, min_scale, max_scale) {\n",
       "    var a = (1 - 2 * min_scale + min_scale * min_scale) / (min_scale + max_scale - 2),\n",
       "        b = 2 * Math.log((max_scale - 1) / (1 - min_scale)),\n",
       "        c = (min_scale * max_scale - 1) / (min_scale + max_scale - 2);\n",
       "    return a * Math.exp(b * position) + c;\n",
       "}\n",
       "\n",
       "// inverse of scale_from_slider_position\n",
       "var slider_position_from_scale = function(scale, min_scale, max_scale) {\n",
       "    var a = (1 - 2 * min_scale + min_scale * min_scale) / (min_scale + max_scale - 2),\n",
       "        b = 2 * Math.log((max_scale - 1) / (1 - min_scale)),\n",
       "        c = (min_scale * max_scale - 1) / (min_scale + max_scale - 2);\n",
       "    return 1 / b * Math.log((scale - c) / a);\n",
       "}\n",
       "\n",
       "var increase_zoom_by_position = function(root, delta_position, animate) {\n",
       "    var scale = root.data(\"scale\"),\n",
       "        min_scale = root.data(\"min_scale\"),\n",
       "        max_scale = root.data(\"max_scale\");\n",
       "    var position = slider_position_from_scale(scale, min_scale, max_scale);\n",
       "    position += delta_position;\n",
       "    scale = scale_from_slider_position(position, min_scale, max_scale);\n",
       "    set_zoom(root, scale, animate);\n",
       "}\n",
       "\n",
       "var set_zoom = function(root, scale, animate) {\n",
       "    var min_scale = root.data(\"min_scale\"),\n",
       "        max_scale = root.data(\"max_scale\"),\n",
       "        old_scale = root.data(\"scale\");\n",
       "    var new_scale = Math.max(min_scale, Math.min(scale, max_scale));\n",
       "    if (animate) {\n",
       "        Snap.animate(\n",
       "            old_scale,\n",
       "            new_scale,\n",
       "            function (new_scale) {\n",
       "                update_plot_scale(root, new_scale);\n",
       "            },\n",
       "            200);\n",
       "    } else {\n",
       "        update_plot_scale(root, new_scale);\n",
       "    }\n",
       "}\n",
       "\n",
       "\n",
       "var update_plot_scale = function(root, new_scale) {\n",
       "    var trans = scale_centered_translation(root, new_scale);\n",
       "    set_plot_pan_zoom(root, trans.x, trans.y, new_scale);\n",
       "\n",
       "    root.selectAll(\".zoomslider_thumb\")\n",
       "        .forEach(function (element, i) {\n",
       "            var min_pos = element.data(\"min_pos\"),\n",
       "                max_pos = element.data(\"max_pos\"),\n",
       "                min_scale = root.data(\"min_scale\"),\n",
       "                max_scale = root.data(\"max_scale\");\n",
       "            var xmid = (min_pos + max_pos) / 2;\n",
       "            var xpos = slider_position_from_scale(new_scale, min_scale, max_scale);\n",
       "            element.transform(new Snap.Matrix().translate(\n",
       "                Math.max(min_pos, Math.min(\n",
       "                         max_pos, min_pos + (max_pos - min_pos) * xpos)) - xmid, 0));\n",
       "    });\n",
       "};\n",
       "\n",
       "\n",
       "Gadfly.zoomslider_thumb_dragmove = function(dx, dy, x, y, event) {\n",
       "    var root = this.plotroot();\n",
       "    var min_pos = this.data(\"min_pos\"),\n",
       "        max_pos = this.data(\"max_pos\"),\n",
       "        min_scale = root.data(\"min_scale\"),\n",
       "        max_scale = root.data(\"max_scale\"),\n",
       "        old_scale = root.data(\"old_scale\");\n",
       "\n",
       "    var px_per_mm = root.data(\"px_per_mm\");\n",
       "    dx /= px_per_mm;\n",
       "    dy /= px_per_mm;\n",
       "\n",
       "    var xmid = (min_pos + max_pos) / 2;\n",
       "    var xpos = slider_position_from_scale(old_scale, min_scale, max_scale) +\n",
       "                   dx / (max_pos - min_pos);\n",
       "\n",
       "    // compute the new scale\n",
       "    var new_scale = scale_from_slider_position(xpos, min_scale, max_scale);\n",
       "    new_scale = Math.min(max_scale, Math.max(min_scale, new_scale));\n",
       "\n",
       "    update_plot_scale(root, new_scale);\n",
       "    event.stopPropagation();\n",
       "};\n",
       "\n",
       "\n",
       "Gadfly.zoomslider_thumb_dragstart = function(x, y, event) {\n",
       "    this.animate({fill: this.data(\"mouseover_color\")}, 100);\n",
       "    var root = this.plotroot();\n",
       "\n",
       "    // keep track of what the scale was when we started dragging\n",
       "    root.data(\"old_scale\", root.data(\"scale\"));\n",
       "    event.stopPropagation();\n",
       "};\n",
       "\n",
       "\n",
       "Gadfly.zoomslider_thumb_dragend = function(event) {\n",
       "    this.animate({fill: this.data(\"mouseout_color\")}, 100);\n",
       "    event.stopPropagation();\n",
       "};\n",
       "\n",
       "\n",
       "var toggle_color_class = function(root, color_class, ison) {\n",
       "    var guides = root.selectAll(\".guide.\" + color_class + \",.guide .\" + color_class);\n",
       "    var geoms = root.selectAll(\".geometry.\" + color_class + \",.geometry .\" + color_class);\n",
       "    if (ison) {\n",
       "        guides.animate({opacity: 0.5}, 250);\n",
       "        geoms.animate({opacity: 0.0}, 250);\n",
       "    } else {\n",
       "        guides.animate({opacity: 1.0}, 250);\n",
       "        geoms.animate({opacity: 1.0}, 250);\n",
       "    }\n",
       "};\n",
       "\n",
       "\n",
       "Gadfly.colorkey_swatch_click = function(event) {\n",
       "    var root = this.plotroot();\n",
       "    var color_class = this.data(\"color_class\");\n",
       "\n",
       "    if (event.shiftKey) {\n",
       "        root.selectAll(\".colorkey text\")\n",
       "            .forEach(function (element) {\n",
       "                var other_color_class = element.data(\"color_class\");\n",
       "                if (other_color_class != color_class) {\n",
       "                    toggle_color_class(root, other_color_class,\n",
       "                                       element.attr(\"opacity\") == 1.0);\n",
       "                }\n",
       "            });\n",
       "    } else {\n",
       "        toggle_color_class(root, color_class, this.attr(\"opacity\") == 1.0);\n",
       "    }\n",
       "};\n",
       "\n",
       "\n",
       "return Gadfly;\n",
       "\n",
       "}));\n",
       "\n",
       "\n",
       "//@ sourceURL=gadfly.js\n",
       "\n",
       "(function (glob, factory) {\n",
       "    // AMD support\n",
       "      if (typeof require === \"function\" && typeof define === \"function\" && define.amd) {\n",
       "        require([\"Snap.svg\", \"Gadfly\"], function (Snap, Gadfly) {\n",
       "            factory(Snap, Gadfly);\n",
       "        });\n",
       "      } else {\n",
       "          factory(glob.Snap, glob.Gadfly);\n",
       "      }\n",
       "})(window, function (Snap, Gadfly) {\n",
       "    var fig = Snap(\"#img-635cd56b\");\n",
       "fig.select(\"#img-635cd56b-5\")\n",
       "   .init_gadfly();\n",
       "fig.select(\"#img-635cd56b-7\")\n",
       "   .plotroot().data(\"unfocused_ygrid_color\", \"#D0D0E0\")\n",
       ";\n",
       "fig.select(\"#img-635cd56b-7\")\n",
       "   .plotroot().data(\"focused_ygrid_color\", \"#A0A0A0\")\n",
       ";\n",
       "fig.select(\"#img-635cd56b-8\")\n",
       "   .plotroot().data(\"unfocused_xgrid_color\", \"#D0D0E0\")\n",
       ";\n",
       "fig.select(\"#img-635cd56b-8\")\n",
       "   .plotroot().data(\"focused_xgrid_color\", \"#A0A0A0\")\n",
       ";\n",
       "fig.select(\"#img-635cd56b-213\")\n",
       "   .data(\"mouseover_color\", \"#CD5C5C\")\n",
       ";\n",
       "fig.select(\"#img-635cd56b-213\")\n",
       "   .data(\"mouseout_color\", \"#6A6A6A\")\n",
       ";\n",
       "fig.select(\"#img-635cd56b-213\")\n",
       "   .click(Gadfly.zoomslider_zoomin_click)\n",
       ".mouseenter(Gadfly.zoomslider_button_mouseover)\n",
       ".mouseleave(Gadfly.zoomslider_button_mouseout)\n",
       ";\n",
       "fig.select(\"#img-635cd56b-215\")\n",
       "   .data(\"max_pos\", 120.42)\n",
       ";\n",
       "fig.select(\"#img-635cd56b-215\")\n",
       "   .data(\"min_pos\", 103.42)\n",
       ";\n",
       "fig.select(\"#img-635cd56b-215\")\n",
       "   .click(Gadfly.zoomslider_track_click);\n",
       "fig.select(\"#img-635cd56b-216\")\n",
       "   .data(\"max_pos\", 120.42)\n",
       ";\n",
       "fig.select(\"#img-635cd56b-216\")\n",
       "   .data(\"min_pos\", 103.42)\n",
       ";\n",
       "fig.select(\"#img-635cd56b-216\")\n",
       "   .data(\"mouseover_color\", \"#CD5C5C\")\n",
       ";\n",
       "fig.select(\"#img-635cd56b-216\")\n",
       "   .data(\"mouseout_color\", \"#6A6A6A\")\n",
       ";\n",
       "fig.select(\"#img-635cd56b-216\")\n",
       "   .drag(Gadfly.zoomslider_thumb_dragmove,\n",
       "     Gadfly.zoomslider_thumb_dragstart,\n",
       "     Gadfly.zoomslider_thumb_dragend)\n",
       ";\n",
       "fig.select(\"#img-635cd56b-217\")\n",
       "   .data(\"mouseover_color\", \"#CD5C5C\")\n",
       ";\n",
       "fig.select(\"#img-635cd56b-217\")\n",
       "   .data(\"mouseout_color\", \"#6A6A6A\")\n",
       ";\n",
       "fig.select(\"#img-635cd56b-217\")\n",
       "   .click(Gadfly.zoomslider_zoomout_click)\n",
       ".mouseenter(Gadfly.zoomslider_button_mouseover)\n",
       ".mouseleave(Gadfly.zoomslider_button_mouseout)\n",
       ";\n",
       "    });\n",
       "]]> </script>\n",
       "</svg>\n"
      ],
      "text/plain": [
       "Plot(...)"
      ]
     },
     "execution_count": 2,
     "metadata": {},
     "output_type": "execute_result"
    }
   ],
   "source": [
    "plot(x = x, y = y)"
   ]
  },
  {
   "cell_type": "markdown",
   "metadata": {
    "slideshow": {
     "slide_type": "slide"
    }
   },
   "source": [
    "## Calling Python"
   ]
  },
  {
   "cell_type": "markdown",
   "metadata": {
    "slideshow": {
     "slide_type": "slide"
    }
   },
   "source": [
    "## Performance Types\n",
    "\n",
    "A useful tool for measuring performance is the @time macro. The following example illustrates good working style:"
   ]
  },
  {
   "cell_type": "code",
   "execution_count": 51,
   "metadata": {},
   "outputs": [
    {
     "data": {
      "text/plain": [
       "f (generic function with 1 method)"
      ]
     },
     "execution_count": 51,
     "metadata": {},
     "output_type": "execute_result"
    }
   ],
   "source": [
    "function f(n)\n",
    "    s = 0\n",
    "    for i = 1:n\n",
    "       s += i/2\n",
    "    end\n",
    "    s\n",
    "end"
   ]
  },
  {
   "cell_type": "code",
   "execution_count": 52,
   "metadata": {},
   "outputs": [
    {
     "name": "stdout",
     "output_type": "stream",
     "text": [
      "  0.012803 seconds (1.32 k allocations: 71.960 KiB)\n"
     ]
    },
    {
     "data": {
      "text/plain": [
       "0.5"
      ]
     },
     "execution_count": 52,
     "metadata": {},
     "output_type": "execute_result"
    }
   ],
   "source": [
    "@time f(1)"
   ]
  },
  {
   "cell_type": "code",
   "execution_count": 53,
   "metadata": {},
   "outputs": [
    {
     "name": "stdout",
     "output_type": "stream",
     "text": [
      "  0.060882 seconds (3.00 M allocations: 45.788 MiB, 34.41% gc time)\n"
     ]
    },
    {
     "data": {
      "text/plain": [
       "2.5000025e11"
      ]
     },
     "execution_count": 53,
     "metadata": {},
     "output_type": "execute_result"
    }
   ],
   "source": [
    "@time f(10^6)"
   ]
  },
  {
   "cell_type": "markdown",
   "metadata": {},
   "source": [
    "For more serious benchmarking, consider the BenchmarkTools.jl package which evaluates the function multiple times in order to reduce noise."
   ]
  },
  {
   "cell_type": "markdown",
   "metadata": {
    "slideshow": {
     "slide_type": "slide"
    }
   },
   "source": [
    "## Workflow"
   ]
  },
  {
   "cell_type": "markdown",
   "metadata": {
    "slideshow": {
     "slide_type": "slide"
    }
   },
   "source": [
    "## Advanced Topics"
   ]
  },
  {
   "cell_type": "markdown",
   "metadata": {
    "slideshow": {
     "slide_type": "slide"
    }
   },
   "source": [
    "## Type-Dispatch Design\n",
    "\n",
    "\"_If it quacks like a duck, it might as well be a duck_\"\n",
    "\n",
    "This idea is central to type-based designs: __abstract types are defined by how they act__"
   ]
  },
  {
   "cell_type": "code",
   "execution_count": 2,
   "metadata": {},
   "outputs": [
    {
     "data": {
      "text/plain": [
       "my_square (generic function with 1 method)"
      ]
     },
     "execution_count": 2,
     "metadata": {},
     "output_type": "execute_result"
    }
   ],
   "source": [
    "my_square(x) = x^2"
   ]
  },
  {
   "cell_type": "code",
   "execution_count": 4,
   "metadata": {
    "slideshow": {
     "slide_type": "subslide"
    }
   },
   "outputs": [
    {
     "name": "stdout",
     "output_type": "stream",
     "text": [
      "\n",
      "define i64 @julia_my_square_61025(i64) #0 !dbg !5 {\n",
      "top:\n",
      "  %1 = mul i64 %0, %0\n",
      "  ret i64 %1\n",
      "}\n"
     ]
    }
   ],
   "source": [
    "@code_llvm my_square(1)"
   ]
  },
  {
   "cell_type": "code",
   "execution_count": 6,
   "metadata": {},
   "outputs": [
    {
     "name": "stdout",
     "output_type": "stream",
     "text": [
      "\n",
      "define double @julia_my_square_61028(double) #0 !dbg !5 {\n",
      "top:\n",
      "  %1 = fmul double %0, %0\n",
      "  ret double %1\n",
      "}\n"
     ]
    }
   ],
   "source": [
    "@code_llvm my_square(1.0)"
   ]
  },
  {
   "cell_type": "markdown",
   "metadata": {
    "slideshow": {
     "slide_type": "subslide"
    }
   },
   "source": [
    "Thus we don't need to restrict the types we allow in functions in order to get performance. That means that"
   ]
  },
  {
   "cell_type": "code",
   "execution_count": 7,
   "metadata": {},
   "outputs": [
    {
     "data": {
      "text/plain": [
       "my_restricted_square (generic function with 1 method)"
      ]
     },
     "execution_count": 7,
     "metadata": {},
     "output_type": "execute_result"
    }
   ],
   "source": [
    "my_restricted_square(x::Int) = x^2"
   ]
  },
  {
   "cell_type": "markdown",
   "metadata": {},
   "source": [
    "is no more efficient than the version above, and actually generates the same exact compiled code:"
   ]
  },
  {
   "cell_type": "code",
   "execution_count": 10,
   "metadata": {},
   "outputs": [
    {
     "name": "stdout",
     "output_type": "stream",
     "text": [
      "\n",
      "define i64 @julia_my_restricted_square_61057(i64) #0 !dbg !5 {\n",
      "top:\n",
      "  %1 = mul i64 %0, %0\n",
      "  ret i64 %1\n",
      "}\n"
     ]
    }
   ],
   "source": [
    "@code_llvm my_restricted_square(1)"
   ]
  },
  {
   "cell_type": "markdown",
   "metadata": {
    "slideshow": {
     "slide_type": "slide"
    }
   },
   "source": [
    "## Type Hierarchies"
   ]
  },
  {
   "cell_type": "code",
   "execution_count": 11,
   "metadata": {},
   "outputs": [
    {
     "data": {
      "text/plain": [
       "true"
      ]
     },
     "execution_count": 11,
     "metadata": {},
     "output_type": "execute_result"
    }
   ],
   "source": [
    "a = 1:10\n",
    "typeof(a) <: AbstractArray"
   ]
  },
  {
   "cell_type": "code",
   "execution_count": 12,
   "metadata": {},
   "outputs": [
    {
     "data": {
      "text/plain": [
       "2-element Array{Symbol,1}:\n",
       " :start\n",
       " :stop "
      ]
     },
     "execution_count": 12,
     "metadata": {},
     "output_type": "execute_result"
    }
   ],
   "source": [
    "fieldnames(a)"
   ]
  },
  {
   "cell_type": "code",
   "execution_count": 17,
   "metadata": {
    "slideshow": {
     "slide_type": "subslide"
    }
   },
   "outputs": [
    {
     "name": "stdout",
     "output_type": "stream",
     "text": [
      "  0.192011 seconds (8 allocations: 76.294 MiB, 73.18% gc time)\n"
     ]
    }
   ],
   "source": [
    "@time collect(1:10000000);"
   ]
  },
  {
   "cell_type": "markdown",
   "metadata": {},
   "source": [
    "But creating an immutable type of two numbers is essentially free, no matter what those two numbers are:"
   ]
  },
  {
   "cell_type": "code",
   "execution_count": 15,
   "metadata": {},
   "outputs": [
    {
     "name": "stdout",
     "output_type": "stream",
     "text": [
      "  0.000007 seconds (5 allocations: 192 bytes)\n"
     ]
    }
   ],
   "source": [
    "@time 1:10000000;"
   ]
  },
  {
   "cell_type": "markdown",
   "metadata": {},
   "source": [
    "The array takes O(n) memory to store its values while this type is O(1), using a constant 192 bytes (if the start and stop are Int64). Yet, in cases where we just want to index values, they act exactly the same."
   ]
  },
  {
   "cell_type": "markdown",
   "metadata": {
    "slideshow": {
     "slide_type": "subslide"
    }
   },
   "source": [
    "Another nice example is the UniformScaling operator, which acts like an identity matrix without forming an identity matrix."
   ]
  },
  {
   "cell_type": "code",
   "execution_count": 18,
   "metadata": {},
   "outputs": [
    {
     "name": "stdout",
     "output_type": "stream",
     "text": [
      "1\n",
      "0\n"
     ]
    }
   ],
   "source": [
    "println(I[10,10]) # prints 1\n",
    "println(I[10,2]) # prints 0"
   ]
  },
  {
   "cell_type": "markdown",
   "metadata": {},
   "source": [
    "This can calculate expressions like A-b*I without ever forming the matrix (eye(n)) which would take O(n2) memory. "
   ]
  },
  {
   "cell_type": "code",
   "execution_count": 19,
   "metadata": {
    "slideshow": {
     "slide_type": "subslide"
    }
   },
   "outputs": [
    {
     "ename": "LoadError",
     "evalue": "\u001b[91msyntax: extra token \"is\" after end of expression\u001b[39m",
     "output_type": "error",
     "traceback": [
      "\u001b[91msyntax: extra token \"is\" after end of expression\u001b[39m",
      ""
     ]
    }
   ],
   "source": [
    "This is the key idea to keep in mind when building type hierarchies: things which subtype are inheriting behavior. "
   ]
  },
  {
   "cell_type": "code",
   "execution_count": 22,
   "metadata": {
    "collapsed": true
   },
   "outputs": [],
   "source": [
    "abstract type AbstractPerson end\n",
    "abstract type AbstractStudent <: AbstractPerson end\n",
    "abstract type AbstractTeacher <: AbstractPerson end\n",
    "\n",
    "type Person <: AbstractPerson\n",
    "  name::String    \n",
    "end\n",
    " \n",
    "type Student <: AbstractStudent\n",
    "  name::String  \n",
    "  grade::Int\n",
    "  hobby::String\n",
    "end\n",
    " \n",
    "type MusicStudent <: AbstractStudent\n",
    "  grade::Int\n",
    "end\n",
    " \n",
    "type Teacher <: AbstractTeacher\n",
    "  name::String\n",
    "  grade::Int\n",
    "end"
   ]
  },
  {
   "cell_type": "markdown",
   "metadata": {
    "slideshow": {
     "slide_type": "subslide"
    }
   },
   "source": [
    "This can be interpreted as follows. At the top we have AbstractPerson. Our interface here is \"a Person is someone who has a name which can be gotten by get_name\"."
   ]
  },
  {
   "cell_type": "code",
   "execution_count": 23,
   "metadata": {},
   "outputs": [
    {
     "data": {
      "text/plain": [
       "get_name (generic function with 1 method)"
      ]
     },
     "execution_count": 23,
     "metadata": {},
     "output_type": "execute_result"
    }
   ],
   "source": [
    "get_name(x::AbstractPerson) = x.name"
   ]
  },
  {
   "cell_type": "markdown",
   "metadata": {},
   "source": [
    "This is because MusicStudents just want to be named whatever the trendiest band is, so we can just replace the usage of the field by the action:"
   ]
  },
  {
   "cell_type": "code",
   "execution_count": 24,
   "metadata": {},
   "outputs": [
    {
     "data": {
      "text/plain": [
       "get_name (generic function with 2 methods)"
      ]
     },
     "execution_count": 24,
     "metadata": {},
     "output_type": "execute_result"
    }
   ],
   "source": [
    "get_name(x::MusicStudent) = \"Justin Bieber\""
   ]
  },
  {
   "cell_type": "markdown",
   "metadata": {
    "slideshow": {
     "slide_type": "slide"
    }
   },
   "source": [
    "## Aprendendo mais sobre\n",
    "\n",
    "- [A Deep Introduction to Julia for Data Science and Scientific Computing](http://ucidatascienceinitiative.github.io/IntroToJulia/) por [Chris Rackauckas](http://chrisrackauckas.com/)\n",
    "- [Type-Dispatch Design: Post Object-Oriented Programming for Julia](http://www.stochasticlifestyle.com/type-dispatch-design-post-object-oriented-programming-julia/) por [Chris Rackauckas](http://chrisrackauckas.com/)\n",
    "- [Introduction to Julia for Python Developers](https://www.youtube.com/watch?v=qhrY0c_BHs8) por David Higgins\n",
    "- [Modern Numerical Computing with Julia](http://courses.csail.mit.edu/18.337/2017/) por Prof. Alan Edelman\n",
    "- [The Julia version 0.5 Express](http://bogumilkaminski.pl/files/The%20Julia%20Express.html) por Bogumił Kamiński"
   ]
  }
 ],
 "metadata": {
  "celltoolbar": "Slideshow",
  "kernelspec": {
   "display_name": "Julia 0.4.5",
   "language": "julia",
   "name": "julia-0.4"
  },
  "language_info": {
   "file_extension": ".jl",
   "mimetype": "application/julia",
   "name": "julia",
   "version": "0.4.5"
  }
 },
 "nbformat": 4,
 "nbformat_minor": 2
}
