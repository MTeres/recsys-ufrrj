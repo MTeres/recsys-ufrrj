{
 "cells": [
  {
   "cell_type": "code",
   "execution_count": 3,
   "metadata": {},
   "outputs": [
    {
     "ename": "LoadError",
     "evalue": "ArgumentError: Persa not found in path",
     "output_type": "error",
     "traceback": [
      "ArgumentError: Persa not found in path",
      ""
     ]
    }
   ],
   "source": [
    "using Persa\n",
    "using DatasetsCF\n",
    "using Surprise\n",
    "\n",
    "ds = DatasetsCF.MovieLens()\n",
    "\n",
    "for (ds_train, ds_test) in Persa.KFolds(ds, 10)\n",
    "  model = Surprise.IRSVD(ds_train)\n",
    "\n",
    "  Persa.train!(model, ds_train)\n",
    "\n",
    "  print(Persa.aval(model, ds_test, Persa.recommendation(ds)))\n",
    "end"
   ]
  },
  {
   "cell_type": "code",
   "execution_count": null,
   "metadata": {
    "collapsed": true
   },
   "outputs": [],
   "source": []
  }
 ],
 "metadata": {
  "kernelspec": {
   "display_name": "Julia 0.4.5",
   "language": "julia",
   "name": "julia-0.4"
  },
  "language_info": {
   "file_extension": ".jl",
   "mimetype": "application/julia",
   "name": "julia",
   "version": "0.4.5"
  }
 },
 "nbformat": 4,
 "nbformat_minor": 2
}
