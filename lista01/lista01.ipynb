{
 "cells": [
  {
   "cell_type": "markdown",
   "metadata": {},
   "source": [
    "# Julia exercise list 01"
   ]
  },
  {
   "cell_type": "markdown",
   "metadata": {},
   "source": [
    "### Construa uma funcão que determine qual é a coluna vencedora. Para cada linha da matriz entrada esta função atribui valor igual a um para o maior elemento da linha e zero para o menor elemento. Em caso de valores iguais, a primeira coluna recebe valor igual a um e a segunda coluna valor igual a zero. A funcão deve ser construida de forma a suportar matrizes de entrada de qualquer dimensões (n x m)."
   ]
  },
  {
   "cell_type": "code",
   "execution_count": 95,
   "metadata": {},
   "outputs": [
    {
     "name": "stdout",
     "output_type": "stream",
     "text": [
      "to matrix: \n",
      "[2 5 5\n",
      " 5 4 1\n",
      " 1 3 1]"
     ]
    },
    {
     "data": {
      "text/plain": [
       "3x3 Array{Int64,2}:\n",
       " 0  1  0\n",
       " 1  0  0\n",
       " 0  1  0"
      ]
     },
     "execution_count": 95,
     "metadata": {},
     "output_type": "execute_result"
    }
   ],
   "source": [
    "function winnerColumn(matrix)\n",
    "    lineSize = size(matrix,1)\n",
    "    columnSize = size(matrix,2)\n",
    "    result = Array{Int64}(lineSize, columnSize)\n",
    "    for line=1:lineSize\n",
    "        maxIndex = findmax(matrix[line,:])[2]\n",
    "        r = zeros(columSize)\n",
    "        r[maxIndex] = 1\n",
    "        result[line,:] = r\n",
    "    end\n",
    "    result\n",
    "end\n",
    "randMatrix = [rand(1:5) for x in 1:3, y in 1:3]\n",
    "println(\"to matrix: \")\n",
    "print(randMatrix)\n",
    "winnerCollum(randMatrix)"
   ]
  },
  {
   "cell_type": "markdown",
   "metadata": {},
   "source": [
    "### Dada a matriz M = [5 10 -5 22; 1 33 15 3; 8 29 12 1; 3 11 39 20]; substitua os 3 maiores elementos por zero."
   ]
  },
  {
   "cell_type": "code",
   "execution_count": 111,
   "metadata": {
    "scrolled": true
   },
   "outputs": [
    {
     "name": "stdout",
     "output_type": "stream",
     "text": [
      "to matrix: \n",
      "[3 4 3\n",
      " 3 1 2\n",
      " 2 5 1]"
     ]
    },
    {
     "data": {
      "text/plain": [
       "3x3 Array{Int64,2}:\n",
       " 0  0  3\n",
       " 3  1  2\n",
       " 2  0  1"
      ]
     },
     "execution_count": 111,
     "metadata": {},
     "output_type": "execute_result"
    }
   ],
   "source": [
    "function elementsToZero(matrix, n)\n",
    "    for index=1:n\n",
    "        indexToZero = findmax(matrix)[2]\n",
    "        matrix[indexToZero] = 0\n",
    "    end\n",
    "    matrix\n",
    "end\n",
    "randMatrix = [rand(1:5) for x in 1:3, y in 1:3]\n",
    "println(\"to matrix: \")\n",
    "print(randMatrix)\n",
    "elementsToZero(randMatrix, 3)"
   ]
  },
  {
   "cell_type": "markdown",
   "metadata": {},
   "source": [
    "### Crie uma função que receba uma matriz com valores aleatórios e torne a média e o desvio padrão de cada coluna iguais a zero e a um, respectivamente"
   ]
  },
  {
   "cell_type": "code",
   "execution_count": 130,
   "metadata": {},
   "outputs": [
    {
     "name": "stdout",
     "output_type": "stream",
     "text": [
      "to matrix: \n",
      "[7 4 4\n",
      " 6 2 4\n",
      " 2 6 2\n",
      " 5 1 7\n",
      " 8 1 7]"
     ]
    },
    {
     "data": {
      "text/plain": [
       "5x3 Array{Int64,2}:\n",
       " -1   3  -3\n",
       "  1   1  -3\n",
       "  0   0   0\n",
       " -1  -1   3\n",
       "  1  -3   3"
      ]
     },
     "execution_count": 130,
     "metadata": {},
     "output_type": "execute_result"
    }
   ],
   "source": [
    "function matrixParser(matrix)\n",
    "    for column=1:size(matrix, 2)\n",
    "        matrix[:,column] -= matrix[:,column][end:-1:1]\n",
    "    end\n",
    "    matrix\n",
    "end\n",
    "\n",
    "randMatrix = [rand(1:10) for x in 1:5, y in 1:3]\n",
    "println(\"to matrix: \")\n",
    "print(randMatrix)\n",
    "matrixParser(randMatrix)"
   ]
  },
  {
   "cell_type": "code",
   "execution_count": null,
   "metadata": {
    "collapsed": true
   },
   "outputs": [],
   "source": []
  }
 ],
 "metadata": {
  "kernelspec": {
   "display_name": "Julia 0.4.5",
   "language": "julia",
   "name": "julia-0.4"
  },
  "language_info": {
   "file_extension": ".jl",
   "mimetype": "application/julia",
   "name": "julia",
   "version": "0.4.5"
  }
 },
 "nbformat": 4,
 "nbformat_minor": 2
}
